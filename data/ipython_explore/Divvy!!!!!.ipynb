{
 "metadata": {
  "name": "Divvy!!!!!"
 },
 "nbformat": 3,
 "nbformat_minor": 0,
 "worksheets": [
  {
   "cells": [
    {
     "cell_type": "code",
     "collapsed": false,
     "input": [
      "import os\n",
      "import psycopg2\n",
      "import numpy as np\n",
      "import pandas as pd\n",
      "\n",
      "conn = psycopg2.connect(\"dbname=\"+os.environ.get('dbname')+\" user=\"+os.environ.get('dbuser')+ \" host=\"+os.environ.get('dburl'))\n",
      "\n",
      "cur = conn.cursor()\n",
      "\n",
      "cur.execute(\"SELECT * FROM bike_ind_boston WHERE tfl_id = 5;\")\n",
      "\n",
      "boston_5 = cur.fetchall()\n"
     ],
     "language": "python",
     "metadata": {},
     "outputs": [
      {
       "html": [
        "<pre>\n",
        "&ltclass 'pandas.core.frame.DataFrame'&gt\n",
        "Int64Index: 354537 entries, 0 to 354536\n",
        "Data columns (total 4 columns):\n",
        "station_id         354537  non-null values\n",
        "bikes_available    354537  non-null values\n",
        "slots_available    354537  non-null values\n",
        "timestamp          354537  non-null values\n",
        "dtypes: datetime64[ns](1), int64(3)\n",
        "</pre>"
       ],
       "output_type": "pyout",
       "prompt_number": 9,
       "text": [
        "<class 'pandas.core.frame.DataFrame'>\n",
        "Int64Index: 354537 entries, 0 to 354536\n",
        "Data columns (total 4 columns):\n",
        "station_id         354537  non-null values\n",
        "bikes_available    354537  non-null values\n",
        "slots_available    354537  non-null values\n",
        "timestamp          354537  non-null values\n",
        "dtypes: datetime64[ns](1), int64(3)"
       ]
      }
     ],
     "prompt_number": 9
    },
    {
     "cell_type": "markdown",
     "metadata": {},
     "source": [
      "What up son! $$\\lim_{ u \\rightarrow c} \\int e^x = 0$$"
     ]
    },
    {
     "cell_type": "code",
     "collapsed": false,
     "input": [
      "boston_5_df = pd.DataFrame(boston_5, columns = [\"station_id\", \"bikes_available\", \"slots_available\", \"timestamp\"])"
     ],
     "language": "python",
     "metadata": {},
     "outputs": [],
     "prompt_number": 10
    },
    {
     "cell_type": "code",
     "collapsed": false,
     "input": [
      "# Functions on dataframes are appended to the end\n",
      "boston_5_df.head()\n",
      "\n",
      "# This illustrates how to do selection on a \n",
      "boston_5_df[boston_5_df[\"bikes_available\"] == 7].dtypes"
     ],
     "language": "python",
     "metadata": {},
     "outputs": [
      {
       "output_type": "pyout",
       "prompt_number": 26,
       "text": [
        "station_id                  int64\n",
        "bikes_available             int64\n",
        "slots_available             int64\n",
        "timestamp          datetime64[ns]\n",
        "dtype: object"
       ]
      }
     ],
     "prompt_number": 26
    },
    {
     "cell_type": "code",
     "collapsed": false,
     "input": [
      "import datetime\n",
      "x = pd.to_datetime(boston_5_df[\"timestamp\"])\n",
      "hour = pd.DatetimeIndex(boston_5_df[\"timestamp\"]).hour\n",
      "month = pd.DatetimeIndex(boston_5_df[\"timestamp\"]).month\n",
      "year = pd.DatetimeIndex(boston_5_df[\"timestamp\"]).year\n",
      "\n",
      "print hour[0:11]\n",
      "# print [y.hour for y in x]\n",
      "# print boston_5_df[\"timestamp\"].iloc[0]\n",
      "\n",
      "# x = boston_5_df[\"timestamp\"].iloc[0]\n",
      "# pd.to_datetime(x).month"
     ],
     "language": "python",
     "metadata": {},
     "outputs": [
      {
       "output_type": "stream",
       "stream": "stdout",
       "text": [
        "[11 12 12 12 12 12 12 12 12 12 12]\n"
       ]
      }
     ],
     "prompt_number": 70
    },
    {
     "cell_type": "code",
     "collapsed": false,
     "input": [],
     "language": "python",
     "metadata": {},
     "outputs": [],
     "prompt_number": 69
    },
    {
     "cell_type": "code",
     "collapsed": false,
     "input": [],
     "language": "python",
     "metadata": {},
     "outputs": []
    }
   ],
   "metadata": {}
  }
 ]
}