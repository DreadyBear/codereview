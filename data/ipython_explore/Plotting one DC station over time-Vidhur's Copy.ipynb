{
 "metadata": {
  "name": "Plotting one DC station over time-Vidhur's Copy"
 },
 "nbformat": 3,
 "nbformat_minor": 0,
 "worksheets": [
  {
   "cells": [
    {
     "cell_type": "code",
     "collapsed": false,
     "input": [
      "import os\n",
      "import psycopg2\n",
      "import numpy as np\n",
      "import pandas as pd\n",
      "import patsy\n",
      "from patsy.contrasts import Treatment\n",
      "\n",
      "# Display all DC Stations\n",
      "\n",
      "# Connect to bikeshare postgresql db\n",
      "conn = psycopg2.connect(\"dbname=\"+os.environ.get('dbname')+\" user=\"+os.environ.get('dbuser')+ \" host=\"+os.environ.get('dburl'))\n",
      "cur = conn.cursor()"
     ],
     "language": "python",
     "metadata": {},
     "outputs": [],
     "prompt_number": 4
    },
    {
     "cell_type": "code",
     "collapsed": false,
     "input": [
      "# Fetch all statuses for Station 24 (14th & R St NW)\n",
      "cur.execute(\"SELECT * FROM bike_ind_washingtondc WHERE tfl_id = 17;\")\n",
      "station24_data = cur.fetchall()"
     ],
     "language": "python",
     "metadata": {},
     "outputs": [],
     "prompt_number": 14
    },
    {
     "cell_type": "code",
     "collapsed": false,
     "input": [
      "# Put station 24 updates in dataframe, indexed by timestamp. \n",
      "# You need the from_records function to correctly assign timestamp column to the dataframe's index.\n",
      "station24_updates = pd.DataFrame.from_records(station24_data, columns = [\"station_id\", \"bikes_available\", \"slots_available\", \"timestamp\"], index = \"timestamp\")\n",
      "station24_updates.index = station24_updates.index.tz_localize('UTC').tz_convert('US/Eastern')"
     ],
     "language": "python",
     "metadata": {},
     "outputs": [],
     "prompt_number": 36
    },
    {
     "cell_type": "code",
     "collapsed": false,
     "input": [
      "print station24_updates.head(1).to_string()\n",
      "station24_updates.bikes_available.plot()\n"
     ],
     "language": "python",
     "metadata": {},
     "outputs": [
      {
       "output_type": "stream",
       "stream": "stdout",
       "text": [
        "                           station_id  bikes_available  slots_available\n",
        "timestamp                                                              \n",
        "2010-10-06 12:38:02-04:00          17                3               12\n"
       ]
      },
      {
       "output_type": "pyout",
       "prompt_number": 39,
       "text": [
        "<matplotlib.axes.AxesSubplot at 0x105e4750>"
       ]
      },
      {
       "output_type": "display_data",
       "png": "[encoded data removed]"
      }
     ],
     "prompt_number": 39
    },
    {
     "cell_type": "code",
     "collapsed": false,
     "input": [
      "# Add indicator variables for time of day\n",
      "time_of_day = pd.DatetimeIndex(station24_updates.index).hour\n",
      "print time_of_day[:20]\n",
      "#logodds_lag_data.head()\n"
     ],
     "language": "python",
     "metadata": {},
     "outputs": [
      {
       "output_type": "stream",
       "stream": "stdout",
       "text": [
        "[12 12 12 12 12 12 12 12 12 12 12 13 13 13 13 13 13 13 13 13]\n"
       ]
      }
     ],
     "prompt_number": 21
    },
    {
     "cell_type": "code",
     "collapsed": false,
     "input": [
      "levels = list(range(0,24))\n",
      "contrast = Treatment(reference=0).code_with_intercept(levels)\n",
      "#print contrast.matrix\n",
      "time_dummy = contrast.matrix[time_of_day, :]\n",
      "print time_dummy[1,:]\n",
      "\n",
      "# Midnight is reference variable\n",
      "\n",
      "station24_updates['12AM'] = time_dummy[:,0]\n",
      "station24_updates['1AM'] = time_dummy[:,1]\n",
      "station24_updates['2AM'] = time_dummy[:,2]\n",
      "station24_updates['3AM'] = time_dummy[:,3]\n",
      "station24_updates['4AM'] = time_dummy[:,4]\n",
      "station24_updates['5AM'] = time_dummy[:,5]\n",
      "station24_updates['6AM'] = time_dummy[:,6]\n",
      "station24_updates['7AM'] = time_dummy[:,7]\n",
      "station24_updates['8AM'] = time_dummy[:,8]\n",
      "station24_updates['9AM'] = time_dummy[:,9]\n",
      "station24_updates['10AM'] = time_dummy[:,10]\n",
      "station24_updates['11AM'] = time_dummy[:,11]\n",
      "station24_updates['12PM'] = time_dummy[:,12]\n",
      "station24_updates['1PM'] = time_dummy[:,13]\n",
      "station24_updates['2PM'] = time_dummy[:,14]\n",
      "station24_updates['3PM'] = time_dummy[:,15]\n",
      "station24_updates['4PM'] = time_dummy[:,16]\n",
      "station24_updates['5PM'] = time_dummy[:,17]\n",
      "station24_updates['6PM'] = time_dummy[:,18]\n",
      "station24_updates['7PM'] = time_dummy[:,19]\n",
      "station24_updates['8PM'] = time_dummy[:,20]\n",
      "station24_updates['9PM'] = time_dummy[:,21]\n",
      "station24_updates['10PM'] = time_dummy[:,22]\n",
      "station24_updates['11PM'] = time_dummy[:,23]\n",
      "print station24_updates.iloc[1]\n"
     ],
     "language": "python",
     "metadata": {},
     "outputs": [
      {
       "output_type": "stream",
       "stream": "stdout",
       "text": [
        "[ 0.  0.  0.  0.  0.  0.  0.  0.  0.  0.  0.  0.  1.  0.  0.  0.  0.  0.\n",
        "  0.  0.  0.  0.  0.  0.]\n",
        "station_id         17\n",
        "bikes_available     3\n",
        "slots_available    12\n",
        "12AM                0\n",
        "1AM                 0\n",
        "2AM                 0\n",
        "3AM                 0\n",
        "4AM                 0\n",
        "5AM                 0\n",
        "6AM                 0\n",
        "7AM                 0\n",
        "8AM                 0\n",
        "9AM                 0\n",
        "10AM                0\n",
        "11AM                0\n",
        "12PM                1\n",
        "1PM                 0\n",
        "2PM                 0\n",
        "3PM                 0\n",
        "4PM                 0\n",
        "5PM                 0\n",
        "6PM                 0\n",
        "7PM                 0\n",
        "8PM                 0\n",
        "9PM                 0\n",
        "10PM                0\n",
        "11PM                0\n",
        "Name: 2010-10-06 12:40:02-04:00, dtype: float64"
       ]
      },
      {
       "output_type": "stream",
       "stream": "stdout",
       "text": [
        "\n"
       ]
      }
     ],
     "prompt_number": 23
    },
    {
     "cell_type": "code",
     "collapsed": false,
     "input": [
      "# Insert variables for month\n",
      "month = pd.DatetimeIndex(station24_updates.index).month\n",
      "\n",
      "month = list(month)\n",
      "for i in range(len(month)):\n",
      "    if month[i] < 6 or month[i] > 10:\n",
      "        month[i] = 5\n",
      "    else:\n",
      "        continue;\n",
      "month = np.asarray(month)\n",
      "\n",
      "#levels = [1,2,3,4,5,6,7,8,9,10,11,12]\n",
      "levels = [5,6,7,8,9,10]\n",
      "contrast = Treatment(reference=5).code_without_intercept(levels)\n",
      "\n",
      "month_dummy = contrast.matrix[month-5, :]\n",
      "\n",
      "\n",
      "#station24_updates['jan'] = month_dummy[:,0]\n",
      "#station24_updates['feb'] = month_dummy[:,0]\n",
      "#station24_updates['mar'] = month_dummy[:,1]\n",
      "#station24_updates['apr'] = month_dummy[:,2]\n",
      "#station24_updates['may'] = month_dummy[:,3]\n",
      "#station24_updates['jun'] = month_dummy[:,4]\n",
      "#station24_updates['jul'] = month_dummy[:,5]\n",
      "#station24_updates['aug'] = month_dummy[:,6]\n",
      "#station24_updates['sep'] = month_dummy[:,7]\n",
      "#station24_updates['oct'] = month_dummy[:,8]\n",
      "#station24_updates['nov'] = month_dummy[:,9]\n",
      "#station24_updates['dec'] = month_dummy[:,10]\n",
      "\n",
      "station24_updates['jun'] = month_dummy[:,0]\n",
      "station24_updates['jul'] = month_dummy[:,1]\n",
      "station24_updates['aug'] = month_dummy[:,2]\n",
      "station24_updates['sep'] = month_dummy[:,3]\n",
      "station24_updates['oct'] = month_dummy[:,4]\n",
      "station24_updates.iloc[1000]\n",
      "\n",
      "\n",
      "\n",
      "# After fitting the model, realize that"
     ],
     "language": "python",
     "metadata": {},
     "outputs": [
      {
       "output_type": "pyout",
       "prompt_number": 24,
       "text": [
        "station_id         17\n",
        "bikes_available     3\n",
        "slots_available    12\n",
        "12AM                0\n",
        "1AM                 0\n",
        "2AM                 0\n",
        "3AM                 0\n",
        "4AM                 0\n",
        "5AM                 0\n",
        "6AM                 0\n",
        "7AM                 0\n",
        "8AM                 0\n",
        "9AM                 0\n",
        "10AM                1\n",
        "11AM                0\n",
        "12PM                0\n",
        "1PM                 0\n",
        "2PM                 0\n",
        "3PM                 0\n",
        "4PM                 0\n",
        "5PM                 0\n",
        "6PM                 0\n",
        "7PM                 0\n",
        "8PM                 0\n",
        "9PM                 0\n",
        "10PM                0\n",
        "11PM                0\n",
        "jun                 0\n",
        "jul                 0\n",
        "aug                 0\n",
        "sep                 0\n",
        "oct                 1\n",
        "Name: 2010-10-08 10:34:02-04:00, dtype: float64"
       ]
      }
     ],
     "prompt_number": 24
    },
    {
     "cell_type": "code",
     "collapsed": false,
     "input": [
      "# Display top few updates at station 24\n",
      "station24_updates.iloc[::8].to_csv(\"/mnt/data1/BikeShare/DC_station_24_reduced.csv\")"
     ],
     "language": "python",
     "metadata": {},
     "outputs": [],
     "prompt_number": 25
    },
    {
     "cell_type": "code",
     "collapsed": false,
     "input": [
      "# Plot time series of available bikes on a single day\n",
      "station24_updates['2010-10-07'].bikes_available.plot()"
     ],
     "language": "python",
     "metadata": {},
     "outputs": [
      {
       "output_type": "pyout",
       "prompt_number": 26,
       "text": [
        "<matplotlib.axes.AxesSubplot at 0x15da9b50>"
       ]
      },
      {
       "output_type": "display_data",
       "png": "[encoded data removed]"
      }
     ],
     "prompt_number": 26
    },
    {
     "cell_type": "code",
     "collapsed": false,
     "input": [
      "# Convert the second-level timestamps in index to 2 min frequency.\n",
      "station24_updates_2min = station24_updates.resample(\"2MIN\")\n",
      "\n",
      "# station24_updates_2min.head()"
     ],
     "language": "python",
     "metadata": {},
     "outputs": [
      {
       "html": [
        "<pre>\n",
        "&lt;class 'pandas.core.frame.DataFrame'&gt;\n",
        "DatetimeIndex: 5 entries, 2010-10-06 12:38:00-04:00 to 2010-10-06 12:46:00-04:00\n",
        "Freq: 2T\n",
        "Data columns (total 32 columns):\n",
        "station_id         5  non-null values\n",
        "bikes_available    5  non-null values\n",
        "slots_available    5  non-null values\n",
        "12AM               5  non-null values\n",
        "1AM                5  non-null values\n",
        "2AM                5  non-null values\n",
        "3AM                5  non-null values\n",
        "4AM                5  non-null values\n",
        "5AM                5  non-null values\n",
        "6AM                5  non-null values\n",
        "7AM                5  non-null values\n",
        "8AM                5  non-null values\n",
        "9AM                5  non-null values\n",
        "10AM               5  non-null values\n",
        "11AM               5  non-null values\n",
        "12PM               5  non-null values\n",
        "1PM                5  non-null values\n",
        "2PM                5  non-null values\n",
        "3PM                5  non-null values\n",
        "4PM                5  non-null values\n",
        "5PM                5  non-null values\n",
        "6PM                5  non-null values\n",
        "7PM                5  non-null values\n",
        "8PM                5  non-null values\n",
        "9PM                5  non-null values\n",
        "10PM               5  non-null values\n",
        "11PM               5  non-null values\n",
        "jun                5  non-null values\n",
        "jul                5  non-null values\n",
        "aug                5  non-null values\n",
        "sep                5  non-null values\n",
        "oct                5  non-null values\n",
        "dtypes: float64(32)\n",
        "</pre>"
       ],
       "output_type": "pyout",
       "prompt_number": 27,
       "text": [
        "<class 'pandas.core.frame.DataFrame'>\n",
        "DatetimeIndex: 5 entries, 2010-10-06 12:38:00-04:00 to 2010-10-06 12:46:00-04:00\n",
        "Freq: 2T\n",
        "Data columns (total 32 columns):\n",
        "station_id         5  non-null values\n",
        "bikes_available    5  non-null values\n",
        "slots_available    5  non-null values\n",
        "12AM               5  non-null values\n",
        "1AM                5  non-null values\n",
        "2AM                5  non-null values\n",
        "3AM                5  non-null values\n",
        "4AM                5  non-null values\n",
        "5AM                5  non-null values\n",
        "6AM                5  non-null values\n",
        "7AM                5  non-null values\n",
        "8AM                5  non-null values\n",
        "9AM                5  non-null values\n",
        "10AM               5  non-null values\n",
        "11AM               5  non-null values\n",
        "12PM               5  non-null values\n",
        "1PM                5  non-null values\n",
        "2PM                5  non-null values\n",
        "3PM                5  non-null values\n",
        "4PM                5  non-null values\n",
        "5PM                5  non-null values\n",
        "6PM                5  non-null values\n",
        "7PM                5  non-null values\n",
        "8PM                5  non-null values\n",
        "9PM                5  non-null values\n",
        "10PM               5  non-null values\n",
        "11PM               5  non-null values\n",
        "jun                5  non-null values\n",
        "jul                5  non-null values\n",
        "aug                5  non-null values\n",
        "sep                5  non-null values\n",
        "oct                5  non-null values\n",
        "dtypes: float64(32)"
       ]
      }
     ],
     "prompt_number": 27
    },
    {
     "cell_type": "code",
     "collapsed": false,
     "input": [
      "# Group all updates into hour-minute buckets \n",
      "station24_updates_2min_groups = station24_updates_2min.groupby([times.hour, times.minute])\n",
      "\n",
      "# pandas groupby operations return a set of dataframes. To see them, you need a for loop:\n",
      "for hourmin, updates in station24_updates_2min_groups:\n",
      "    print hourmin, updates\n",
      "    "
     ],
     "language": "python",
     "metadata": {},
     "outputs": [
      {
       "ename": "NameError",
       "evalue": "name 'times' is not defined",
       "output_type": "pyerr",
       "traceback": [
        "\u001b[0;31m---------------------------------------------------------------------------\u001b[0m\n\u001b[0;31mNameError\u001b[0m                                 Traceback (most recent call last)",
        "\u001b[0;32m<ipython-input-29-5bd25ec5f7bc>\u001b[0m in \u001b[0;36m<module>\u001b[0;34m()\u001b[0m\n\u001b[1;32m      1\u001b[0m \u001b[0;31m# Group all updates into hour-minute buckets\u001b[0m\u001b[0;34m\u001b[0m\u001b[0;34m\u001b[0m\u001b[0m\n\u001b[0;32m----> 2\u001b[0;31m \u001b[0mstation24_updates_2min_groups\u001b[0m \u001b[0;34m=\u001b[0m \u001b[0mstation24_updates_2min\u001b[0m\u001b[0;34m.\u001b[0m\u001b[0mgroupby\u001b[0m\u001b[0;34m(\u001b[0m\u001b[0;34m[\u001b[0m\u001b[0mtimes\u001b[0m\u001b[0;34m.\u001b[0m\u001b[0mhour\u001b[0m\u001b[0;34m,\u001b[0m \u001b[0mtimes\u001b[0m\u001b[0;34m.\u001b[0m\u001b[0mminute\u001b[0m\u001b[0;34m]\u001b[0m\u001b[0;34m)\u001b[0m\u001b[0;34m\u001b[0m\u001b[0m\n\u001b[0m\u001b[1;32m      3\u001b[0m \u001b[0;34m\u001b[0m\u001b[0m\n\u001b[1;32m      4\u001b[0m \u001b[0;31m# pandas groupby operations return a set of dataframes. To see them, you need a for loop:\u001b[0m\u001b[0;34m\u001b[0m\u001b[0;34m\u001b[0m\u001b[0m\n\u001b[1;32m      5\u001b[0m \u001b[0;32mfor\u001b[0m \u001b[0mhourmin\u001b[0m\u001b[0;34m,\u001b[0m \u001b[0mupdates\u001b[0m \u001b[0;32min\u001b[0m \u001b[0mstation24_updates_2min_groups\u001b[0m\u001b[0;34m:\u001b[0m\u001b[0;34m\u001b[0m\u001b[0m\n",
        "\u001b[0;31mNameError\u001b[0m: name 'times' is not defined"
       ]
      }
     ],
     "prompt_number": 29
    },
    {
     "cell_type": "code",
     "collapsed": false,
     "input": [
      "# Find the mean number of bikes and slots available by time of day since DC bikeshare launched\n",
      "station24_updates_2min_means = station24_updates_2min_groups.mean()\n",
      "station24_updates_2min_means.head()"
     ],
     "language": "python",
     "metadata": {},
     "outputs": [
      {
       "html": [
        "<div style=\"max-height:1000px;max-width:1500px;overflow:auto;\">\n",
        "<table border=\"1\" class=\"dataframe\">\n",
        "  <thead>\n",
        "    <tr style=\"text-align: right;\">\n",
        "      <th></th>\n",
        "      <th></th>\n",
        "      <th>station_id</th>\n",
        "      <th>bikes_available</th>\n",
        "      <th>slots_available</th>\n",
        "    </tr>\n",
        "  </thead>\n",
        "  <tbody>\n",
        "    <tr>\n",
        "      <th rowspan=\"5\" valign=\"top\">0</th>\n",
        "      <th>0</th>\n",
        "      <td> 24</td>\n",
        "      <td> 9.436690</td>\n",
        "      <td> 5.386839</td>\n",
        "    </tr>\n",
        "    <tr>\n",
        "      <th>2</th>\n",
        "      <td> 24</td>\n",
        "      <td> 9.504985</td>\n",
        "      <td> 5.318544</td>\n",
        "    </tr>\n",
        "    <tr>\n",
        "      <th>4</th>\n",
        "      <td> 24</td>\n",
        "      <td> 9.552395</td>\n",
        "      <td> 5.269960</td>\n",
        "    </tr>\n",
        "    <tr>\n",
        "      <th>6</th>\n",
        "      <td> 24</td>\n",
        "      <td> 9.578842</td>\n",
        "      <td> 5.244511</td>\n",
        "    </tr>\n",
        "    <tr>\n",
        "      <th>8</th>\n",
        "      <td> 24</td>\n",
        "      <td> 9.650050</td>\n",
        "      <td> 5.173480</td>\n",
        "    </tr>\n",
        "  </tbody>\n",
        "</table>\n",
        "</div>"
       ],
       "output_type": "pyout",
       "prompt_number": 40,
       "text": [
        "     station_id  bikes_available  slots_available\n",
        "0 0          24         9.436690         5.386839\n",
        "  2          24         9.504985         5.318544\n",
        "  4          24         9.552395         5.269960\n",
        "  6          24         9.578842         5.244511\n",
        "  8          24         9.650050         5.173480"
       ]
      }
     ],
     "prompt_number": 40
    },
    {
     "cell_type": "code",
     "collapsed": false,
     "input": [
      "# Plot mean number of bikes available at station 24 across the day\n",
      "station24_updates_2min_means.bikes_available.plot()"
     ],
     "language": "python",
     "metadata": {},
     "outputs": [
      {
       "ename": "NameError",
       "evalue": "name 'station24_updates_2min_means' is not defined",
       "output_type": "pyerr",
       "traceback": [
        "\u001b[0;31m---------------------------------------------------------------------------\u001b[0m\n\u001b[0;31mNameError\u001b[0m                                 Traceback (most recent call last)",
        "\u001b[0;32m<ipython-input-28-a6628efad404>\u001b[0m in \u001b[0;36m<module>\u001b[0;34m()\u001b[0m\n\u001b[1;32m      1\u001b[0m \u001b[0;31m# Plot mean number of bikes available at station 24 across the day\u001b[0m\u001b[0;34m\u001b[0m\u001b[0;34m\u001b[0m\u001b[0m\n\u001b[0;32m----> 2\u001b[0;31m \u001b[0mstation24_updates_2min_means\u001b[0m\u001b[0;34m.\u001b[0m\u001b[0mbikes_available\u001b[0m\u001b[0;34m.\u001b[0m\u001b[0mplot\u001b[0m\u001b[0;34m(\u001b[0m\u001b[0;34m)\u001b[0m\u001b[0;34m\u001b[0m\u001b[0m\n\u001b[0m",
        "\u001b[0;31mNameError\u001b[0m: name 'station24_updates_2min_means' is not defined"
       ]
      }
     ],
     "prompt_number": 28
    },
    {
     "cell_type": "code",
     "collapsed": false,
     "input": [],
     "language": "python",
     "metadata": {},
     "outputs": []
    }
   ],
   "metadata": {}
  }
 ]
}