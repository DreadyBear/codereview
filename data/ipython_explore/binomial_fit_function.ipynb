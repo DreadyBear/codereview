{
 "metadata": {
  "name": "binomial_fit_function"
 },
 "nbformat": 3,
 "nbformat_minor": 0,
 "worksheets": [
  {
   "cells": [
    {
     "cell_type": "code",
     "collapsed": false,
     "input": [
      "import patsy\n",
      "import statsmodels.api as sm\n",
      "from scipy import misc\n",
      "import numpy as np\n",
      "import pandas as pd\n",
      "    \n",
      "from build_log_odds_df import build_log_odds_df\n",
      "from build_log_odds_df import make_present_logodds_df\n",
      "from make_dummy import make_dummy_inner\n",
      "from make_dummy import make_dummy"
     ],
     "language": "python",
     "metadata": {},
     "outputs": [],
     "prompt_number": 7
    },
    {
     "cell_type": "code",
     "collapsed": false,
     "input": [
      "def binomial_fit(data,n):\n",
      "    import patsy\n",
      "    import statsmodels.api as sm\n",
      "    from scipy import misc\n",
      "    import numpy as np\n",
      "    \n",
      "    from build_log_odds_df import build_log_odds_df\n",
      "    from build_log_odds_df import make_present_logodds_df\n",
      "    from make_dummy import make_dummy_inner\n",
      "    from make_dummy import make_dummy\n",
      "    \n",
      "    # Make lag dataframe\n",
      "    columns = [\"bikes_available\", \"slots_available\", \"temperature\"]\n",
      "    data_trimmed = data.ix[:,columns]\n",
      "    X_raw, y = build_log_odds_df(data_trimmed) \n",
      "    \n",
      "    X_columns = [\"temperature\", \"logodds_lag1\", \"logodds_lag2\", \"logodds_lag3\", \"const\"] \n",
      "    X_no_outcome = X_raw.ix[:, X_columns]\n",
      "    \n",
      "    # build design matrix\n",
      "    X_with_hour = make_dummy(X_no_outcome, \"hour\")\n",
      "    X = make_dummy(X_with_hour, \"weekday\")\n",
      "    \n",
      "    #test_data = bike_data_bucketed.ix[100:104,:]\n",
      "    #present_logodds_df = make_present_logodds_df(test_log_hour_weekday_df)\n",
      "    # fit the model!\n",
      "    model = sm.GLM(y, X, family=sm.families.Binomial())\n",
      "    results = model.fit()\n",
      "\n",
      "    def output(test_data, n):\n",
      "        # Make lag dataframe\n",
      "        #test_data_orig, no_one_cares_about_this = build_log_odds_df(test_data)\n",
      "        #print \"original test data\"\n",
      "        #print test_data_orig\n",
      "        #print \"present test data\"\n",
      "        bikes_available=np.asarray(test_data[\"bikes_available\"], dtype=np.float32)\n",
      "        slots_available=np.asarray(test_data[\"slots_available\"], dtype=np.float32)\n",
      "\n",
      "        phat = bikes_available / (bikes_available + slots_available)\n",
      "        logodds = np.log(phat/(1-phat))\n",
      "        df = pd.DataFrame(logodds)\n",
      "        df = df.transpose()\n",
      "        df['timestamp'] = data.index[2]\n",
      "        df = pd.DataFrame.from_records(df, index = \"timestamp\")\n",
      "        new_data = data.copy()\n",
      "        new_data.ix[2,0] = logodds[2]\n",
      "        new_data.ix[2,1] = logodds[1]\n",
      "        new_data.ix[2,2] = logodds[0]\n",
      "        column_list = [\"logodds_lag1\", \"logodds_lag2\", \"logodds_lag3\"]\n",
      "        old_list = list(new_data.columns)\n",
      "        new_data.columns = column_list + old_list[3:]\n",
      "        new_data['const'] = [1]*len(new_data)\n",
      "        \n",
      "        #print test_data_log\n",
      "        \n",
      "        X_columns = [\"temperature\", \"logodds_lag1\", \"logodds_lag2\", \"logodds_lag3\", \"const\"] \n",
      "        X = new_data.ix[:, X_columns]\n",
      "        \n",
      "        # Extract time features\n",
      "        test_log_hour_df = make_dummy(X, \"hour\")\n",
      "        test_X = make_dummy(test_log_hour_df, \"weekday\")\n",
      "        test_X = test_X.iloc[2]\n",
      "        #print test_X\n",
      "        # build design matrix\n",
      "        p = results.predict(test_X)\n",
      "        #print \"p\"\n",
      "        pred_prob = [misc.comb(n,k, exact = 1)* (p ** k) * ((1-p) ** (n-k)) for k in range(0, n+1)]\n",
      "        ev_bikes = n*p\n",
      "        return pred_prob,ev_bikes\n",
      "    \n",
      "    return output"
     ],
     "language": "python",
     "metadata": {},
     "outputs": [],
     "prompt_number": 98
    },
    {
     "cell_type": "code",
     "collapsed": false,
     "input": [
      "from fetch_station import fetch_station\n",
      "dc_17=fetch_station(\"Washington, D.C.\", 17, 15, 'max')"
     ],
     "language": "python",
     "metadata": {},
     "outputs": [],
     "prompt_number": 3
    },
    {
     "cell_type": "code",
     "collapsed": false,
     "input": [
      "mdl = binomial_fit(dc_17,25)"
     ],
     "language": "python",
     "metadata": {},
     "outputs": [],
     "prompt_number": 99
    },
    {
     "cell_type": "code",
     "collapsed": false,
     "input": [
      "test_data = dc_17.iloc[:3]\n",
      "bikes_available=np.asarray(data[\"bikes_available\"], dtype=np.float32)\n",
      "slots_available=np.asarray(data[\"slots_available\"], dtype=np.float32)\n",
      "len(test_data)\n",
      "[1]*3"
     ],
     "language": "python",
     "metadata": {},
     "outputs": [
      {
       "output_type": "pyout",
       "prompt_number": 94,
       "text": [
        "[1, 1, 1]"
       ]
      }
     ],
     "prompt_number": 94
    },
    {
     "cell_type": "code",
     "collapsed": false,
     "input": [
      "bikes_available=np.asarray(test_data[\"bikes_available\"], dtype=np.float32)\n",
      "slots_available=np.asarray(test_data[\"slots_available\"], dtype=np.float32)\n",
      "\n",
      "phat = bikes_available / (bikes_available + slots_available)\n",
      "logodds = np.log(phat/(1-phat))\n",
      "df = pd.DataFrame(logodds)\n",
      "df = df.transpose()\n",
      "df['timestamp'] = data.index[2]\n",
      "df = pd.DataFrame.from_records(df, index = \"timestamp\")\n",
      "new_data = data.copy()\n",
      "new_data.ix[2,0] = logodds[2]\n",
      "new_data.ix[2,1] = logodds[1]\n",
      "new_data.ix[2,2] = logodds[0]\n",
      "column_list = [\"logodds_lag1\", \"logodds_lag2\", \"logodds_lag3\"]\n",
      "old_list = list(new_data.columns)\n",
      "new_data.columns = column_list + old_list[3:]\n",
      "new_data['const'] = [1,1,1]\n",
      "test = new_data.iloc[2]\n",
      "print test\n",
      "#lagged_data = pd.DataFrame.from_records(df,index = \"timestamp\")\n",
      "\n"
     ],
     "language": "python",
     "metadata": {},
     "outputs": [
      {
       "output_type": "stream",
       "stream": "stdout",
       "text": [
        "logodds_lag1                    -1.466337\n",
        "logodds_lag2                    -1.386294\n",
        "logodds_lag3                    -1.386294\n",
        "weather_timestamp     2010-10-06 17:00:00\n",
        "summary                     Partly Cloudy\n",
        "precipintensity                         0\n",
        "precipprob                              0\n",
        "preciptype                            NaN\n",
        "precipaccumulation                    NaN\n",
        "temperature                          57.9\n",
        "const                                   1\n",
        "Name: 2010-10-06 13:00:00-04:00, dtype: object\n"
       ]
      }
     ],
     "prompt_number": 79
    },
    {
     "cell_type": "code",
     "collapsed": false,
     "input": [
      "pred_prob, ev_bikes = mdl(dc_17.iloc[0:3],25)\n"
     ],
     "language": "python",
     "metadata": {},
     "outputs": [],
     "prompt_number": 100
    },
    {
     "cell_type": "code",
     "collapsed": false,
     "input": [
      "ev_bikes"
     ],
     "language": "python",
     "metadata": {},
     "outputs": [
      {
       "output_type": "pyout",
       "prompt_number": 101,
       "text": [
        "5.1030541180083722"
       ]
      }
     ],
     "prompt_number": 101
    },
    {
     "cell_type": "code",
     "collapsed": false,
     "input": [
      "#data_frame = build_log_odds_df(bike_data_bucketed)\n",
      "#hour_df = make_dummy(data_frame, \"hour\")\n",
      "#hour_weekday_df = make_dummy(hour_df, \"weekday\")\n",
      "\n",
      "#test_data = bike_data_bucketed.ix[100:104,:]\n",
      "#test_data_log = build_log_odds_df(test_data)\n",
      "\n",
      "#test_log_hour_df = make_dummy(test_data_log, \"hour\")\n",
      "#test_log_hour_weekday_df = make_dummy(test_log_hour_df, \"weekday\")\n",
      "\n",
      "#present_logodds_df = make_present_logodds_df(test_log_hour_weekday_df)"
     ],
     "language": "python",
     "metadata": {},
     "outputs": [],
     "prompt_number": 3
    },
    {
     "cell_type": "code",
     "collapsed": false,
     "input": [
      "#pred_prob"
     ],
     "language": "python",
     "metadata": {},
     "outputs": [
      {
       "output_type": "pyout",
       "prompt_number": 24,
       "text": [
        "[array([ 0.09617662,  0.09617662,  0.09617662, ...,  0.0022498 ,\n",
        "        0.00452655,  0.00222456]),\n",
        " array([ 0.23608794,  0.23608794,  0.23608794, ...,  0.01553414,\n",
        "        0.02727166,  0.01539186]),\n",
        " array([ 0.2781758 ,  0.2781758 ,  0.2781758 , ...,  0.05148388,\n",
        "        0.07886733,  0.05111877]),\n",
        " array([ 0.20940654,  0.20940654,  0.20940654, ...,  0.10901359,\n",
        "        0.14571627,  0.10846632]),\n",
        " array([ 0.11308818,  0.11308818,  0.11308818, ...,  0.16559459,\n",
        "        0.19314125,  0.16510702]),\n",
        " array([ 0.04663702,  0.04663702,  0.04663702, ...,  0.19208712,\n",
        "        0.19549184,  0.19192113]),\n",
        " array([ 0.01526419,  0.01526419,  0.01526419, ...,  0.17683971,\n",
        "        0.15704051,  0.17705552]),\n",
        " array([ 0.00406812,  0.00406812,  0.00406812, ...,  0.13256784,\n",
        "        0.10272392,  0.13300654]),\n",
        " array([ 0.00089875,  0.00089875,  0.00089875, ...,  0.08238033,\n",
        "        0.05570041,  0.08282538]),\n",
        " array([ 0.00016669,  0.00016669,  0.00016669, ...,  0.04297667,\n",
        "        0.02535532,  0.043299  ]),\n",
        " array([  2.61875909e-05,   2.61875909e-05,   2.61875909e-05, ...,\n",
        "         1.89913369e-02,   9.77672568e-03,   1.91736924e-02]),\n",
        " array([  3.50637551e-06,   3.50637551e-06,   3.50637551e-06, ...,\n",
        "         7.15248455e-03,   3.21289340e-03,   7.23622863e-03]),\n",
        " array([  4.01670111e-07,   4.01670111e-07,   4.01670111e-07, ...,\n",
        "         2.30465825e-03,   9.03332051e-04,   2.33650664e-03]),\n",
        " array([  3.94397196e-08,   3.94397196e-08,   3.94397196e-08, ...,\n",
        "         6.36516036e-04,   2.17696644e-04,   6.46658471e-04]),\n",
        " array([  3.31933688e-09,   3.31933688e-09,   3.31933688e-09, ...,\n",
        "         1.50683388e-04,   4.49685886e-05,   1.53403805e-04]),\n",
        " array([  2.39010543e-10,   2.39010543e-10,   2.39010543e-10, ...,\n",
        "         3.05189520e-05,   7.94721562e-06,   3.11347590e-05]),\n",
        " array([  1.46676784e-11,   1.46676784e-11,   1.46676784e-11, ...,\n",
        "         5.26808107e-06,   1.19701427e-06,   5.38559234e-06]),\n",
        " array([  7.62463869e-13,   7.62463869e-13,   7.62463869e-13, ...,\n",
        "         7.70280411e-07,   1.52720462e-07,   7.89105400e-07]),\n",
        " array([  3.32736966e-14,   3.32736966e-14,   3.32736966e-14, ...,\n",
        "         9.45516584e-08,   1.63575789e-08,   9.70645059e-08]),\n",
        " array([  1.20367653e-15,   1.20367653e-15,   1.20367653e-15, ...,\n",
        "         9.62091561e-09,   1.45233825e-09,   9.89721119e-09]),\n",
        " array([  3.54564581e-17,   3.54564581e-17,   3.54564581e-17, ...,\n",
        "         7.97150780e-10,   1.05000978e-10,   8.21754409e-10]),\n",
        " array([  8.28915694e-19,   8.28915694e-19,   8.28915694e-19, ...,\n",
        "         5.24196360e-11,   6.02487952e-12,   5.41502796e-11]),\n",
        " array([  1.47983050e-20,   1.47983050e-20,   1.47983050e-20, ...,\n",
        "         2.63229238e-12,   2.63991528e-13,   2.72487111e-12]),\n",
        " array([  1.89526392e-22,   1.89526392e-22,   1.89526392e-22, ...,\n",
        "         9.48266397e-14,   8.29827308e-15,   9.83665260e-14]),\n",
        " array([  1.55078914e-24,   1.55078914e-24,   1.55078914e-24, ...,\n",
        "         2.18248833e-15,   1.66652100e-16,   2.26868416e-15]),\n",
        " array([  6.09083795e-27,   6.09083795e-27,   6.09083795e-27, ...,\n",
        "         2.41109730e-17,   1.60647915e-18,   2.51155088e-17])]"
       ]
      }
     ],
     "prompt_number": 24
    },
    {
     "cell_type": "code",
     "collapsed": false,
     "input": [
      "test_data = dc_17.iloc[0:4]\n",
      "test_data_orig, no_one_cares_about_this = build_log_odds_df(test_data)\n",
      "print \"original test data\"\n",
      "print test_data_orig\n",
      "#print \"present test data\"\n",
      "test_data_log = make_present_logodds_df(test_data_orig)\n",
      "#print test_data_log\n",
      "columns = [\"bikes_available\", \"slots_available\", \"temperature\",\"logodds_lag0\"]\n",
      "data_trimmed = test_data_log.ix[:,columns]\n",
      "X_raw, y = build_log_odds_df(data_trimmed)"
     ],
     "language": "python",
     "metadata": {},
     "outputs": [
      {
       "ename": "ValueError",
       "evalue": "total size of new array must be unchanged",
       "output_type": "pyerr",
       "traceback": [
        "\u001b[0;31m---------------------------------------------------------------------------\u001b[0m\n\u001b[0;31mValueError\u001b[0m                                Traceback (most recent call last)",
        "\u001b[0;32m<ipython-input-32-4aa06f4b66af>\u001b[0m in \u001b[0;36m<module>\u001b[0;34m()\u001b[0m\n\u001b[1;32m      8\u001b[0m \u001b[0mcolumns\u001b[0m \u001b[0;34m=\u001b[0m \u001b[0;34m[\u001b[0m\u001b[0;34m\"bikes_available\"\u001b[0m\u001b[0;34m,\u001b[0m \u001b[0;34m\"slots_available\"\u001b[0m\u001b[0;34m,\u001b[0m \u001b[0;34m\"temperature\"\u001b[0m\u001b[0;34m,\u001b[0m\u001b[0;34m\"logodds_lag0\"\u001b[0m\u001b[0;34m]\u001b[0m\u001b[0;34m\u001b[0m\u001b[0m\n\u001b[1;32m      9\u001b[0m \u001b[0mdata_trimmed\u001b[0m \u001b[0;34m=\u001b[0m \u001b[0mtest_data_log\u001b[0m\u001b[0;34m.\u001b[0m\u001b[0mix\u001b[0m\u001b[0;34m[\u001b[0m\u001b[0;34m:\u001b[0m\u001b[0;34m,\u001b[0m\u001b[0mcolumns\u001b[0m\u001b[0;34m]\u001b[0m\u001b[0;34m\u001b[0m\u001b[0m\n\u001b[0;32m---> 10\u001b[0;31m \u001b[0mX_raw\u001b[0m\u001b[0;34m,\u001b[0m \u001b[0my\u001b[0m \u001b[0;34m=\u001b[0m \u001b[0mbuild_log_odds_df\u001b[0m\u001b[0;34m(\u001b[0m\u001b[0mdata_trimmed\u001b[0m\u001b[0;34m)\u001b[0m\u001b[0;34m\u001b[0m\u001b[0m\n\u001b[0m",
        "\u001b[0;32m/home/ubuntu/bikeshare/model/ipython_explore/build_log_odds_df.pyc\u001b[0m in \u001b[0;36mbuild_log_odds_df\u001b[0;34m(data)\u001b[0m\n\u001b[1;32m     28\u001b[0m     \u001b[0mlogodds\u001b[0m \u001b[0;34m=\u001b[0m \u001b[0mnp\u001b[0m\u001b[0;34m.\u001b[0m\u001b[0mlog\u001b[0m\u001b[0;34m(\u001b[0m\u001b[0mphat\u001b[0m\u001b[0;34m/\u001b[0m\u001b[0;34m(\u001b[0m\u001b[0;36m1\u001b[0m\u001b[0;34m-\u001b[0m\u001b[0mphat\u001b[0m\u001b[0;34m)\u001b[0m\u001b[0;34m)\u001b[0m\u001b[0;34m\u001b[0m\u001b[0m\n\u001b[1;32m     29\u001b[0m \u001b[0;34m\u001b[0m\u001b[0m\n\u001b[0;32m---> 30\u001b[0;31m     \u001b[0mlogodds_lag3\u001b[0m\u001b[0;34m,\u001b[0m \u001b[0moutcome_ar3\u001b[0m \u001b[0;34m=\u001b[0m \u001b[0mchange_mat_binom\u001b[0m\u001b[0;34m(\u001b[0m\u001b[0mlogodds\u001b[0m\u001b[0;34m,\u001b[0m \u001b[0mbikes_slots_available\u001b[0m\u001b[0;34m,\u001b[0m \u001b[0;36m3\u001b[0m\u001b[0;34m)\u001b[0m\u001b[0;34m\u001b[0m\u001b[0m\n\u001b[0m\u001b[1;32m     31\u001b[0m     \u001b[0mlogodds_lag3_df\u001b[0m \u001b[0;34m=\u001b[0m \u001b[0mpd\u001b[0m\u001b[0;34m.\u001b[0m\u001b[0mDataFrame\u001b[0m\u001b[0;34m(\u001b[0m\u001b[0mlogodds_lag3\u001b[0m\u001b[0;34m,\u001b[0m \u001b[0mcolumns\u001b[0m \u001b[0;34m=\u001b[0m \u001b[0;34m[\u001b[0m\u001b[0;34m\"logodds_lag1\"\u001b[0m\u001b[0;34m,\u001b[0m \u001b[0;34m\"logodds_lag2\"\u001b[0m\u001b[0;34m,\u001b[0m \u001b[0;34m\"logodds_lag3\"\u001b[0m\u001b[0;34m]\u001b[0m\u001b[0;34m)\u001b[0m\u001b[0;34m\u001b[0m\u001b[0m\n\u001b[1;32m     32\u001b[0m     \u001b[0;31m#outcome_ar3_df = pd.DataFrame(outcome_ar3, columns = [\"log_bikes\",\"log_slots\"])\u001b[0m\u001b[0;34m\u001b[0m\u001b[0;34m\u001b[0m\u001b[0m\n",
        "\u001b[0;32m/home/ubuntu/bikeshare/model/ipython_explore/change_mat_binom.pyc\u001b[0m in \u001b[0;36mchange_mat_binom\u001b[0;34m(ts, binom, d)\u001b[0m\n\u001b[1;32m     12\u001b[0m     \u001b[0;32mfor\u001b[0m \u001b[0mr\u001b[0m \u001b[0;32min\u001b[0m \u001b[0mrange\u001b[0m\u001b[0;34m(\u001b[0m\u001b[0;36m2\u001b[0m\u001b[0;34m,\u001b[0m\u001b[0md\u001b[0m\u001b[0;34m+\u001b[0m\u001b[0;36m1\u001b[0m\u001b[0;34m)\u001b[0m\u001b[0;34m:\u001b[0m\u001b[0;34m\u001b[0m\u001b[0m\n\u001b[1;32m     13\u001b[0m         \u001b[0mb\u001b[0m \u001b[0;34m=\u001b[0m \u001b[0mnp\u001b[0m\u001b[0;34m.\u001b[0m\u001b[0marray\u001b[0m\u001b[0;34m(\u001b[0m\u001b[0mts\u001b[0m\u001b[0;34m[\u001b[0m\u001b[0;34m(\u001b[0m\u001b[0md\u001b[0m\u001b[0;34m-\u001b[0m\u001b[0mr\u001b[0m\u001b[0;34m)\u001b[0m\u001b[0;34m:\u001b[0m\u001b[0;34m(\u001b[0m\u001b[0mn\u001b[0m\u001b[0;34m-\u001b[0m\u001b[0mr\u001b[0m\u001b[0;34m)\u001b[0m\u001b[0;34m]\u001b[0m\u001b[0;34m)\u001b[0m\u001b[0;34m\u001b[0m\u001b[0m\n\u001b[0;32m---> 14\u001b[0;31m         \u001b[0mx\u001b[0m \u001b[0;34m=\u001b[0m \u001b[0mnp\u001b[0m\u001b[0;34m.\u001b[0m\u001b[0mconcatenate\u001b[0m\u001b[0;34m(\u001b[0m\u001b[0;34m[\u001b[0m\u001b[0mx\u001b[0m\u001b[0;34m.\u001b[0m\u001b[0mreshape\u001b[0m\u001b[0;34m(\u001b[0m\u001b[0mlen\u001b[0m\u001b[0;34m(\u001b[0m\u001b[0mx\u001b[0m\u001b[0;34m)\u001b[0m\u001b[0;34m,\u001b[0m\u001b[0;34m-\u001b[0m\u001b[0;36m1\u001b[0m\u001b[0;34m)\u001b[0m\u001b[0;34m,\u001b[0m\u001b[0mb\u001b[0m\u001b[0;34m.\u001b[0m\u001b[0mreshape\u001b[0m\u001b[0;34m(\u001b[0m\u001b[0mlen\u001b[0m\u001b[0;34m(\u001b[0m\u001b[0mb\u001b[0m\u001b[0;34m)\u001b[0m\u001b[0;34m,\u001b[0m\u001b[0;34m-\u001b[0m\u001b[0;36m1\u001b[0m\u001b[0;34m)\u001b[0m\u001b[0;34m]\u001b[0m\u001b[0;34m,\u001b[0m\u001b[0maxis\u001b[0m\u001b[0;34m=\u001b[0m\u001b[0;36m1\u001b[0m\u001b[0;34m)\u001b[0m\u001b[0;34m\u001b[0m\u001b[0m\n\u001b[0m\u001b[1;32m     15\u001b[0m     \u001b[0my\u001b[0m \u001b[0;34m=\u001b[0m \u001b[0mbinom\u001b[0m\u001b[0;34m[\u001b[0m\u001b[0md\u001b[0m\u001b[0;34m:\u001b[0m\u001b[0;34m]\u001b[0m\u001b[0;34m\u001b[0m\u001b[0m\n\u001b[1;32m     16\u001b[0m     \u001b[0;32mreturn\u001b[0m \u001b[0mx\u001b[0m\u001b[0;34m,\u001b[0m \u001b[0my\u001b[0m\u001b[0;34m\u001b[0m\u001b[0m\n",
        "\u001b[0;31mValueError\u001b[0m: total size of new array must be unchanged"
       ]
      },
      {
       "output_type": "stream",
       "stream": "stdout",
       "text": [
        "original test data\n",
        "                           station_id  bikes_available  slots_available  \\\n",
        "bikes_timestamp                                                           \n",
        "2010-10-06 13:15:00-04:00          17                2               14   \n",
        "\n",
        "                             weather_timestamp        summary precipintensity  \\\n",
        "bikes_timestamp                                                                 \n",
        "2010-10-06 13:15:00-04:00  2010-10-06 17:00:00  Partly Cloudy               0   \n",
        "\n",
        "                           precipprob preciptype  precipaccumulation  \\\n",
        "bikes_timestamp                                                        \n",
        "2010-10-06 13:15:00-04:00           0        NaN                 NaN   \n",
        "\n",
        "                           temperature  logodds_lag1  logodds_lag2  \\\n",
        "bikes_timestamp                                                      \n",
        "2010-10-06 13:15:00-04:00         57.9     -1.466337     -1.386294   \n",
        "\n",
        "                           logodds_lag3  const  \n",
        "bikes_timestamp                                 \n",
        "2010-10-06 13:15:00-04:00     -1.386294      1  \n"
       ]
      }
     ],
     "prompt_number": 32
    },
    {
     "cell_type": "code",
     "collapsed": false,
     "input": [],
     "language": "python",
     "metadata": {},
     "outputs": []
    }
   ],
   "metadata": {}
  }
 ]
}