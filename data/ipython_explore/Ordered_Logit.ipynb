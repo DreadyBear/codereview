{
 "metadata": {
  "name": "Ordered_Logit"
 },
 "nbformat": 3,
 "nbformat_minor": 0,
 "worksheets": [
  {
   "cells": [
    {
     "cell_type": "code",
     "collapsed": false,
     "input": [
      "from fetch_station import fetch_station\n",
      "import pandas as pd\n",
      "import patsy\n",
      "import pyper as pr\n",
      "from pandas.core.datetools import *"
     ],
     "language": "python",
     "metadata": {},
     "outputs": [],
     "prompt_number": 15
    },
    {
     "cell_type": "code",
     "collapsed": false,
     "input": [
      "bikes_bucketed = fetch_station('Washington, D.C.',17,15, 'max')"
     ],
     "language": "python",
     "metadata": {},
     "outputs": [],
     "prompt_number": 2
    },
    {
     "cell_type": "code",
     "collapsed": false,
     "input": [
      "data = bikes_bucketed[3:][\"bikes_available\"]\n",
      "\n",
      "data_lagged = bikes_bucketed[2:-1][\"bikes_available\"]\n",
      "data.index = data_lagged.index\n",
      "data = pd.concat([data,data_lagged], axis = 1)\n",
      "\n",
      "\n",
      "data_lagged = bikes_bucketed[1:-2][\"bikes_available\"]\n",
      "data_lagged.index = data.index\n",
      "\n",
      "data = pd.concat([data.ix[:,0], data.ix[:,1], data_lagged], axis = 1)\n",
      "\n",
      "data_lagged = bikes_bucketed[0:-3][\"bikes_available\"]\n",
      "data_lagged.index = data.index\n",
      "\n",
      "data = pd.concat([data.ix[:,0], data.ix[:,1], data.ix[:,2], data_lagged, bikes_bucketed['temperature'][2:-1]], axis = 1)"
     ],
     "language": "python",
     "metadata": {},
     "outputs": [],
     "prompt_number": 5
    },
    {
     "cell_type": "code",
     "collapsed": false,
     "input": [
      "data.columns = ['current_bikes','lagged_one','lagged_two','lagged_three', 'temperature']"
     ],
     "language": "python",
     "metadata": {},
     "outputs": [],
     "prompt_number": 6
    },
    {
     "cell_type": "code",
     "collapsed": false,
     "input": [
      "data_hours = data.index.hour\n",
      "data['hour'] = data_hours\n",
      "data_dayofweek = data.index.weekday\n",
      "data_weekdaydummy = data_dayofweek.copy()\n",
      "data_weekdaydummy[data_dayofweek < 5] = 1\n",
      "data_weekdaydummy[data_dayofweek >= 5] = 0\n",
      "data[\"weekday_dummy\"] = data_weekdaydummy"
     ],
     "language": "python",
     "metadata": {},
     "outputs": [],
     "prompt_number": 7
    },
    {
     "cell_type": "code",
     "collapsed": false,
     "input": [
      "y, X = patsy.dmatrices(\"current_bikes ~ C(hour, Treatment) + C(weekday_dummy,Treatment) + temperature + lagged_one + lagged_two + lagged_one\", data, return_type='dataframe')"
     ],
     "language": "python",
     "metadata": {},
     "outputs": [],
     "prompt_number": 8
    },
    {
     "cell_type": "code",
     "collapsed": false,
     "input": [
      "r = pr.R(use_pandas = True)\n",
      "r.assign(\"rdata\", data)\n",
      "print r(\"summary(rdata)\")"
     ],
     "language": "python",
     "metadata": {},
     "outputs": [
      {
       "output_type": "stream",
       "stream": "stdout",
       "text": [
        "try({summary(rdata)})\n",
        "Error in summary(rdata) : object 'rdata' not found\n",
        "\n"
       ]
      }
     ],
     "prompt_number": 27
    },
    {
     "cell_type": "code",
     "collapsed": false,
     "input": [
      "print r(\"summary(rdata)\")\n",
      "print data"
     ],
     "language": "python",
     "metadata": {},
     "outputs": [
      {
       "output_type": "stream",
       "stream": "stdout",
       "text": [
        "try({summary(rdata)})\n",
        "Error in summary(rdata) : object 'rdata' not found\n",
        "\n",
        "<class 'pandas.core.frame.DataFrame'>\n",
        "DatetimeIndex: 78588 entries, 2010-10-06 13:00:00-04:00 to 2013-08-08 21:30:00-04:00\n",
        "Data columns (total 7 columns):\n",
        "current_bikes    78588  non-null values\n",
        "lagged_one       78588  non-null values\n",
        "lagged_two       78588  non-null values\n",
        "lagged_three     78588  non-null values\n",
        "temperature      78588  non-null values\n",
        "hour             78588  non-null values\n",
        "weekday_dummy    78588  non-null values\n",
        "dtypes: float64(5), int32(2)\n"
       ]
      }
     ],
     "prompt_number": 23
    },
    {
     "cell_type": "code",
     "collapsed": false,
     "input": [
      "r.r_data"
     ],
     "language": "python",
     "metadata": {},
     "outputs": [
      {
       "ename": "RError",
       "evalue": "'No this object!'",
       "output_type": "pyerr",
       "traceback": [
        "\u001b[0;31m---------------------------------------------------------------------------\u001b[0m\n\u001b[0;31mRError\u001b[0m                                    Traceback (most recent call last)",
        "\u001b[0;32m<ipython-input-12-1b0440a4e84b>\u001b[0m in \u001b[0;36m<module>\u001b[0;34m()\u001b[0m\n\u001b[0;32m----> 1\u001b[0;31m \u001b[0mr\u001b[0m\u001b[0;34m.\u001b[0m\u001b[0mr_data\u001b[0m\u001b[0;34m\u001b[0m\u001b[0m\n\u001b[0m",
        "\u001b[0;32m/usr/local/lib/python2.7/dist-packages/pyper.pyc\u001b[0m in \u001b[0;36m__getattr__\u001b[0;34m(self, obj, use_dict)\u001b[0m\n\u001b[1;32m    695\u001b[0m                         \u001b[0mrlt\u001b[0m \u001b[0;34m=\u001b[0m \u001b[0mself\u001b[0m\u001b[0;34m.\u001b[0m\u001b[0m__getitem__\u001b[0m\u001b[0;34m(\u001b[0m\u001b[0mobj\u001b[0m\u001b[0;34m,\u001b[0m \u001b[0muse_dict\u001b[0m\u001b[0;34m=\u001b[0m\u001b[0muse_dict\u001b[0m\u001b[0;34m)\u001b[0m\u001b[0;34m\u001b[0m\u001b[0m\n\u001b[1;32m    696\u001b[0m                 \u001b[0;32mexcept\u001b[0m\u001b[0;34m:\u001b[0m\u001b[0;34m\u001b[0m\u001b[0m\n\u001b[0;32m--> 697\u001b[0;31m                         \u001b[0;32mraise\u001b[0m \u001b[0mRError\u001b[0m\u001b[0;34m(\u001b[0m\u001b[0;34m'No this object!'\u001b[0m\u001b[0;34m)\u001b[0m\u001b[0;34m\u001b[0m\u001b[0m\n\u001b[0m\u001b[1;32m    698\u001b[0m                 \u001b[0;32mreturn\u001b[0m \u001b[0mrlt\u001b[0m\u001b[0;34m\u001b[0m\u001b[0m\n\u001b[1;32m    699\u001b[0m \u001b[0;34m\u001b[0m\u001b[0m\n",
        "\u001b[0;31mRError\u001b[0m: 'No this object!'"
       ]
      }
     ],
     "prompt_number": 12
    },
    {
     "cell_type": "code",
     "collapsed": false,
     "input": [
      "py_mean = pd.DataFrame(r.r_data, index = py_data.columns, columns = ['mean'])"
     ],
     "language": "python",
     "metadata": {},
     "outputs": [
      {
       "ename": "RError",
       "evalue": "'No this object!'",
       "output_type": "pyerr",
       "traceback": [
        "\u001b[0;31m---------------------------------------------------------------------------\u001b[0m\n\u001b[0;31mRError\u001b[0m                                    Traceback (most recent call last)",
        "\u001b[0;32m<ipython-input-14-410e0b6502af>\u001b[0m in \u001b[0;36m<module>\u001b[0;34m()\u001b[0m\n\u001b[0;32m----> 1\u001b[0;31m \u001b[0mpy_mean\u001b[0m \u001b[0;34m=\u001b[0m \u001b[0mpd\u001b[0m\u001b[0;34m.\u001b[0m\u001b[0mDataFrame\u001b[0m\u001b[0;34m(\u001b[0m\u001b[0mr\u001b[0m\u001b[0;34m.\u001b[0m\u001b[0mr_data\u001b[0m\u001b[0;34m,\u001b[0m \u001b[0mindex\u001b[0m \u001b[0;34m=\u001b[0m \u001b[0mpy_data\u001b[0m\u001b[0;34m.\u001b[0m\u001b[0mcolumns\u001b[0m\u001b[0;34m,\u001b[0m \u001b[0mcolumns\u001b[0m \u001b[0;34m=\u001b[0m \u001b[0;34m[\u001b[0m\u001b[0;34m'mean'\u001b[0m\u001b[0;34m]\u001b[0m\u001b[0;34m)\u001b[0m\u001b[0;34m\u001b[0m\u001b[0m\n\u001b[0m",
        "\u001b[0;32m/usr/local/lib/python2.7/dist-packages/pyper.pyc\u001b[0m in \u001b[0;36m__getattr__\u001b[0;34m(self, obj, use_dict)\u001b[0m\n\u001b[1;32m    695\u001b[0m                         \u001b[0mrlt\u001b[0m \u001b[0;34m=\u001b[0m \u001b[0mself\u001b[0m\u001b[0;34m.\u001b[0m\u001b[0m__getitem__\u001b[0m\u001b[0;34m(\u001b[0m\u001b[0mobj\u001b[0m\u001b[0;34m,\u001b[0m \u001b[0muse_dict\u001b[0m\u001b[0;34m=\u001b[0m\u001b[0muse_dict\u001b[0m\u001b[0;34m)\u001b[0m\u001b[0;34m\u001b[0m\u001b[0m\n\u001b[1;32m    696\u001b[0m                 \u001b[0;32mexcept\u001b[0m\u001b[0;34m:\u001b[0m\u001b[0;34m\u001b[0m\u001b[0m\n\u001b[0;32m--> 697\u001b[0;31m                         \u001b[0;32mraise\u001b[0m \u001b[0mRError\u001b[0m\u001b[0;34m(\u001b[0m\u001b[0;34m'No this object!'\u001b[0m\u001b[0;34m)\u001b[0m\u001b[0;34m\u001b[0m\u001b[0m\n\u001b[0m\u001b[1;32m    698\u001b[0m                 \u001b[0;32mreturn\u001b[0m \u001b[0mrlt\u001b[0m\u001b[0;34m\u001b[0m\u001b[0m\n\u001b[1;32m    699\u001b[0m \u001b[0;34m\u001b[0m\u001b[0m\n",
        "\u001b[0;31mRError\u001b[0m: 'No this object!'"
       ]
      }
     ],
     "prompt_number": 14
    },
    {
     "cell_type": "code",
     "collapsed": false,
     "input": [],
     "language": "python",
     "metadata": {},
     "outputs": []
    }
   ],
   "metadata": {}
  }
 ]
}