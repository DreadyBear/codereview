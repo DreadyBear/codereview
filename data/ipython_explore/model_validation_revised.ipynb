{
 "metadata": {
  "name": "model_validation_revised"
 },
 "nbformat": 3,
 "nbformat_minor": 0,
 "worksheets": [
  {
   "cells": [
    {
     "cell_type": "code",
     "collapsed": false,
     "input": [],
     "language": "python",
     "metadata": {},
     "outputs": [
      {
       "output_type": "pyout",
       "prompt_number": 2,
       "text": [
        "<function __main__.model_validation>"
       ]
      }
     ],
     "prompt_number": 2
    },
    {
     "cell_type": "code",
     "collapsed": false,
     "input": [
      "import pandas as pd\n",
      "from pandas.core.datetools import *\n",
      "import numpy as np\n",
      "from binomial_fit_function import binomial_fit\n",
      "\n",
      "def model_validation(modelfit, n, data, startdate = None):\n",
      "    if startdate == None:\n",
      "        startdate = data.index[0]\n",
      "    else:\n",
      "        try:\n",
      "            startdate = data[startdate:].index[0]\n",
      "        except:\n",
      "            print \"That date is after the end of biketime. We'll choose the first date in our dataset.\"\n",
      "            startdate = data.index[0]\n",
      "            \n",
      "    enddate = startdate + DateOffset(years=1)\n",
      "    offset = DateOffset(days=1,hours=1)\n",
      "    for i in range(10000):\n",
      "        if i !=0:\n",
      "            enddate += offset\n",
      "            \n",
      "        try:\n",
      "            test_data = data[np.datetime64(enddate):].iloc[1:7]\n",
      "            true_test_data = data[np.datetime64(enddate):].iloc[1:7]\n",
      "        except:\n",
      "            break\n",
      "        else:\n",
      "            print \"Training on data up to %s\" % str(enddate)\n",
      "        \n",
      "        fit_data = data[np.datetime64(startdate):np.datetime64(enddate)]\n",
      "        model = modelfit(fit_data,n = None)\n",
      "        print \"Steps Out, Expected Number of Bikes,  True Expected Number of Bikes, MSE\"\n",
      "        for i in range(3):\n",
      "            lst_prob,ev_bikes = model(test_data.iloc[i:(i+3)],n)\n",
      "            ev_slots = n-ev_bikes\n",
      "            test_data.iloc[i+3][\"bikes_available\"] = ev_bikes\n",
      "            test_data.iloc[i+3][\"slots_available\"] = ev_slots\n",
      "            true_bikes = true_test_data.iloc[i+3][\"bikes_available\"]\n",
      "            mse = pow((ev_bikes-true_bikes),2)\n",
      "            print \"%d,%f,%d,%f\" % (i,ev_bikes,true_bikes,mse)\n",
      "            "
     ],
     "language": "python",
     "metadata": {},
     "outputs": [],
     "prompt_number": 5
    },
    {
     "cell_type": "code",
     "collapsed": false,
     "input": [
      "from fetch_station import fetch_station\n",
      "dc_17=fetch_station(\"Washington, D.C.\", 17, 15, 'max')"
     ],
     "language": "python",
     "metadata": {},
     "outputs": [],
     "prompt_number": 3
    },
    {
     "cell_type": "code",
     "collapsed": false,
     "input": [
      "#test_model = binomial_fit(dc_17,25)"
     ],
     "language": "python",
     "metadata": {},
     "outputs": [],
     "prompt_number": 23
    },
    {
     "cell_type": "code",
     "collapsed": false,
     "input": [
      "#test_model(dc_17,25)"
     ],
     "language": "python",
     "metadata": {},
     "outputs": [],
     "prompt_number": 24
    },
    {
     "cell_type": "code",
     "collapsed": false,
     "input": [
      "model_validation(binomial_fit,25,dc_17)"
     ],
     "language": "python",
     "metadata": {},
     "outputs": [
      {
       "output_type": "stream",
       "stream": "stdout",
       "text": [
        "Training on data up to 2011-10-06 12:30:00-04:00\n",
        "Steps Out, Expected Number of Bikes,  True Expected Number of Bikes, MSE"
       ]
      },
      {
       "output_type": "stream",
       "stream": "stdout",
       "text": [
        "\n",
        "0,2.751050,1,3.066174"
       ]
      },
      {
       "output_type": "stream",
       "stream": "stdout",
       "text": [
        "\n",
        "1,2.603494,1,2.571194"
       ]
      },
      {
       "output_type": "stream",
       "stream": "stdout",
       "text": [
        "\n",
        "2,2.713802,1,2.937117"
       ]
      },
      {
       "output_type": "stream",
       "stream": "stdout",
       "text": [
        "\n",
        "Training on data up to 2011-10-14 13:30:00-04:00\n",
        "Steps Out, Expected Number of Bikes,  True Expected Number of Bikes, MSE"
       ]
      },
      {
       "output_type": "stream",
       "stream": "stdout",
       "text": [
        "\n",
        "0,7.935263,4,15.486293"
       ]
      },
      {
       "output_type": "stream",
       "stream": "stdout",
       "text": [
        "\n",
        "1,6.760439,4,7.620022"
       ]
      },
      {
       "output_type": "stream",
       "stream": "stdout",
       "text": [
        "\n",
        "2,6.810959,4,7.901488"
       ]
      },
      {
       "output_type": "stream",
       "stream": "stdout",
       "text": [
        "\n",
        "Training on data up to 2011-10-22 14:30:00-04:00\n",
        "Steps Out, Expected Number of Bikes,  True Expected Number of Bikes, MSE"
       ]
      },
      {
       "output_type": "stream",
       "stream": "stdout",
       "text": [
        "\n",
        "0,7.183976,2,26.873608"
       ]
      },
      {
       "output_type": "stream",
       "stream": "stdout",
       "text": [
        "\n",
        "1,3.986290,1,8.917930"
       ]
      },
      {
       "output_type": "stream",
       "stream": "stdout",
       "text": [
        "\n",
        "2,2.720939,0,7.403508"
       ]
      },
      {
       "output_type": "stream",
       "stream": "stdout",
       "text": [
        "\n",
        "Training on data up to 2011-10-30 15:30:00-04:00\n",
        "Steps Out, Expected Number of Bikes,  True Expected Number of Bikes, MSE"
       ]
      },
      {
       "output_type": "stream",
       "stream": "stdout",
       "text": [
        "\n",
        "0,8.442343,3,29.619101"
       ]
      },
      {
       "output_type": "stream",
       "stream": "stdout",
       "text": [
        "\n",
        "1,5.981997,3,8.892306"
       ]
      },
      {
       "output_type": "stream",
       "stream": "stdout",
       "text": [
        "\n",
        "2,5.243603,0,27.495372"
       ]
      },
      {
       "output_type": "stream",
       "stream": "stdout",
       "text": [
        "\n",
        "Training on data up to 2011-11-07 15:30:00-05:00\n",
        "Steps Out, Expected Number of Bikes,  True Expected Number of Bikes, MSE"
       ]
      },
      {
       "output_type": "stream",
       "stream": "stdout",
       "text": [
        "\n",
        "0,3.302760,4,0.486143"
       ]
      },
      {
       "output_type": "stream",
       "stream": "stdout",
       "text": [
        "\n",
        "1,4.038813,5,0.923881"
       ]
      },
      {
       "output_type": "stream",
       "stream": "stdout",
       "text": [
        "\n",
        "2,4.697256,6,1.697142"
       ]
      },
      {
       "output_type": "stream",
       "stream": "stdout",
       "text": [
        "\n",
        "Training on data up to 2011-11-15 16:30:00-05:00\n",
        "Steps Out, Expected Number of Bikes,  True Expected Number of Bikes, MSE"
       ]
      },
      {
       "output_type": "stream",
       "stream": "stdout",
       "text": [
        "\n",
        "0,2.434755,2,0.189012"
       ]
      },
      {
       "output_type": "stream",
       "stream": "stdout",
       "text": [
        "\n",
        "1,2.363685,2,0.132267"
       ]
      },
      {
       "output_type": "stream",
       "stream": "stdout",
       "text": [
        "\n",
        "2,2.431460,5,6.597400"
       ]
      },
      {
       "output_type": "stream",
       "stream": "stdout",
       "text": [
        "\n",
        "Training on data up to 2011-11-23 17:30:00-05:00\n",
        "Steps Out, Expected Number of Bikes,  True Expected Number of Bikes, MSE"
       ]
      },
      {
       "output_type": "stream",
       "stream": "stdout",
       "text": [
        "\n",
        "0,5.796298,7,1.448897"
       ]
      },
      {
       "output_type": "stream",
       "stream": "stdout",
       "text": [
        "\n",
        "1,5.804538,7,1.429129"
       ]
      },
      {
       "output_type": "stream",
       "stream": "stdout",
       "text": [
        "\n",
        "2,5.797135,7,1.446884"
       ]
      },
      {
       "output_type": "stream",
       "stream": "stdout",
       "text": [
        "\n",
        "Training on data up to 2011-12-01 18:30:00-05:00\n",
        "Steps Out, Expected Number of Bikes,  True Expected Number of Bikes, MSE"
       ]
      },
      {
       "output_type": "stream",
       "stream": "stdout",
       "text": [
        "\n",
        "0,0.000000,0,0.000000"
       ]
      },
      {
       "output_type": "stream",
       "stream": "stdout",
       "text": [
        "\n",
        "1,nan,1,nan"
       ]
      },
      {
       "output_type": "stream",
       "stream": "stdout",
       "text": [
        "\n",
        "2,nan,2,nan"
       ]
      },
      {
       "output_type": "stream",
       "stream": "stdout",
       "text": [
        "\n",
        "Training on data up to 2011-12-09 19:30:00-05:00\n",
        "Steps Out, Expected Number of Bikes,  True Expected Number of Bikes, MSE"
       ]
      },
      {
       "output_type": "stream",
       "stream": "stdout",
       "text": [
        "\n",
        "0,4.627614,13,70.096846"
       ]
      },
      {
       "output_type": "stream",
       "stream": "stdout",
       "text": [
        "\n",
        "1,7.741584,12,18.134110"
       ]
      },
      {
       "output_type": "stream",
       "stream": "stdout",
       "text": [
        "\n",
        "2,8.300860,11,7.285357"
       ]
      },
      {
       "output_type": "stream",
       "stream": "stdout",
       "text": [
        "\n",
        "Training on data up to 2011-12-17 20:30:00-05:00\n",
        "Steps Out, Expected Number of Bikes,  True Expected Number of Bikes, MSE"
       ]
      },
      {
       "output_type": "stream",
       "stream": "stdout",
       "text": [
        "\n",
        "0,6.415966,10,12.845302"
       ]
      },
      {
       "output_type": "stream",
       "stream": "stdout",
       "text": [
        "\n",
        "1,7.441579,11,12.662359"
       ]
      },
      {
       "output_type": "stream",
       "stream": "stdout",
       "text": [
        "\n",
        "2,7.934645,11,9.396400"
       ]
      },
      {
       "output_type": "stream",
       "stream": "stdout",
       "text": [
        "\n",
        "Training on data up to 2011-12-25 21:30:00-05:00\n",
        "Steps Out, Expected Number of Bikes,  True Expected Number of Bikes, MSE"
       ]
      },
      {
       "output_type": "stream",
       "stream": "stdout",
       "text": [
        "\n",
        "0,15.206667,23,60.736036"
       ]
      },
      {
       "output_type": "stream",
       "stream": "stdout",
       "text": [
        "\n",
        "1,15.206667,23,60.736036"
       ]
      },
      {
       "output_type": "stream",
       "stream": "stdout",
       "text": [
        "\n",
        "2,15.206667,23,60.736036"
       ]
      },
      {
       "output_type": "stream",
       "stream": "stdout",
       "text": [
        "\n",
        "Training on data up to 2012-01-02 22:30:00-05:00\n",
        "Steps Out, Expected Number of Bikes,  True Expected Number of Bikes, MSE"
       ]
      },
      {
       "output_type": "stream",
       "stream": "stdout",
       "text": [
        "\n",
        "0,18.113927,27,78.962285"
       ]
      },
      {
       "output_type": "stream",
       "stream": "stdout",
       "text": [
        "\n",
        "1,18.124111,27,78.781414"
       ]
      },
      {
       "output_type": "stream",
       "stream": "stdout",
       "text": [
        "\n",
        "2,18.116036,27,78.924814"
       ]
      },
      {
       "output_type": "stream",
       "stream": "stdout",
       "text": [
        "\n",
        "Training on data up to 2012-01-10 23:30:00-05:00\n",
        "Steps Out, Expected Number of Bikes,  True Expected Number of Bikes, MSE"
       ]
      },
      {
       "output_type": "stream",
       "stream": "stdout",
       "text": [
        "\n",
        "0,18.020305,27,80.634917"
       ]
      },
      {
       "output_type": "stream",
       "stream": "stdout",
       "text": [
        "\n",
        "1,18.084710,27,79.482392"
       ]
      },
      {
       "output_type": "stream",
       "stream": "stdout",
       "text": [
        "\n",
        "2,17.468068,26,72.793870"
       ]
      },
      {
       "output_type": "stream",
       "stream": "stdout",
       "text": [
        "\n",
        "Training on data up to 2012-01-19 00:30:00-05:00\n",
        "Steps Out, Expected Number of Bikes,  True Expected Number of Bikes, MSE"
       ]
      },
      {
       "output_type": "stream",
       "stream": "stdout",
       "text": [
        "\n",
        "0,18.144860,27,78.413505"
       ]
      },
      {
       "output_type": "stream",
       "stream": "stdout",
       "text": [
        "\n",
        "1,18.144860,27,78.413505"
       ]
      },
      {
       "output_type": "stream",
       "stream": "stdout",
       "text": [
        "\n",
        "2,18.144860,27,78.413505"
       ]
      },
      {
       "output_type": "stream",
       "stream": "stdout",
       "text": [
        "\n",
        "Training on data up to 2012-01-27 01:30:00-05:00\n",
        "Steps Out, Expected Number of Bikes,  True Expected Number of Bikes, MSE"
       ]
      },
      {
       "output_type": "stream",
       "stream": "stdout",
       "text": [
        "\n",
        "0,19.035870,26,48.499104"
       ]
      },
      {
       "output_type": "stream",
       "stream": "stdout",
       "text": [
        "\n",
        "1,17.384794,26,74.221770"
       ]
      },
      {
       "output_type": "stream",
       "stream": "stdout",
       "text": [
        "\n",
        "2,17.554607,26,71.324661"
       ]
      },
      {
       "output_type": "stream",
       "stream": "stdout",
       "text": [
        "\n",
        "Training on data up to 2012-02-04 02:30:00-05:00\n",
        "Steps Out, Expected Number of Bikes,  True Expected Number of Bikes, MSE"
       ]
      },
      {
       "output_type": "stream",
       "stream": "stdout",
       "text": [
        "\n",
        "0,10.216851,15,22.878512"
       ]
      },
      {
       "output_type": "stream",
       "stream": "stdout",
       "text": [
        "\n",
        "1,10.453296,15,20.672515"
       ]
      },
      {
       "output_type": "stream",
       "stream": "stdout",
       "text": [
        "\n",
        "2,10.452582,15,20.679009"
       ]
      },
      {
       "output_type": "stream",
       "stream": "stdout",
       "text": [
        "\n",
        "Training on data up to 2012-02-12 03:30:00-05:00\n",
        "Steps Out, Expected Number of Bikes,  True Expected Number of Bikes, MSE"
       ]
      },
      {
       "output_type": "stream",
       "stream": "stdout",
       "text": [
        "\n",
        "0,9.866165,14,17.088588"
       ]
      },
      {
       "output_type": "stream",
       "stream": "stdout",
       "text": [
        "\n",
        "1,9.866165,14,17.088588"
       ]
      },
      {
       "output_type": "stream",
       "stream": "stdout",
       "text": [
        "\n",
        "2,9.866165,14,17.088588"
       ]
      },
      {
       "output_type": "stream",
       "stream": "stdout",
       "text": [
        "\n",
        "Training on data up to 2012-02-20 04:30:00-05:00\n",
        "Steps Out, Expected Number of Bikes,  True Expected Number of Bikes, MSE"
       ]
      },
      {
       "output_type": "stream",
       "stream": "stdout",
       "text": [
        "\n",
        "0,12.556346,18,29.633367"
       ]
      },
      {
       "output_type": "stream",
       "stream": "stdout",
       "text": [
        "\n",
        "1,12.556346,18,29.633367"
       ]
      },
      {
       "output_type": "stream",
       "stream": "stdout",
       "text": [
        "\n",
        "2,12.556346,18,29.633367"
       ]
      },
      {
       "output_type": "stream",
       "stream": "stdout",
       "text": [
        "\n",
        "Training on data up to 2012-02-28 05:30:00-05:00\n",
        "Steps Out, Expected Number of Bikes,  True Expected Number of Bikes, MSE"
       ]
      },
      {
       "output_type": "stream",
       "stream": "stdout",
       "text": [
        "\n",
        "0,20.891598,30,82.962985"
       ]
      },
      {
       "output_type": "stream",
       "stream": "stdout",
       "text": [
        "\n",
        "1,20.835066,30,83.996015"
       ]
      },
      {
       "output_type": "stream",
       "stream": "stdout",
       "text": [
        "\n",
        "2,20.876833,30,83.232180"
       ]
      },
      {
       "output_type": "stream",
       "stream": "stdout",
       "text": [
        "\n",
        "Training on data up to 2012-03-07 06:30:00-05:00\n",
        "Steps Out, Expected Number of Bikes,  True Expected Number of Bikes, MSE"
       ]
      },
      {
       "output_type": "stream",
       "stream": "stdout",
       "text": [
        "\n",
        "0,11.941813,16,16.468881"
       ]
      },
      {
       "output_type": "stream",
       "stream": "stdout",
       "text": [
        "\n",
        "1,10.282466,19,75.995404"
       ]
      },
      {
       "output_type": "stream",
       "stream": "stdout",
       "text": [
        "\n",
        "2,10.740969,20,85.729647"
       ]
      },
      {
       "output_type": "stream",
       "stream": "stdout",
       "text": [
        "\n",
        "Training on data up to 2012-03-15 08:30:00-04:00\n",
        "Steps Out, Expected Number of Bikes,  True Expected Number of Bikes, MSE"
       ]
      },
      {
       "output_type": "stream",
       "stream": "stdout",
       "text": [
        "\n",
        "0,nan,0,nan"
       ]
      },
      {
       "output_type": "stream",
       "stream": "stdout",
       "text": [
        "\n",
        "1,nan,0,nan"
       ]
      },
      {
       "output_type": "stream",
       "stream": "stdout",
       "text": [
        "\n",
        "2,nan,0,nan"
       ]
      },
      {
       "output_type": "stream",
       "stream": "stdout",
       "text": [
        "\n",
        "Training on data up to 2012-03-23 09:30:00-04:00\n",
        "Steps Out, Expected Number of Bikes,  True Expected Number of Bikes, MSE"
       ]
      },
      {
       "output_type": "stream",
       "stream": "stdout",
       "text": [
        "\n",
        "0,nan,0,nan"
       ]
      },
      {
       "output_type": "stream",
       "stream": "stdout",
       "text": [
        "\n",
        "1,nan,0,nan"
       ]
      },
      {
       "output_type": "stream",
       "stream": "stdout",
       "text": [
        "\n",
        "2,nan,0,nan"
       ]
      },
      {
       "output_type": "stream",
       "stream": "stdout",
       "text": [
        "\n",
        "Training on data up to 2012-03-31 10:30:00-04:00\n",
        "Steps Out, Expected Number of Bikes,  True Expected Number of Bikes, MSE"
       ]
      },
      {
       "output_type": "stream",
       "stream": "stdout",
       "text": [
        "\n",
        "0,9.661048,13,11.148602"
       ]
      },
      {
       "output_type": "stream",
       "stream": "stdout",
       "text": [
        "\n",
        "1,9.322119,12,7.171045"
       ]
      },
      {
       "output_type": "stream",
       "stream": "stdout",
       "text": [
        "\n",
        "2,8.302455,10,2.881658"
       ]
      },
      {
       "output_type": "stream",
       "stream": "stdout",
       "text": [
        "\n",
        "Training on data up to 2012-04-08 11:30:00-04:00\n",
        "Steps Out, Expected Number of Bikes,  True Expected Number of Bikes, MSE"
       ]
      },
      {
       "output_type": "stream",
       "stream": "stdout",
       "text": [
        "\n",
        "0,1.200467,2,0.639253"
       ]
      },
      {
       "output_type": "stream",
       "stream": "stdout",
       "text": [
        "\n",
        "1,2.219457,3,0.609248"
       ]
      },
      {
       "output_type": "stream",
       "stream": "stdout",
       "text": [
        "\n",
        "2,2.854465,14,124.222959"
       ]
      },
      {
       "output_type": "stream",
       "stream": "stdout",
       "text": [
        "\n",
        "Training on data up to 2012-04-16 12:30:00-04:00\n",
        "Steps Out, Expected Number of Bikes,  True Expected Number of Bikes, MSE"
       ]
      },
      {
       "output_type": "stream",
       "stream": "stdout",
       "text": [
        "\n",
        "0,2.912691,3,0.007623"
       ]
      },
      {
       "output_type": "stream",
       "stream": "stdout",
       "text": [
        "\n",
        "1,2.881830,1,3.541284"
       ]
      },
      {
       "output_type": "stream",
       "stream": "stdout",
       "text": [
        "\n",
        "2,1.221177,1,0.048919"
       ]
      },
      {
       "output_type": "stream",
       "stream": "stdout",
       "text": [
        "\n",
        "Training on data up to 2012-04-24 13:30:00-04:00\n",
        "Steps Out, Expected Number of Bikes,  True Expected Number of Bikes, MSE"
       ]
      },
      {
       "output_type": "stream",
       "stream": "stdout",
       "text": [
        "\n",
        "0,2.108045,1,1.227763"
       ]
      },
      {
       "output_type": "stream",
       "stream": "stdout",
       "text": [
        "\n",
        "1,1.219526,0,1.487243"
       ]
      },
      {
       "output_type": "stream",
       "stream": "stdout",
       "text": [
        "\n",
        "2,0.000000,0,0.000000"
       ]
      },
      {
       "output_type": "stream",
       "stream": "stdout",
       "text": [
        "\n",
        "Training on data up to 2012-05-02 14:30:00-04:00\n",
        "Steps Out, Expected Number of Bikes,  True Expected Number of Bikes, MSE"
       ]
      },
      {
       "output_type": "stream",
       "stream": "stdout",
       "text": [
        "\n",
        "0,1.261851,0,1.592268"
       ]
      },
      {
       "output_type": "stream",
       "stream": "stdout",
       "text": [
        "\n",
        "1,0.000000,0,0.000000"
       ]
      },
      {
       "output_type": "stream",
       "stream": "stdout",
       "text": [
        "\n",
        "2,nan,1,nan"
       ]
      },
      {
       "output_type": "stream",
       "stream": "stdout",
       "text": [
        "\n",
        "Training on data up to 2012-05-10 15:30:00-04:00\n",
        "Steps Out, Expected Number of Bikes,  True Expected Number of Bikes, MSE"
       ]
      },
      {
       "output_type": "stream",
       "stream": "stdout",
       "text": [
        "\n",
        "0,3.669179,4,0.109443"
       ]
      },
      {
       "output_type": "stream",
       "stream": "stdout",
       "text": [
        "\n",
        "1,3.673402,5,1.759862"
       ]
      },
      {
       "output_type": "stream",
       "stream": "stdout",
       "text": [
        "\n",
        "2,4.090180,3,1.188492"
       ]
      },
      {
       "output_type": "stream",
       "stream": "stdout",
       "text": [
        "\n",
        "Training on data up to 2012-05-18 16:30:00-04:00\n",
        "Steps Out, Expected Number of Bikes,  True Expected Number of Bikes, MSE"
       ]
      },
      {
       "output_type": "stream",
       "stream": "stdout",
       "text": [
        "\n",
        "0,nan,3,nan"
       ]
      },
      {
       "output_type": "stream",
       "stream": "stdout",
       "text": [
        "\n",
        "1,nan,5,nan"
       ]
      },
      {
       "output_type": "stream",
       "stream": "stdout",
       "text": [
        "\n",
        "2,0.000000,6,36.000000"
       ]
      },
      {
       "output_type": "stream",
       "stream": "stdout",
       "text": [
        "\n",
        "Training on data up to 2012-05-26 17:30:00-04:00\n",
        "Steps Out, Expected Number of Bikes,  True Expected Number of Bikes, MSE"
       ]
      },
      {
       "output_type": "stream",
       "stream": "stdout",
       "text": [
        "\n",
        "0,8.322179,12,13.526370"
       ]
      },
      {
       "output_type": "stream",
       "stream": "stdout",
       "text": [
        "\n",
        "1,8.053473,9,0.895914"
       ]
      },
      {
       "output_type": "stream",
       "stream": "stdout",
       "text": [
        "\n",
        "2,6.854297,9,4.604040"
       ]
      },
      {
       "output_type": "stream",
       "stream": "stdout",
       "text": [
        "\n",
        "Training on data up to 2012-06-03 18:30:00-04:00\n",
        "Steps Out, Expected Number of Bikes,  True Expected Number of Bikes, MSE"
       ]
      },
      {
       "output_type": "stream",
       "stream": "stdout",
       "text": [
        "\n",
        "0,11.614706,14,5.689627"
       ]
      },
      {
       "output_type": "stream",
       "stream": "stdout",
       "text": [
        "\n",
        "1,9.522849,13,12.090582"
       ]
      },
      {
       "output_type": "stream",
       "stream": "stdout",
       "text": [
        "\n",
        "2,8.872535,13,17.035966"
       ]
      },
      {
       "output_type": "stream",
       "stream": "stdout",
       "text": [
        "\n",
        "Training on data up to 2012-06-11 19:30:00-04:00\n",
        "Steps Out, Expected Number of Bikes,  True Expected Number of Bikes, MSE"
       ]
      },
      {
       "output_type": "stream",
       "stream": "stdout",
       "text": [
        "\n",
        "0,6.919485,10,9.489572"
       ]
      },
      {
       "output_type": "stream",
       "stream": "stdout",
       "text": [
        "\n",
        "1,7.020456,9,3.918594"
       ]
      },
      {
       "output_type": "stream",
       "stream": "stdout",
       "text": [
        "\n",
        "2,6.686731,7,0.098137"
       ]
      },
      {
       "output_type": "stream",
       "stream": "stdout",
       "text": [
        "\n",
        "Training on data up to 2012-06-19 20:30:00-04:00\n",
        "Steps Out, Expected Number of Bikes,  True Expected Number of Bikes, MSE"
       ]
      },
      {
       "output_type": "stream",
       "stream": "stdout",
       "text": [
        "\n",
        "0,4.895744,14,82.887484"
       ]
      },
      {
       "output_type": "stream",
       "stream": "stdout",
       "text": [
        "\n",
        "1,9.013249,16,48.814690"
       ]
      },
      {
       "output_type": "stream",
       "stream": "stdout",
       "text": [
        "\n",
        "2,10.270009,18,59.752756"
       ]
      },
      {
       "output_type": "stream",
       "stream": "stdout",
       "text": [
        "\n",
        "Training on data up to 2012-06-27 21:30:00-04:00\n",
        "Steps Out, Expected Number of Bikes,  True Expected Number of Bikes, MSE"
       ]
      },
      {
       "output_type": "stream",
       "stream": "stdout",
       "text": [
        "\n",
        "0,1.988603,1,0.977337"
       ]
      },
      {
       "output_type": "stream",
       "stream": "stdout",
       "text": [
        "\n",
        "1,1.203026,0,1.447271"
       ]
      },
      {
       "output_type": "stream",
       "stream": "stdout",
       "text": [
        "\n",
        "2,0.000000,2,4.000000"
       ]
      },
      {
       "output_type": "stream",
       "stream": "stdout",
       "text": [
        "\n",
        "Training on data up to 2012-07-05 22:30:00-04:00\n",
        "Steps Out, Expected Number of Bikes,  True Expected Number of Bikes, MSE"
       ]
      },
      {
       "output_type": "stream",
       "stream": "stdout",
       "text": [
        "\n",
        "0,1.253273,1,0.064147"
       ]
      },
      {
       "output_type": "stream",
       "stream": "stdout",
       "text": [
        "\n",
        "1,1.221693,0,1.492534"
       ]
      },
      {
       "output_type": "stream",
       "stream": "stdout",
       "text": [
        "\n",
        "2,0.000000,0,0.000000"
       ]
      },
      {
       "output_type": "stream",
       "stream": "stdout",
       "text": [
        "\n",
        "Training on data up to 2012-07-13 23:30:00-04:00\n",
        "Steps Out, Expected Number of Bikes,  True Expected Number of Bikes, MSE"
       ]
      },
      {
       "output_type": "stream",
       "stream": "stdout",
       "text": [
        "\n",
        "0,3.553857,5,2.091329"
       ]
      },
      {
       "output_type": "stream",
       "stream": "stdout",
       "text": [
        "\n",
        "1,4.363896,5,0.404628"
       ]
      },
      {
       "output_type": "stream",
       "stream": "stdout",
       "text": [
        "\n",
        "2,4.294028,4,0.086453"
       ]
      },
      {
       "output_type": "stream",
       "stream": "stdout",
       "text": [
        "\n",
        "Training on data up to 2012-07-22 00:30:00-04:00\n",
        "Steps Out, Expected Number of Bikes,  True Expected Number of Bikes, MSE"
       ]
      },
      {
       "output_type": "stream",
       "stream": "stdout",
       "text": [
        "\n",
        "0,8.067382,11,8.600247"
       ]
      },
      {
       "output_type": "stream",
       "stream": "stdout",
       "text": [
        "\n",
        "1,8.040716,11,8.757362"
       ]
      },
      {
       "output_type": "stream",
       "stream": "stdout",
       "text": [
        "\n",
        "2,7.657318,9,1.802794"
       ]
      },
      {
       "output_type": "stream",
       "stream": "stdout",
       "text": [
        "\n",
        "Training on data up to 2012-07-30 01:30:00-04:00\n",
        "Steps Out, Expected Number of Bikes,  True Expected Number of Bikes, MSE"
       ]
      },
      {
       "output_type": "stream",
       "stream": "stdout",
       "text": [
        "\n",
        "0,14.703531,23,68.831395"
       ]
      },
      {
       "output_type": "stream",
       "stream": "stdout",
       "text": [
        "\n",
        "1,14.922798,24,82.395589"
       ]
      },
      {
       "output_type": "stream",
       "stream": "stdout",
       "text": [
        "\n",
        "2,15.577254,24,70.942645"
       ]
      },
      {
       "output_type": "stream",
       "stream": "stdout",
       "text": [
        "\n",
        "Training on data up to 2012-08-07 02:30:00-04:00\n",
        "Steps Out, Expected Number of Bikes,  True Expected Number of Bikes, MSE"
       ]
      },
      {
       "output_type": "stream",
       "stream": "stdout",
       "text": [
        "\n",
        "0,20.957996,30,81.757843"
       ]
      },
      {
       "output_type": "stream",
       "stream": "stdout",
       "text": [
        "\n",
        "1,20.905311,30,82.713366"
       ]
      },
      {
       "output_type": "stream",
       "stream": "stdout",
       "text": [
        "\n",
        "2,20.941128,30,82.063153"
       ]
      },
      {
       "output_type": "stream",
       "stream": "stdout",
       "text": [
        "\n",
        "Training on data up to 2012-08-15 03:30:00-04:00\n",
        "Steps Out, Expected Number of Bikes,  True Expected Number of Bikes, MSE"
       ]
      },
      {
       "output_type": "stream",
       "stream": "stdout",
       "text": [
        "\n",
        "0,13.465120,20,42.704662"
       ]
      },
      {
       "output_type": "stream",
       "stream": "stdout",
       "text": [
        "\n",
        "1,13.465120,20,42.704662"
       ]
      },
      {
       "output_type": "stream",
       "stream": "stdout",
       "text": [
        "\n",
        "2,13.465120,21,56.774423"
       ]
      },
      {
       "output_type": "stream",
       "stream": "stdout",
       "text": [
        "\n",
        "Training on data up to 2012-08-23 04:30:00-04:00\n",
        "Steps Out, Expected Number of Bikes,  True Expected Number of Bikes, MSE"
       ]
      },
      {
       "output_type": "stream",
       "stream": "stdout",
       "text": [
        "\n",
        "0,17.541191,26,71.551456"
       ]
      },
      {
       "output_type": "stream",
       "stream": "stdout",
       "text": [
        "\n",
        "1,17.541191,26,71.551456"
       ]
      },
      {
       "output_type": "stream",
       "stream": "stdout",
       "text": [
        "\n",
        "2,17.541191,26,71.551456"
       ]
      },
      {
       "output_type": "stream",
       "stream": "stdout",
       "text": [
        "\n",
        "Training on data up to 2012-08-31 05:30:00-04:00\n",
        "Steps Out, Expected Number of Bikes,  True Expected Number of Bikes, MSE"
       ]
      },
      {
       "output_type": "stream",
       "stream": "stdout",
       "text": [
        "\n",
        "0,18.445014,27,73.187784"
       ]
      },
      {
       "output_type": "stream",
       "stream": "stdout",
       "text": [
        "\n",
        "1,18.352661,26,58.481789"
       ]
      },
      {
       "output_type": "stream",
       "stream": "stdout",
       "text": [
        "\n",
        "2,16.951344,25,64.780859"
       ]
      },
      {
       "output_type": "stream",
       "stream": "stdout",
       "text": [
        "\n",
        "Training on data up to 2012-09-08 06:30:00-04:00\n",
        "Steps Out, Expected Number of Bikes,  True Expected Number of Bikes, MSE"
       ]
      },
      {
       "output_type": "stream",
       "stream": "stdout",
       "text": [
        "\n",
        "0,18.319956,27,75.343161"
       ]
      },
      {
       "output_type": "stream",
       "stream": "stdout",
       "text": [
        "\n",
        "1,18.319956,27,75.343161"
       ]
      },
      {
       "output_type": "stream",
       "stream": "stdout",
       "text": [
        "\n",
        "2,17.685451,26,69.131727"
       ]
      },
      {
       "output_type": "stream",
       "stream": "stdout",
       "text": [
        "\n",
        "Training on data up to 2012-09-16 07:30:00-04:00\n",
        "Steps Out, Expected Number of Bikes,  True Expected Number of Bikes, MSE"
       ]
      },
      {
       "output_type": "stream",
       "stream": "stdout",
       "text": [
        "\n",
        "0,16.101423,23,47.590365"
       ]
      },
      {
       "output_type": "stream",
       "stream": "stdout",
       "text": [
        "\n",
        "1,15.379239,23,58.075994"
       ]
      },
      {
       "output_type": "stream",
       "stream": "stdout",
       "text": [
        "\n",
        "2,15.419880,23,57.458215"
       ]
      },
      {
       "output_type": "stream",
       "stream": "stdout",
       "text": [
        "\n",
        "Training on data up to 2012-09-24 08:30:00-04:00\n",
        "Steps Out, Expected Number of Bikes,  True Expected Number of Bikes, MSE"
       ]
      },
      {
       "output_type": "stream",
       "stream": "stdout",
       "text": [
        "\n",
        "0,1.196668,0,1.432013"
       ]
      },
      {
       "output_type": "stream",
       "stream": "stdout",
       "text": [
        "\n",
        "1,0.000000,0,0.000000"
       ]
      },
      {
       "output_type": "stream",
       "stream": "stdout",
       "text": [
        "\n",
        "2,nan,0,nan"
       ]
      },
      {
       "output_type": "stream",
       "stream": "stdout",
       "text": [
        "\n",
        "Training on data up to 2012-10-02 09:30:00-04:00\n",
        "Steps Out, Expected Number of Bikes,  True Expected Number of Bikes, MSE"
       ]
      },
      {
       "output_type": "stream",
       "stream": "stdout",
       "text": [
        "\n",
        "0,16.056326,24,63.101949"
       ]
      },
      {
       "output_type": "stream",
       "stream": "stdout",
       "text": [
        "\n",
        "1,15.096538,22,47.657787"
       ]
      },
      {
       "output_type": "stream",
       "stream": "stdout",
       "text": [
        "\n",
        "2,14.737592,22,52.742577"
       ]
      },
      {
       "output_type": "stream",
       "stream": "stdout",
       "text": [
        "\n",
        "Training on data up to 2012-10-10 10:30:00-04:00\n",
        "Steps Out, Expected Number of Bikes,  True Expected Number of Bikes, MSE"
       ]
      },
      {
       "output_type": "stream",
       "stream": "stdout",
       "text": [
        "\n",
        "0,0.000000,8,64.000000"
       ]
      },
      {
       "output_type": "stream",
       "stream": "stdout",
       "text": [
        "\n",
        "1,6.039287,7,0.922970"
       ]
      },
      {
       "output_type": "stream",
       "stream": "stdout",
       "text": [
        "\n",
        "2,5.489872,6,0.260230"
       ]
      },
      {
       "output_type": "stream",
       "stream": "stdout",
       "text": [
        "\n",
        "Training on data up to 2012-10-18 11:30:00-04:00\n",
        "Steps Out, Expected Number of Bikes,  True Expected Number of Bikes, MSE"
       ]
      },
      {
       "output_type": "stream",
       "stream": "stdout",
       "text": [
        "\n",
        "0,0.000000,6,36.000000"
       ]
      },
      {
       "output_type": "stream",
       "stream": "stdout",
       "text": [
        "\n",
        "1,4.847401,6,1.328485"
       ]
      },
      {
       "output_type": "stream",
       "stream": "stdout",
       "text": [
        "\n",
        "2,4.883436,6,1.246715"
       ]
      },
      {
       "output_type": "stream",
       "stream": "stdout",
       "text": [
        "\n",
        "Training on data up to 2012-10-26 12:30:00-04:00\n",
        "Steps Out, Expected Number of Bikes,  True Expected Number of Bikes, MSE"
       ]
      },
      {
       "output_type": "stream",
       "stream": "stdout",
       "text": [
        "\n",
        "0,1.240233,1,0.057712"
       ]
      },
      {
       "output_type": "stream",
       "stream": "stdout",
       "text": [
        "\n",
        "1,1.259259,0,1.585734"
       ]
      },
      {
       "output_type": "stream",
       "stream": "stdout",
       "text": [
        "\n",
        "2,0.000000,0,0.000000"
       ]
      },
      {
       "output_type": "stream",
       "stream": "stdout",
       "text": [
        "\n",
        "Training on data up to 2012-11-03 13:30:00-04:00\n",
        "Steps Out, Expected Number of Bikes,  True Expected Number of Bikes, MSE"
       ]
      },
      {
       "output_type": "stream",
       "stream": "stdout",
       "text": [
        "\n",
        "0,7.493202,9,2.270440"
       ]
      },
      {
       "output_type": "stream",
       "stream": "stdout",
       "text": [
        "\n",
        "1,6.731510,8,1.609067"
       ]
      },
      {
       "output_type": "stream",
       "stream": "stdout",
       "text": [
        "\n",
        "2,5.982641,8,4.069738"
       ]
      },
      {
       "output_type": "stream",
       "stream": "stdout",
       "text": [
        "\n",
        "Training on data up to 2012-11-11 13:30:00-05:00\n",
        "Steps Out, Expected Number of Bikes,  True Expected Number of Bikes, MSE"
       ]
      },
      {
       "output_type": "stream",
       "stream": "stdout",
       "text": [
        "\n",
        "0,4.840905,1,14.752554"
       ]
      },
      {
       "output_type": "stream",
       "stream": "stdout",
       "text": [
        "\n",
        "1,1.172369,1,0.029711"
       ]
      },
      {
       "output_type": "stream",
       "stream": "stdout",
       "text": [
        "\n",
        "2,1.322792,1,0.104195"
       ]
      },
      {
       "output_type": "stream",
       "stream": "stdout",
       "text": [
        "\n",
        "Training on data up to 2012-11-19 14:30:00-05:00\n",
        "Steps Out, Expected Number of Bikes,  True Expected Number of Bikes, MSE"
       ]
      },
      {
       "output_type": "stream",
       "stream": "stdout",
       "text": [
        "\n",
        "0,6.143129,8,3.447971"
       ]
      },
      {
       "output_type": "stream",
       "stream": "stdout",
       "text": [
        "\n",
        "1,6.086261,7,0.834919"
       ]
      },
      {
       "output_type": "stream",
       "stream": "stdout",
       "text": [
        "\n",
        "2,5.616826,8,5.679518"
       ]
      },
      {
       "output_type": "stream",
       "stream": "stdout",
       "text": [
        "\n",
        "Training on data up to 2012-11-27 15:30:00-05:00\n",
        "Steps Out, Expected Number of Bikes,  True Expected Number of Bikes, MSE"
       ]
      },
      {
       "output_type": "stream",
       "stream": "stdout",
       "text": [
        "\n",
        "0,4.297030,5,0.494167"
       ]
      },
      {
       "output_type": "stream",
       "stream": "stdout",
       "text": [
        "\n",
        "1,4.317774,6,2.829884"
       ]
      },
      {
       "output_type": "stream",
       "stream": "stdout",
       "text": [
        "\n",
        "2,5.003241,7,3.987048"
       ]
      },
      {
       "output_type": "stream",
       "stream": "stdout",
       "text": [
        "\n",
        "Training on data up to 2012-12-05 16:30:00-05:00\n",
        "Steps Out, Expected Number of Bikes,  True Expected Number of Bikes, MSE"
       ]
      },
      {
       "output_type": "stream",
       "stream": "stdout",
       "text": [
        "\n",
        "0,0.000000,1,1.000000"
       ]
      },
      {
       "output_type": "stream",
       "stream": "stdout",
       "text": [
        "\n",
        "1,nan,2,nan"
       ]
      },
      {
       "output_type": "stream",
       "stream": "stdout",
       "text": [
        "\n",
        "2,0.000000,3,9.000000"
       ]
      },
      {
       "output_type": "stream",
       "stream": "stdout",
       "text": [
        "\n",
        "Training on data up to 2012-12-13 17:30:00-05:00\n",
        "Steps Out, Expected Number of Bikes,  True Expected Number of Bikes, MSE"
       ]
      },
      {
       "output_type": "stream",
       "stream": "stdout",
       "text": [
        "\n",
        "0,1.963046,4,4.149183"
       ]
      },
      {
       "output_type": "stream",
       "stream": "stdout",
       "text": [
        "\n",
        "1,3.508268,8,20.175660"
       ]
      },
      {
       "output_type": "stream",
       "stream": "stdout",
       "text": [
        "\n",
        "2,5.906573,8,4.382438"
       ]
      },
      {
       "output_type": "stream",
       "stream": "stdout",
       "text": [
        "\n",
        "Training on data up to 2012-12-21 18:30:00-05:00\n",
        "Steps Out, Expected Number of Bikes,  True Expected Number of Bikes, MSE"
       ]
      },
      {
       "output_type": "stream",
       "stream": "stdout",
       "text": [
        "\n",
        "0,5.573656,8,5.887146"
       ]
      },
      {
       "output_type": "stream",
       "stream": "stdout",
       "text": [
        "\n",
        "1,6.122668,7,0.769711"
       ]
      },
      {
       "output_type": "stream",
       "stream": "stdout",
       "text": [
        "\n",
        "2,5.573656,19,180.266716"
       ]
      },
      {
       "output_type": "stream",
       "stream": "stdout",
       "text": [
        "\n",
        "Training on data up to 2012-12-29 19:30:00-05:00\n",
        "Steps Out, Expected Number of Bikes,  True Expected Number of Bikes, MSE"
       ]
      },
      {
       "output_type": "stream",
       "stream": "stdout",
       "text": [
        "\n",
        "0,9.280644,13,13.833610"
       ]
      },
      {
       "output_type": "stream",
       "stream": "stdout",
       "text": [
        "\n",
        "1,9.280644,13,13.833610"
       ]
      },
      {
       "output_type": "stream",
       "stream": "stdout",
       "text": [
        "\n",
        "2,9.280644,13,13.833610"
       ]
      },
      {
       "output_type": "stream",
       "stream": "stdout",
       "text": [
        "\n",
        "Training on data up to 2013-01-06 20:30:00-05:00\n",
        "Steps Out, Expected Number of Bikes,  True Expected Number of Bikes, MSE"
       ]
      },
      {
       "output_type": "stream",
       "stream": "stdout",
       "text": [
        "\n",
        "0,nan,4,nan"
       ]
      },
      {
       "output_type": "stream",
       "stream": "stdout",
       "text": [
        "\n",
        "1,nan,4,nan"
       ]
      },
      {
       "output_type": "stream",
       "stream": "stdout",
       "text": [
        "\n",
        "2,0.000000,2,4.000000"
       ]
      },
      {
       "output_type": "stream",
       "stream": "stdout",
       "text": [
        "\n",
        "Training on data up to 2013-01-14 21:30:00-05:00\n",
        "Steps Out, Expected Number of Bikes,  True Expected Number of Bikes, MSE"
       ]
      },
      {
       "output_type": "stream",
       "stream": "stdout",
       "text": [
        "\n",
        "0,nan,4,nan"
       ]
      },
      {
       "output_type": "stream",
       "stream": "stdout",
       "text": [
        "\n",
        "1,nan,4,nan"
       ]
      },
      {
       "output_type": "stream",
       "stream": "stdout",
       "text": [
        "\n",
        "2,0.000000,2,4.000000"
       ]
      },
      {
       "output_type": "stream",
       "stream": "stdout",
       "text": [
        "\n",
        "Training on data up to 2013-01-22 22:30:00-05:00\n",
        "Steps Out, Expected Number of Bikes,  True Expected Number of Bikes, MSE"
       ]
      },
      {
       "output_type": "stream",
       "stream": "stdout",
       "text": [
        "\n",
        "0,nan,4,nan"
       ]
      },
      {
       "output_type": "stream",
       "stream": "stdout",
       "text": [
        "\n",
        "1,nan,4,nan"
       ]
      },
      {
       "output_type": "stream",
       "stream": "stdout",
       "text": [
        "\n",
        "2,0.000000,2,4.000000"
       ]
      },
      {
       "output_type": "stream",
       "stream": "stdout",
       "text": [
        "\n",
        "Training on data up to 2013-01-30 23:30:00-05:00\n",
        "Steps Out, Expected Number of Bikes,  True Expected Number of Bikes, MSE"
       ]
      },
      {
       "output_type": "stream",
       "stream": "stdout",
       "text": [
        "\n",
        "0,nan,4,nan"
       ]
      },
      {
       "output_type": "stream",
       "stream": "stdout",
       "text": [
        "\n",
        "1,nan,4,nan"
       ]
      },
      {
       "output_type": "stream",
       "stream": "stdout",
       "text": [
        "\n",
        "2,0.000000,2,4.000000"
       ]
      },
      {
       "output_type": "stream",
       "stream": "stdout",
       "text": [
        "\n",
        "Training on data up to 2013-02-08 00:30:00-05:00\n",
        "Steps Out, Expected Number of Bikes,  True Expected Number of Bikes, MSE"
       ]
      },
      {
       "output_type": "stream",
       "stream": "stdout",
       "text": [
        "\n",
        "0,nan,4,nan"
       ]
      },
      {
       "output_type": "stream",
       "stream": "stdout",
       "text": [
        "\n",
        "1,nan,4,nan"
       ]
      },
      {
       "output_type": "stream",
       "stream": "stdout",
       "text": [
        "\n",
        "2,0.000000,2,4.000000"
       ]
      },
      {
       "output_type": "stream",
       "stream": "stdout",
       "text": [
        "\n",
        "Training on data up to 2013-02-16 01:30:00-05:00\n",
        "Steps Out, Expected Number of Bikes,  True Expected Number of Bikes, MSE"
       ]
      },
      {
       "output_type": "stream",
       "stream": "stdout",
       "text": [
        "\n",
        "0,nan,4,nan"
       ]
      },
      {
       "output_type": "stream",
       "stream": "stdout",
       "text": [
        "\n",
        "1,nan,4,nan"
       ]
      },
      {
       "output_type": "stream",
       "stream": "stdout",
       "text": [
        "\n",
        "2,0.000000,2,4.000000"
       ]
      },
      {
       "output_type": "stream",
       "stream": "stdout",
       "text": [
        "\n",
        "Training on data up to 2013-02-24 02:30:00-05:00\n",
        "Steps Out, Expected Number of Bikes,  True Expected Number of Bikes, MSE"
       ]
      },
      {
       "output_type": "stream",
       "stream": "stdout",
       "text": [
        "\n",
        "0,nan,4,nan"
       ]
      },
      {
       "output_type": "stream",
       "stream": "stdout",
       "text": [
        "\n",
        "1,nan,4,nan"
       ]
      },
      {
       "output_type": "stream",
       "stream": "stdout",
       "text": [
        "\n",
        "2,0.000000,2,4.000000"
       ]
      },
      {
       "output_type": "stream",
       "stream": "stdout",
       "text": [
        "\n",
        "Training on data up to 2013-03-04 03:30:00-05:00\n",
        "Steps Out, Expected Number of Bikes,  True Expected Number of Bikes, MSE"
       ]
      },
      {
       "output_type": "stream",
       "stream": "stdout",
       "text": [
        "\n",
        "0,nan,4,nan"
       ]
      },
      {
       "output_type": "stream",
       "stream": "stdout",
       "text": [
        "\n",
        "1,nan,4,nan"
       ]
      },
      {
       "output_type": "stream",
       "stream": "stdout",
       "text": [
        "\n",
        "2,0.000000,2,4.000000"
       ]
      },
      {
       "output_type": "stream",
       "stream": "stdout",
       "text": [
        "\n",
        "Training on data up to 2013-03-12 05:30:00-04:00\n",
        "Steps Out, Expected Number of Bikes,  True Expected Number of Bikes, MSE"
       ]
      },
      {
       "output_type": "stream",
       "stream": "stdout",
       "text": [
        "\n",
        "0,nan,4,nan"
       ]
      },
      {
       "output_type": "stream",
       "stream": "stdout",
       "text": [
        "\n",
        "1,nan,4,nan"
       ]
      },
      {
       "output_type": "stream",
       "stream": "stdout",
       "text": [
        "\n",
        "2,0.000000,2,4.000000"
       ]
      },
      {
       "output_type": "stream",
       "stream": "stdout",
       "text": [
        "\n",
        "Training on data up to 2013-03-20 06:30:00-04:00\n",
        "Steps Out, Expected Number of Bikes,  True Expected Number of Bikes, MSE"
       ]
      },
      {
       "output_type": "stream",
       "stream": "stdout",
       "text": [
        "\n",
        "0,nan,4,nan"
       ]
      },
      {
       "output_type": "stream",
       "stream": "stdout",
       "text": [
        "\n",
        "1,nan,4,nan"
       ]
      },
      {
       "output_type": "stream",
       "stream": "stdout",
       "text": [
        "\n",
        "2,0.000000,2,4.000000"
       ]
      },
      {
       "output_type": "stream",
       "stream": "stdout",
       "text": [
        "\n",
        "Training on data up to 2013-03-28 07:30:00-04:00\n",
        "Steps Out, Expected Number of Bikes,  True Expected Number of Bikes, MSE"
       ]
      },
      {
       "output_type": "stream",
       "stream": "stdout",
       "text": [
        "\n",
        "0,nan,4,nan"
       ]
      },
      {
       "output_type": "stream",
       "stream": "stdout",
       "text": [
        "\n",
        "1,nan,4,nan"
       ]
      },
      {
       "output_type": "stream",
       "stream": "stdout",
       "text": [
        "\n",
        "2,0.000000,2,4.000000"
       ]
      },
      {
       "output_type": "stream",
       "stream": "stdout",
       "text": [
        "\n",
        "Training on data up to 2013-04-05 08:30:00-04:00\n",
        "Steps Out, Expected Number of Bikes,  True Expected Number of Bikes, MSE"
       ]
      },
      {
       "output_type": "stream",
       "stream": "stdout",
       "text": [
        "\n",
        "0,nan,4,nan"
       ]
      },
      {
       "output_type": "stream",
       "stream": "stdout",
       "text": [
        "\n",
        "1,nan,4,nan"
       ]
      },
      {
       "output_type": "stream",
       "stream": "stdout",
       "text": [
        "\n",
        "2,0.000000,2,4.000000"
       ]
      },
      {
       "output_type": "stream",
       "stream": "stdout",
       "text": [
        "\n",
        "Training on data up to 2013-04-13 09:30:00-04:00\n",
        "Steps Out, Expected Number of Bikes,  True Expected Number of Bikes, MSE"
       ]
      },
      {
       "output_type": "stream",
       "stream": "stdout",
       "text": [
        "\n",
        "0,nan,4,nan"
       ]
      },
      {
       "output_type": "stream",
       "stream": "stdout",
       "text": [
        "\n",
        "1,nan,4,nan"
       ]
      },
      {
       "output_type": "stream",
       "stream": "stdout",
       "text": [
        "\n",
        "2,0.000000,2,4.000000"
       ]
      },
      {
       "output_type": "stream",
       "stream": "stdout",
       "text": [
        "\n",
        "Training on data up to 2013-04-21 10:30:00-04:00\n",
        "Steps Out, Expected Number of Bikes,  True Expected Number of Bikes, MSE"
       ]
      },
      {
       "output_type": "stream",
       "stream": "stdout",
       "text": [
        "\n",
        "0,nan,4,nan"
       ]
      },
      {
       "output_type": "stream",
       "stream": "stdout",
       "text": [
        "\n",
        "1,nan,4,nan"
       ]
      },
      {
       "output_type": "stream",
       "stream": "stdout",
       "text": [
        "\n",
        "2,0.000000,2,4.000000"
       ]
      },
      {
       "output_type": "stream",
       "stream": "stdout",
       "text": [
        "\n",
        "Training on data up to 2013-04-29 11:30:00-04:00\n",
        "Steps Out, Expected Number of Bikes,  True Expected Number of Bikes, MSE"
       ]
      },
      {
       "output_type": "stream",
       "stream": "stdout",
       "text": [
        "\n",
        "0,nan,4,nan"
       ]
      },
      {
       "output_type": "stream",
       "stream": "stdout",
       "text": [
        "\n",
        "1,nan,4,nan"
       ]
      },
      {
       "output_type": "stream",
       "stream": "stdout",
       "text": [
        "\n",
        "2,0.000000,2,4.000000"
       ]
      },
      {
       "output_type": "stream",
       "stream": "stdout",
       "text": [
        "\n",
        "Training on data up to 2013-05-07 12:30:00-04:00\n",
        "Steps Out, Expected Number of Bikes,  True Expected Number of Bikes, MSE"
       ]
      },
      {
       "output_type": "stream",
       "stream": "stdout",
       "text": [
        "\n",
        "0,nan,4,nan"
       ]
      },
      {
       "output_type": "stream",
       "stream": "stdout",
       "text": [
        "\n",
        "1,nan,4,nan"
       ]
      },
      {
       "output_type": "stream",
       "stream": "stdout",
       "text": [
        "\n",
        "2,0.000000,2,4.000000"
       ]
      },
      {
       "output_type": "stream",
       "stream": "stdout",
       "text": [
        "\n",
        "Training on data up to 2013-05-15 13:30:00-04:00\n",
        "Steps Out, Expected Number of Bikes,  True Expected Number of Bikes, MSE"
       ]
      },
      {
       "output_type": "stream",
       "stream": "stdout",
       "text": [
        "\n",
        "0,nan,4,nan"
       ]
      },
      {
       "output_type": "stream",
       "stream": "stdout",
       "text": [
        "\n",
        "1,nan,4,nan"
       ]
      },
      {
       "output_type": "stream",
       "stream": "stdout",
       "text": [
        "\n",
        "2,0.000000,2,4.000000"
       ]
      },
      {
       "output_type": "stream",
       "stream": "stdout",
       "text": [
        "\n",
        "Training on data up to 2013-05-23 14:30:00-04:00\n",
        "Steps Out, Expected Number of Bikes,  True Expected Number of Bikes, MSE"
       ]
      },
      {
       "output_type": "stream",
       "stream": "stdout",
       "text": [
        "\n",
        "0,nan,4,nan"
       ]
      },
      {
       "output_type": "stream",
       "stream": "stdout",
       "text": [
        "\n",
        "1,nan,4,nan"
       ]
      },
      {
       "output_type": "stream",
       "stream": "stdout",
       "text": [
        "\n",
        "2,0.000000,2,4.000000"
       ]
      },
      {
       "output_type": "stream",
       "stream": "stdout",
       "text": [
        "\n",
        "Training on data up to 2013-05-31 15:30:00-04:00\n",
        "Steps Out, Expected Number of Bikes,  True Expected Number of Bikes, MSE"
       ]
      },
      {
       "output_type": "stream",
       "stream": "stdout",
       "text": [
        "\n",
        "0,nan,4,nan"
       ]
      },
      {
       "output_type": "stream",
       "stream": "stdout",
       "text": [
        "\n",
        "1,nan,4,nan"
       ]
      },
      {
       "output_type": "stream",
       "stream": "stdout",
       "text": [
        "\n",
        "2,0.000000,2,4.000000"
       ]
      },
      {
       "output_type": "stream",
       "stream": "stdout",
       "text": [
        "\n",
        "Training on data up to 2013-06-08 16:30:00-04:00\n",
        "Steps Out, Expected Number of Bikes,  True Expected Number of Bikes, MSE"
       ]
      },
      {
       "output_type": "stream",
       "stream": "stdout",
       "text": [
        "\n",
        "0,nan,4,nan"
       ]
      },
      {
       "output_type": "stream",
       "stream": "stdout",
       "text": [
        "\n",
        "1,nan,4,nan"
       ]
      },
      {
       "output_type": "stream",
       "stream": "stdout",
       "text": [
        "\n",
        "2,0.000000,2,4.000000"
       ]
      },
      {
       "output_type": "stream",
       "stream": "stdout",
       "text": [
        "\n",
        "Training on data up to 2013-06-16 17:30:00-04:00\n",
        "Steps Out, Expected Number of Bikes,  True Expected Number of Bikes, MSE"
       ]
      },
      {
       "output_type": "stream",
       "stream": "stdout",
       "text": [
        "\n",
        "0,nan,4,nan"
       ]
      },
      {
       "output_type": "stream",
       "stream": "stdout",
       "text": [
        "\n",
        "1,nan,4,nan"
       ]
      },
      {
       "output_type": "stream",
       "stream": "stdout",
       "text": [
        "\n",
        "2,0.000000,2,4.000000"
       ]
      },
      {
       "output_type": "stream",
       "stream": "stdout",
       "text": [
        "\n",
        "Training on data up to 2013-06-24 18:30:00-04:00\n",
        "Steps Out, Expected Number of Bikes,  True Expected Number of Bikes, MSE"
       ]
      },
      {
       "output_type": "stream",
       "stream": "stdout",
       "text": [
        "\n",
        "0,nan,4,nan"
       ]
      },
      {
       "output_type": "stream",
       "stream": "stdout",
       "text": [
        "\n",
        "1,nan,4,nan"
       ]
      },
      {
       "output_type": "stream",
       "stream": "stdout",
       "text": [
        "\n",
        "2,0.000000,2,4.000000"
       ]
      },
      {
       "output_type": "stream",
       "stream": "stdout",
       "text": [
        "\n",
        "Training on data up to 2013-07-02 19:30:00-04:00\n",
        "Steps Out, Expected Number of Bikes,  True Expected Number of Bikes, MSE"
       ]
      },
      {
       "output_type": "stream",
       "stream": "stdout",
       "text": [
        "\n",
        "0,nan,4,nan"
       ]
      },
      {
       "output_type": "stream",
       "stream": "stdout",
       "text": [
        "\n",
        "1,nan,4,nan"
       ]
      },
      {
       "output_type": "stream",
       "stream": "stdout",
       "text": [
        "\n",
        "2,0.000000,2,4.000000"
       ]
      },
      {
       "output_type": "stream",
       "stream": "stdout",
       "text": [
        "\n",
        "Training on data up to 2013-07-10 20:30:00-04:00\n",
        "Steps Out, Expected Number of Bikes,  True Expected Number of Bikes, MSE"
       ]
      },
      {
       "output_type": "stream",
       "stream": "stdout",
       "text": [
        "\n",
        "0,nan,4,nan"
       ]
      },
      {
       "output_type": "stream",
       "stream": "stdout",
       "text": [
        "\n",
        "1,nan,4,nan"
       ]
      },
      {
       "output_type": "stream",
       "stream": "stdout",
       "text": [
        "\n",
        "2,0.000000,2,4.000000"
       ]
      },
      {
       "output_type": "stream",
       "stream": "stdout",
       "text": [
        "\n",
        "Training on data up to 2013-07-18 21:30:00-04:00\n",
        "Steps Out, Expected Number of Bikes,  True Expected Number of Bikes, MSE"
       ]
      },
      {
       "output_type": "stream",
       "stream": "stdout",
       "text": [
        "\n",
        "0,nan,4,nan"
       ]
      },
      {
       "output_type": "stream",
       "stream": "stdout",
       "text": [
        "\n",
        "1,nan,4,nan"
       ]
      },
      {
       "output_type": "stream",
       "stream": "stdout",
       "text": [
        "\n",
        "2,0.000000,2,4.000000"
       ]
      },
      {
       "output_type": "stream",
       "stream": "stdout",
       "text": [
        "\n",
        "Training on data up to 2013-07-26 22:30:00-04:00\n",
        "Steps Out, Expected Number of Bikes,  True Expected Number of Bikes, MSE"
       ]
      },
      {
       "output_type": "stream",
       "stream": "stdout",
       "text": [
        "\n",
        "0,nan,4,nan"
       ]
      },
      {
       "output_type": "stream",
       "stream": "stdout",
       "text": [
        "\n",
        "1,nan,4,nan"
       ]
      },
      {
       "output_type": "stream",
       "stream": "stdout",
       "text": [
        "\n",
        "2,0.000000,2,4.000000"
       ]
      },
      {
       "output_type": "stream",
       "stream": "stdout",
       "text": [
        "\n",
        "Training on data up to 2013-08-03 23:30:00-04:00\n",
        "Steps Out, Expected Number of Bikes,  True Expected Number of Bikes, MSE"
       ]
      },
      {
       "output_type": "stream",
       "stream": "stdout",
       "text": [
        "\n",
        "0,6.284693,8,2.942278"
       ]
      },
      {
       "output_type": "stream",
       "stream": "stdout",
       "text": [
        "\n",
        "1,6.285288,8,2.940236"
       ]
      },
      {
       "output_type": "stream",
       "stream": "stdout",
       "text": [
        "\n",
        "2,6.265180,8,3.009601"
       ]
      },
      {
       "output_type": "stream",
       "stream": "stdout",
       "text": [
        "\n"
       ]
      }
     ],
     "prompt_number": 6
    },
    {
     "cell_type": "code",
     "collapsed": false,
     "input": [],
     "language": "python",
     "metadata": {},
     "outputs": [],
     "prompt_number": 22
    },
    {
     "cell_type": "code",
     "collapsed": false,
     "input": [],
     "language": "python",
     "metadata": {},
     "outputs": [],
     "prompt_number": 22
    },
    {
     "cell_type": "code",
     "collapsed": false,
     "input": [],
     "language": "python",
     "metadata": {},
     "outputs": []
    }
   ],
   "metadata": {}
  }
 ]
}