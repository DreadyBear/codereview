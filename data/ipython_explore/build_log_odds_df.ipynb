{
 "metadata": {
  "name": "build_log_odds_df"
 },
 "nbformat": 3,
 "nbformat_minor": 0,
 "worksheets": [
  {
   "cells": [
    {
     "cell_type": "code",
     "collapsed": false,
     "input": [
      "def build_log_odds_df(data):\n",
      "    import pandas as pd\n",
      "    from change_mat_binom import change_mat_binom\n",
      "    import numpy as np\n",
      "    import statsmodels.api as sm\n",
      "    from scipy import stats\n",
      "    from matplotlib import pyplot as plt\n",
      "    \n",
      "    # Calculate the percent full \n",
      "    #first convert to arrays so that Python doesn't do integer division\n",
      "    bikes_available=np.asarray(data[\"bikes_available\"], dtype=np.float32)\n",
      "    slots_available=np.asarray(data[\"slots_available\"], dtype=np.float32)\n",
      "    \n",
      "    # Fix for Convergence Issues Using MLE, Option 1: Zero Entries -> 0.01 or Option 2: All Entries += 0.01 (Similar Results)\n",
      "    bikes_available[bikes_available == 0] = 0.01\n",
      "    slots_available[slots_available == 0] = 0.01\n",
      "    \n",
      "    # Creating list of [success , failure] outcomes\n",
      "    bikes_slots_available=np.asarray(zip(bikes_available,slots_available))\n",
      "    \n",
      "    # create log odds ratio of bikes to slots\n",
      "    phat = bikes_available / (bikes_available + slots_available) \n",
      "    logodds = np.log(phat/(1-phat))\n",
      "    \n",
      "    logodds_lag3, outcome_ar3 = change_mat_binom(logodds, bikes_slots_available, 3)\n",
      "    logodds_lag3_df = pd.DataFrame(logodds_lag3, columns = [\"logodds_lag1\", \"logodds_lag2\", \"logodds_lag3\"])\n",
      "    #outcome_ar3_df = pd.DataFrame(outcome_ar3, columns = [\"log_bikes\",\"log_slots\"])\n",
      "    \n",
      "    # set the index in logodds_lag3 to match the time index in data\n",
      "    lagged_data = data.ix[3:,:]\n",
      "    logodds_lag3_df.index = lagged_data.index\n",
      "    #outcome_ar3_df.index = lagged_data.index\n",
      "\n",
      "    # add new lagged logodds to nonlagged predictor variables\n",
      "    pred_ar3 = pd.concat([data.ix[3:,:], logodds_lag3_df], axis=1)\n",
      "    #  pred_ar3 = pd.concat([data.ix[3:,:], logodds_lag3_df, outcome_ar3_df], axis=1)\n",
      "    # Add Constant to Exogenous Variables\n",
      "    pred_ar3_cons = sm.add_constant(pred_ar3, prepend=False)\n",
      "    #return new_data\n",
      "    return pred_ar3_cons, outcome_ar3"
     ],
     "language": "python",
     "metadata": {},
     "outputs": [],
     "prompt_number": 8
    },
    {
     "cell_type": "code",
     "collapsed": false,
     "input": [
      "def make_present_logodds_df(test_endog):\n",
      "    import numpy as np\n",
      "    \n",
      "    # remove logodds_lag3\n",
      "    colnames = set(test_endog.columns)\n",
      "    #colnames.remove(\"logodds_lag3\")\n",
      "    \n",
      "    test_endog_no_lag3 = test_endog.ix[:, colnames]\n",
      "    \n",
      "    # create logodds_lag0\n",
      "    # Calculate the percent full \n",
      "    #first convert to arrays so that Python doesn't do integer division\n",
      "    bikes_available=np.asarray(test_endog_no_lag3[\"bikes_available\"], dtype=np.float32)\n",
      "    slots_available=np.asarray(test_endog_no_lag3[\"slots_available\"], dtype=np.float32)\n",
      "    \n",
      "    # create log odds ratio of bikes to slots\n",
      "    phat = bikes_available / (bikes_available + slots_available) \n",
      "    logodds = np.log(phat/(1-phat))\n",
      "    \n",
      "    test_endog_no_lag3[\"logodds_lag0\"] = logodds\n",
      "    return test_endog_no_lag3\n"
     ],
     "language": "python",
     "metadata": {},
     "outputs": [],
     "prompt_number": 5
    },
    {
     "cell_type": "code",
     "collapsed": false,
     "input": [],
     "language": "python",
     "metadata": {},
     "outputs": [],
     "prompt_number": "*"
    },
    {
     "cell_type": "code",
     "collapsed": false,
     "input": [],
     "language": "python",
     "metadata": {},
     "outputs": [],
     "prompt_number": "*"
    },
    {
     "cell_type": "code",
     "collapsed": false,
     "input": [],
     "language": "python",
     "metadata": {},
     "outputs": [],
     "prompt_number": "*"
    },
    {
     "cell_type": "code",
     "collapsed": false,
     "input": [],
     "language": "python",
     "metadata": {},
     "outputs": [],
     "prompt_number": "*"
    },
    {
     "cell_type": "code",
     "collapsed": false,
     "input": [],
     "language": "python",
     "metadata": {},
     "outputs": []
    }
   ],
   "metadata": {}
  }
 ]
}