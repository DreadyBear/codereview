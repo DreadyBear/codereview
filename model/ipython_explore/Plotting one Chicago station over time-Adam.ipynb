{
 "metadata": {
  "name": "Plotting one Chicago station over time-Adam"
 },
 "nbformat": 3,
 "nbformat_minor": 0,
 "worksheets": [
  {
   "cells": [
    {
     "cell_type": "code",
     "collapsed": false,
     "input": [
      "import os\n",
      "import psycopg2\n",
      "import numpy as np\n",
      "import pandas as pd\n",
      "import matplotlib.pyplot as plt\n",
      "\n",
      "from matplotlib import font_manager as fm\n",
      "fm.FontEntry(fname = 'DejaVu Sans')\n",
      "rc('text', usetex=False)\n",
      "matplotlib.rcParams.update({'font.size': 14})"
     ],
     "language": "python",
     "metadata": {},
     "outputs": [],
     "prompt_number": 1
    },
    {
     "cell_type": "code",
     "collapsed": false,
     "input": [
      "# Ashland Ave & Augusta Blvd\n",
      "\n",
      "# Fetch all records for a single station (tfl_id == 5)\n",
      "conn = psycopg2.connect(\"dbname=\"+os.environ.get('dbname')+\" user=\"+os.environ.get('dbuser')+ \" host=\"+os.environ.get('dburl'))\n",
      "\n",
      "cur = conn.cursor()\n",
      "\n",
      "# Executes a SQL command\n",
      "# This SQL command selects all rows from the boston database where the station ID is 5\n",
      "cur.execute(\"SELECT * FROM bike_ind_chicago WHERE tfl_id = 30;\")\n",
      "\n",
      "# Fetches all rows in the table output of the SQL query. \n",
      "# Remember to assign to a variable because we can only use fetchall() once for each SQL query.\n",
      "chicago_30 = cur.fetchall()\n",
      "\n",
      "# Note that we cannot directly print boston_5. In order to view portions of it, we can use boston_5.head() [see below]\n"
     ],
     "language": "python",
     "metadata": {},
     "outputs": [],
     "prompt_number": 2
    },
    {
     "cell_type": "code",
     "collapsed": false,
     "input": [
      "# Converts python list of tuples containing data to a pandas dataframe, and renames the columns.\n",
      "# \n",
      "# Set timezone\n",
      "timezone = 'US/Central'\n",
      "\n",
      "# Import data and set index to be timestamp\n",
      "chicago_30_df = pd.DataFrame.from_records(chicago_30, columns = [\"station_id\", \"bikes_available\", \"spaces_available\", \"total_docks\", \"timestamp\"], index = [\"timestamp\"])\n",
      "\n",
      "# \n",
      "chicago_30_df.index = chicago_30_df.index.tz_localize('UTC').tz_convert(timezone)\n"
     ],
     "language": "python",
     "metadata": {},
     "outputs": [],
     "prompt_number": 3
    },
    {
     "cell_type": "code",
     "collapsed": false,
     "input": [
      "# Remove times at beginning before station is active\n",
      "chicago_30_df = chicago_30_df['6/28/2013':]"
     ],
     "language": "python",
     "metadata": {},
     "outputs": [],
     "prompt_number": 4
    },
    {
     "cell_type": "code",
     "collapsed": false,
     "input": [],
     "language": "python",
     "metadata": {},
     "outputs": [],
     "prompt_number": 24
    },
    {
     "cell_type": "code",
     "collapsed": false,
     "input": [
      "import matplotlib.dates as dates\n",
      "\n",
      "chicago_30_bucketed = chicago_30_df.resample(\"2MIN\")\n",
      "    \n",
      "# Group by minute value (i.e. how many minutes have occured since midnight)\n",
      "chicago_30_annual_groups = chicago_30_bucketed.groupby(chicago_30_bucketed.index.map(lambda t: 60*t.hour + t.minute))\n",
      "    \n",
      "# Take the mean over each minute-since-midnight group\n",
      "chicago_30_annual_averages = chicago_30_annual_groups.mean()\n",
      "chicago_30_annual_std = chicago_30_annual_groups[\"bikes_available\"].std()\n",
      "    \n",
      "# Bucket our observations into two minute intervals\n",
      "# We need to do this because historical data is sampled every other minute while new data is every minute.\n",
      "#boston_5_bucketed = boston_5_df.resample(\"2MIN\")\n",
      "\n",
      "# Group by minute value (i.e. how many minutes have occured since midnight)\n",
      "#boston_5_annual_groups = boston_5_df.groupby(boston_5_bucketed.index.map(lambda t: 60*t.hour + t.minute))\n",
      "\n",
      "# Take the mean over each minute-since-midnight group\n",
      "#boston_5_annual_averages = boston_5_annual_groups.mean()\n",
      "#boston_5_annual_std = boston_5_annual_groups[\"bikes_available\"].std()\n",
      "\n",
      "# Takes the converted minute value and displays it as a readable time\n",
      "def minute_into_hour(x):\n",
      "    if x % 60 in range(0,10):\n",
      "        return str(x // 60) + \":0\" + str(x % 60)\n",
      "    else:\n",
      "        return str(x // 60) + \":\" + str(x % 60)\n",
      "    \n",
      "times = chicago_30_annual_averages.index.map(minute_into_hour)\n",
      "times_std = chicago_30_annual_std.index.map(minute_into_hour)\n",
      "\n",
      "# Add these new time values into our dataframe\n",
      "chicago_30_annual_averages[\"timestamp\"] = times\n",
      "chicago_30_annual_averages[\"bikes_available_std\"] = chicago_30_annual_std\n",
      "#boston_5_annual_std[\"timestamp\"] = times_std\n",
      "\n",
      "\n",
      "# Plot the time against the number of bikes available, including the standard deviation\n",
      "fig = plt.figure()\n",
      "ax = fig.add_axes([0, 1, 1, 1], axisbg = '#d7e2ea')\n",
      "\n",
      "for child in ax.get_children():\n",
      "    if isinstance(child, matplotlib.spines.Spine):\n",
      "        child.set_alpha(0)\n",
      "    else:\n",
      "        continue\n",
      "\n",
      "t = pd.to_datetime(chicago_30_annual_averages['timestamp'])\n",
      "mu1 = chicago_30_annual_averages['bikes_available']\n",
      "sigma1 = chicago_30_annual_averages['bikes_available_std']\n",
      "\n",
      "#ax.plot(t, mu1, lw=2, label='mean population 1', color='red')\n",
      "ax.plot(t, mu1, lw = 3, alpha = .25)\n",
      "ax.fill_between(t, (mu1-sigma1).tolist(), (mu1+sigma1).tolist(), facecolor='red', alpha=0.5, lw = 0)\n",
      "ax.xaxis.set_major_formatter(dates.DateFormatter('%H:%M'))\n",
      "plt.xticks(rotation = 30)\n",
      "grid(which = 'major', lw = 2, linestyle = '--', color = 'w', alpha = .35)\n",
      "ax.tick_params(top = 'off', right = 'off', length = 4, width = 3, color = '#d7e2ea', direction = 'out')\n",
      "ax.set_xlabel(\"Time of Day\")\n",
      "ax.set_ylabel(\"Average Number of Bikes\")\n",
      "plt.show()\n",
      "#boston_5_annual_averages.plot(x = 'timestamp', y = 'bikes_available')\n"
     ],
     "language": "python",
     "metadata": {},
     "outputs": [],
     "prompt_number": "*"
    },
    {
     "cell_type": "code",
     "collapsed": false,
     "input": [
      "# When calling functions on dataframes, functions are appended to the end of the dataframe's name\n",
      "print boston_5_df.head()\n",
      "\n",
      "# This illustrates how to do selection on a dataframe:\n",
      "#### The result of this call is all snapshots of all stations where there were 7 available bikes\n",
      "boston_5_df[boston_5_df[\"bikes_available\"] == 7]\n",
      "\n",
      "# This returns the types of the previous call (to illustrate that the timestamp is interpreted as a datetime64[ns]\n",
      "boston_5_df[boston_5_df[\"bikes_available\"] == 7].dtypes"
     ],
     "language": "python",
     "metadata": {},
     "outputs": []
    },
    {
     "cell_type": "code",
     "collapsed": false,
     "input": [
      "# Indexes timestamp, pulls out hour, and places it in a numpy array\n",
      "#July 29th\n",
      "\"\"\"print boston_5_df.index\n",
      "jul_29 = pd.DatetimeIndex(boston_5_df[\"timestamp\"])\n",
      "\n",
      "hour = pd.DatetimeIndex(boston_5_df[\"timestamp\"]).hour\n",
      "# Same as above but for month\n",
      "month = pd.DatetimeIndex(boston_5_df[\"timestamp\"]).month\n",
      "# Same as above but for year\n",
      "year = pd.DatetimeIndex(boston_5_df[\"timestamp\"]).year\n",
      "\n",
      "\n",
      "print hour[0:11]\"\"\"\n",
      "\n",
      "# Converts date time for an individual element to something readable (in this case month)\n",
      "## Use iloc[n] to pull out the nth row from a dataframe\n",
      "#x = boston_5_df[\"timestamp\"].iloc[0]\n",
      "#pd.to_datetime(x).month\n",
      "\n",
      "# Use this method to convert individual values.\n",
      "#x = pd.to_datetime(boston_5_df[\"timestamp\"])\n",
      "#print [y.hour for y in x]\n",
      "#print boston_5_df[\"timestamp\"].iloc[0]"
     ],
     "language": "python",
     "metadata": {},
     "outputs": []
    },
    {
     "cell_type": "code",
     "collapsed": false,
     "input": [
      "ftype(hour)"
     ],
     "language": "python",
     "metadata": {},
     "outputs": []
    },
    {
     "cell_type": "code",
     "collapsed": false,
     "input": [
      "# Calculate the percent full \n",
      "#first convert to arrays so that Python doesn't do integer division\n",
      "bikes_available=np.asarray(boston_5_df[\"bikes_available\"], dtype=np.float32)\n",
      "slots_available=np.asarray(boston_5_df[\"slots_available\"], dtype=np.float32)\n",
      "pct_full = (bikes_available)/(bikes_available + slots_available)\n"
     ],
     "language": "python",
     "metadata": {},
     "outputs": []
    },
    {
     "cell_type": "code",
     "collapsed": false,
     "input": [
      "# create lagged version of percent full for use in determining correlation between time points\n",
      "# this method of figuring out correlation does not work because \"my data is TOO BIG\"\n",
      "# will try to accomplish this with statmodels package when we successfully install it\n",
      "pct_full_lag1 = pct_full[0:len(pct_full)-1]\n",
      "pct_full_lag0 = pct_full[1:len(pct_full)]"
     ],
     "language": "python",
     "metadata": {},
     "outputs": []
    },
    {
     "cell_type": "code",
     "collapsed": false,
     "input": [
      "import math\n",
      "\n",
      "# proof that the vector length is the problem- with a shorter vector, we do get a result\n",
      "for i in range(len(pct_full_lag0)):\n",
      "    if np.isnan(pct_full_lag0[i]):\n",
      "        pct_full_lag0[i] = 0\n",
      "       \n",
      "\n",
      "np.dot(pct_full_lag0, pct_full_lag0)\n",
      "\n"
     ],
     "language": "python",
     "metadata": {},
     "outputs": []
    },
    {
     "cell_type": "code",
     "collapsed": false,
     "input": [
      "\n",
      "beta = np.dot(pct_full_lag0, pct_full_lag1)/(np.dot(pct_full_lag0, pct_full_lag0))"
     ],
     "language": "python",
     "metadata": {},
     "outputs": []
    },
    {
     "cell_type": "code",
     "collapsed": false,
     "input": [
      "residuals = pct_full_lag0 - beta*pct_full_lag1\n",
      "beta"
     ],
     "language": "python",
     "metadata": {},
     "outputs": []
    },
    {
     "cell_type": "code",
     "collapsed": false,
     "input": [
      "import pylab\n",
      "pylab.plot(residuals)\n",
      "pylab.show\n"
     ],
     "language": "python",
     "metadata": {},
     "outputs": []
    },
    {
     "cell_type": "code",
     "collapsed": false,
     "input": [],
     "language": "python",
     "metadata": {},
     "outputs": []
    }
   ],
   "metadata": {}
  }
 ]
}