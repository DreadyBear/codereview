{
 "metadata": {
  "name": "Histogram of Changes"
 },
 "nbformat": 3,
 "nbformat_minor": 0,
 "worksheets": [
  {
   "cells": [
    {
     "cell_type": "code",
     "collapsed": false,
     "input": [
      "import numpy as np\n",
      "from scipy import stats\n",
      "from matplotlib import pyplot as plt\n",
      "\n",
      "import os\n",
      "import psycopg2\n",
      "import pandas as pd\n",
      "\n",
      "\n",
      "# Fetch all records for a single station (tfl_id == 50)\n",
      "conn = psycopg2.connect(\"dbname=\"+os.environ.get('dbname')+\" user=\"+os.environ.get('dbuser')+ \" host=\"+os.environ.get('dburl'))\n",
      "\n",
      "cur = conn.cursor()\n",
      "\n",
      "# Executes a SQL command\n",
      "# This SQL command selects all rows from the boston database where the station ID is 5\n",
      "cur.execute(\"SELECT * FROM bike_ind_boston WHERE tfl_id = 50;\")\n",
      "\n",
      "# Fetches all rows in the table output of the SQL query. \n",
      "# Remember to assign to a variable because we can only use fetchall() once for each SQL query.\n",
      "boston_5 = cur.fetchall()\n",
      "\n",
      "# Note that we cannot directly print boston_5. In order to view portions of it, we can use boston_5.head() [see below]"
     ],
     "language": "python",
     "metadata": {},
     "outputs": [],
     "prompt_number": 1
    },
    {
     "cell_type": "code",
     "collapsed": false,
     "input": [
      "# Converts python list of tuples containing data to a pandas dataframe, and renames the columns.\n",
      "# \n",
      "# Set timezone\n",
      "timezone = 'US/Eastern'\n",
      "\n",
      "# Import data and set index to be timestamp\n",
      "boston_5_df = pd.DataFrame.from_records(boston_5, columns = [\"station_id\", \"bikes_available\", \"slots_available\", \"timestamp\"], index = [\"timestamp\"])\n",
      "\n",
      "boston_5_df.index = boston_5_df.index.tz_localize('UTC').tz_convert(timezone)\n",
      "\n",
      "#put all data into 15 minute buckets, since some data was collected every 2 minutes and some every minute\n",
      "boston_5_bucketed = boston_5_df.resample('15MIN')\n",
      "\n",
      "# Drop rows that have missing observations for bikes_available or slots_available\n",
      "boston_5_bucketed = boston_5_bucketed[np.isfinite(boston_5_bucketed['bikes_available'])]\n",
      "np.savetxt(\"/mnt/data1/BikeShare/station_50_15bucketed.csv\", array(boston_5_bucketed[\"bikes_available\"]), delimiter = ',')"
     ],
     "language": "python",
     "metadata": {},
     "outputs": [],
     "prompt_number": 9
    },
    {
     "cell_type": "code",
     "collapsed": false,
     "input": [
      "bikes_difference = array(boston_5_bucketed[\"bikes_available\"])[1:]- array(boston_5_bucketed[\"bikes_available\"])[:-1] \n",
      "max_change = max(bikes_difference)\n",
      "min_change = min(bikes_difference)\n",
      "\n",
      "hist(bikes_difference, abs(max_change)+abs(min_change))\n"
     ],
     "language": "python",
     "metadata": {},
     "outputs": [
      {
       "output_type": "pyout",
       "prompt_number": 23,
       "text": [
        "(array([     3,      1,      2,      0,      5,      2,     20,     24,\n",
        "          144,    294,   1876,  10351, 318365,  10288,   1592,    271,\n",
        "          151,     56,     33,      9,     11,      1,      2,      2,\n",
        "            1,      2,      1]),\n",
        " array([-12., -11., -10.,  -9.,  -8.,  -7.,  -6.,  -5.,  -4.,  -3.,  -2.,\n",
        "        -1.,   0.,   1.,   2.,   3.,   4.,   5.,   6.,   7.,   8.,   9.,\n",
        "        10.,  11.,  12.,  13.,  14.,  15.]),\n",
        " <a list of 27 Patch objects>)"
       ]
      },
      {
       "output_type": "display_data",
       "png": "[encoded data removed]"
      }
     ],
     "prompt_number": 23
    },
    {
     "cell_type": "code",
     "collapsed": false,
     "input": [],
     "language": "python",
     "metadata": {},
     "outputs": [
      {
       "output_type": "pyout",
       "prompt_number": 14,
       "text": [
        "array([  0.,   0.,   0., ...,  11.,  11.,  11.])"
       ]
      }
     ],
     "prompt_number": 14
    },
    {
     "cell_type": "code",
     "collapsed": false,
     "input": [],
     "language": "python",
     "metadata": {},
     "outputs": [
      {
       "output_type": "pyout",
       "prompt_number": 15,
       "text": [
        "array([  0.,   0.,   0., ...,  11.,  11.,  11.])"
       ]
      }
     ],
     "prompt_number": 15
    },
    {
     "cell_type": "code",
     "collapsed": false,
     "input": [],
     "language": "python",
     "metadata": {},
     "outputs": []
    }
   ],
   "metadata": {}
  }
 ]
}