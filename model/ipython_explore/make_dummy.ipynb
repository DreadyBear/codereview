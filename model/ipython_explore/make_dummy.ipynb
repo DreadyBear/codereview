{
 "metadata": {
  "name": "make_dummy"
 },
 "nbformat": 3,
 "nbformat_minor": 0,
 "worksheets": [
  {
   "cells": [
    {
     "cell_type": "code",
     "collapsed": false,
     "input": [
      "def make_dummy_inner(column_names_list, data_frame, part_of_time, time_lag, ref_var_num = None, num_of_levels = None):\n",
      "    import patsy\n",
      "    from patsy.contrasts import Treatment\n",
      "    import pandas as pd\n",
      "    # Strip month information from original timestamp variable\n",
      "    exec \"time = pd.DatetimeIndex(data_frame.index).\" + part_of_time\n",
      "    \n",
      "    #drop first row because of lagged variable\n",
      "\n",
      "    if str(part_of_time) != \"weekday\":\n",
      "        # Create contrast matrix\n",
      "        levels = range(num_of_levels)\n",
      "        contrast = Treatment(reference=ref_var_num).code_without_intercept(levels)\n",
      "        # Encode dummy matrix\n",
      "        if str(part_of_time) == \"month\":\n",
      "            time_dummy = contrast.matrix[time-1, :] # This takes into account that month is coded 1 to 12\n",
      "        else:\n",
      "            time_dummy = contrast.matrix[time, :] # This holds for hour since 1 a.m. is coded 0\n",
      "        #time_dummy_lagged = time_dummy[time_lag:, :]\n",
      "        time_dummy_lagged = time_dummy[:, :]\n",
      "    # This j skips the column for the\" reference level in the contrast matrix\n",
      "        j = 0\n",
      "        for i in range(num_of_levels):\n",
      "            if i != ref_var_num:\n",
      "                data_frame[column_names_list[i]] = time_dummy_lagged[:,i-j]\n",
      "            else:\n",
      "                j = 1\n",
      "    # Generate weekday dummy variable\n",
      "    else:\n",
      "        weekday_dummy = []\n",
      "        #for i in range(time_lag,len(time)):\n",
      "        for i in range(0,len(time)):\n",
      "            if time[i] < 5:\n",
      "                weekday_dummy.append(1)\n",
      "            else:\n",
      "                weekday_dummy.append(0)\n",
      "        data_frame[\"weekday\"] = weekday_dummy\n",
      "    return data_frame"
     ],
     "language": "python",
     "metadata": {},
     "outputs": [],
     "prompt_number": 31
    },
    {
     "cell_type": "code",
     "collapsed": false,
     "input": [
      "def make_dummy(data_frame, part_of_time):\n",
      "    if part_of_time == \"hour\":\n",
      "        cat_df = make_dummy_inner(['0hr', '1hr', '2hr', '3hr', '4hr', '5hr', '6hr', '7hr', '8hr', '9hr', '10hr', '11hr', '12hr', '13hr', '14hr', '15hr', '16hr', '17hr', '18hr', '19hr', '20hr', '21hr', '22hr', '23hr'], data_frame, \"hour\", 3, 0, 24)\n",
      "    if part_of_time == \"weekday\":\n",
      "        cat_df = make_dummy_inner([\"weekday\"], data_frame, \"weekday\", 3)\n",
      "    return cat_df"
     ],
     "language": "python",
     "metadata": {},
     "outputs": [],
     "prompt_number": 20
    },
    {
     "cell_type": "code",
     "collapsed": false,
     "input": [],
     "language": "python",
     "metadata": {},
     "outputs": [],
     "prompt_number": "*"
    },
    {
     "cell_type": "code",
     "collapsed": false,
     "input": [
      "from fetch_station import fetch_station\n",
      "dc_17=fetch_station(\"Washington, D.C.\", 17, 15, 'max')"
     ],
     "language": "python",
     "metadata": {},
     "outputs": [],
     "prompt_number": 1
    },
    {
     "cell_type": "code",
     "collapsed": false,
     "input": [
      "columns = [\"bikes_available\", \"slots_available\", \"temperature\"]\n",
      "    \n",
      "data_trimmed = dc_17.ix[:,columns]"
     ],
     "language": "python",
     "metadata": {},
     "outputs": [],
     "prompt_number": 4
    },
    {
     "cell_type": "code",
     "collapsed": false,
     "input": [
      "\n",
      "data_trimmed"
     ],
     "language": "python",
     "metadata": {},
     "outputs": [
      {
       "html": [
        "<pre>\n",
        "&lt;class 'pandas.core.frame.DataFrame'&gt;\n",
        "DatetimeIndex: 78650 entries, 2010-10-06 12:30:00-04:00 to 2013-08-09 12:30:00-04:00\n",
        "Data columns (total 3 columns):\n",
        "bikes_available    78650  non-null values\n",
        "slots_available    78650  non-null values\n",
        "temperature        78650  non-null values\n",
        "dtypes: float64(3)\n",
        "</pre>"
       ],
       "output_type": "pyout",
       "prompt_number": 5,
       "text": [
        "<class 'pandas.core.frame.DataFrame'>\n",
        "DatetimeIndex: 78650 entries, 2010-10-06 12:30:00-04:00 to 2013-08-09 12:30:00-04:00\n",
        "Data columns (total 3 columns):\n",
        "bikes_available    78650  non-null values\n",
        "slots_available    78650  non-null values\n",
        "temperature        78650  non-null values\n",
        "dtypes: float64(3)"
       ]
      }
     ],
     "prompt_number": 5
    },
    {
     "cell_type": "code",
     "collapsed": false,
     "input": [
      "from build_log_odds_df import build_log_odds_df\n",
      "from build_log_odds_df import make_present_logodds_df"
     ],
     "language": "python",
     "metadata": {},
     "outputs": [],
     "prompt_number": 6
    },
    {
     "cell_type": "code",
     "collapsed": false,
     "input": [
      "df = build_log_odds_df(data_trimmed)"
     ],
     "language": "python",
     "metadata": {},
     "outputs": [],
     "prompt_number": 7
    },
    {
     "cell_type": "code",
     "collapsed": false,
     "input": [
      "df"
     ],
     "language": "python",
     "metadata": {},
     "outputs": [
      {
       "html": [
        "<pre>\n",
        "&lt;class 'pandas.core.frame.DataFrame'&gt;\n",
        "DatetimeIndex: 78647 entries, 2010-10-06 13:15:00-04:00 to 2013-08-09 12:30:00-04:00\n",
        "Data columns (total 9 columns):\n",
        "bikes_available    78647  non-null values\n",
        "slots_available    78647  non-null values\n",
        "temperature        78647  non-null values\n",
        "logodds_lag1       78647  non-null values\n",
        "logodds_lag2       78647  non-null values\n",
        "logodds_lag3       78647  non-null values\n",
        "log_bikes          78647  non-null values\n",
        "log_slots          78647  non-null values\n",
        "const              78647  non-null values\n",
        "dtypes: float32(5), float64(3), int64(1)\n",
        "</pre>"
       ],
       "output_type": "pyout",
       "prompt_number": 8,
       "text": [
        "<class 'pandas.core.frame.DataFrame'>\n",
        "DatetimeIndex: 78647 entries, 2010-10-06 13:15:00-04:00 to 2013-08-09 12:30:00-04:00\n",
        "Data columns (total 9 columns):\n",
        "bikes_available    78647  non-null values\n",
        "slots_available    78647  non-null values\n",
        "temperature        78647  non-null values\n",
        "logodds_lag1       78647  non-null values\n",
        "logodds_lag2       78647  non-null values\n",
        "logodds_lag3       78647  non-null values\n",
        "log_bikes          78647  non-null values\n",
        "log_slots          78647  non-null values\n",
        "const              78647  non-null values\n",
        "dtypes: float32(5), float64(3), int64(1)"
       ]
      }
     ],
     "prompt_number": 8
    },
    {
     "cell_type": "code",
     "collapsed": false,
     "input": [
      "y_columns = [\"log_bikes\",\"log_slots\"]\n",
      "X_columns = set(df.columns).remove(\"log_bikes\")\n",
      "    "
     ],
     "language": "python",
     "metadata": {},
     "outputs": [],
     "prompt_number": 14
    },
    {
     "cell_type": "code",
     "collapsed": false,
     "input": [
      "df.columns"
     ],
     "language": "python",
     "metadata": {},
     "outputs": [
      {
       "output_type": "pyout",
       "prompt_number": 11,
       "text": [
        "Index([u'bikes_available', u'slots_available', u'temperature', u'logodds_lag1', u'logodds_lag2', u'logodds_lag3', u'log_bikes', u'log_slots', u'const'], dtype=object)"
       ]
      }
     ],
     "prompt_number": 11
    }
   ],
   "metadata": {}
  }
 ]
}