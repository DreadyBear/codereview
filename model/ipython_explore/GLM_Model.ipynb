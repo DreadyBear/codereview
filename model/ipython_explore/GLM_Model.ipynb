{
 "metadata": {
  "name": "GLM_Model"
 },
 "nbformat": 3,
 "nbformat_minor": 0,
 "worksheets": [
  {
   "cells": [
    {
     "cell_type": "code",
     "collapsed": false,
     "input": [
      "import numpy as np\n",
      "import statsmodels.api as sm\n",
      "from scipy import stats\n",
      "from matplotlib import pyplot as plt\n",
      "import sklearn\n",
      "\n",
      "import os\n",
      "import psycopg2\n",
      "import pandas as pd\n",
      "from fetch_station import fetch_station\n",
      "\n",
      "# Fetch all records for a single station (tfl_id == 5)\n",
      "boston_5_bucketed = fetch_station('Boston',5,15, 'max')"
     ],
     "language": "python",
     "metadata": {},
     "outputs": [
      {
       "output_type": "stream",
       "stream": "stdout",
       "text": [
        "156\n"
       ]
      }
     ],
     "prompt_number": 1
    },
    {
     "cell_type": "code",
     "collapsed": false,
     "input": [
      "# Calculate the percent full \n",
      "#first convert to arrays so that Python doesn't do integer division\n",
      "bikes_available=np.asarray(boston_5_bucketed[\"bikes_available\"], dtype=np.float32)\n",
      "slots_available=np.asarray(boston_5_bucketed[\"slots_available\"], dtype=np.float32)\n",
      "\n",
      "# Fix for Convergence Issues Using MLE, Option 1: Zero Entries -> 0.01 or Option 2: All Entries += 0.01 (Similar Results)\n",
      "bikes_available[bikes_available == 0] = 0.01\n",
      "slots_available[slots_available == 0] = 0.01\n",
      "\n",
      "#bikes_available = bikes_available+0.01\n",
      "#slots_available = slots_available+0.01\n",
      "\n",
      "# Creating list of [success , failure] outcomes\n",
      "bikes_slots_available=np.asarray(zip(bikes_available,slots_available))\n",
      "\n",
      "# create log odds ratio of bikes to slots\n",
      "phat = bikes_available / (bikes_available + slots_available) \n",
      "logodds = np.log(phat/(1-phat))\n",
      "\n",
      "# Creating Lags of Bike and Slot Variables\n",
      "bikes_available_lag0 = bikes_available[1:]\n",
      "bikes_available_lag1 = bikes_available[0:len(bikes_available)-1]\n",
      "slots_available_lag1 = slots_available[0:len(slots_available)-1]\n",
      "bikes_slots_available_lag1 = bikes_slots_available[1:]\n",
      "\n",
      "# Calculated the lag-log-odds ratio \n",
      "phat_lag1 = (bikes_available_lag1) / (bikes_available_lag1+slots_available_lag1)\n",
      "#print \"phat_lag1\" + str(phat_lag1)\n",
      "#print len(phat_lag1)\n",
      "\n",
      "logodds_lag1 = np.log( phat_lag1 / (1-phat_lag1) )\n",
      "\n",
      "\n",
      "# Add Constant to Exogenous Variables\n",
      "logodds_lag1_cons = sm.add_constant(logodds_lag1, prepend=False)\n",
      "\n",
      "\n",
      "# Fit Binomial Regression.  Coefficients constant in time\n",
      "\n",
      "glm_binom = sm.GLM(bikes_slots_available_lag1, logodds_lag1_cons, family=sm.families.Binomial())\n",
      "\n",
      "res = glm_binom.fit()\n",
      "\n",
      "print res.summary()\n"
     ],
     "language": "python",
     "metadata": {},
     "outputs": [
      {
       "output_type": "stream",
       "stream": "stdout",
       "text": [
        "                           station_id  bikes_available  slots_available\n",
        "timestamp                                                              \n",
        "2011-07-28 13:00:00-04:00           5                8                8\n",
        "2011-07-28 13:15:00-04:00           5                9                7\n",
        "2011-07-28 13:30:00-04:00           5                8                7\n",
        "2011-07-28 13:45:00-04:00           5               11                7\n",
        "2011-07-28 14:00:00-04:00           5               13                3\n",
        "                 Generalized Linear Model Regression Results                  \n",
        "==============================================================================\n",
        "Dep. Variable:           ['y1', 'y2']   No. Observations:                48941\n",
        "Model:                            GLM   Df Residuals:                    48939\n",
        "Model Family:                Binomial   Df Model:                            1\n",
        "Link Function:                  logit   Scale:                             1.0\n",
        "Method:                          IRLS   Log-Likelihood:                -68093.\n",
        "Date:                Tue, 30 Jul 2013   Deviance:                       11616.\n",
        "Time:                        18:41:23   Pearson chi2:                 1.26e+05\n",
        "No. Iterations:                     7                                         \n",
        "==============================================================================\n",
        "                 coef    std err          t      P>|t|      [95.0% Conf. Int.]\n",
        "------------------------------------------------------------------------------\n",
        "x1             0.9381      0.003    311.824      0.000         0.932     0.944\n",
        "const         -0.0018      0.003     -0.638      0.524        -0.007     0.004\n",
        "=============================================================================="
       ]
      },
      {
       "output_type": "stream",
       "stream": "stdout",
       "text": [
        "\n"
       ]
      }
     ],
     "prompt_number": 15
    },
    {
     "cell_type": "code",
     "collapsed": false,
     "input": [
      "# This model includes month effects and one previous time point\n",
      "##### previous time point is very significant predictor; months are not\n",
      "\n",
      "import datetime\n",
      "import patsy\n",
      "from patsy.contrasts import Treatment\n",
      "\n",
      "# Set up data frame with one lagged time point and a constant\n",
      "data = pd.DataFrame(logodds_lag1_cons, columns = [\"logodds\", \"constant\"])\n",
      "\n",
      "# Strip month information from original timestamp variable\n",
      "month = pd.DatetimeIndex(boston_5_bucketed.index).month\n",
      "\n",
      "# Month as a factor variable\n",
      "# Method 1 - doesn't work\n",
      "# Month =pd.Factor(month[1:]-1, ['Jan', 'Feb', 'Mar', 'Apr', 'May', 'Jun', 'Jul', 'Aug', 'Sep', 'Oct', 'Nov', 'Dec'])\n",
      "\n",
      "# Method 2- doesn't work\n",
      "#month = pd.Categorical.from_array(month[1:])\n",
      "#print patsy.dmatrix('month')\n",
      "\n",
      "#method 3\n",
      "levels = [3,4,5,6,7,8,9,10,11,12]\n",
      "contrast = Treatment(reference=0).code_without_intercept(levels)\n",
      "print contrast.matrix\n",
      "month_dummy = contrast.matrix[month-3, :]\n",
      "\n",
      "#drop first row because of lagged variable\n",
      "month_dummy = month_dummy[1:, :]\n",
      "\n",
      "#feel free to try to make this work... bree ran out of patience and did it the ugly way below\n",
      "#month_dummy.dtype.names = ('Feb', 'Mar', 'Apr', 'May', 'Jun', 'Jul', 'Aug', 'Sep', 'Oct', 'Nov', 'Dec')\n",
      "#data['Feb', 'Mar', 'Apr', 'May', 'Jun', 'Jul', 'Aug', 'Sep', 'Oct', 'Nov', 'Dec'] = month_dummy[:,0:11]\n",
      "\n",
      "#add dummy variables to dataset, using March as a reference variable.  do not add Jan or Feb because there are no observations in these months\n",
      "data['jul'] = month_dummy[:,3]\n",
      "data['aug'] = month_dummy[:,4]\n",
      "data['sep'] = month_dummy[:,5]\n",
      "data['oct'] = month_dummy[:,6]\n",
      "data['nov'] = month_dummy[:,7]\n",
      "data['dec'] = month_dummy[:,8]\n",
      "data['apr'] = month_dummy[:,0]\n",
      "data['may'] = month_dummy[:,1]\n",
      "data['jun'] = month_dummy[:,2]\n",
      "\n",
      "print data[1:10]\n",
      "#run model\n",
      "glm_binom_2 = sm.GLM(bikes_slots_available_lag1, data, family=sm.families.Binomial())\n",
      "\n",
      "res = glm_binom_2.fit()\n",
      "\n",
      "print res.summary()\n"
     ],
     "language": "python",
     "metadata": {},
     "outputs": [
      {
       "output_type": "stream",
       "stream": "stdout",
       "text": [
        "[[ 0.  0.  0.  0.  0.  0.  0.  0.  0.]\n",
        " [ 1.  0.  0.  0.  0.  0.  0.  0.  0.]\n",
        " [ 0.  1.  0.  0.  0.  0.  0.  0.  0.]\n",
        " [ 0.  0.  1.  0.  0.  0.  0.  0.  0.]\n",
        " [ 0.  0.  0.  1.  0.  0.  0.  0.  0.]\n",
        " [ 0.  0.  0.  0.  1.  0.  0.  0.  0.]\n",
        " [ 0.  0.  0.  0.  0.  1.  0.  0.  0.]\n",
        " [ 0.  0.  0.  0.  0.  0.  1.  0.  0.]\n",
        " [ 0.  0.  0.  0.  0.  0.  0.  1.  0.]\n",
        " [ 0.  0.  0.  0.  0.  0.  0.  0.  1.]]\n",
        "    logodds  constant  jul  aug  sep  oct  nov  dec  apr  may  jun\n",
        "1  0.251314         1    1    0    0    0    0    0    0    0    0\n",
        "2  0.133532         1    1    0    0    0    0    0    0    0    0\n",
        "3  0.451985         1    1    0    0    0    0    0    0    0    0\n",
        "4  1.466337         1    1    0    0    0    0    0    0    0    0\n",
        "5  1.466337         1    1    0    0    0    0    0    0    0    0\n",
        "6  1.871802         1    1    0    0    0    0    0    0    0    0\n",
        "7  1.466337         1    1    0    0    0    0    0    0    0    0\n",
        "8  1.466337         1    1    0    0    0    0    0    0    0    0\n",
        "9  1.871802         1    1    0    0    0    0    0    0    0    0"
       ]
      },
      {
       "output_type": "stream",
       "stream": "stdout",
       "text": [
        "\n",
        "                 Generalized Linear Model Regression Results                  \n",
        "==============================================================================\n",
        "Dep. Variable:           ['y1', 'y2']   No. Observations:                48941\n",
        "Model:                            GLM   Df Residuals:                    48930\n",
        "Model Family:                Binomial   Df Model:                           10\n",
        "Link Function:                  logit   Scale:                             1.0\n",
        "Method:                          IRLS   Log-Likelihood:                -68090.\n",
        "Date:                Tue, 30 Jul 2013   Deviance:                       11611.\n",
        "Time:                        19:00:48   Pearson chi2:                 1.25e+05\n",
        "No. Iterations:                     8                                         \n",
        "==============================================================================\n",
        "                 coef    std err          t      P>|t|      [95.0% Conf. Int.]\n",
        "------------------------------------------------------------------------------\n",
        "logodds        0.9373      0.003    309.182      0.000         0.931     0.943\n",
        "constant      -0.0052      0.020     -0.252      0.801        -0.045     0.035\n",
        "jul            0.0028      0.022      0.127      0.899        -0.040     0.046\n",
        "aug            0.0077      0.022      0.350      0.726        -0.035     0.050\n",
        "sep            0.0074      0.022      0.336      0.737        -0.036     0.050\n",
        "oct            0.0082      0.022      0.374      0.708        -0.035     0.051\n",
        "nov            0.0049      0.022      0.225      0.822        -0.038     0.048\n",
        "dec           -0.0488      0.083     -0.589      0.556        -0.211     0.113\n",
        "apr           -0.0143      0.023     -0.622      0.534        -0.059     0.031\n",
        "may            0.0042      0.022      0.194      0.846        -0.039     0.047\n",
        "jun           -0.0005      0.022     -0.022      0.982        -0.043     0.042\n",
        "=============================================================================="
       ]
      },
      {
       "output_type": "stream",
       "stream": "stdout",
       "text": [
        "\n"
       ]
      }
     ],
     "prompt_number": 23
    },
    {
     "cell_type": "code",
     "collapsed": false,
     "input": [
      "\n",
      "# Extract time of day from original data in 1 hour buckets\n",
      "time_of_day = pd.DatetimeIndex(boston_5_bucketed.index).hour\n",
      "#logodds_lag_data.head()\n",
      "\n",
      "levels = list(range(0,24))\n",
      "contrast = Treatment(reference=0).code_without_intercept(levels)\n",
      "#print contrast.matrix\n",
      "time_dummy = contrast.matrix[time_of_day, :]\n",
      "time_dummy = time_dummy[1:, :]\n",
      "\n",
      "# Midnight is reference variable\n",
      "\n",
      "data['1AM'] = time_dummy[:,0]\n",
      "data['2AM'] = time_dummy[:,1]\n",
      "data['3AM'] = time_dummy[:,2]\n",
      "data['4AM'] = time_dummy[:,3]\n",
      "data['5AM'] = time_dummy[:,4]\n",
      "data['6AM'] = time_dummy[:,5]\n",
      "data['7AM'] = time_dummy[:,6]\n",
      "data['8AM'] = time_dummy[:,7]\n",
      "data['9AM'] = time_dummy[:,8]\n",
      "data['10AM'] = time_dummy[:,9]\n",
      "data['11AM'] = time_dummy[:,10]\n",
      "data['12PM'] = time_dummy[:,11]\n",
      "data['1PM'] = time_dummy[:,12]\n",
      "data['2PM'] = time_dummy[:,13]\n",
      "data['3PM'] = time_dummy[:,14]\n",
      "data['4PM'] = time_dummy[:,15]\n",
      "data['5PM'] = time_dummy[:,16]\n",
      "data['6PM'] = time_dummy[:,17]\n",
      "data['7PM'] = time_dummy[:,18]\n",
      "data['8PM'] = time_dummy[:,19]\n",
      "data['9PM'] = time_dummy[:,20]\n",
      "data['10PM'] = time_dummy[:,21]\n",
      "data['11PM'] = time_dummy[:,22]\n",
      "\n",
      "\n",
      "glm_binom_3 = sm.GLM(bikes_slots_available_lag1, data, family=sm.families.Binomial())\n",
      "\n",
      "res = glm_binom_3.fit()\n",
      "\n",
      "print res.summary()"
     ],
     "language": "python",
     "metadata": {},
     "outputs": [
      {
       "output_type": "stream",
       "stream": "stdout",
       "text": [
        "                 Generalized Linear Model Regression Results                  \n",
        "==============================================================================\n",
        "Dep. Variable:           ['y1', 'y2']   No. Observations:                48941\n",
        "Model:                            GLM   Df Residuals:                    48907\n",
        "Model Family:                Binomial   Df Model:                           33\n",
        "Link Function:                  logit   Scale:                             1.0\n",
        "Method:                          IRLS   Log-Likelihood:                -68069.\n",
        "Date:                Tue, 30 Jul 2013   Deviance:                       11569.\n",
        "Time:                        19:01:22   Pearson chi2:                 1.25e+05\n",
        "No. Iterations:                     8                                         \n",
        "==============================================================================\n",
        "                 coef    std err          t      P>|t|      [95.0% Conf. Int.]\n",
        "------------------------------------------------------------------------------\n",
        "logodds        0.9367      0.003    307.007      0.000         0.931     0.943\n",
        "constant       0.0022      0.025      0.090      0.928        -0.046     0.050\n",
        "jul            0.0028      0.022      0.126      0.899        -0.040     0.046\n",
        "aug            0.0079      0.022      0.362      0.717        -0.035     0.051\n",
        "sep            0.0076      0.022      0.346      0.729        -0.035     0.051\n",
        "oct            0.0085      0.022      0.388      0.698        -0.034     0.051\n",
        "nov            0.0050      0.022      0.227      0.821        -0.038     0.048\n",
        "dec           -0.0565      0.083     -0.682      0.495        -0.219     0.106\n",
        "apr           -0.0146      0.023     -0.637      0.524        -0.060     0.030\n",
        "may            0.0042      0.022      0.191      0.849        -0.039     0.047\n",
        "jun           -0.0012      0.022     -0.056      0.956        -0.044     0.042\n",
        "1AM           -0.0059      0.020     -0.301      0.763        -0.044     0.032\n",
        "2AM            0.0039      0.020      0.200      0.841        -0.034     0.042\n",
        "3AM            0.0049      0.020      0.250      0.802        -0.033     0.043\n",
        "4AM            0.0026      0.020      0.133      0.894        -0.036     0.041\n",
        "5AM           -0.0029      0.020     -0.147      0.883        -0.041     0.036\n",
        "6AM           -0.0050      0.020     -0.254      0.799        -0.044     0.034\n",
        "7AM           -0.0060      0.020     -0.307      0.759        -0.044     0.032\n",
        "8AM            0.0054      0.019      0.277      0.782        -0.033     0.044\n",
        "9AM            0.0059      0.019      0.304      0.761        -0.032     0.044\n",
        "10AM           0.0074      0.019      0.384      0.701        -0.030     0.045\n",
        "11AM           0.0284      0.019      1.476      0.140        -0.009     0.066\n",
        "12PM           0.0166      0.019      0.862      0.389        -0.021     0.054\n",
        "1PM           -0.0182      0.019     -0.948      0.343        -0.056     0.019\n",
        "2PM            0.0129      0.019      0.677      0.498        -0.025     0.050\n",
        "3PM           -0.0199      0.019     -1.039      0.299        -0.057     0.018\n",
        "4PM           -0.0425      0.019     -2.223      0.026        -0.080    -0.005\n",
        "5PM           -0.0440      0.019     -2.307      0.021        -0.081    -0.007\n",
        "6PM           -0.0231      0.019     -1.209      0.227        -0.060     0.014\n",
        "7PM           -0.0105      0.019     -0.549      0.583        -0.048     0.027\n",
        "8PM           -0.0309      0.019     -1.607      0.108        -0.069     0.007\n",
        "9PM           -0.0315      0.019     -1.629      0.103        -0.069     0.006\n",
        "10PM          -0.0161      0.019     -0.829      0.407        -0.054     0.022\n",
        "11PM          -0.0015      0.019     -0.078      0.938        -0.040     0.036\n",
        "==============================================================================\n"
       ]
      }
     ],
     "prompt_number": 24
    },
    {
     "cell_type": "code",
     "collapsed": false,
     "input": [
      "#model with seasonal effects instead of monthly effects\n",
      "#not working yet\n",
      "\n",
      "#reset data so that it does not include month\n",
      "#data = pd.DataFrame(logodds_lag1, columns = [\"logodds\", \"constant\"])\n",
      "season = []\n",
      "#create seasonal indicator variable\n",
      "for i in range(0,len(month)):\n",
      "    # winter\n",
      "    if month[i]==0 | month[i] == 1 | month[i]==11 :\n",
      "        try:\n",
      "            season.append(0)\n",
      "        except:\n",
      "            print i\n",
      "            break\n",
      "    # spring\n",
      "    elif month[i]==2 | month[i] == 3 | month[i] == 4:\n",
      "        try:\n",
      "            season.append(1)\n",
      "        except:\n",
      "            print i\n",
      "            break\n",
      "    # summer\n",
      "    elif month[i]==5 | month[i] == 6 | month[i] == 7:\n",
      "        try:\n",
      "            season.append(2)\n",
      "        except:\n",
      "            print \":(\" +str(i)\n",
      "            break\n",
      "    # fall\n",
      "    elif month[i]==8 | month[i] == 9 | month[i] == 10:\n",
      "        try:\n",
      "            season.append(3)\n",
      "        except:\n",
      "            print i\n",
      "            break\n",
      "\n",
      "#make dummy variables for season\n",
      "\n",
      "levels = [0,1,2,3]\n",
      "contrast = Treatment(reference=0).code_without_intercept(levels)\n",
      "#print contrast.matrix\n",
      "season_df = pd.DataFrame(season)\n",
      "season_dummy = contrast.matrix[season_df-1, :]\n",
      "\n",
      "#drop first row because of lagged variable\n",
      "season_dummy = season_dummy[1:, :]"
     ],
     "language": "python",
     "metadata": {},
     "outputs": [],
     "prompt_number": 33
    },
    {
     "cell_type": "code",
     "collapsed": false,
     "input": [
      "# incorporate day of week\n",
      "day_of_week = pd.DatetimeIndex(boston_5_bucketed.index).weekday\n",
      "\n",
      "levels = list(range(0,7))\n",
      "contrast = Treatment(reference=0).code_without_intercept(levels)\n",
      "\n",
      "day_dummy = contrast.matrix[day_of_week, :]\n",
      "day_dummy = day_dummy[1:, :]\n",
      "\n",
      "weekend_dummy = []\n",
      "\n",
      "for i in range(1,len(day_of_week)):\n",
      "    if day_of_week[i] == 5 or day_of_week[i] == 6:\n",
      "        weekend_dummy.append(1)\n",
      "    else:\n",
      "        weekend_dummy.append(0)\n",
      "\n",
      "# Monday is the reference variable\n",
      "data['TUES'] = day_dummy[:,0]\n",
      "data['WED'] = day_dummy[:,1]\n",
      "data['THUR'] = day_dummy[:,2]\n",
      "data['FRI'] = day_dummy[:,3]\n",
      "data['SAT'] = day_dummy[:,4]\n",
      "data['SUN'] = day_dummy[:,5]\n",
      "\n",
      "data['weekend'] = weekend_dummy\n",
      "\n",
      "glm_binom_3 = sm.GLM(bikes_slots_available_lag1, data, family=sm.families.Binomial())\n",
      "\n",
      "res = glm_binom_3.fit()\n",
      "\n",
      "print res.summary()\n",
      "\n",
      "\n"
     ],
     "language": "python",
     "metadata": {},
     "outputs": [
      {
       "output_type": "stream",
       "stream": "stdout",
       "text": [
        "48942\n",
        "48941\n",
        "[ 0.  0.  1.  0.  0.  0.]"
       ]
      },
      {
       "output_type": "stream",
       "stream": "stdout",
       "text": [
        "\n",
        "                 Generalized Linear Model Regression Results                  \n",
        "==============================================================================\n",
        "Dep. Variable:           ['y1', 'y2']   No. Observations:                48941\n",
        "Model:                            GLM   Df Residuals:                    48901\n",
        "Model Family:                Binomial   Df Model:                           39\n",
        "Link Function:                  logit   Scale:                             1.0\n",
        "Method:                          IRLS   Log-Likelihood:                -68068.\n",
        "Date:                Tue, 30 Jul 2013   Deviance:                       11566.\n",
        "Time:                        19:14:32   Pearson chi2:                 1.24e+05\n",
        "No. Iterations:                   101                                         \n",
        "==============================================================================\n",
        "                 coef    std err          t      P>|t|      [95.0% Conf. Int.]\n",
        "------------------------------------------------------------------------------\n",
        "logodds        0.9365      0.003    306.473      0.000         0.931     0.942\n",
        "constant      -0.0016      0.026     -0.063      0.950        -0.052     0.048\n",
        "jul            0.0027      0.022      0.125      0.901        -0.040     0.046\n",
        "aug            0.0084      0.022      0.383      0.702        -0.034     0.051\n",
        "sep            0.0075      0.022      0.340      0.734        -0.036     0.050\n",
        "oct            0.0092      0.022      0.418      0.676        -0.034     0.052\n",
        "nov            0.0054      0.022      0.246      0.806        -0.038     0.048\n",
        "dec           -0.0573      0.083     -0.690      0.490        -0.220     0.106\n",
        "apr           -0.0144      0.023     -0.630      0.529        -0.059     0.030\n",
        "may            0.0045      0.022      0.206      0.837        -0.038     0.047\n",
        "jun           -0.0014      0.022     -0.063      0.949        -0.044     0.041\n",
        "1AM           -0.0060      0.020     -0.305      0.761        -0.044     0.032\n",
        "2AM            0.0039      0.020      0.198      0.843        -0.034     0.042\n",
        "3AM            0.0049      0.020      0.249      0.803        -0.033     0.043\n",
        "4AM            0.0027      0.020      0.135      0.892        -0.036     0.041\n",
        "5AM           -0.0028      0.020     -0.143      0.886        -0.041     0.036\n",
        "6AM           -0.0049      0.020     -0.248      0.804        -0.043     0.034\n",
        "7AM           -0.0059      0.020     -0.299      0.765        -0.044     0.033\n",
        "8AM            0.0056      0.019      0.288      0.773        -0.033     0.044\n",
        "9AM            0.0062      0.019      0.320      0.749        -0.032     0.044\n",
        "10AM           0.0077      0.019      0.398      0.691        -0.030     0.045\n",
        "11AM           0.0287      0.019      1.489      0.137        -0.009     0.066\n",
        "12PM           0.0168      0.019      0.872      0.383        -0.021     0.055\n",
        "1PM           -0.0180      0.019     -0.941      0.347        -0.056     0.020\n",
        "2PM            0.0131      0.019      0.683      0.495        -0.024     0.051\n",
        "3PM           -0.0198      0.019     -1.034      0.301        -0.057     0.018\n",
        "4PM           -0.0423      0.019     -2.214      0.027        -0.080    -0.005\n",
        "5PM           -0.0438      0.019     -2.299      0.021        -0.081    -0.006\n",
        "6PM           -0.0229      0.019     -1.198      0.231        -0.060     0.015\n",
        "7PM           -0.0104      0.019     -0.542      0.588        -0.048     0.027\n",
        "8PM           -0.0308      0.019     -1.603      0.109        -0.068     0.007\n",
        "9PM           -0.0314      0.019     -1.626      0.104        -0.069     0.006\n",
        "10PM          -0.0160      0.019     -0.827      0.408        -0.054     0.022\n",
        "11PM          -0.0015      0.019     -0.078      0.938        -0.040     0.036\n",
        "weekend    -1.362e+10   2.79e+11     -0.049      0.961     -5.61e+11  5.33e+11\n",
        "TUES          -0.0011      0.010     -0.109      0.913        -0.021     0.019\n",
        "WED           -0.0016      0.010     -0.154      0.878        -0.022     0.019\n",
        "THUR           0.0044      0.010      0.425      0.671        -0.016     0.025\n",
        "FRI            0.0076      0.010      0.733      0.464        -0.013     0.028\n",
        "SAT         1.362e+10   2.79e+11      0.049      0.961     -5.33e+11  5.61e+11\n",
        "SUN         1.362e+10   2.79e+11      0.049      0.961     -5.33e+11  5.61e+11\n",
        "=============================================================================="
       ]
      },
      {
       "output_type": "stream",
       "stream": "stdout",
       "text": [
        "\n"
       ]
      }
     ],
     "prompt_number": 34
    },
    {
     "cell_type": "code",
     "collapsed": false,
     "input": [
      "#goal: calculate the monthly average number of bikes\n",
      "\n",
      "month_series= pd.Series(month)\n",
      "\n",
      "month_series.value_counts()"
     ],
     "language": "python",
     "metadata": {},
     "outputs": [
      {
       "output_type": "pyout",
       "prompt_number": 40,
       "text": [
        "5     5950\n",
        "8     5835\n",
        "10    5784\n",
        "6     5755\n",
        "9     5701\n",
        "11    5612\n",
        "4     5594\n",
        "7     5072\n",
        "3     2518\n",
        "12     863\n",
        "dtype: int64"
       ]
      }
     ],
     "prompt_number": 40
    },
    {
     "cell_type": "code",
     "collapsed": false,
     "input": [
      "# AR(3) model\n",
      "\n",
      "# function from energy team to create matrix of predictors\n",
      "def change_mat(ts, binom, d):\n",
      "    \"\"\"Recieve a time series and a markov delay period.\n",
      "       Return a matix of that design.\"\"\"\n",
      "    n=len(ts)\n",
      "    x = np.array(ts[(d-1):n-1])\n",
      "    for r in range(2,d+1):\n",
      "        b = np.array(ts[(d-r):(n-r)])\n",
      "        x = np.concatenate([x.reshape(len(x),-1),b.reshape(len(b),-1)],axis=1)\n",
      "    y = binom[d:]\n",
      "    return x, y\n",
      "\n",
      "pred_ar3, outcome_ar3 = change_mat(logodds, bikes_slots_available, 3)\n",
      "\n",
      "glm_ar3 = sm.GLM(outcome_ar3, pred_ar3, family=sm.families.Binomial())\n",
      "\n",
      "results = glm_ar3.fit()\n",
      "\n",
      "print results.summary()"
     ],
     "language": "python",
     "metadata": {},
     "outputs": [
      {
       "output_type": "stream",
       "stream": "stdout",
       "text": [
        "                 Generalized Linear Model Regression Results                  \n",
        "==============================================================================\n",
        "Dep. Variable:           ['y1', 'y2']   No. Observations:                48681\n",
        "Model:                            GLM   Df Residuals:                    48678\n",
        "Model Family:                Binomial   Df Model:                            2\n",
        "Link Function:                  logit   Scale:                             1.0\n",
        "Method:                          IRLS   Log-Likelihood:                -67540.\n",
        "Date:                Sun, 28 Jul 2013   Deviance:                       11283.\n",
        "Time:                        01:54:43   Pearson chi2:                 1.38e+05\n",
        "No. Iterations:                    22                                         \n",
        "==============================================================================\n",
        "                 coef    std err          t      P>|t|      [95.0% Conf. Int.]\n",
        "------------------------------------------------------------------------------\n",
        "x1             1.0267      0.008    135.548      0.000         1.012     1.041\n",
        "x2            -0.1038      0.009    -11.434      0.000        -0.122    -0.086\n",
        "x3             0.0184      0.006      2.843      0.004         0.006     0.031\n",
        "==============================================================================\n"
       ]
      }
     ],
     "prompt_number": 41
    },
    {
     "cell_type": "code",
     "collapsed": false,
     "input": [
      "# vary coefficients based on time of day\n",
      "# start with a model that has two sets of coefficients per day- one for midnight to noon, one for noon to midnight\n",
      "all_time_dummy = numpy.append(time_dummy,numpy.zeros([len(time_dummy),1]),1)\n",
      "\n",
      "# recode all_time_dummy to be 1 if the observations between midnight and 1 a.m. (this happens when all other columns of all_time_dummy sum to 0)\n",
      "for i in range(len(all_time_dummy[:,0])):\n",
      "    if np.sum(all_time_dummy[i,:]) == 0:\n",
      "        all_time_dummy[i,23] = 1\n",
      "\n",
      "# create matrix of zeros and ones to indicate which time period a point falls into\n",
      "morning = np.sum(all_time_dummy[:,0:8], axis=1)\n",
      "midday = np.sum(all_time_dummy[:,8:16], axis=1)\n",
      "evening = np.sum(all_time_dummy[:,16:23], axis=1)\n",
      "\n",
      "print morning[1:10]\n",
      "\n",
      "#for i in range(len(morning)):\n",
      " #   if (morning[i] == 0 and midday[i] == 0 and evening[i] == 0):\n",
      "  #      evening[i] = 1\n",
      "\n",
      "\n",
      "\n",
      "# multiply predictor variable by each column of created 0/1 matrix\n",
      "# want to do this for each lagged time variable- start with only one previous time point\n",
      "morn_logodds = pd.DataFrame(morning * logodds_lag1, columns = [\"I_morn\"])\n",
      "print morn_logodds.head()\n",
      "mid_logodds = pd.DataFrame(midday * logodds_lag1, columns= [\"I_mid\"])\n",
      "eve_logodds = pd.DataFrame(evening * logodds_lag1, columns = [\"I_eve\"])\n",
      "\n",
      "# remove original lagged variable, add new versions that are multiplied by time of day indicator\n",
      "colnames = set(data.columns)\n",
      "colnames.remove(\"logodds\")\n",
      "\n",
      "ar1_pred = data.ix[:, colnames]\n",
      "ar1_pred = pd.concat([ar1_pred, morn_logodds, mid_logodds, eve_logodds], axis=1)\n",
      "\n",
      "        \n",
      "# fit model\n",
      "glm_ar1_timevary = sm.GLM(bikes_slots_available_lag1, ar1_pred, family=sm.families.Binomial())\n",
      "\n",
      "results = glm_ar1_timevary.fit()\n",
      "\n",
      "print results.summary()\n",
      "\n",
      "# use result as predictor in model"
     ],
     "language": "python",
     "metadata": {},
     "outputs": [
      {
       "output_type": "stream",
       "stream": "stdout",
       "text": [
        "[ 0.  0.  0.  0.  0.  0.  0.  0.  0.]\n",
        "   I_morn\n",
        "0       0\n",
        "1       0\n",
        "2       0\n",
        "3       0\n",
        "4       0\n",
        "                 Generalized Linear Model Regression Results                  \n",
        "==============================================================================\n",
        "Dep. Variable:           ['y1', 'y2']   No. Observations:                48683\n",
        "Model:                            GLM   Df Residuals:                    48647\n",
        "Model Family:                Binomial   Df Model:                           35\n",
        "Link Function:                  logit   Scale:                             1.0\n",
        "Method:                          IRLS   Log-Likelihood:                -71918.\n",
        "Date:                Sun, 28 Jul 2013   Deviance:                       20028.\n",
        "Time:                        01:57:05   Pearson chi2:                 1.13e+05\n",
        "No. Iterations:                     8                                         \n",
        "==============================================================================\n",
        "                 coef    std err          t      P>|t|      [95.0% Conf. Int.]\n",
        "------------------------------------------------------------------------------\n",
        "11PM           0.2631      0.018     14.445      0.000         0.227     0.299\n",
        "constant      -0.3204      0.023    -13.781      0.000        -0.366    -0.275\n",
        "3AM            0.2778      0.019     15.011      0.000         0.242     0.314\n",
        "sep            0.0628      0.022      2.902      0.004         0.020     0.105\n",
        "apr         -1.89e-05      0.023     -0.001      0.999        -0.044     0.044\n",
        "2AM            0.2782      0.018     15.043      0.000         0.242     0.314\n",
        "12PM           0.2891      0.018     16.033      0.000         0.254     0.324\n",
        "7PM            0.2550      0.018     14.227      0.000         0.220     0.290\n",
        "5AM            0.2684      0.019     14.452      0.000         0.232     0.305\n",
        "3PM            0.2522      0.018     14.083      0.000         0.217     0.287\n",
        "6PM            0.2431      0.018     13.619      0.000         0.208     0.278\n",
        "4AM            0.2745      0.019     14.771      0.000         0.238     0.311\n",
        "2PM            0.2849      0.018     15.922      0.000         0.250     0.320\n",
        "7AM            0.2647      0.019     14.272      0.000         0.228     0.301\n",
        "5PM            0.2249      0.018     12.618      0.000         0.190     0.260\n",
        "aug            0.0713      0.022      3.307      0.001         0.029     0.114\n",
        "6AM            0.2655      0.019     14.276      0.000         0.229     0.302\n",
        "4PM            0.2274      0.018     12.716      0.000         0.192     0.262\n",
        "1PM            0.2554      0.018     14.247      0.000         0.220     0.291\n",
        "9AM            0.2760      0.018     15.259      0.000         0.241     0.311\n",
        "10AM           0.2766      0.018     15.315      0.000         0.241     0.312\n",
        "8AM            0.2772      0.018     15.075      0.000         0.241     0.313\n",
        "11AM           0.2985      0.018     16.545      0.000         0.263     0.334\n",
        "oct            0.0639      0.022      2.958      0.003         0.022     0.106\n",
        "9PM            0.2334      0.018     12.873      0.000         0.198     0.269\n",
        "may            0.0655      0.022      3.037      0.002         0.023     0.108\n",
        "jun            0.0551      0.022      2.555      0.011         0.013     0.097\n",
        "10PM           0.2480      0.018     13.616      0.000         0.212     0.284\n",
        "jul            0.0605      0.022      2.776      0.006         0.018     0.103\n",
        "nov            0.0675      0.022      3.119      0.002         0.025     0.110\n",
        "8PM            0.2324      0.018     12.908      0.000         0.197     0.268\n",
        "1AM            0.2693      0.018     14.581      0.000         0.233     0.306\n",
        "dec           -0.9285      0.074    -12.474      0.000        -1.074    -0.783\n",
        "I_morn         0.9748      0.005    183.127      0.000         0.964     0.985\n",
        "I_mid          0.9074      0.005    172.500      0.000         0.897     0.918\n",
        "I_eve          0.9138      0.006    162.733      0.000         0.903     0.925\n",
        "=============================================================================="
       ]
      },
      {
       "output_type": "stream",
       "stream": "stdout",
       "text": [
        "\n"
       ]
      }
     ],
     "prompt_number": 45
    },
    {
     "cell_type": "code",
     "collapsed": false,
     "input": [
      "#pickling to send stuff to Scott\n",
      "\n",
      "import cPickle\n",
      "cPickle.dump(phat_lag1, open(\"phatlag1.pkl\", \"wb\"))\n",
      "\n",
      "boston_5_bucketed_lag = boston_5_bucketed.ix[1:,:]\n",
      "timestamps_lag1 = pd.DatetimeIndex(boston_5_bucketed_lag.index)\n",
      "cPickle.dump(timestamps_lag1, open(\"timestampslag1.pkl\", \"wb\"))"
     ],
     "language": "python",
     "metadata": {},
     "outputs": [],
     "prompt_number": 42
    },
    {
     "cell_type": "code",
     "collapsed": false,
     "input": [
      "sum(ar1_pred.ix[:,\"morn_logodds\"], axis=1)"
     ],
     "language": "python",
     "metadata": {},
     "outputs": [
      {
       "ename": "TypeError",
       "evalue": "sum() got an unexpected keyword argument 'dtype'",
       "output_type": "pyerr",
       "traceback": [
        "\u001b[0;31m---------------------------------------------------------------------------\u001b[0m\n\u001b[0;31mTypeError\u001b[0m                                 Traceback (most recent call last)",
        "\u001b[0;32m<ipython-input-8-da563550b4f8>\u001b[0m in \u001b[0;36m<module>\u001b[0;34m()\u001b[0m\n\u001b[0;32m----> 1\u001b[0;31m \u001b[0msum\u001b[0m\u001b[0;34m(\u001b[0m\u001b[0mdata\u001b[0m\u001b[0;34m.\u001b[0m\u001b[0mix\u001b[0m\u001b[0;34m[\u001b[0m\u001b[0;34m:\u001b[0m\u001b[0;34m,\u001b[0m\u001b[0;34m'1AM'\u001b[0m\u001b[0;34m:\u001b[0m\u001b[0;34m'10AM'\u001b[0m\u001b[0;34m]\u001b[0m\u001b[0;34m,\u001b[0m \u001b[0maxis\u001b[0m\u001b[0;34m=\u001b[0m\u001b[0;36m1\u001b[0m\u001b[0;34m)\u001b[0m\u001b[0;34m\u001b[0m\u001b[0m\n\u001b[0m",
        "\u001b[0;32m/usr/lib/python2.7/dist-packages/numpy/core/fromnumeric.pyc\u001b[0m in \u001b[0;36msum\u001b[0;34m(a, axis, dtype, out, keepdims)\u001b[0m\n\u001b[1;32m   1510\u001b[0m                                 out=out, keepdims=keepdims)\n\u001b[1;32m   1511\u001b[0m         \u001b[0;31m# NOTE: Dropping the keepdims parameters here...\u001b[0m\u001b[0;34m\u001b[0m\u001b[0;34m\u001b[0m\u001b[0m\n\u001b[0;32m-> 1512\u001b[0;31m         \u001b[0;32mreturn\u001b[0m \u001b[0msum\u001b[0m\u001b[0;34m(\u001b[0m\u001b[0maxis\u001b[0m\u001b[0;34m=\u001b[0m\u001b[0maxis\u001b[0m\u001b[0;34m,\u001b[0m \u001b[0mdtype\u001b[0m\u001b[0;34m=\u001b[0m\u001b[0mdtype\u001b[0m\u001b[0;34m,\u001b[0m \u001b[0mout\u001b[0m\u001b[0;34m=\u001b[0m\u001b[0mout\u001b[0m\u001b[0;34m)\u001b[0m\u001b[0;34m\u001b[0m\u001b[0m\n\u001b[0m\u001b[1;32m   1513\u001b[0m     \u001b[0;32melse\u001b[0m\u001b[0;34m:\u001b[0m\u001b[0;34m\u001b[0m\u001b[0m\n\u001b[1;32m   1514\u001b[0m         return _methods._sum(a, axis=axis, dtype=dtype,\n",
        "\u001b[0;31mTypeError\u001b[0m: sum() got an unexpected keyword argument 'dtype'"
       ]
      }
     ],
     "prompt_number": 8
    },
    {
     "cell_type": "code",
     "collapsed": false,
     "input": [
      "x= np.asarray([1,2,3,4])\n",
      "y = np.asarray([1,2,3,4])\n",
      "x*y"
     ],
     "language": "python",
     "metadata": {},
     "outputs": [
      {
       "output_type": "pyout",
       "prompt_number": 17,
       "text": [
        "array([ 1,  4,  9, 16])"
       ]
      }
     ],
     "prompt_number": 17
    },
    {
     "cell_type": "code",
     "collapsed": false,
     "input": [
      "np.sum(time_dummy[:,0:12], axis=1))"
     ],
     "language": "python",
     "metadata": {},
     "outputs": [
      {
       "output_type": "pyout",
       "prompt_number": 34,
       "text": [
        "48589"
       ]
      }
     ],
     "prompt_number": 34
    },
    {
     "cell_type": "code",
     "collapsed": false,
     "input": [
      "type(time_dummy)"
     ],
     "language": "python",
     "metadata": {},
     "outputs": [
      {
       "output_type": "pyout",
       "prompt_number": 26,
       "text": [
        "numpy.ndarray"
       ]
      }
     ],
     "prompt_number": 26
    },
    {
     "cell_type": "code",
     "collapsed": false,
     "input": [
      "time_dummy[:,0:12]"
     ],
     "language": "python",
     "metadata": {},
     "outputs": [
      {
       "output_type": "pyout",
       "prompt_number": 29,
       "text": [
        "array([[ 0.,  0.,  0., ...,  0.,  0.,  0.],\n",
        "       [ 0.,  0.,  0., ...,  0.,  0.,  0.],\n",
        "       [ 0.,  0.,  0., ...,  0.,  0.,  0.],\n",
        "       ..., \n",
        "       [ 0.,  0.,  0., ...,  0.,  0.,  0.],\n",
        "       [ 0.,  0.,  0., ...,  0.,  0.,  0.],\n",
        "       [ 0.,  0.,  0., ...,  0.,  0.,  0.]])"
       ]
      }
     ],
     "prompt_number": 29
    },
    {
     "cell_type": "code",
     "collapsed": false,
     "input": [
      "ar1_pred.ix[:,\"morn_logodds\"]"
     ],
     "language": "python",
     "metadata": {},
     "outputs": [],
     "prompt_number": "*"
    },
    {
     "cell_type": "code",
     "collapsed": false,
     "input": [
      "data.ix[:,data.columns - data[\"logodds\"]]\n"
     ],
     "language": "python",
     "metadata": {},
     "outputs": [
      {
       "html": [
        "<pre>\n",
        "&lt;class 'pandas.core.frame.DataFrame'&gt;\n",
        "Int64Index: 48572 entries, 0 to 48571\n",
        "Data columns (total 34 columns):\n",
        "10AM        48572  non-null values\n",
        "10PM        48572  non-null values\n",
        "11AM        48572  non-null values\n",
        "11PM        48572  non-null values\n",
        "12PM        48572  non-null values\n",
        "1AM         48572  non-null values\n",
        "1PM         48572  non-null values\n",
        "2AM         48572  non-null values\n",
        "2PM         48572  non-null values\n",
        "3AM         48572  non-null values\n",
        "3PM         48572  non-null values\n",
        "4AM         48572  non-null values\n",
        "4PM         48572  non-null values\n",
        "5AM         48572  non-null values\n",
        "5PM         48572  non-null values\n",
        "6AM         48572  non-null values\n",
        "6PM         48572  non-null values\n",
        "7AM         48572  non-null values\n",
        "7PM         48572  non-null values\n",
        "8AM         48572  non-null values\n",
        "8PM         48572  non-null values\n",
        "9AM         48572  non-null values\n",
        "9PM         48572  non-null values\n",
        "apr         48572  non-null values\n",
        "aug         48572  non-null values\n",
        "constant    48572  non-null values\n",
        "dec         48572  non-null values\n",
        "jul         48572  non-null values\n",
        "jun         48572  non-null values\n",
        "logodds     48572  non-null values\n",
        "may         48572  non-null values\n",
        "nov         48572  non-null values\n",
        "oct         48572  non-null values\n",
        "sep         48572  non-null values\n",
        "dtypes: float64(34)\n",
        "</pre>"
       ],
       "output_type": "pyout",
       "prompt_number": 21,
       "text": [
        "<class 'pandas.core.frame.DataFrame'>\n",
        "Int64Index: 48572 entries, 0 to 48571\n",
        "Data columns (total 34 columns):\n",
        "10AM        48572  non-null values\n",
        "10PM        48572  non-null values\n",
        "11AM        48572  non-null values\n",
        "11PM        48572  non-null values\n",
        "12PM        48572  non-null values\n",
        "1AM         48572  non-null values\n",
        "1PM         48572  non-null values\n",
        "2AM         48572  non-null values\n",
        "2PM         48572  non-null values\n",
        "3AM         48572  non-null values\n",
        "3PM         48572  non-null values\n",
        "4AM         48572  non-null values\n",
        "4PM         48572  non-null values\n",
        "5AM         48572  non-null values\n",
        "5PM         48572  non-null values\n",
        "6AM         48572  non-null values\n",
        "6PM         48572  non-null values\n",
        "7AM         48572  non-null values\n",
        "7PM         48572  non-null values\n",
        "8AM         48572  non-null values\n",
        "8PM         48572  non-null values\n",
        "9AM         48572  non-null values\n",
        "9PM         48572  non-null values\n",
        "apr         48572  non-null values\n",
        "aug         48572  non-null values\n",
        "constant    48572  non-null values\n",
        "dec         48572  non-null values\n",
        "jul         48572  non-null values\n",
        "jun         48572  non-null values\n",
        "logodds     48572  non-null values\n",
        "may         48572  non-null values\n",
        "nov         48572  non-null values\n",
        "oct         48572  non-null values\n",
        "sep         48572  non-null values\n",
        "dtypes: float64(34)"
       ]
      }
     ],
     "prompt_number": 21
    },
    {
     "cell_type": "code",
     "collapsed": false,
     "input": [
      "data.columns.remove(\"logodds\")"
     ],
     "language": "python",
     "metadata": {},
     "outputs": [
      {
       "ename": "AttributeError",
       "evalue": "'Index' object has no attribute 'remove'",
       "output_type": "pyerr",
       "traceback": [
        "\u001b[0;31m---------------------------------------------------------------------------\u001b[0m\n\u001b[0;31mAttributeError\u001b[0m                            Traceback (most recent call last)",
        "\u001b[0;32m<ipython-input-22-bbb9d86d2c61>\u001b[0m in \u001b[0;36m<module>\u001b[0;34m()\u001b[0m\n\u001b[0;32m----> 1\u001b[0;31m \u001b[0mdata\u001b[0m\u001b[0;34m.\u001b[0m\u001b[0mcolumns\u001b[0m\u001b[0;34m.\u001b[0m\u001b[0mremove\u001b[0m\u001b[0;34m(\u001b[0m\u001b[0;34m\"logodds\"\u001b[0m\u001b[0;34m)\u001b[0m\u001b[0;34m\u001b[0m\u001b[0m\n\u001b[0m",
        "\u001b[0;31mAttributeError\u001b[0m: 'Index' object has no attribute 'remove'"
       ]
      }
     ],
     "prompt_number": 22
    },
    {
     "cell_type": "code",
     "collapsed": false,
     "input": [
      "colnames = set(data.columns)\n",
      "colnames.remove(\"logodds\")\n",
      "colnames"
     ],
     "language": "python",
     "metadata": {},
     "outputs": [
      {
       "output_type": "pyout",
       "prompt_number": 25,
       "text": [
        "set(['11PM',\n",
        "     'constant',\n",
        "     '3AM',\n",
        "     'sep',\n",
        "     'apr',\n",
        "     '2AM',\n",
        "     '12PM',\n",
        "     '7PM',\n",
        "     '5AM',\n",
        "     '3PM',\n",
        "     '6PM',\n",
        "     '4AM',\n",
        "     '2PM',\n",
        "     '7AM',\n",
        "     '5PM',\n",
        "     'aug',\n",
        "     '6AM',\n",
        "     '4PM',\n",
        "     '1PM',\n",
        "     '9AM',\n",
        "     '10AM',\n",
        "     '8AM',\n",
        "     '11AM',\n",
        "     'oct',\n",
        "     '9PM',\n",
        "     'may',\n",
        "     'jun',\n",
        "     '10PM',\n",
        "     'jul',\n",
        "     'nov',\n",
        "     '8PM',\n",
        "     '1AM',\n",
        "     'dec'])"
       ]
      }
     ],
     "prompt_number": 25
    },
    {
     "cell_type": "code",
     "collapsed": false,
     "input": [
      "time_dummy[:,23] = 0"
     ],
     "language": "python",
     "metadata": {},
     "outputs": [
      {
       "ename": "IndexError",
       "evalue": "index 23 is out of bounds for axis 1 with size 23",
       "output_type": "pyerr",
       "traceback": [
        "\u001b[0;31m---------------------------------------------------------------------------\u001b[0m\n\u001b[0;31mIndexError\u001b[0m                                Traceback (most recent call last)",
        "\u001b[0;32m<ipython-input-15-2075a291097b>\u001b[0m in \u001b[0;36m<module>\u001b[0;34m()\u001b[0m\n\u001b[0;32m----> 1\u001b[0;31m \u001b[0mtime_dummy\u001b[0m\u001b[0;34m[\u001b[0m\u001b[0;34m:\u001b[0m\u001b[0;34m,\u001b[0m\u001b[0;36m23\u001b[0m\u001b[0;34m]\u001b[0m \u001b[0;34m=\u001b[0m \u001b[0;36m0\u001b[0m\u001b[0;34m\u001b[0m\u001b[0m\n\u001b[0m",
        "\u001b[0;31mIndexError\u001b[0m: index 23 is out of bounds for axis 1 with size 23"
       ]
      }
     ],
     "prompt_number": 15
    },
    {
     "cell_type": "code",
     "collapsed": false,
     "input": [
      "type(time_dummy)"
     ],
     "language": "python",
     "metadata": {},
     "outputs": [
      {
       "output_type": "pyout",
       "prompt_number": 16,
       "text": [
        "numpy.ndarray"
       ]
      }
     ],
     "prompt_number": 16
    },
    {
     "cell_type": "code",
     "collapsed": false,
     "input": [],
     "language": "python",
     "metadata": {},
     "outputs": [],
     "prompt_number": 17
    },
    {
     "cell_type": "code",
     "collapsed": false,
     "input": [
      "len(all_time_dummy[0,:])"
     ],
     "language": "python",
     "metadata": {},
     "outputs": [
      {
       "output_type": "pyout",
       "prompt_number": 18,
       "text": [
        "24"
       ]
      }
     ],
     "prompt_number": 18
    },
    {
     "cell_type": "code",
     "collapsed": false,
     "input": [
      "print len(logodds_lag1)\n",
      "print logodds_lag1.shape"
     ],
     "language": "python",
     "metadata": {},
     "outputs": [
      {
       "output_type": "stream",
       "stream": "stdout",
       "text": [
        "48682\n",
        "(48682,)\n"
       ]
      }
     ],
     "prompt_number": 32
    },
    {
     "cell_type": "code",
     "collapsed": false,
     "input": [
      "print len(morning)"
     ],
     "language": "python",
     "metadata": {},
     "outputs": [
      {
       "output_type": "stream",
       "stream": "stdout",
       "text": [
        "48655\n"
       ]
      }
     ],
     "prompt_number": 29
    },
    {
     "cell_type": "code",
     "collapsed": false,
     "input": [
      "print len(midday)\n",
      "print morning.shape"
     ],
     "language": "python",
     "metadata": {},
     "outputs": [
      {
       "output_type": "stream",
       "stream": "stdout",
       "text": [
        "48655\n",
        "(48655,)\n"
       ]
      }
     ],
     "prompt_number": 33
    },
    {
     "cell_type": "code",
     "collapsed": false,
     "input": [
      "print len(evening)"
     ],
     "language": "python",
     "metadata": {},
     "outputs": [
      {
       "output_type": "stream",
       "stream": "stdout",
       "text": [
        "48655\n"
       ]
      }
     ],
     "prompt_number": 31
    },
    {
     "cell_type": "code",
     "collapsed": false,
     "input": [
      "a = np.asarray([[1,2,4,5],[2,2,2,2]])\n",
      "b = np.asarray([2,3,5,6])\n",
      "a*b"
     ],
     "language": "python",
     "metadata": {},
     "outputs": [
      {
       "output_type": "pyout",
       "prompt_number": 51,
       "text": [
        "array([[ 2,  6, 20, 30],\n",
        "       [ 4,  6, 10, 12]])"
       ]
      }
     ],
     "prompt_number": 51
    },
    {
     "cell_type": "code",
     "collapsed": false,
     "input": [],
     "language": "python",
     "metadata": {},
     "outputs": [],
     "prompt_number": 47
    },
    {
     "cell_type": "code",
     "collapsed": false,
     "input": [
      "a*b"
     ],
     "language": "python",
     "metadata": {},
     "outputs": [
      {
       "ename": "TypeError",
       "evalue": "can't multiply sequence by non-int of type 'list'",
       "output_type": "pyerr",
       "traceback": [
        "\u001b[0;31m---------------------------------------------------------------------------\u001b[0m\n\u001b[0;31mTypeError\u001b[0m                                 Traceback (most recent call last)",
        "\u001b[0;32m<ipython-input-48-8201c27d19b7>\u001b[0m in \u001b[0;36m<module>\u001b[0;34m()\u001b[0m\n\u001b[0;32m----> 1\u001b[0;31m \u001b[0ma\u001b[0m\u001b[0;34m*\u001b[0m\u001b[0mb\u001b[0m\u001b[0;34m\u001b[0m\u001b[0m\n\u001b[0m",
        "\u001b[0;31mTypeError\u001b[0m: can't multiply sequence by non-int of type 'list'"
       ]
      }
     ],
     "prompt_number": 48
    },
    {
     "cell_type": "code",
     "collapsed": false,
     "input": [],
     "language": "python",
     "metadata": {},
     "outputs": []
    }
   ],
   "metadata": {}
  }
 ]
}