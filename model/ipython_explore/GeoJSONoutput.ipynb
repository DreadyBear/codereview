{
 "metadata": {
  "name": "GeoJSONoutput"
 },
 "nbformat": 3,
 "nbformat_minor": 0,
 "worksheets": [
  {
   "cells": [
    {
     "cell_type": "code",
     "collapsed": false,
     "input": [
      "# Formatting the GeoJSON object to how the web app needs\n",
      "\n",
      "import json\n",
      "import psycopg2\n",
      "import os\n",
      "import operator \n",
      "import geojson\n",
      "\n",
      "\n",
      "#psycopg2 \n",
      "try:\n",
      "    conn = psycopg2.connect(\"dbname=\"+os.environ.get('dbname')+\" user=\"+os.environ.get('dbuser')+ \" host=\"+os.environ.get('dburl'))\n",
      "except:\n",
      "    print \"I am unable to connect to the database\"\n",
      "cur = conn.cursor()\n",
      "\n",
      "cur.execute(\"SELECT DISTINCT tfl_id FROM bike_ind_newyork LIMIT 5;\");\n",
      "\n",
      "stations = cur.fetchall()\n",
      "\n",
      "#stations = map(operator.itemgetter(0), stations)\n",
      "\n",
      "# Modify this for other cities to reflect new staions opening. \n",
      "cur.execute(\"\"\"SELECT COUNT(timestamp) FROM bike_ind_newyork WHERE tfl_id = 362;\"\"\")\n",
      "station_records_total = cur.fetchall()\n",
      "print \"query 1 done\"\n",
      "\n",
      "station_records_no_bikes = []\n",
      "station_records_no_spaces = []\n",
      "stations_metadata = []\n",
      "\n",
      "cur.execute(\n",
      "    \"prepare bikeszero as \"\n",
      "    \"SELECT COUNT(timestamp) FROM bike_ind_newyork WHERE tfl_id = $1 AND bikes = 0;\")\n",
      "for i in stations:\n",
      "    cur.execute(\"execute bikeszero (%s)\", i)\n",
      "    for record in cur:\n",
      "        station_records_no_bikes.append((record,i))\n",
      "print \"query 2 done\"\n",
      "\n",
      "cur.execute(\n",
      "    \"prepare spaceszero as \"\n",
      "    \"SELECT COUNT(timestamp) FROM bike_ind_newyork WHERE tfl_id = $1 AND spaces = 0;\")\n",
      "for i in stations:\n",
      "    cur.execute(\"execute spaceszero (%s)\", i)\n",
      "    for record in cur:\n",
      "        station_records_no_spaces.append((record,i))\n",
      "\n",
      "cur.execute(\n",
      "    \"prepare metadata as \"\n",
      "    \"SELECT * FROM metadata_newyork WHERE id = $1;\")\n",
      "for i in stations:\n",
      "    cur.execute(\"execute metadata (%s)\",i)\n",
      "    for record in cur:\n",
      "        stations_metadata.append((record,i))\n",
      "        \n",
      "print \"queries done\"\n",
      "\n",
      "print station_records_total\n",
      "print station_records_no_bikes\n",
      "print station_records_no_spaces\n",
      "print stations_metadata\n"
     ],
     "language": "python",
     "metadata": {},
     "outputs": [
      {
       "output_type": "stream",
       "stream": "stdout",
       "text": [
        "query 1 done\n",
        "query 2 done"
       ]
      },
      {
       "output_type": "stream",
       "stream": "stdout",
       "text": [
        "\n",
        "queries done"
       ]
      },
      {
       "output_type": "stream",
       "stream": "stdout",
       "text": [
        "\n",
        "[(31038L,)]\n",
        "[((431L,), (195,)), ((664L,), (251,)), ((2137L,), (120,)), ((393L,), (285,)), ((638L,), (483,))]\n",
        "[((599L,), (195,)), ((313L,), (251,)), ((737L,), (120,)), ((210L,), (285,)), ((28L,), (483,))]\n",
        "[((195, 'Liberty St & Broadway', 40.709056230000002, -74.010433820000003, 'In Service', False), (195,)), ((251, 'Mott St & Prince St', 40.72317958, -73.994800119999994, 'In Service', False), (251,)), ((120, 'Lexington Ave & Classon Ave', 40.686767930000002, -73.959281680000004, 'In Service', False), (120,)), ((285, 'Broadway & E 14 St', 40.734545670000003, -73.990741420000006, 'In Service', False), (285,)), ((483, 'E 12 St & 3 Ave', 40.732232719999999, -73.988899570000001, 'In Service', False), (483,))]\n"
       ]
      },
      {
       "output_type": "pyout",
       "prompt_number": 38,
       "text": [
        "[(((431L,), (195,)),\n",
        "  ((431L,), (195,)),\n",
        "  ((195,\n",
        "    'Liberty St & Broadwa