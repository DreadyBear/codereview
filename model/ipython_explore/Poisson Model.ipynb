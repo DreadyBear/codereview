{
 "metadata": {
  "name": "Poisson Model"
 },
 "nbformat": 3,
 "nbformat_minor": 0,
 "worksheets": [
  {
   "cells": [
    {
     "cell_type": "code",
     "collapsed": false,
     "input": [
      "import numpy as np\n",
      "import statsmodels.api as sm\n",
      "from scipy import stats\n",
      "from matplotlib import pyplot as plt\n",
      "\n",
      "import os\n",
      "import psycopg2\n",
      "import pandas as pd\n",
      "from fetch_station import fetch_station\n",
      "\n",
      "# Fetch all records for a single station (tfl_id == 5)\n",
      "data_bucketed = fetch_station('Washington, D.C.',17,2, 'max')\n",
      "\n",
      "# Calculate the percent full \n",
      "#first convert to arrays so that Python doesn't do integer division\n",
      "bikes_available=np.asarray(data_bucketed[\"bikes_available\"], dtype=np.float32)\n",
      "slots_available=np.asarray(data_bucketed[\"slots_available\"], dtype=np.float32)\n",
      "\n"
     ],
     "language": "python",
     "metadata": {},
     "outputs": [
      {
       "output_type": "stream",
       "stream": "stdout",
       "text": [
        "0\n"
       ]
      }
     ],
     "prompt_number": 2
    },
    {
     "cell_type": "code",
     "collapsed": false,
     "input": [
      "len(bikes_available)\n",
      "\n",
      "deltas = bikes_available[1:len(bikes_available)] - bikes_available[:(len(bikes_available)-1)]\n",
      "\n",
      "pos_obs = (deltas > 0) & (deltas <= 2)\n",
      "\n",
      "pos_only = bikes_available[pos_obs]\n",
      "pos_deltas = deltas[pos_obs]\n",
      "\n",
      "date_bucketed = pd.DatetimeIndex(data_bucketed.index).date\n",
      "\n",
      "total_days = data_bucketed.index[pos_obs]\n",
      "unique_days = np.unique(date_bucketed)\n",
      "\n",
      "print unique_days[:5]\n",
      "\n",
      "num_days = len(days)\n",
      "\n",
      "halfhr = [x / 2.0 for x in range(0, 49)]\n",
      "\n",
      "num_buckets = len(halfhr)\n",
      "\n",
      "buckets = np.zeros((num_buckets, num_days))\n",
      "\n",
      "# pos_delta[(pos_only$time > halfhr[i]) & (pos_only$time < halfhr[i+1]) & (pos_only$date == days[j])]\n",
      "\n",
      "for j in range(0, num_days):\n",
      "    for j in range(0,num_buckets):\n",
      "        buckets[i,j] = sum([0])\n",
      "\n"
     ],
     "language": "python",
     "metadata": {},
     "outputs": [
      {
       "ename": "NameError",
       "evalue": "name 'bikes_available' is not defined",
       "output_type": "pyerr",
       "traceback": [
        "\u001b[0;31m---------------------------------------------------------------------------\u001b[0m\n\u001b[0;31mNameError\u001b[0m                                 Traceback (most recent call last)",
        "\u001b[0;32m<ipython-input-2-af001d15870b>\u001b[0m in \u001b[0;36m<module>\u001b[0;34m()\u001b[0m\n\u001b[0;32m----> 1\u001b[0;31m \u001b[0mlen\u001b[0m\u001b[0;34m(\u001b[0m\u001b[0mbikes_available\u001b[0m\u001b[0;34m)\u001b[0m\u001b[0;34m\u001b[0m\u001b[0m\n\u001b[0m\u001b[1;32m      2\u001b[0m \u001b[0;34m\u001b[0m\u001b[0m\n\u001b[1;32m      3\u001b[0m \u001b[0mdeltas\u001b[0m \u001b[0;34m=\u001b[0m \u001b[0mbikes_available\u001b[0m\u001b[0;34m[\u001b[0m\u001b[0;36m1\u001b[0m\u001b[0;34m:\u001b[0m\u001b[0mlen\u001b[0m\u001b[0;34m(\u001b[0m\u001b[0mbikes_available\u001b[0m\u001b[0;34m)\u001b[0m\u001b[0;34m]\u001b[0m \u001b[0;34m-\u001b[0m \u001b[0mbikes_available\u001b[0m\u001b[0;34m[\u001b[0m\u001b[0;34m:\u001b[0m\u001b[0;34m(\u001b[0m\u001b[0mlen\u001b[0m\u001b[0;34m(\u001b[0m\u001b[0mbikes_available\u001b[0m\u001b[0;34m)\u001b[0m\u001b[0;34m-\u001b[0m\u001b[0;36m1\u001b[0m\u001b[0;34m)\u001b[0m\u001b[0;34m]\u001b[0m\u001b[0;34m\u001b[0m\u001b[0m\n\u001b[1;32m      4\u001b[0m \u001b[0;34m\u001b[0m\u001b[0m\n\u001b[1;32m      5\u001b[0m \u001b[0mpos_obs\u001b[0m \u001b[0;34m=\u001b[0m \u001b[0;34m(\u001b[0m\u001b[0mdeltas\u001b[0m \u001b[0;34m>\u001b[0m \u001b[0;36m0\u001b[0m\u001b[0;34m)\u001b[0m \u001b[0;34m&\u001b[0m \u001b[0;34m(\u001b[0m\u001b[0mdeltas\u001b[0m \u001b[0;34m<=\u001b[0m \u001b[0;36m2\u001b[0m\u001b[0;34m)\u001b[0m\u001b[0;34m\u001b[0m\u001b[0m\n",
        "\u001b[0;31mNameError\u001b[0m: name 'bikes_available' is not defined"
       ]
      }
     ],
     "prompt_number": 2
    },
    {
     "cell_type": "code",
     "collapsed": false,
     "input": [
      "print data_bucketed.head()"
     ],
     "language": "python",
     "metadata": {},
     "outputs": [
      {
       "output_type": "stream",
       "stream": "stdout",
       "text": [
        "                           station_id  bikes_available  slots_available\n",
        "timestamp                                                              \n",
        "2010-10-06 12:38:00-04:00          17                3               12\n",
        "2010-10-06 12:40:00-04:00          17                3               12\n",
        "2010-10-06 12:42:00-04:00          17                3               12\n",
        "2010-10-06 12:44:00-04:00          17                3               12\n",
        "2010-10-06 12:46:00-04:00          17                3               12\n"
       ]
      }
     ],
     "prompt_number": 5
    },
    {
     "cell_type": "code",
     "collapsed": false,
     "input": [
      "days = levels(as.factor(pos_only$date))\n",
      "num_days = length(days)\n",
      "\n",
      "halfhr = seq(0,24,.5)\n",
      "num_buckets = length(halfhr)\n",
      "\n",
      "buckets = matrix(nrow = num_buckets, ncol = num_days)\n",
      "\n",
      "\n",
      "\n",
      "### Take a Look at the Mean Checkout Plot ###\n",
      "\n",
      "mean_pos = vector(length = num_buckets)\n",
      "\n",
      "for(i in 1:num_buckets) {\n",
      "  mean_pos[i] = mean(buckets[i,])\n",
      "}\n",
      "\n",
      "\n",
      "### Model ###\n",
      "\n",
      "vector_buckets = as.vector(buckets)\n",
      "vector_halfhr = as.factor(rep(seq(1:49), num_days))\n",
      "model_month = vector(length = length(days))\n",
      "\n",
      "for(i in 1:length(days)) {\n",
      "  x = strptime(as.Date(days[i]), format = \"%Y-%m-%d\")\n",
      "  model_month[i] = x$mon\n",
      "}\n",
      "\n",
      "vector_month = as.factor(rep(model_month,each = num_buckets))\n",
      "\n",
      "\n",
      "f1 <- glm(vector_buckets~vector_halfhr+vector_month, family = poisson())\n",
      "\n",
      "summary(f1)\n",
      "\n"
     ],
     "language": "python",
     "metadata": {},
     "outputs": []
    }
   ],
   "metadata": {}
  }
 ]
}