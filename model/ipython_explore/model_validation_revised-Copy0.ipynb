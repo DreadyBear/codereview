{
 "metadata": {
  "name": "model_validation_revised-Copy0"
 },
 "nbformat": 3,
 "nbformat_minor": 0,
 "worksheets": [
  {
   "cells": [
    {
     "cell_type": "code",
     "collapsed": false,
     "input": [],
     "language": "python",
     "metadata": {},
     "outputs": [
      {
       "output_type": "pyout",
       "prompt_number": 2,
       "text": [
        "<function __main__.model_validation>"
       ]
      }
     ],
     "prompt_number": 2
    },
    {
     "cell_type": "code",
     "collapsed": false,
     "input": [
      "import pandas as pd\n",
      "from pandas.core.datetools import *\n",
      "import numpy as np\n",
      "from binomial_fit_function import binomial_fit\n",
      "\n",
      "def no_nan(lst):\n",
      "    new_lst = [x for x in lst if x!= nan]\n",
      "\n",
      "def model_validation(modelfit, n, data, startdate = None):\n",
      "    if startdate == None:\n",
      "        startdate = data.index[0]\n",
      "    else:\n",
      "        try:\n",
      "            startdate = data[startdate:].index[0]\n",
      "        except:\n",
      "            print \"That date is after the end of biketime. We'll choose the first date in our dataset.\"\n",
      "            startdate = data.index[0]\n",
      "            \n",
      "    enddate = startdate + DateOffset(years=1)\n",
      "    offset = DateOffset(months = 1)\n",
      "    MSE15 = []\n",
      "    MSE30 = []\n",
      "    MSE45 = []\n",
      "    MSE60 = []\n",
      "    for i in range(10000):\n",
      "        if i !=0:\n",
      "            enddate += offset\n",
      "            \n",
      "        try:\n",
      "            test_data = data[np.datetime64(enddate):].iloc[1:7]\n",
      "            true_test_data = data[np.datetime64(enddate):].iloc[1:7]\n",
      "        except:\n",
      "            break\n",
      "        else:\n",
      "            print \"Training on data up to %s\" % str(enddate)\n",
      "        \n",
      "        fit_data = data[np.datetime64(startdate):np.datetime64(enddate)]\n",
      "        model = modelfit(fit_data,n = None)\n",
      "        #print \"Steps Out, Expected Number of Bikes,  True Expected Number of Bikes, MSE\"\n",
      "        for i in range(3):\n",
      "            lst_prob,ev_bikes = model(test_data.iloc[i:(i+3)],n)\n",
      "            ev_slots = n-ev_bikes\n",
      "            test_data.iloc[i+3][\"bikes_available\"] = ev_bikes\n",
      "            test_data.iloc[i+3][\"slots_available\"] = ev_slots\n",
      "            true_bikes = true_test_data.iloc[i+3][\"bikes_available\"]\n",
      "            mse = pow((ev_bikes-true_bikes),2)\n",
      "            if i == 0: \n",
      "                MSE15.append(mse)\n",
      "\n",
      "            elif i == 1:\n",
      "                MSE30.append(mse)\n",
      "\n",
      "            elif i == 2: \n",
      "                MSE45.append(mse)\n",
      "\n",
      "            elif i ==3: \n",
      "               MSE60.append(mse)\n",
      "            print \"%d,%f,%d,%f\" % (i,ev_bikes,true_bikes,mse)\n",
      "    \n",
      "    \n",
      "    print \"Mean Squared Error at 15 minutes out %f\" % (sum(MSE15) / len(MSE15))\n",
      "    print \"Mean Squared Error at 30 minutes out %f\" % (sum(MSE30) / len(MSE30))\n",
      "    print \"Mean Squared Error at 45 minutes out %f\" % (sum(MSE45) / len(MSE45))\n",
      "    print \"Mean Squared Error at 60 minutes out %f\" % (sum(MSE60) / len(MSE60))"
     ],
     "language": "python",
     "metadata": {},
     "outputs": [],
     "prompt_number": 4
    },
    {
     "cell_type": "code",
     "collapsed": false,
     "input": [
      "from fetch_station import fetch_station\n",
      "dc_17=fetch_station(\"Washington, D.C.\", 17, 15, 'max')"
     ],
     "language": "python",
     "metadata": {},
     "outputs": [],
     "prompt_number": 2
    },
    {
     "cell_type": "code",
     "collapsed": false,
     "input": [
      "#test_model = binomial_fit(dc_17,25)"
     ],
     "language": "python",
     "metadata": {},
     "outputs": [],
     "prompt_number": 23
    },
    {
     "cell_type": "code",
     "collapsed": false,
     "input": [
      "#test_model(dc_17,25)"
     ],
     "language": "python",
     "metadata": {},
     "outputs": [],
     "prompt_number": 24
    },
    {
     "cell_type": "code",
     "collapsed": false,
     "input": [
      "model_validation(binomial_fit,25,dc_17)"
     ],
     "language": "python",
     "metadata": {},
     "outputs": [
      {
       "output_type": "stream",
       "stream": "stdout",
       "text": [
        "Training on data up to 2011-10-06 12:30:00-04:00\n",
        "0,2.751050,1,3.066174"
       ]
      },
      {
       "output_type": "stream",
       "stream": "stdout",
       "text": [
        "\n",
        "1,2.603494,1,2.571194"
       ]
      },
      {
       "output_type": "stream",
       "stream": "stdout",
       "text": [
        "\n",
        "2,2.713802,1,2.937117"
       ]
      },
      {
       "output_type": "stream",
       "stream": "stdout",
       "text": [
        "\n",
        "Training on data up to 2011-11-06 11:30:00-05:00\n",
        "0,nan,1,nan"
       ]
      },
      {
       "output_type": "stream",
       "stream": "stdout",
       "text": [
        "\n",
        "1,0.000000,1,1.000000"
       ]
      },
      {
       "output_type": "stream",
       "stream": "stdout",
       "text": [
        "\n",
        "2,1.591751,0,2.533670"
       ]
      },
      {
       "output_type": "stream",
       "stream": "stdout",
       "text": [
        "\n",
        "Training on data up to 2011-12-06 11:30:00-05:00\n",
        "0,4.612173,5,0.150409"
       ]
      },
      {
       "output_type": "stream",
       "stream": "stdout",
       "text": [
        "\n",
        "1,4.514108,4,0.264307"
       ]
      },
      {
       "output_type": "stream",
       "stream": "stdout",
       "text": [
        "\n",
        "2,3.850934,3,0.724089"
       ]
      },
      {
       "output_type": "stream",
       "stream": "stdout",
       "text": [
        "\n",
        "Training on data up to 2012-01-06 11:30:00-05:00\n",
        "0,0.000000,6,36.000000"
       ]
      },
      {
       "output_type": "stream",
       "stream": "stdout",
       "text": [
        "\n",
        "1,nan,6,nan"
       ]
      },
      {
       "output_type": "stream",
       "stream": "stdout",
       "text": [
        "\n",
        "2,0.000000,5,25.000000"
       ]
      },
      {
       "output_type": "stream",
       "stream": "stdout",
       "text": [
        "\n",
        "Training on data up to 2012-02-06 11:30:00-05:00\n",
        "0,5.735214,7,1.599683"
       ]
      },
      {
       "output_type": "stream",
       "stream": "stdout",
       "text": [
        "\n",
        "1,5.761833,7,1.533059"
       ]
      },
      {
       "output_type": "stream",
       "stream": "stdout",
       "text": [
        "\n",
        "2,5.736580,7,1.596231"
       ]
      },
      {
       "output_type": "stream",
       "stream": "stdout",
       "text": [
        "\n",
        "Training on data up to 2012-03-06 11:30:00-05:00\n",
        "0,4.316193,4,0.099978"
       ]
      },
      {
       "output_type": "stream",
       "stream": "stdout",
       "text": [
        "\n",
        "1,3.668876,3,0.447395"
       ]
      },
      {
       "output_type": "stream",
       "stream": "stdout",
       "text": [
        "\n",
        "2,2.930884,2,0.866546"
       ]
      },
      {
       "output_type": "stream",
       "stream": "stdout",
       "text": [
        "\n",
        "Training on data up to 2012-04-06 12:30:00-04:00\n",
        "0,nan,5,nan"
       ]
      },
      {
       "output_type": "stream",
       "stream": "stdout",
       "text": [
        "\n",
        "1,0.000000,5,25.000000"
       ]
      },
      {
       "output_type": "stream",
       "stream": "stdout",
       "text": [
        "\n",
        "2,4.259238,4,0.067204"
       ]
      },
      {
       "output_type": "stream",
       "stream": "stdout",
       "text": [
        "\n",
        "Training on data up to 2012-05-06 12:30:00-04:00\n",
        "0,4.154644,4,0.023915"
       ]
      },
      {
       "output_type": "stream",
       "stream": "stdout",
       "text": [
        "\n",
        "1,3.543211,19,238.912330"
       ]
      },
      {
       "output_type": "stream",
       "stream": "stdout",
       "text": [
        "\n",
        "2,9.216349,20,116.287132"
       ]
      },
      {
       "output_type": "stream",
       "stream": "stdout",
       "text": [
        "\n",
        "Training on data up to 2012-06-06 12:30:00-04:00\n",
        "0,nan,0,nan"
       ]
      },
      {
       "output_type": "stream",
       "stream": "stdout",
       "text": [
        "\n",
        "1,0.000000,0,0.000000"
       ]
      },
      {
       "output_type": "stream",
       "stream": "stdout",
       "text": [
        "\n",
        "2,nan,0,nan"
       ]
      },
      {
       "output_type": "stream",
       "stream": "stdout",
       "text": [
        "\n",
        "Training on data up to 2012-07-06 12:30:00-04:00\n",
        "0,nan,0,nan"
       ]
      },
      {
       "output_type": "stream",
       "stream": "stdout",
       "text": [
        "\n",
        "1,nan,0,nan"
       ]
      },
      {
       "output_type": "stream",
       "stream": "stdout",
       "text": [
        "\n",
        "2,nan,0,nan"
       ]
      },
      {
       "output_type": "stream",
       "stream": "stdout",
       "text": [
        "\n",
        "Training on data up to 2012-08-06 12:30:00-04:00\n",
        "0,1.314648,1,0.099004"
       ]
      },
      {
       "output_type": "stream",
       "stream": "stdout",
       "text": [
        "\n",
        "1,1.213906,0,1.473568"
       ]
      },
      {
       "output_type": "stream",
       "stream": "stdout",
       "text": [
        "\n",
        "2,0.000000,0,0.000000"
       ]
      },
      {
       "output_type": "stream",
       "stream": "stdout",
       "text": [
        "\n",
        "Training on data up to 2012-09-06 12:30:00-04:00\n",
        "0,6.881797,9,4.486786"
       ]
      },
      {
       "output_type": "stream",
       "stream": "stdout",
       "text": [
        "\n",
        "1,6.881797,9,4.486786"
       ]
      },
      {
       "output_type": "stream",
       "stream": "stdout",
       "text": [
        "\n",
        "2,6.881797,9,4.486786"
       ]
      },
      {
       "output_type": "stream",
       "stream": "stdout",
       "text": [
        "\n",
        "Training on data up to 2012-10-06 12:30:00-04:00\n",
        "0,4.945140,3,3.783568"
       ]
      },
      {
       "output_type": "stream",
       "stream": "stdout",
       "text": [
        "\n",
        "1,2.745872,4,1.572837"
       ]
      },
      {
       "output_type": "stream",
       "stream": "stdout",
       "text": [
        "\n",
        "2,3.685116,4,0.099152"
       ]
      },
      {
       "output_type": "stream",
       "stream": "stdout",
       "text": [
        "\n",
        "Training on data up to 2012-11-06 11:30:00-05:00\n",
        "0,3.605333,3,0.366428"
       ]
      },
      {
       "output_type": "stream",
       "stream": "stdout",
       "text": [
        "\n",
        "1,2.906050,3,0.008827"
       ]
      },
      {
       "output_type": "stream",
       "stream": "stdout",
       "text": [
        "\n",
        "2,2.810044,1,3.276261"
       ]
      },
      {
       "output_type": "stream",
       "stream": "stdout",
       "text": [
        "\n",
        "Training on data up to 2012-12-06 11:30:00-05:00\n",
        "0,2.736332,1,3.014848"
       ]
      },
      {
       "output_type": "stream",
       "stream": "stdout",
       "text": [
        "\n",
        "1,1.184275,0,1.402507"
       ]
      },
      {
       "output_type": "stream",
       "stream": "stdout",
       "text": [
        "\n",
        "2,0.000000,0,0.000000"
       ]
      },
      {
       "output_type": "stream",
       "stream": "stdout",
       "text": [
        "\n",
        "Training on data up to 2013-01-06 11:30:00-05:00\n",
        "0,nan,4,nan"
       ]
      },
      {
       "output_type": "stream",
       "stream": "stdout",
       "text": [
        "\n",
        "1,nan,4,nan"
       ]
      },
      {
       "output_type": "stream",
       "stream": "stdout",
       "text": [
        "\n",
        "2,0.000000,2,4.000000"
       ]
      },
      {
       "output_type": "stream",
       "stream": "stdout",
       "text": [
        "\n",
        "Training on data up to 2013-02-06 11:30:00-05:00\n",
        "0,nan,4,nan"
       ]
      },
      {
       "output_type": "stream",
       "stream": "stdout",
       "text": [
        "\n",
        "1,nan,4,nan"
       ]
      },
      {
       "output_type": "stream",
       "stream": "stdout",
       "text": [
        "\n",
        "2,0.000000,2,4.000000"
       ]
      },
      {
       "output_type": "stream",
       "stream": "stdout",
       "text": [
        "\n",
        "Training on data up to 2013-03-06 11:30:00-05:00\n",
        "0,nan,4,nan"
       ]
      },
      {
       "output_type": "stream",
       "stream": "stdout",
       "text": [
        "\n",
        "1,nan,4,nan"
       ]
      },
      {
       "output_type": "stream",
       "stream": "stdout",
       "text": [
        "\n",
        "2,0.000000,2,4.000000"
       ]
      },
      {
       "output_type": "stream",
       "stream": "stdout",
       "text": [
        "\n",
        "Training on data up to 2013-04-06 12:30:00-04:00\n",
        "0,nan,4,nan"
       ]
      },
      {
       "output_type": "stream",
       "stream": "stdout",
       "text": [
        "\n",
        "1,nan,4,nan"
       ]
      },
      {
       "output_type": "stream",
       "stream": "stdout",
       "text": [
        "\n",
        "2,0.000000,2,4.000000"
       ]
      },
      {
       "output_type": "stream",
       "stream": "stdout",
       "text": [
        "\n",
        "Training on data up to 2013-05-06 12:30:00-04:00\n",
        "0,nan,4,nan"
       ]
      },
      {
       "output_type": "stream",
       "stream": "stdout",
       "text": [
        "\n",
        "1,nan,4,nan"
       ]
      },
      {
       "output_type": "stream",
       "stream": "stdout",
       "text": [
        "\n",
        "2,0.000000,2,4.000000"
       ]
      },
      {
       "output_type": "stream",
       "stream": "stdout",
       "text": [
        "\n",
        "Training on data up to 2013-06-06 12:30:00-04:00\n",
        "0,nan,4,nan"
       ]
      },
      {
       "output_type": "stream",
       "stream": "stdout",
       "text": [
        "\n",
        "1,nan,4,nan"
       ]
      },
      {
       "output_type": "stream",
       "stream": "stdout",
       "text": [
        "\n",
        "2,0.000000,2,4.000000"
       ]
      },
      {
       "output_type": "stream",
       "stream": "stdout",
       "text": [
        "\n",
        "Training on data up to 2013-07-06 12:30:00-04:00\n",
        "0,nan,4,nan"
       ]
      },
      {
       "output_type": "stream",
       "stream": "stdout",
       "text": [
        "\n",
        "1,nan,4,nan"
       ]
      },
      {
       "output_type": "stream",
       "stream": "stdout",
       "text": [
        "\n",
        "2,0.000000,2,4.000000"
       ]
      },
      {
       "output_type": "stream",
       "stream": "stdout",
       "text": [
        "\n",
        "Training on data up to 2013-08-06 12:30:00-04:00\n",
        "0,1.192602,1,0.037096"
       ]
      },
      {
       "output_type": "stream",
       "stream": "stdout",
       "text": [
        "\n",
        "1,1.191323,3,3.271311"
       ]
      },
      {
       "output_type": "stream",
       "stream": "stdout",
       "text": [
        "\n",
        "2,2.829323,3,0.029131"
       ]
      },
      {
       "output_type": "stream",
       "stream": "stdout",
       "text": [
        "\n",
        "Mean Squared Error at 15 minutes out nan\n",
        "Mean Squared Error at 30 minutes out nan\n",
        "Mean Squared Error at 45 minutes out nan\n",
        "Mean Squared Error at 60 minutes out nan\n"
       ]
      }
     ],
     "prompt_number": 5
    },
    {
     "cell_type": "code",
     "collapsed": false,
     "input": [
      "# plot MSE results\n",
      "# calculate MSE in terms of empty/full indicator\n",
      "import pandas as pd\n",
      "from pandas.core.datetools import *\n",
      "import numpy as np\n",
      "from binomial_fit_function import binomial_fit\n",
      "\n",
      "def model_validation(modelfit, n, data, startdate = None):\n",
      "    if startdate == None:\n",
      "        startdate = data.index[0]\n",
      "    else:\n",
      "        try:\n",
      "            startdate = data[startdate:].index[0]\n",
      "        except:\n",
      "            print \"That date is after the end of biketime. We'll choose the first date in our dataset.\"\n",
      "            startdate = data.index[0]\n",
      "            \n",
      "    enddate = startdate + DateOffset(years=1)\n",
      "    offset = DateOffset(months = 1)\n",
      "    mse_sum = []\n",
      "    mse_n_elements = 0\n",
      "    mse_ind_sum = []\n",
      "    mse_ind_n_elements = []\n",
      "    for i in range(10):\n",
      "        if i !=0:\n",
      "            enddate += offset\n",
      "            \n",
      "        try:\n",
      "            test_data = data[np.datetime64(enddate):].iloc[1:7]\n",
      "            true_test_data = data[np.datetime64(enddate):].iloc[1:7]\n",
      "        except:\n",
      "            break\n",
      "        else:\n",
      "            print \"Training on data up to %s\" % str(enddate)\n",
      "        \n",
      "        fit_data = data[np.datetime64(startdate):np.datetime64(enddate)]\n",
      "        model = modelfit(fit_data,n = None)\n",
      "        #print \"Steps Out, Expected Number of Bikes,  True Expected Number of Bikes, MSE\"\n",
      "        for i in range(3):\n",
      "            lst_prob,ev_bikes = model(test_data.iloc[i:(i+3)],n)\n",
      "            ev_slots = n-ev_bikes\n",
      "            test_data.iloc[i+3][\"bikes_available\"] = ev_bikes\n",
      "            test_data.iloc[i+3][\"slots_available\"] = ev_slots\n",
      "            true_bikes = true_test_data.iloc[i+3][\"bikes_available\"]\n",
      "            mse = pow((ev_bikes-true_bikes),2)\n",
      "            if np.isfinite(mse):\n",
      "                mse_sum[i] += mse\n",
      "                mse_n_elements[i] +=1\n",
      "            \n",
      "            # calculate MSE in terms of empty/full indicator\n",
      "            p_empty_full = lst_prob[0] + lst_prob[n + 1]\n",
      "            empty_full_ind = 0\n",
      "            if (true_bikes == 0 or true_bikes == n):\n",
      "                empty_full_ind = 1\n",
      "            mse = pow((p_empty_full - empty_full_ind), 2)\n",
      "            if np.isfinite(mse):\n",
      "                mse_ind_sum[i] += mse\n",
      "                mse_ind_n_elements[i] += 1\n",
      "            \n",
      "            print \"%d,%f,%d,%f, %f, %f\" % (i,ev_bikes,true_bikes,mse, mse_sum, mse_n_elements)\n",
      "    #print \"Mean Squared Error at 15 minutes out %f\" % (sum(MSE15) / len(MSE15))\n",
      "    #print \"Mean Squared Error at 30 minutes out %f\" % (sum(MSE30) / len(MSE30))\n",
      "    #print \"Mean Squared Error at 45 minutes out %f\" % (sum(MSE45) / len(MSE45))\n",
      "    print \"Mean Squared Error at 60 minutes out %f\" % (sum(MSE60) / len(MSE60))"
     ],
     "language": "python",
     "metadata": {},
     "outputs": [],
     "prompt_number": 1
    },
    {
     "cell_type": "code",
     "collapsed": false,
     "input": [
      "dc_17.head()"
     ],
     "language": "python",
     "metadata": {},
     "outputs": [],
     "prompt_number": "*"
    },
    {
     "cell_type": "code",
     "collapsed": false,
     "input": [],
     "language": "python",
     "metadata": {},
     "outputs": []
    }
   ],
   "metadata": {}
  }
 ]
}