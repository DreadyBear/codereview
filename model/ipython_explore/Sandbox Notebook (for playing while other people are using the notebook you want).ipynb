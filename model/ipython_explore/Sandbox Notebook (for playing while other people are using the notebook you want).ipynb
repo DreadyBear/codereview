{
 "metadata": {
  "name": "Sandbox Notebook (for playing while other people are using the notebook you want)"
 },
 "nbformat": 3,
 "nbformat_minor": 0,
 "worksheets": [
  {
   "cells": [
    {
     "cell_type": "code",
     "collapsed": false,
     "input": [
      "import numpy as np\n",
      "import statsmodels.api as sm\n",
      "from scipy import stats\n",
      "from matplotlib import pyplot as plt\n",
      "\n",
      "import os\n",
      "import psycopg2\n",
      "import pandas as pd\n",
      "\n",
      "\n",
      "# Fetch all records for a single station (tfl_id == 5)\n",
      "conn = psycopg2.connect(\"dbname=\"+os.environ.get('dbname')+\" user=\"+os.environ.get('dbuser')+ \" host=\"+os.environ.get('dburl'))\n",
      "\n",
      "cur = conn.cursor()\n",
      "\n",
      "# Executes a SQL command\n",
      "# This SQL command selects all rows from the boston database where the station ID is 5\n",
      "cur.execute(\"SELECT * FROM bike_ind_boston WHERE tfl_id = 5;\")\n",
      "\n",
      "# Fetches all rows in the table output of the SQL query. \n",
      "# Remember to assign to a variable because we can only use fetchall() once for each SQL query.\n",
      "boston_5 = cur.fetchall()\n",
      "\n",
      "# Note that we cannot directly print boston_5. In order to view portions of it, we can use boston_5.head() [see below]"
     ],
     "language": "python",
     "metadata": {},
     "outputs": [],
     "prompt_number": 1
    },
    {
     "cell_type": "code",
     "collapsed": false,
     "input": [
      "# Converts python list of tuples containing data to a pandas dataframe, and renames the columns.\n",
      "# \n",
      "# Set timezone\n",
      "timezone = 'US/Eastern'\n",
      "\n",
      "# Import data and set index to be timestamp\n",
      "boston_5_df = pd.DataFrame.from_records(boston_5, columns = [\"station_id\", \"bikes_available\", \"slots_available\", \"timestamp\"], index = [\"timestamp\"])\n",
      "\n",
      "boston_5_df.index = boston_5_df.index.tz_localize('UTC').tz_convert(timezone)\n",
      "\n",
      "#put all data into 2 minute buckets, since some data was collected every 2 minutes and some every minute\n",
      "boston_5_bucketed = boston_5_df.resample('15MIN')\n",
      "\n",
      "# Group by minute value (i.e. how many minutes have occured since midnight)\n",
      "#boston_5_annual_groups = boston_5_bucketed.groupby(boston_5_bucketed.index.map(lambda t: 60*t.hour + t.minute))\n",
      "\n",
      "# Take the mean over each minute-since-midnight group\n",
      "#boston_5_annual_averages = boston_5_annual_groups.mean()\n",
      "\n",
      "print boston_5_bucketed.head()"
     ],
     "language": "python",
     "metadata": {},
     "outputs": [
      {
       "output_type": "stream",
       "stream": "stdout",
       "text": [
        "                           station_id  bikes_available  slots_available\n",
        "timestamp                                                              \n",
        "2011-07-28 07:45:00-04:00           5                0               15\n",
        "2011-07-28 08:00:00-04:00           5                0               15\n",
        "2011-07-28 08:15:00-04:00           5                0               15\n",
        "2011-07-28 08:30:00-04:00           5                0               15\n",
        "2011-07-28 08:45:00-04:00           5                0               15\n"
       ]
      }
     ],
     "prompt_number": 2
    },
    {
     "cell_type": "code",
     "collapsed": false,
     "input": [
      "test = boston_5_bucketed[np.isfinite(boston_5_bucketed['bikes_available'])]\n",
      "test = test[np.isfinite(test['slots_available'])]\n",
      "print boston_5_bucketed.shape\n",
      "print test.shape"
     ],
     "language": "python",
     "metadata": {},
     "outputs": [
      {
       "output_type": "stream",
       "stream": "stdout",
       "text": [
        "(69051, 3)\n",
        "(47759, 3)\n"
       ]
      }
     ],
     "prompt_number": 7
    },
    {
     "cell_type": "code",
     "collapsed": false,
     "input": [
      "# Calculate the percent full \n",
      "#first convert to arrays so that Python doesn't do integer division\n",
      "bikes_available=np.asarray(test[\"bikes_available\"], dtype=np.float32)\n",
      "print bikes_available[0:50]\n",
      "print np.isnan(np.min(bikes_available))\n",
      "slots_available=np.asarray(test[\"slots_available\"], dtype=np.float32)\n",
      "print slots_available[0:50]\n",
      "\n",
      "# Fix for Convergence Issues Using MLE, Option 1: Zero Entries -> 0.01 or Option 2: All Entries += 0.01 (Similar Results)\n",
      "bikes_available[bikes_available == 0] = 0.01\n",
      "slots_available[slots_available == 0] = 0.01\n",
      "\n",
      "#bikes_available = bikes_available+0.01\n",
      "#slots_available = slots_available+0.01\n",
      "\n",
      "# Creating list of [success , failure] outcomes\n",
      "bikes_slots_available=numpy.asarray(zip(bikes_available,slots_available))\n",
      "\n",
      "# Creating Lags of Bike and Slot Variables\n",
      "bikes_available_lag0 = bikes_available[1:]\n",
      "bikes_available_lag1 = bikes_available[0:len(bikes_available)-1]\n",
      "slots_available_lag1 = slots_available[0:len(slots_available)-1]\n",
      "bikes_slots_available = bikes_slots_available[1:]\n",
      "\n",
      "# Calculated the lag-log-odds ratio \n",
      "phat_lag1 = (bikes_available_lag1) / (bikes_available_lag1+slots_available_lag1)\n",
      "\n",
      "logodds_lag1 = log( phat_lag1 / (1-phat_lag1) )\n",
      "\n",
      "\n",
      "# Add Constant to Exogenous Variables\n",
      "logodds_lag1 = sm.add_constant(logodds_lag1, prepend=False)\n",
      "\n",
      "\n",
      "# Fit Binomial Regression.  Coefficients constant in time\n",
      "\n",
      "glm_binom = sm.GLM(bikes_slots_available, logodds_lag1, family=sm.families.Binomial())\n",
      "\n",
      "res = glm_binom.fit()\n",
      "\n",
      "print res.summary()\n"
     ],
     "language": "python",
     "metadata": {},
     "outputs": [
      {
       "output_type": "stream",
       "stream": "stdout",
       "text": [
        "[  0.           0.           0.           0.           0.           0.           0.\n",
        "   0.           0.           0.           0.           0.           0.           0.\n",
        "   0.           0.           0.           0.           0.           0.           0.\n",
        "   2.75         8.4285717    8.           9.          12.375       12.5714283\n",
        "  13.          12.71428585  12.75        13.          13.          13.\n",
        "  12.875       12.          12.          11.85714245  11.          11.5714283\n",
        "  12.          12.          12.          11.14285755  11.          11.          11.\n",
        "  11.          10.125       10.          10.        ]\n",
        "False\n",
        "[ 15.          15.          15.          15.          15.          15.          15.\n",
        "  15.          15.          15.          15.          15.          15.          15.\n",
        "  15.          15.          15.          15.          15.          15.          15.\n",
        "  12.25         6.57142878   7.           6.           2.625        2.42857146\n",
        "   2.           2.28571439   2.25         2.           2.           2.\n",
        "   2.125        3.           3.           3.14285707   4.           3.42857146\n",
        "   3.           3.           3.           3.85714293   4.           4.           4.\n",
        "   4.           4.875        5.           5.        ]\n",
        "                 Generalized Linear Model Regression Results                  \n",
        "==============================================================================\n",
        "Dep. Variable:           ['y1', 'y2']   No. Observations:                47758\n",
        "Model:                            GLM   Df Residuals:                    47756\n",
        "Model Family:                Binomial   Df Model:                            1\n",
        "Link Function:                  logit   Scale:                             1.0\n",
        "Method:                          IRLS   Log-Likelihood:                -64518.\n",
        "Date:                Tue, 16 Jul 2013   Deviance:                       9352.2\n",
        "Time:                        18:33:39   Pearson chi2:                 6.97e+04\n",
        "No. Iterations:                     7                                         \n",
        "==============================================================================\n",
        "                 coef    std err          t      P>|t|      [95.0% Conf. Int.]\n",
        "------------------------------------------------------------------------------\n",
        "x1             0.9531      0.003    309.675      0.000         0.947     0.959\n",
        "const         -0.0011      0.003     -0.393      0.694        -0.007     0.004\n",
        "=============================================================================="
       ]
      },
      {
       "output_type": "stream",
       "stream": "stdout",
       "text": [
        "\n"
       ]
      }
     ],
     "prompt_number": 5
    },
    {
     "cell_type": "code",
     "collapsed": false,
     "input": [
      "import pandas\n",
      "url = 'http://www.ats.ucla.edu/stat/data/hsb2.csv'\n",
      "hsb2 = pandas.read_table(url, delimiter=\",\")\n",
      "type(hsb2)"
     ],
     "language": "python",
     "metadata": {},
     "outputs": [
      {
       "output_type": "pyout",
       "prompt_number": 29,
       "text": [
        "pandas.core.frame.DataFrame"
       ]
      }
     ],
     "prompt_number": 29
    },
    {
     "cell_type": "code",
     "collapsed": false,
     "input": [],
     "language": "python",
     "metadata": {},
     "outputs": []
    }
   ],
   "metadata": {}
  }
 ]
}