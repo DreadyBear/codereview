{
 "metadata": {
  "name": "save_binomial_results"
 },
 "nbformat": 3,
 "nbformat_minor": 0,
 "worksheets": [
  {
   "cells": [
    {
     "cell_type": "code",
     "collapsed": false,
     "input": [
      "import patsy\n",
      "import statsmodels.api as sm\n",
      "from scipy import misc\n",
      "import numpy as np\n",
      "import pandas as pd\n",
      "import pickle\n",
      "from datetime import *\n",
      "import pytz\n",
      "from dateutil.relativedelta import *\n",
      "    \n",
      "from build_log_odds_df import build_log_odds_df\n",
      "from build_log_odds_df import make_present_logodds_df\n",
      "from make_dummy import make_dummy_inner\n",
      "from make_dummy import make_dummy\n",
      "from fetch_station import fetch_station\n"
     ],
     "language": "python",
     "metadata": {},
     "outputs": [],
     "prompt_number": 3
    },
    {
     "cell_type": "code",
     "collapsed": false,
     "input": [
      "def binomial_save_parameters(data,n):\n",
      "    import patsy\n",
      "    import statsmodels.api as sm\n",
      "    from scipy import misc\n",
      "    import numpy as np\n",
      "    \n",
      "    from build_log_odds_df import build_log_odds_df\n",
      "    from build_log_odds_df import make_present_logodds_df\n",
      "    from make_dummy import make_dummy_inner\n",
      "    from make_dummy import make_dummy\n",
      "    \n",
      "    # Make lag dataframe\n",
      "    columns = [\"bikes_available\", \"slots_available\", \"temperature\"]\n",
      "    data_trimmed = data.ix[:,columns]\n",
      "    X_raw, y = build_log_odds_df(data_trimmed) \n",
      "    \n",
      "    X_columns = [\"temperature\", \"logodds_lag1\", \"logodds_lag2\", \"logodds_lag3\", \"const\"] \n",
      "    X_no_outcome = X_raw.ix[:, X_columns]\n",
      "    \n",
      "    # build design matrix\n",
      "    X_with_hour = make_dummy(X_no_outcome, \"hour\")\n",
      "    X = make_dummy(X_with_hour, \"weekday\")\n",
      "    \n",
      "    #test_data = bike_data_bucketed.ix[100:104,:]\n",
      "    #present_logodds_df = make_present_logodds_df(test_log_hour_weekday_df)\n",
      "    # fit the model!\n",
      "    model = sm.GLM(y, X, family=sm.families.Binomial())\n",
      "    binomial_results = model.fit().params\n",
      "    return binomial_results\n",
      "    \n",
      "    "
     ],
     "language": "python",
     "metadata": {},
     "outputs": [],
     "prompt_number": 4
    },
    {
     "cell_type": "code",
     "collapsed": false,
     "input": [],
     "language": "python",
     "metadata": {},
     "outputs": [],
     "prompt_number": 4
    },
    {
     "cell_type": "code",
     "collapsed": false,
     "input": [
      "#save list of coefficients from model fit\n",
      "station_ids = ['17']\n",
      "city = \"Washington, D.C.\"\n",
      "def save_binomial_results():\n",
      "    for station_id in station_ids:\n",
      "        data = fetch_station(city, station_id, 15, 'max')\n",
      "        binomial_results = binomial_save_parameters(data, station_id)\n",
      "        file_out = open(\"/mnt/data1/BikeShare/pickles/binomial_results_%s.p\" % station_id, \"wb\")\n",
      "        pickle.dump(binomial_results, file_out)\n",
      "        file_out.close()\n",
      "    return binomial_results\n"
     ],
     "language": "python",
     "metadata": {},
     "outputs": [],
     "prompt_number": 5
    },
    {
     "cell_type": "code",
     "collapsed": false,
     "input": [
      "binomial_fit = save_binomial_results()"
     ],
     "language": "python",
     "metadata": {},
     "outputs": [],
     "prompt_number": 6
    },
    {
     "cell_type": "code",
     "collapsed": false,
     "input": [
      "def load_binomial_result(station_id):\n",
      "    return pickle.load(open(\"/mnt/data1/BikeShare/pickles/binomial_results_%s.p\" % station_id, \"rb\"))"
     ],
     "language": "python",
     "metadata": {},
     "outputs": [],
     "prompt_number": 10
    },
    {
     "cell_type": "code",
     "collapsed": false,
     "input": [
      "# model that uses coefficients and current state to predict current number of bikes\n",
      "# inputs to the model: temp, time lags 1-3, hour (0 to 23), weekday indicator (0 or 1)\n",
      "def predict_binomial(temp_input, lag1_input, lag2_input, lag3_input, n_predict, station_id):\n",
      "    prediction_datetime = datetime.now(pytz.timezone('US/Eastern'))\n",
      "    prediction_weekday = prediction_datetime.weekday\n",
      "    weekday_input = 1\n",
      "    if (prediction_weekday == 5 or prediction_weekday == 6):\n",
      "        weekday_input = 0\n",
      "    \n",
      "    params = load_binomial_result(station_id)\n",
      "    predictions = []\n",
      "    \n",
      "    for i in range(n_predict):\n",
      "        # set hour for prediction, since it may change as we predict out\n",
      "        hour_dummies = np.zeros(24)\n",
      "        hour_input = prediction_datetime.hour\n",
      "        hour_dummies[hour_input] = 1\n",
      "        predicted_point = params[\"temperature\"]*temp_input + params[\"logodds_lag1\"]*lag1_input + \\\n",
      "        params[\"logodds_lag2\"]*lag2_input + params[\"logodds_lag3\"]*lag3_input + params[\"const\"] + \\\n",
      "        np.sum(params[\"1hr\":\"23hr\"]*hour_dummies[1:24]) + params[\"weekday\"] * weekday_input\n",
      "        predictions.append(predicted_point)\n",
      "        \n",
      "        # adjust inputs to use predicted value\n",
      "        lag3_input = lag2_input\n",
      "        lag2_input = lag1_input\n",
      "        lag1_input = predicted_point\n",
      "        prediction_datetime += relativedelta(minutes=15)\n",
      "        hour_input = prediction_datetime.hour\n",
      "    return predictions\n",
      "    "
     ],
     "language": "python",
     "metadata": {},
     "outputs": [],
     "prompt_number": 11
    },
    {
     "cell_type": "code",
     "collapsed": false,
     "input": [],
     "language": "python",
     "metadata": {},
     "outputs": [],
     "prompt_number": 11
    },
    {
     "cell_type": "code",
     "collapsed": false,
     "input": [],
     "language": "python",
     "metadata": {},
     "outputs": [],
     "prompt_number": 11
    },
    {
     "cell_type": "code",
     "collapsed": false,
     "input": [
      "predict_binomial(58, 5, 6, 3, n_predict = 6, station_id = 17)"
     ],
     "language": "python",
     "metadata": {},
     "outputs": [
      {
       "output_type": "pyout",
       "prompt_number": 12,
       "text": [
        "[3.7833702310134867,\n",
        " 2.9421326077964465,\n",
        " 2.2803667541674666,\n",
        " 1.7373394679582332,\n",
        " 1.2295950401570561,\n",
        " 0.81670557052190829]"
       ]
      }
     ],
     "prompt_number": 12
    },
    {
     "cell_type": "code",
     "collapsed": false,
     "input": [],
     "language": "python",
     "metadata": {},
     "outputs": [],
     "prompt_number": 7
    },
    {
     "cell_type": "code",
     "collapsed": false,
     "input": [],
     "language": "python",
     "metadata": {},
     "outputs": [],
     "prompt_number": 41
    },
    {
     "cell_type": "code",
     "collapsed": false,
     "input": [],
     "language": "python",
     "metadata": {},
     "outputs": [],
     "prompt_number": 41
    },
    {
     "cell_type": "code",
     "collapsed": false,
     "input": [],
     "language": "python",
     "metadata": {},
     "outputs": []
    }
   ],
   "metadata": {}
  }
 ]
}