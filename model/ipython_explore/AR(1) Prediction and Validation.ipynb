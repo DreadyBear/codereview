{
 "metadata": {
  "name": "AR(1) Prediction and Validation"
 },
 "nbformat": 3,
 "nbformat_minor": 0,
 "worksheets": [
  {
   "cells": [
    {
     "cell_type": "code",
     "collapsed": false,
     "input": [
      "import numpy as np\n",
      "import statsmodels.api as sm\n",
      "from scipy import stats\n",
      "from matplotlib import pyplot as plt\n",
      "\n",
      "import os\n",
      "import psycopg2\n",
      "import pandas as pd\n",
      "\n",
      "\n",
      "# Fetch all records for a single station (tfl_id == 50)\n",
      "conn = psycopg2.connect(\"dbname=\"+os.environ.get('dbname')+\" user=\"+os.environ.get('dbuser')+ \" host=\"+os.environ.get('dburl'))\n",
      "\n",
      "cur = conn.cursor()\n",
      "\n",
      "# Executes a SQL command\n",
      "# This SQL command selects all rows from the boston database where the station ID is 5\n",
      "cur.execute(\"SELECT * FROM bike_ind_boston WHERE tfl_id = 50;\")\n",
      "\n",
      "# Fetches all rows in the table output of the SQL query. \n",
      "# Remember to assign to a variable because we can only use fetchall() once for each SQL query.\n",
      "boston_5 = cur.fetchall()\n",
      "\n",
      "# Note that we cannot directly print boston_5. In order to view portions of it, we can use boston_5.head() [see below]"
     ],
     "language": "python",
     "metadata": {},
     "outputs": [],
     "prompt_number": 79
    },
    {
     "cell_type": "code",
     "collapsed": false,
     "input": [
      "# Converts python list of tuples containing data to a pandas dataframe, and renames the columns.\n",
      "# \n",
      "# Set timezone\n",
      "timezone = 'US/Eastern'\n",
      "\n",
      "# Import data and set index to be timestamp\n",
      "boston_5_df = pd.DataFrame.from_records(boston_5, columns = [\"station_id\", \"bikes_available\", \"slots_available\", \"timestamp\"], index = [\"timestamp\"])\n",
      "\n",
      "boston_5_df.index = boston_5_df.index.tz_localize('UTC').tz_convert(timezone)\n",
      "\n",
      "#put all data into 15 minute buckets, since some data was collected every 2 minutes and some every minute\n",
      "boston_5_bucketed = boston_5_df.resample('1MIN')\n",
      "\n",
      "# Drop rows that have missing observations for bikes_available or slots_available\n",
      "boston_5_bucketed = boston_5_bucketed[np.isfinite(boston_5_bucketed['bikes_available'])]\n",
      "boston_5_bucketed = boston_5_bucketed[np.isfinite(boston_5_bucketed['slots_available'])]"
     ],
     "language": "python",
     "metadata": {},
     "outputs": [],
     "prompt_number": 80
    },
    {
     "cell_type": "code",
     "collapsed": false,
     "input": [
      "# Calculate the percent full \n",
      "#first convert to arrays so that Python doesn't do integer division\n",
      "bikes_available=np.asarray(boston_5_bucketed[\"bikes_available\"], dtype=np.float32) \n",
      "slots_available=np.asarray(boston_5_bucketed[\"slots_available\"], dtype=np.float32)\n",
      "\n",
      "# De-mean the process\n",
      "mean_bikes_available = sum(bikes_available) / len(bikes_available)\n",
      "bikes_available = bikes_available - mean_bikes_available\n",
      "\n",
      "\n",
      "# Fix for Convergence Issues Using MLE, Option 1: Zero Entries -> 0.01 or Option 2: All Entries += 0.01 (Similar Results)\n",
      "bikes_available[bikes_available == 0] = 0.01\n",
      "slots_available[slots_available == 0] = 0.01\n",
      "\n",
      "#bikes_available = bikes_available+0.01\n",
      "#slots_available = slots_available+0.01\n",
      "\n",
      "# Creating Lags of Bike and Slot Variables\n",
      "bikes_available_lag0 = bikes_available[1:]\n",
      "bikes_available_lag1 = bikes_available[0:len(bikes_available)-1]\n",
      "slots_available_lag1 = slots_available[0:len(slots_available)-1]\n",
      "\n",
      "\n",
      "# Fit Gaussian Regression.  Coefficients constant in time\n",
      "\n",
      "\n",
      "results = [0]\n",
      "\n",
      "for steps in range(1,6):\n",
      "    MSE = 0\n",
      "    for ref in range(1000,140000,100):\n",
      "        y_lag0 = bikes_available_lag0[0:ref]\n",
      "        y_lag1 = bikes_available_lag1[0:ref]\n",
      "        # y_lag1 = sm.add_constant(y_lag1, prepend=False) \n",
      "    \n",
      "        ARMA_1_0 = sm.GLM(y_lag0, y_lag1, family=sm.families.Gaussian())\n",
      "        res = ARMA_1_0.fit()\n",
      "\n",
      "        true_y = bikes_available_lag0[ref+steps]\n",
      "\n",
      "        # pred_y = res.params[0] * bikes_available_lag1[ref+1] + res.params[1]\n",
      "        pred_y = (res.params[0]**steps) * bikes_available_lag1[ref+1]\n",
      "\n",
      "        MSE = MSE + (true_y - pred_y)**2\n",
      "\n",
      "    MSE = MSE/len(range(1000,140000,100))\n",
      "\n",
      "    results.append(MSE)\n",
      "\n",
      "print results\n",
      "\n"
     ],
     "language": "python",
     "metadata": {},
     "outputs": [
      {
       "output_type": "stream",
       "stream": "stdout",
       "text": [
        "[0, 0.16379762511546755, 0.33923978992817938, 0.478548522150958, 0.66862806132609365, 0.82535714616221323]\n"
       ]
      }
     ],
     "prompt_number": 82
    },
    {
     "cell_type": "code",
     "collapsed": false,
     "input": [
      "import matplotlib.pyplot as plt\n",
      "\n",
      "plt.plot(results)"
     ],
     "language": "python",
     "metadata": {},
     "outputs": [
      {
       "output_type": "pyout",
       "prompt_number": 83,
       "text": [
        "[<matplotlib.lines.Line2D at 0x9ad7a90>]"
       ]
      },
      {
       "output_type": "display_data",
       "png": "[encoded data removed]"
      }
     ],
     "prompt_number": 83
    },
    {
     "cell_type": "code",
     "collapsed": false,
     "input": [
      "resid = res.resid_deviance.copy()\n",
      "\n",
      "sigmasq = sum(resid**2)/(ref-1)\n",
      "\n",
      "# Predict Expected Value Sequence\n",
      "\n",
      "def pred(alpha, step, y_lag0, avg): # Builds Prediction at Y_{t + step} for AR(1) process with coefficient alpha and mean avg\n",
      "    result = [y_lag0]\n",
      "    for i in range(1,step+1):\n",
      "        pred = avg + (alpha**i) * (y_lag0 - avg)\n",
      "        result.append(pred)\n",
      "    return result\n",
      "\n",
      "\n",
      "step = 60\n",
      "y_lag0 = 10\n",
      "mu1 = pred(res.params[0], step, y_lag0, mean_bikes_available)\n",
      "\n",
      "sigma1 = [0]\n",
      "\n",
      "for i in range(1,step+1):\n",
      "    sigma1.append(sqrt(sigmasq*i))\n",
      "\n",
      "\n",
      "# Plot the time against the number of bikes available, including the standard deviation\n",
      "\n",
      "fig = plt.figure()\n",
      "fig, ax = plt.subplots(1)\n",
      "\n",
      "t = range(0,step+1)\n",
      "\n",
      "mu1 = np.asarray(mu1) \n",
      "sigma1 = np.asarray(sigma1)\n",
      "\n",
      "# print \"mu1 is equal to \"\n",
      "# print mu1 - sigma1\n",
      "# print \"sigma1 is equal to \"\n",
      "# print sigma1\n",
      "\n",
      "ax.plot(t, mu1, lw=2, label='mean population 1', color='red')\n",
      "ax.plot(t, mu1)\n",
      "ax.fill_between(t, (mu1-sigma1).tolist(), (mu1+sigma1).tolist(), facecolor='blue', alpha=0.5)\n",
      "plt.show()\n",
      "#boston_5_annual_averages.plot(x = 'timestamp', y = 'bikes_available')\n"
     ],
     "language": "python",
     "metadata": {},
     "outputs": [
      {
       "output_type": "display_data",
       "png": "[encoded data removed]"
      }
     ],
     "prompt_number": 86
    },
    {
     "cell_type": "code",
     "collapsed": false,
     "input": [
      "from scipy.stats import norm\n",
      "\n",
      "# Find the Probability of 0 Bikes at Station 5 after _step_ minutes starting at y_lag0\n",
      "\n",
      "def probzero(alpha, y_lag0, avg, sigmasq, step):\n",
      "    mean = avg + (alpha **step) * (y_lag0 - avg)\n",
      "    return norm.cdf(-mean / (sqrt(sigmasq*step)))\n",
      "\n",
      "def probfull(alpha, y_lag0, avg, sigmasq, step, totalspots):\n",
      "    mean = avg + (alpha **step) * (y_lag0 - avg)\n",
      "    return 1 - norm.cdf((totalspots-mean) / (sqrt(sigmasq*step)))\n",
      "\n",
      "x = probzero(res.params[0], 10, mean_bikes_available, sigmasq, 60)\n",
      "\n",
      "x2 = probfull(res.params[0], 10, mean_bikes_available, sigmasq, 60, 15)\n",
      "\n",
      "print x\n",
      "\n",
      "print x2\n",
      "    "
     ],
     "language": "python",
     "metadata": {},
     "outputs": [
      {
       "output_type": "stream",
       "stream": "stdout",
       "text": [
        "0.000684773162552\n",
        "0.0154746411924\n"
       ]
      }
     ],
     "prompt_number": 87
    },
    {
     "cell_type": "code",
     "collapsed": false,
     "input": [],
     "language": "python",
     "metadata": {},
     "outputs": []
    }
   ],
   "metadata": {}
  }
 ]
}