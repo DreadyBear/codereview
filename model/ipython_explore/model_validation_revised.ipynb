{
 "metadata": {
  "name": "model_validation_revised"
 },
 "nbformat": 3,
 "nbformat_minor": 0,
 "worksheets": [
  {
   "cells": [
    {
     "cell_type": "code",
     "collapsed": false,
     "input": [],
     "language": "python",
     "metadata": {},
     "outputs": [
      {
       "output_type": "pyout",
       "prompt_number": 2,
       "text": [
        "<function __main__.model_validation>"
       ]
      }
     ],
     "prompt_number": 2
    },
    {
     "cell_type": "code",
     "collapsed": false,
     "input": [
      "import pandas as pd\n",
      "from pandas.core.datetools import *\n",
      "import numpy as np\n",
      "from binomial_fit_function import binomial_fit\n",
      "\n",
      "def model_validation(modelfit, n, data, startdate = None):\n",
      "    if startdate == None:\n",
      "        startdate = data.index[0]\n",
      "    else:\n",
      "        try:\n",
      "            startdate = data[startdate:].index[0]\n",
      "        except:\n",
      "            print \"That date is after the end of biketime. We'll choose the first date in our dataset.\"\n",
      "            startdate = data.index[0]\n",
      "            \n",
      "    enddate = startdate + DateOffset(years=1)\n",
      "    offset = DateOffset(months = 1)\n",
      "    MSE15 = []\n",
      "    MSE30 = []\n",
      "    MSE45 = []\n",
      "    MSE60 = []\n",
      "    for i in range(10000):\n",
      "        if i !=0:\n",
      "            enddate += offset\n",
      "            \n",
      "        try:\n",
      "            test_data = data[np.datetime64(enddate):].iloc[1:7]\n",
      "            true_test_data = data[np.datetime64(enddate):].iloc[1:7]\n",
      "        except:\n",
      "            break\n",
      "        else:\n",
      "            print \"Training on data up to %s\" % str(enddate)\n",
      "        \n",
      "        fit_data = data[np.datetime64(startdate):np.datetime64(enddate)]\n",
      "        model = modelfit(fit_data,n = None)\n",
      "        #print \"Steps Out, Expected Number of Bikes,  True Expected Number of Bikes, MSE\"\n",
      "        for i in range(3):\n",
      "            lst_prob,ev_bikes = model(test_data.iloc[i:(i+3)],n)\n",
      "            ev_slots = n-ev_bikes\n",
      "            test_data.iloc[i+3][\"bikes_available\"] = ev_bikes\n",
      "            test_data.iloc[i+3][\"slots_available\"] = ev_slots\n",
      "            true_bikes = true_test_data.iloc[i+3][\"bikes_available\"]\n",
      "            mse = pow((ev_bikes-true_bikes),2)\n",
      "            if i == 0: \n",
      "                MSE15.append(mse)\n",
      "\n",
      "            elif i == 1:\n",
      "                MSE30.append(mse)\n",
      "\n",
      "            elif i == 2: \n",
      "                MSE45.append(mse)\n",
      "\n",
      "            elif i ==3: \n",
      "               MSE60.append(mse)\n",
      "            #print \"%d,%f,%d,%f\" % (i,ev_bikes,true_bikes,mse)\n",
      "    print \"Mean Squared Error at 15 minutes out %f\" % (sum(MSE15) / len(MSE15))\n",
      "    print \"Mean Squared Error at 30 minutes out %f\" % (sum(MSE30) / len(MSE30))\n",
      "    print \"Mean Squared Error at 45 minutes out %f\" % (sum(MSE45) / len(MSE45))\n",
      "    print \"Mean Squared Error at 60 minutes out %f\" % (sum(MSE60) / len(MSE60))"
     ],
     "language": "python",
     "metadata": {},
     "outputs": [],
     "prompt_number": 3
    },
    {
     "cell_type": "code",
     "collapsed": false,
     "input": [
      "from fetch_station import fetch_station\n",
      "dc_17=fetch_station(\"Washington, D.C.\", 17, 15, 'max')"
     ],
     "language": "python",
     "metadata": {},
     "outputs": [],
     "prompt_number": 3
    },
    {
     "cell_type": "code",
     "collapsed": false,
     "input": [
      "#test_model = binomial_fit(dc_17,25)"
     ],
     "language": "python",
     "metadata": {},
     "outputs": [],
     "prompt_number": 23
    },
    {
     "cell_type": "code",
     "collapsed": false,
     "input": [
      "#test_model(dc_17,25)"
     ],
     "language": "python",
     "metadata": {},
     "outputs": [],
     "prompt_number": 24
    },
    {
     "cell_type": "code",
     "collapsed": false,
     "input": [
      "model_validation(binomial_fit,25,dc_17)"
     ],
     "language": "python",
     "metadata": {},
     "outputs": [
      {
       "output_type": "stream",
       "stream": "stdout",
       "text": [
        "Training on data up to 2011-10-06 12:30:00-04:00\n",
        "Training on data up to 2011-10-07 13:30:00-04:00"
       ]
      },
      {
       "output_type": "stream",
       "stream": "stdout",
       "text": [
        "\n",
        "Training on data up to 2011-10-08 14:30:00-04:00"
       ]
      },
      {
       "output_type": "stream",
       "stream": "stdout",
       "text": [
        "\n",
        "Training on data up to 2011-10-09 15:30:00-04:00"
       ]
      },
      {
       "output_type": "stream",
       "stream": "stdout",
       "text": [
        "\n",
        "Training on data up to 2011-10-10 16:30:00-04:00"
       ]
      },
      {
       "output_type": "stream",
       "stream": "stdout",
       "text": [
        "\n",
        "Training on data up to 2011-10-11 17:30:00-04:00"
       ]
      },
      {
       "output_type": "stream",
       "stream": "stdout",
       "text": [
        "\n",
        "Training on data up to 2011-10-12 18:30:00-04:00"
       ]
      },
      {
       "output_type": "stream",
       "stream": "stdout",
       "text": [
        "\n",
        "Training on data up to 2011-10-13 19:30:00-04:00"
       ]
      },
      {
       "ename": "KeyboardInterrupt",
       "evalue": "",
       "output_type": "pyerr",
       "traceback": [
        "\u001b[0;31m---------------------------------------------------------------------------\u001b[0m\n\u001b[0;31mKeyboardInterrupt\u001b[0m                         Traceback (most recent call last)",
        "\u001b[0;32m<ipython-input-3-a21a27f968b6>\u001b[0m in \u001b[0;36m<module>\u001b[0;34m()\u001b[0m\n\u001b[0;32m----> 1\u001b[0;31m \u001b[0mmodel_validation\u001b[0m\u001b[0;34m(\u001b[0m\u001b[0mbinomial_fit\u001b[0m\u001b[0;34m,\u001b[0m\u001b[0;36m25\u001b[0m\u001b[0;34m,\u001b[0m\u001b[0mdc_17\u001b[0m\u001b[0;34m)\u001b[0m\u001b[0;34m\u001b[0m\u001b[0m\n\u001b[0m",
        "\u001b[0;32m<ipython-input-1-526a76b8ce2c>\u001b[0m in \u001b[0;36mmodel_validation\u001b[0;34m(modelfit, n, data, startdate)\u001b[0m\n\u001b[1;32m     29\u001b[0m \u001b[0;34m\u001b[0m\u001b[0m\n\u001b[1;32m     30\u001b[0m         \u001b[0mfit_data\u001b[0m \u001b[0;34m=\u001b[0m \u001b[0mdata\u001b[0m\u001b[0;34m[\u001b[0m\u001b[0mnp\u001b[0m\u001b[0;34m.\u001b[0m\u001b[0mdatetime64\u001b[0m\u001b[0;34m(\u001b[0m\u001b[0mstartdate\u001b[0m\u001b[0;34m)\u001b[0m\u001b[0;34m:\u001b[0m\u001b[0mnp\u001b[0m\u001b[0;34m.\u001b[0m\u001b[0mdatetime64\u001b[0m\u001b[0;34m(\u001b[0m\u001b[0menddate\u001b[0m\u001b[0;34m)\u001b[0m\u001b[0;34m]\u001b[0m\u001b[0;34m\u001b[0m\u001b[0m\n\u001b[0;32m---> 31\u001b[0;31m         \u001b[0mmodel\u001b[0m \u001b[0;34m=\u001b[0m \u001b[0mmodelfit\u001b[0m\u001b[0;34m(\u001b[0m\u001b[0mfit_data\u001b[0m\u001b[0;34m,\u001b[0m\u001b[0mn\u001b[0m \u001b[0;34m=\u001b[0m \u001b[0mNone\u001b[0m\u001b[0;34m)\u001b[0m\u001b[0;34m\u001b[0m\u001b[0m\n\u001b[0m\u001b[1;32m     32\u001b[0m         \u001b[0;31m#print \"Steps Out, Expected Number of Bikes,  True Expected Number of Bikes, MSE\"\u001b[0m\u001b[0;34m\u001b[0m\u001b[0;34m\u001b[0m\u001b[0m\n\u001b[1;32m     33\u001b[0m         \u001b[0mMSE15\u001b[0m \u001b[0;34m=\u001b[0m \u001b[0;34m[\u001b[0m\u001b[0;34m]\u001b[0m\u001b[0;34m\u001b[0m\u001b[0m\n",
        "\u001b[0;32m/home/ubuntu/bikeshare/model/ipython_explore/binomial_fit_function.pyc\u001b[0m in \u001b[0;36mbinomial_fit\u001b[0;34m(data, n)\u001b[0m\n\u001b[1;32m     44\u001b[0m     \u001b[0;31m# fit the model!\u001b[0m\u001b[0;34m\u001b[0m\u001b[0;34m\u001b[0m\u001b[0m\n\u001b[1;32m     45\u001b[0m     \u001b[0mmodel\u001b[0m \u001b[0;34m=\u001b[0m \u001b[0msm\u001b[0m\u001b[0;34m.\u001b[0m\u001b[0mGLM\u001b[0m\u001b[0;34m(\u001b[0m\u001b[0my\u001b[0m\u001b[0;34m,\u001b[0m \u001b[0mX\u001b[0m\u001b[0;34m,\u001b[0m \u001b[0mfamily\u001b[0m\u001b[0;34m=\u001b[0m\u001b[0msm\u001b[0m\u001b[0;34m.\u001b[0m\u001b[0mfamilies\u001b[0m\u001b[0;34m.\u001b[0m\u001b[0mBinomial\u001b[0m\u001b[0;34m(\u001b[0m\u001b[0;34m)\u001b[0m\u001b[0;34m)\u001b[0m\u001b[0;34m\u001b[0m\u001b[0m\n\u001b[0;32m---> 46\u001b[0;31m     \u001b[0mresults\u001b[0m \u001b[0;34m=\u001b[0m \u001b[0mmodel\u001b[0m\u001b[0;34m.\u001b[0m\u001b[0mfit\u001b[0m\u001b[0;34m(\u001b[0m\u001b[0;34m)\u001b[0m\u001b[0;34m\u001b[0m\u001b[0m\n\u001b[0m\u001b[1;32m     47\u001b[0m \u001b[0;34m\u001b[0m\u001b[0m\n\u001b[1;32m     48\u001b[0m     \u001b[0;32mdef\u001b[0m \u001b[0moutput\u001b[0m\u001b[0;34m(\u001b[0m\u001b[0mtest_data\u001b[0m\u001b[0;34m,\u001b[0m \u001b[0mn\u001b[0m\u001b[0;34m)\u001b[0m\u001b[0;34m:\u001b[0m\u001b[0;34m\u001b[0m\u001b[0m\n",
        "\u001b[0;32m/usr/local/lib/python2.7/dist-packages/statsmodels/genmod/generalized_linear_model.pyc\u001b[0m in \u001b[0;36mfit\u001b[0;34m(self, maxiter, method, tol, scale)\u001b[0m\n\u001b[1;32m    399\u001b[0m             \u001b[0mwlsendog\u001b[0m \u001b[0;34m=\u001b[0m \u001b[0meta\u001b[0m \u001b[0;34m+\u001b[0m \u001b[0mself\u001b[0m\u001b[0;34m.\u001b[0m\u001b[0mfamily\u001b[0m\u001b[0;34m.\u001b[0m\u001b[0mlink\u001b[0m\u001b[0;34m.\u001b[0m\u001b[0mderiv\u001b[0m\u001b[0;34m(\u001b[0m\u001b[0mmu\u001b[0m\u001b[0;34m)\u001b[0m \u001b[0;34m*\u001b[0m \u001b[0;34m(\u001b[0m\u001b[0mself\u001b[0m\u001b[0;34m.\u001b[0m\u001b[0mendog\u001b[0m\u001b[0;34m-\u001b[0m\u001b[0mmu\u001b[0m\u001b[0;34m)\u001b[0m\u001b[0;31m \u001b[0m\u001b[0;31m\\\u001b[0m\u001b[0;34m\u001b[0m\u001b[0m\n\u001b[1;32m    400\u001b[0m                 \u001b[0;34m-\u001b[0m \u001b[0moffset\u001b[0m\u001b[0;34m\u001b[0m\u001b[0m\n\u001b[0;32m--> 401\u001b[0;31m             \u001b[0mwls_results\u001b[0m \u001b[0;34m=\u001b[0m \u001b[0mlm\u001b[0m\u001b[0;34m.\u001b[0m\u001b[0mWLS\u001b[0m\u001b[0;34m(\u001b[0m\u001b[0mwlsendog\u001b[0m\u001b[0;34m,\u001b[0m \u001b[0mwlsexog\u001b[0m\u001b[0;34m,\u001b[0m \u001b[0mself\u001b[0m\u001b[0;34m.\u001b[0m\u001b[0mweights\u001b[0m\u001b[0;34m)\u001b[0m\u001b[0;34m.\u001b[0m\u001b[0mfit\u001b[0m\u001b[0;34m(\u001b[0m\u001b[0;34m)\u001b[0m\u001b[0;34m\u001b[0m\u001b[0m\n\u001b[0m\u001b[1;32m    402\u001b[0m             \u001b[0meta\u001b[0m \u001b[0;34m=\u001b[0m \u001b[0mnp\u001b[0m\u001b[0;34m.\u001b[0m\u001b[0mdot\u001b[0m\u001b[0;34m(\u001b[0m\u001b[0mself\u001b[0m\u001b[0;34m.\u001b[0m\u001b[0mexog\u001b[0m\u001b[0;34m,\u001b[0m \u001b[0mwls_results\u001b[0m\u001b[0;34m.\u001b[0m\u001b[0mparams\u001b[0m\u001b[0;34m)\u001b[0m \u001b[0;34m+\u001b[0m \u001b[0moffset\u001b[0m\u001b[0;34m\u001b[0m\u001b[0m\n\u001b[1;32m    403\u001b[0m             \u001b[0mmu\u001b[0m \u001b[0;34m=\u001b[0m \u001b[0mself\u001b[0m\u001b[0;34m.\u001b[0m\u001b[0mfamily\u001b[0m\u001b[0;34m.\u001b[0m\u001b[0mfitted\u001b[0m\u001b[0;34m(\u001b[0m\u001b[0meta\u001b[0m\u001b[0;34m)\u001b[0m\u001b[0;34m\u001b[0m\u001b[0m\n",
        "\u001b[0;32m/usr/local/lib/python2.7/dist-packages/statsmodels/regression/linear_model.pyc\u001b[0m in \u001b[0;36mfit\u001b[0;34m(self, method, **kwargs)\u001b[0m\n\u001b[1;32m    231\u001b[0m                 (not hasattr(self, 'normalized_cov_params'))):\n\u001b[1;32m    232\u001b[0m                 \u001b[0;31m#print \"recalculating pinv\"   #for debugging\u001b[0m\u001b[0;34m\u001b[0m\u001b[0;34m\u001b[0m\u001b[0m\n\u001b[0;32m--> 233\u001b[0;31m                 \u001b[0mself\u001b[0m\u001b[0;34m.\u001b[0m\u001b[0mpinv_wexog\u001b[0m \u001b[0;34m=\u001b[0m \u001b[0mpinv_wexog\u001b[0m \u001b[0;34m=\u001b[0m \u001b[0mnp\u001b[0m\u001b[0;34m.\u001b[0m\u001b[0mlinalg\u001b[0m\u001b[0;34m.\u001b[0m\u001b[0mpinv\u001b[0m\u001b[0;34m(\u001b[0m\u001b[0mself\u001b[0m\u001b[0;34m.\u001b[0m\u001b[0mwexog\u001b[0m\u001b[0;34m)\u001b[0m\u001b[0;34m\u001b[0m\u001b[0m\n\u001b[0m\u001b[1;32m    234\u001b[0m                 self.normalized_cov_params = np.dot(pinv_wexog,\n\u001b[1;32m    235\u001b[0m                                                  np.transpose(pinv_wexog))\n",
        "\u001b[0;32m/usr/lib/python2.7/dist-packages/numpy/linalg/linalg.pyc\u001b[0m in \u001b[0;36mpinv\u001b[0;34m(a, rcond)\u001b[0m\n\u001b[1;32m   1572\u001b[0m     \u001b[0m_assertNonEmpty\u001b[0m\u001b[0;34m(\u001b[0m\u001b[0ma\u001b[0m\u001b[0;34m)\u001b[0m\u001b[0;34m\u001b[0m\u001b[0m\n\u001b[1;32m   1573\u001b[0m     \u001b[0ma\u001b[0m \u001b[0;34m=\u001b[0m \u001b[0ma\u001b[0m\u001b[0;34m.\u001b[0m\u001b[0mconjugate\u001b[0m\u001b[0;34m(\u001b[0m\u001b[0;34m)\u001b[0m\u001b[0;34m\u001b[0m\u001b[0m\n\u001b[0;32m-> 1574\u001b[0;31m     \u001b[0mu\u001b[0m\u001b[0;34m,\u001b[0m \u001b[0ms\u001b[0m\u001b[0;34m,\u001b[0m \u001b[0mvt\u001b[0m \u001b[0;34m=\u001b[0m \u001b[0msvd\u001b[0m\u001b[0;34m(\u001b[0m\u001b[0ma\u001b[0m\u001b[0;34m,\u001b[0m \u001b[0;36m0\u001b[0m\u001b[0;34m)\u001b[0m\u001b[0;34m\u001b[0m\u001b[0m\n\u001b[0m\u001b[1;32m   1575\u001b[0m     \u001b[0mm\u001b[0m \u001b[0;34m=\u001b[0m \u001b[0mu\u001b[0m\u001b[0;34m.\u001b[0m\u001b[0mshape\u001b[0m\u001b[0;34m[\u001b[0m\u001b[0;36m0\u001b[0m\u001b[0;34m]\u001b[0m\u001b[0;34m\u001b[0m\u001b[0m\n\u001b[1;32m   1576\u001b[0m     \u001b[0mn\u001b[0m \u001b[0;34m=\u001b[0m \u001b[0mvt\u001b[0m\u001b[0;34m.\u001b[0m\u001b[0mshape\u001b[0m\u001b[0;34m[\u001b[0m\u001b[0;36m1\u001b[0m\u001b[0;34m]\u001b[0m\u001b[0;34m\u001b[0m\u001b[0m\n",
        "\u001b[0;32m/usr/lib/python2.7/dist-packages/numpy/linalg/linalg.pyc\u001b[0m in \u001b[0;36msvd\u001b[0;34m(a, full_matrices, compute_uv)\u001b[0m\n\u001b[1;32m   1319\u001b[0m         \u001b[0mwork\u001b[0m \u001b[0;34m=\u001b[0m \u001b[0mzeros\u001b[0m\u001b[0;34m(\u001b[0m\u001b[0;34m(\u001b[0m\u001b[0mlwork\u001b[0m\u001b[0;34m,\u001b[0m\u001b[0;34m)\u001b[0m\u001b[0;34m,\u001b[0m \u001b[0mt\u001b[0m\u001b[0;34m)\u001b[0m\u001b[0;34m\u001b[0m\u001b[0m\n\u001b[1;32m   1320\u001b[0m         results = lapack_routine(option, m, n, a, m, s, u, m, vt, nvt,\n\u001b[0;32m-> 1321\u001b[0;31m                                  work, lwork, iwork, 0)\n\u001b[0m\u001b[1;32m   1322\u001b[0m     \u001b[0;32mif\u001b[0m \u001b[0mresults\u001b[0m\u001b[0;34m[\u001b[0m\u001b[0;34m'info'\u001b[0m\u001b[0;34m]\u001b[0m \u001b[0;34m>\u001b[0m \u001b[0;36m0\u001b[0m\u001b[0;34m:\u001b[0m\u001b[0;34m\u001b[0m\u001b[0m\n\u001b[1;32m   1323\u001b[0m         \u001b[0;32mraise\u001b[0m \u001b[0mLinAlgError\u001b[0m\u001b[0;34m(\u001b[0m\u001b[0;34m'SVD did not converge'\u001b[0m\u001b[0;34m)\u001b[0m\u001b[0;34m\u001b[0m\u001b[0m\n",
        "\u001b[0;31mKeyboardInterrupt\u001b[0m: "
       ]
      },
      {
       "output_type": "stream",
       "stream": "stdout",
       "text": [
        "\n"
       ]
      }
     ],
     "prompt_number": 3
    },
    {
     "cell_type": "code",
     "collapsed": false,
     "input": [
      "# plot MSE results\n",
      "# calculate MSE in terms of empty/full indicator\n",
      "import pandas as pd\n",
      "from pandas.core.datetools import *\n",
      "import numpy as np\n",
      "import matplotlib.pyplot as plt\n",
      "\n",
      "from binomial_fit_function import binomial_fit\n",
      "\n",
      "def model_validation_plot(modelfit, n, data, startdate = None):\n",
      "    if startdate == None:\n",
      "        startdate = data.index[0]\n",
      "    else:\n",
      "        try:\n",
      "            startdate = data[startdate:].index[0]\n",
      "        except:\n",
      "            print \"That date is after the end of biketime. We'll choose the first date in our dataset.\"\n",
      "            startdate = data.index[0]\n",
      "            \n",
      "    enddate = startdate + DateOffset(years=1)\n",
      "    offset = DateOffset(months = 1)\n",
      "    mse_sum = np.zeros(3)\n",
      "    mse_n_elements = np.zeros(3)\n",
      "    mse_ind_sum = np.zeros(3)\n",
      "    mse_ind_n_elements = np.zeros(3)\n",
      "    for i in range(100):\n",
      "        if i !=0:\n",
      "            enddate += offset\n",
      "            \n",
      "        try\n",
      "            test_data = data[np.datetime64(enddate):].iloc[1:8]\n",
      "            true_test_data = data[np.datetime64(enddate):].iloc[1:8]\n",
      "        except:\n",
      "            break\n",
      "        else:\n",
      "            print \"Training on data up to %s\" % str(enddate)\n",
      "        \n",
      "        fit_data = data[np.datetime64(startdate):np.datetime64(enddate)]\n",
      "        model = modelfit(fit_data,n = None)\n",
      "        #print \"Steps Out, Expected Number of Bikes,  True Expected Number of Bikes, MSE\"\n",
      "        for i in range(4):\n",
      "            lst_prob,ev_bikes = model(test_data.iloc[i:(i+3)],n)\n",
      "            ev_slots = n-ev_bikes\n",
      "            test_data.iloc[i+3][\"bikes_available\"] = ev_bikes\n",
      "            test_data.iloc[i+3][\"slots_available\"] = ev_slots\n",
      "            true_bikes = true_test_data.iloc[i+3][\"bikes_available\"]\n",
      "            mse = pow((ev_bikes-true_bikes),2)\n",
      "            if np.isfinite(mse):\n",
      "                mse_sum[i] += mse\n",
      "                mse_n_elements[i] +=1\n",
      "            \n",
      "            # calculate MSE in terms of empty/full indicator\n",
      "            p_empty_full = lst_prob[0] + lst_prob[n]\n",
      "            empty_full_ind = 0\n",
      "            if (true_bikes == 0 or true_bikes == n):\n",
      "                empty_full_ind = 1\n",
      "            mse = pow((p_empty_full - empty_full_ind), 2)\n",
      "            if np.isfinite(mse):\n",
      "                mse_ind_sum[i] += mse\n",
      "                mse_ind_n_elements[i] += 1\n",
      "            \n",
      "    \n",
      "    # take averages and make plots\n",
      "    ave_mse = mse_sum / mse_n_elements\n",
      "    ave_mse_ind = mse_ind_sum / mse_ind_n_elements\n",
      "    \n",
      "    # plot regular MSE\n",
      "    plt.plot([15,30,45], ave_mse)\n",
      "    plt.title(\"MSE for 3 Time Steps Out\")\n",
      "    plt.show()\n",
      "    \n",
      "    # plot indicator version of MSE\n",
      "    plt.plot([15,30,45], ave_mse_ind)\n",
      "    plt.title(\"MSE Indicator for 3 Time Steps Out\")\n",
      "    plt.show()\n",
      "    \n",
      "    \n",
      "            #print \"%d,%f,%d,%f, %f, %f\" % (i,ev_bikes,true_bikes,mse, mse_sum, mse_n_elements)\n",
      "    #print \"Mean Squared Error at 15 minutes out %f\" % (sum(MSE15) / len(MSE15))\n",
      "    #print \"Mean Squared Error at 30 minutes out %f\" % (sum(MSE30) / len(MSE30))\n",
      "    #print \"Mean Squared Error at 45 minutes out %f\" % (sum(MSE45) / len(MSE45))\n",
      "    #print \"Mean Squared Error at 60 minutes out %f\" % (sum(MSE60) / len(MSE60))\n",
      "    "
     ],
     "language": "python",
     "metadata": {},
     "outputs": [],
     "prompt_number": "*"
    },
    {
     "cell_type": "code",
     "collapsed": false,
     "input": [
      "dc_17.head()"
     ],
     "language": "python",
     "metadata": {},
     "outputs": [
      {
       "html": [
        "<div style=\"max-height:1000px;max-width:1500px;overflow:auto;\">\n",
        "<table border=\"1\" class=\"dataframe\">\n",
        "  <thead>\n",
        "    <tr style=\"text-align: right;\">\n",
        "      <th></th>\n",
        "      <th>station_id</th>\n",
        "      <th>bikes_available</th>\n",
        "      <th>slots_available</th>\n",
        "      <th>weather_timestamp</th>\n",
        "      <th>summary</th>\n",
        "      <th>precipintensity</th>\n",
        "      <th>precipprob</th>\n",
        "      <th>preciptype</th>\n",
        "      <th>precipaccumulation</th>\n",
        "      <th>temperature</th>\n",
        "    </tr>\n",
        "    <tr>\n",
        "      <th>bikes_timestamp</th>\n",
        "      <th></th>\n",
        "      <th></th>\n",
        "      <th></th>\n",
        "      <th></th>\n",
        "      <th></th>\n",
        "      <th></th>\n",
        "      <th></th>\n",
        "      <th></th>\n",
        "      <th></th>\n",
        "      <th></th>\n",
        "    </tr>\n",
        "  </thead>\n",
        "  <tbody>\n",
        "    <tr>\n",
        "      <th>2010-10-06 12:30:00-04:00</th>\n",
        "      <td> 17</td>\n",
        "      <td> 3</td>\n",
        "      <td> 12</td>\n",
        "      <td> 2010-10-06 16:00:00</td>\n",
        "      <td>      Overcast</td>\n",
        "      <td> 0</td>\n",
        "      <td> 0</td>\n",
        "      <td> NaN</td>\n",
        "      <td>NaN</td>\n",
        "      <td> 57.48</td>\n",
        "    </tr>\n",
        "    <tr>\n",
        "      <th>2010-10-06 12:45:00-04:00</th>\n",
        "      <td> 17</td>\n",
        "      <td> 3</td>\n",
        "      <td> 12</td>\n",
        "      <td> 2010-10-06 16:00:00</td>\n",
        "      <td>      Overcast</td>\n",
        "      <td> 0</td>\n",
        "      <td> 0</td>\n",
        "      <td> NaN</td>\n",
        "      <td>NaN</td>\n",
        "      <td> 57.48</td>\n",
        "    </tr>\n",
        "    <tr>\n",
        "      <th>2010-10-06 13:00:00-04:00</th>\n",
        "      <td> 17</td>\n",
        "      <td> 3</td>\n",
        "      <td> 13</td>\n",
        "      <td> 2010-10-06 17:00:00</td>\n",
        "      <td> Partly Cloudy</td>\n",
        "      <td> 0</td>\n",
        "      <td> 0</td>\n",
        "      <td> NaN</td>\n",
        "      <td>NaN</td>\n",
        "      <td> 57.90</td>\n",
        "    </tr>\n",
        "    <tr>\n",
        "      <th>2010-10-06 13:15:00-04:00</th>\n",
        "      <td> 17</td>\n",
        "      <td> 2</td>\n",
        "      <td> 14</td>\n",
        "      <td> 2010-10-06 17:00:00</td>\n",
        "      <td> Partly Cloudy</td>\n",
        "      <td> 0</td>\n",
        "      <td> 0</td>\n",
        "      <td> NaN</td>\n",
        "      <td>NaN</td>\n",
        "      <td> 57.90</td>\n",
        "    </tr>\n",
        "    <tr>\n",
        "      <th>2010-10-06 13:30:00-04:00</th>\n",
        "      <td> 17</td>\n",
        "      <td> 1</td>\n",
        "      <td> 14</td>\n",
        "      <td> 2010-10-06 17:00:00</td>\n",
        "      <td> Partly Cloudy</td>\n",
        "      <td> 0</td>\n",
        "      <td> 0</td>\n",
        "      <td> NaN</td>\n",
        "      <td>NaN</td>\n",
        "      <td> 57.90</td>\n",
        "    </tr>\n",
        "  </tbody>\n",
        "</table>\n",
        "</div>"
       ],
       "output_type": "pyout",
       "prompt_number": 4,
       "text": [
        "                           station_id  bikes_available  slots_available  \\\n",
        "bikes_timestamp                                                           \n",
        "2010-10-06 12:30:00-04:00          17                3               12   \n",
        "2010-10-06 12:45:00-04:00          17                3               12   \n",
        "2010-10-06 13:00:00-04:00          17                3               13   \n",
        "2010-10-06 13:15:00-04:00          17                2               14   \n",
        "2010-10-06 13:30:00-04:00          17                1               14   \n",
        "\n",
        "                             weather_timestamp        summary precipintensity  \\\n",
        "bikes_timestamp                                                                 \n",
        "2010-10-06 12:30:00-04:00  2010-10-06 16:00:00       Overcast               0   \n",
        "2010-10-06 12:45:00-04:00  2010-10-06 16:00:00       Overcast               0   \n",
        "2010-10-06 13:00:00-04:00  2010-10-06 17:00:00  Partly Cloudy               0   \n",
        "2010-10-06 13:15:00-04:00  2010-10-06 17:00:00  Partly Cloudy               0   \n",
        "2010-10-06 13:30:00-04:00  2010-10-06 17:00:00  Partly Cloudy               0   \n",
        "\n",
        "                           precipprob preciptype  precipaccumulation  \\\n",
        "bikes_timestamp                                                        \n",
        "2010-10-06 12:30:00-04:00           0        NaN                 NaN   \n",
        "2010-10-06 12:45:00-04:00           0        NaN                 NaN   \n",
        "2010-10-06 13:00:00-04:00           0        NaN                 NaN   \n",
        "2010-10-06 13:15:00-04:00           0        NaN                 NaN   \n",
        "2010-10-06 13:30:00-04:00           0        NaN                 NaN   \n",
        "\n",
        "                           temperature  \n",
        "bikes_timestamp                         \n",
        "2010-10-06 12:30:00-04:00        57.48  \n",
        "2010-10-06 12:45:00-04:00        57.48  \n",
        "2010-10-06 13:00:00-04:00        57.90  \n",
        "2010-10-06 13:15:00-04:00        57.90  \n",
        "2010-10-06 13:30:00-04:00        57.90  "
       ]
      }
     ],
     "prompt_number": 4
    },
    {
     "cell_type": "code",
     "collapsed": false,
     "input": [
      "model_validation_plot(binomial_fit,25, dc_17, startdate = None)"
     ],
     "language": "python",
     "metadata": {},
     "outputs": [],
     "prompt_number": "*"
    },
    {
     "cell_type": "code",
     "collapsed": false,
     "input": [],
     "language": "python",
     "metadata": {},
     "outputs": []
    }
   ],
   "metadata": {}
  }
 ]
}