{
 "metadata": {
  "name": "model_validation_revised"
 },
 "nbformat": 3,
 "nbformat_minor": 0,
 "worksheets": [
  {
   "cells": [
    {
     "cell_type": "code",
     "collapsed": false,
     "input": [],
     "language": "python",
     "metadata": {},
     "outputs": [
      {
       "output_type": "pyout",
       "prompt_number": 2,
       "text": [
        "<function __main__.model_validation>"
       ]
      }
     ],
     "prompt_number": 2
    },
    {
     "cell_type": "code",
     "collapsed": false,
     "input": [
      "import pandas as pd\n",
      "from pandas.core.datetools import *\n",
      "import numpy as np\n",
      "from binomial_fit_function import binomial_fit\n",
      "\n",
      "def model_validation(modelfit, n, data, startdate = None):\n",
      "    if startdate == None:\n",
      "        startdate = data.index[0]\n",
      "    else:\n",
      "        try:\n",
      "            startdate = data[startdate:].index[0]\n",
      "        except:\n",
      "            print \"That date is after the end of biketime. We'll choose the first date in our dataset.\"\n",
      "            startdate = data.index[0]\n",
      "            \n",
      "    enddate = startdate + DateOffset(years=1)\n",
      "    offset = DateOffset(months = 1)\n",
      "    MSE15 = []\n",
      "    MSE30 = []\n",
      "    MSE45 = []\n",
      "    MSE60 = []\n",
      "    for i in range(10000):\n",
      "        if i !=0:\n",
      "            enddate += offset\n",
      "            \n",
      "        try:\n",
      "            test_data = data[np.datetime64(enddate):].iloc[1:7]\n",
      "            true_test_data = data[np.datetime64(enddate):].iloc[1:7]\n",
      "        except:\n",
      "            break\n",
      "        else:\n",
      "            print \"Training on data up to %s\" % str(enddate)\n",
      "        \n",
      "        fit_data = data[np.datetime64(startdate):np.datetime64(enddate)]\n",
      "        model = modelfit(fit_data,n = None)\n",
      "        #print \"Steps Out, Expected Number of Bikes,  True Expected Number of Bikes, MSE\"\n",
      "        for i in range(3):\n",
      "            lst_prob,ev_bikes = model(test_data.iloc[i:(i+3)],n)\n",
      "            ev_slots = n-ev_bikes\n",
      "            test_data.iloc[i+3][\"bikes_available\"] = ev_bikes\n",
      "            test_data.iloc[i+3][\"slots_available\"] = ev_slots\n",
      "            true_bikes = true_test_data.iloc[i+3][\"bikes_available\"]\n",
      "            mse = pow((ev_bikes-true_bikes),2)\n",
      "            if i == 0: \n",
      "                MSE15.append(mse)\n",
      "\n",
      "            elif i == 1:\n",
      "                MSE30.append(mse)\n",
      "\n",
      "            elif i == 2: \n",
      "                MSE45.append(mse)\n",
      "\n",
      "            elif i ==3: \n",
      "               MSE60.append(mse)\n",
      "            #print \"%d,%f,%d,%f\" % (i,ev_bikes,true_bikes,mse)\n",
      "    print \"Mean Squared Error at 15 minutes out %f\" % (sum(MSE15) / len(MSE15))\n",
      "    print \"Mean Squared Error at 30 minutes out %f\" % (sum(MSE30) / len(MSE30))\n",
      "    print \"Mean Squared Error at 45 minutes out %f\" % (sum(MSE45) / len(MSE45))\n",
      "    print \"Mean Squared Error at 60 minutes out %f\" % (sum(MSE60) / len(MSE60))"
     ],
     "language": "python",
     "metadata": {},
     "outputs": [],
     "prompt_number": 3
    },
    {
     "cell_type": "code",
     "collapsed": false,
     "input": [
      "from fetch_station import fetch_station\n",
      "dc_17=fetch_station(\"Washington, D.C.\", 17, 15, 'max')"
     ],
     "language": "python",
     "metadata": {},
     "outputs": [],
     "prompt_number": 4
    },
    {
     "cell_type": "code",
     "collapsed": false,
     "input": [
      "#test_model = binomial_fit(dc_17,25)"
     ],
     "language": "python",
     "metadata": {},
     "outputs": [],
     "prompt_number": 23
    },
    {
     "cell_type": "code",
     "collapsed": false,
     "input": [
      "#test_model(dc_17,25)"
     ],
     "language": "python",
     "metadata": {},
     "outputs": [],
     "prompt_number": 24
    },
    {
     "cell_type": "code",
     "collapsed": false,
     "input": [
      "model_validation(binomial_fit,25,dc_17)"
     ],
     "language": "python",
     "metadata": {},
     "outputs": [
      {
       "ename": "NameError",
       "evalue": "name 'model_validation' is not defined",
       "output_type": "pyerr",
       "traceback": [
        "\u001b[0;31m---------------------------------------------------------------------------\u001b[0m\n\u001b[0;31mNameError\u001b[0m                                 Traceback (most recent call last)",
        "\u001b[0;32m<ipython-input-5-a21a27f968b6>\u001b[0m in \u001b[0;36m<module>\u001b[0;34m()\u001b[0m\n\u001b[0;32m----> 1\u001b[0;31m \u001b[0mmodel_validation\u001b[0m\u001b[0;34m(\u001b[0m\u001b[0mbinomial_fit\u001b[0m\u001b[0;34m,\u001b[0m\u001b[0;36m25\u001b[0m\u001b[0;34m,\u001b[0m\u001b[0mdc_17\u001b[0m\u001b[0;34m)\u001b[0m\u001b[0;34m\u001b[0m\u001b[0m\n\u001b[0m",
        "\u001b[0;31mNameError\u001b[0m: name 'model_validation' is not defined"
       ]
      }
     ],
     "prompt_number": 5
    },
    {
     "cell_type": "code",
     "collapsed": false,
     "input": [
      "# plot MSE results\n",
      "# calculate MSE in terms of empty/full indicator\n",
      "import pandas as pd\n",
      "from pandas.core.datetools import *\n",
      "import numpy as np\n",
      "import matplotlib.pyplot as plt\n",
      "\n",
      "from binomial_fit_function import binomial_fit\n",
      "\n",
      "def model_validation_plot(modelfit, n, data, startdate = None):\n",
      "    if startdate == None:\n",
      "        startdate = data.index[0]\n",
      "    else:\n",
      "        try:\n",
      "            startdate = data[startdate:].index[0]\n",
      "        except:\n",
      "            print \"That date is after the end of biketime. We'll choose the first date in our dataset.\"\n",
      "            startdate = data.index[0]\n",
      "            \n",
      "    enddate = startdate + DateOffset(years=1)\n",
      "    offset = DateOffset(weeks = 2)\n",
      "    mse_sum = np.zeros(4)\n",
      "    mse_n_elements = np.zeros(4)\n",
      "    mse_ind_sum = np.zeros(4)\n",
      "    mse_ind_n_elements = np.zeros(4)\n",
      "    for i in range(10000):\n",
      "        if i !=0:\n",
      "            enddate += offset\n",
      "            \n",
      "        try:\n",
      "            test_data = data[np.datetime64(enddate):].iloc[1:8]\n",
      "            true_test_data = data[np.datetime64(enddate):].iloc[1:8]\n",
      "        except:\n",
      "            break\n",
      "        else:\n",
      "            print \"Training on data up to %s\" % str(enddate)\n",
      "        \n",
      "        fit_data = data[np.datetime64(startdate):np.datetime64(enddate)]\n",
      "        model = modelfit(fit_data,n = None)\n",
      "        #print \"Steps Out, Expected Number of Bikes,  True Expected Number of Bikes, MSE\"\n",
      "        for i in range(4):\n",
      "            lst_prob,ev_bikes = model(test_data.iloc[i:(i+3)],n)\n",
      "            ev_slots = n-ev_bikes\n",
      "            test_data.iloc[i+3][\"bikes_available\"] = ev_bikes\n",
      "            test_data.iloc[i+3][\"slots_available\"] = ev_slots\n",
      "            true_bikes = true_test_data.iloc[i+3][\"bikes_available\"]\n",
      "            mse = pow((ev_bikes-true_bikes),2)\n",
      "            if np.isfinite(mse):\n",
      "                mse_sum[i] += mse\n",
      "                mse_n_elements[i] +=1\n",
      "            \n",
      "            # calculate MSE in terms of empty/full indicator\n",
      "            p_empty_full = lst_prob[0] + lst_prob[n]\n",
      "            empty_full_ind = 0\n",
      "            if (true_bikes == 0 or true_bikes == n):\n",
      "                empty_full_ind = 1\n",
      "            mse = pow((p_empty_full - empty_full_ind), 2)\n",
      "            if np.isfinite(mse):\n",
      "                mse_ind_sum[i] += mse\n",
      "                mse_ind_n_elements[i] += 1\n",
      "            \n",
      "    \n",
      "    # take averages and make plots\n",
      "    ave_mse = mse_sum / mse_n_elements\n",
      "    ave_mse_ind = mse_ind_sum / mse_ind_n_elements\n",
      "    \n",
      "    print \"ave mse\" + str(ave_mse)\n",
      "    print \"ave mse ind \" + str(ave_mse_ind)\n",
      "    \n",
      "    # plot regular MSE\n",
      "    plt.plot([15,30,45, 60], ave_mse)\n",
      "    plt.title(\"MSE for 3 Time Steps Out\")\n",
      "    plt.show()\n",
      "    \n",
      "    # plot indicator version of MSE\n",
      "    plt.plot([15,30,45, 60], ave_mse_ind)\n",
      "    plt.title(\"MSE Indicator for 3 Time Steps Out\")\n",
      "    plt.show()\n",
      "    \n",
      "    \n",
      "            #print \"%d,%f,%d,%f, %f, %f\" % (i,ev_bikes,true_bikes,mse, mse_sum, mse_n_elements)\n",
      "    #print \"Mean Squared Error at 15 minutes out %f\" % (sum(MSE15) / len(MSE15))\n",
      "    #print \"Mean Squared Error at 30 minutes out %f\" % (sum(MSE30) / len(MSE30))\n",
      "    #print \"Mean Squared Error at 45 minutes out %f\" % (sum(MSE45) / len(MSE45))\n",
      "    #print \"Mean Squared Error at 60 minutes out %f\" % (sum(MSE60) / len(MSE60))\n",
      "    "
     ],
     "language": "python",
     "metadata": {},
     "outputs": [],
     "prompt_number": 15
    },
    {
     "cell_type": "code",
     "collapsed": false,
     "input": [
      "dc_17.head()"
     ],
     "language": "python",
     "metadata": {},
     "outputs": [
      {
       "html": [
        "<div style=\"max-height:1000px;max-width:1500px;overflow:auto;\">\n",
        "<table border=\"1\" class=\"dataframe\">\n",
        "  <thead>\n",
        "    <tr style=\"text-align: right;\">\n",
        "      <th></th>\n",
        "      <th>station_id</th>\n",
        "      <th>bikes_available</th>\n",
        "      <th>slots_available</th>\n",
        "      <th>weather_timestamp</th>\n",
        "      <th>summary</th>\n",
        "      <th>precipintensity</th>\n",
        "      <th>precipprob</th>\n",
        "      <th>preciptype</th>\n",
        "      <th>precipaccumulation</th>\n",
        "      <th>temperature</th>\n",
        "    </tr>\n",
        "    <tr>\n",
        "      <th>bikes_timestamp</th>\n",
        "      <th></th>\n",
        "      <th></th>\n",
        "      <th></th>\n",
        "      <th></th>\n",
        "      <th></th>\n",
        "      <th></th>\n",
        "      <th></th>\n",
        "      <th></th>\n",
        "      <th></th>\n",
        "      <th></th>\n",
        "    </tr>\n",
        "  </thead>\n",
        "  <tbody>\n",
        "    <tr>\n",
        "      <th>2010-10-06 12:30:00-04:00</th>\n",
        "      <td> 17</td>\n",
        "      <td> 3</td>\n",
        "      <td> 12</td>\n",
        "      <td> 2010-10-06 16:00:00</td>\n",
        "      <td>      Overcast</td>\n",
        "      <td> 0</td>\n",
        "      <td> 0</td>\n",
        "      <td> NaN</td>\n",
        "      <td>NaN</td>\n",
        "      <td> 57.48</td>\n",
        "    </tr>\n",
        "    <tr>\n",
        "      <th>2010-10-06 12:45:00-04:00</th>\n",
        "      <td> 17</td>\n",
        "      <td> 3</td>\n",
        "      <td> 12</td>\n",
        "      <td> 2010-10-06 16:00:00</td>\n",
        "      <td>      Overcast</td>\n",
        "      <td> 0</td>\n",
        "      <td> 0</td>\n",
        "      <td> NaN</td>\n",
        "      <td>NaN</td>\n",
        "      <td> 57.48</td>\n",
        "    </tr>\n",
        "    <tr>\n",
        "      <th>2010-10-06 13:00:00-04:00</th>\n",
        "      <td> 17</td>\n",
        "      <td> 3</td>\n",
        "      <td> 13</td>\n",
        "      <td> 2010-10-06 17:00:00</td>\n",
        "      <td> Partly Cloudy</td>\n",
        "      <td> 0</td>\n",
        "      <td> 0</td>\n",
        "      <td> NaN</td>\n",
        "      <td>NaN</td>\n",
        "      <td> 57.90</td>\n",
        "    </tr>\n",
        "    <tr>\n",
        "      <th>2010-10-06 13:15:00-04:00</th>\n",
        "      <td> 17</td>\n",
        "      <td> 2</td>\n",
        "      <td> 14</td>\n",
        "      <td> 2010-10-06 17:00:00</td>\n",
        "      <td> Partly Cloudy</td>\n",
        "      <td> 0</td>\n",
        "      <td> 0</td>\n",
        "      <td> NaN</td>\n",
        "      <td>NaN</td>\n",
        "      <td> 57.90</td>\n",
        "    </tr>\n",
        "    <tr>\n",
        "      <th>2010-10-06 13:30:00-04:00</th>\n",
        "      <td> 17</td>\n",
        "      <td> 1</td>\n",
        "      <td> 14</td>\n",
        "      <td> 2010-10-06 17:00:00</td>\n",
        "      <td> Partly Cloudy</td>\n",
        "      <td> 0</td>\n",
        "      <td> 0</td>\n",
        "      <td> NaN</td>\n",
        "      <td>NaN</td>\n",
        "      <td> 57.90</td>\n",
        "    </tr>\n",
        "  </tbody>\n",
        "</table>\n",
        "</div>"
       ],
       "output_type": "pyout",
       "prompt_number": 6,
       "text": [
        "                           station_id  bikes_available  slots_available  \\\n",
        "bikes_timestamp                                                           \n",
        "2010-10-06 12:30:00-04:00          17                3               12   \n",
        "2010-10-06 12:45:00-04:00          17                3               12   \n",
        "2010-10-06 13:00:00-04:00          17                3               13   \n",
        "2010-10-06 13:15:00-04:00          17                2               14   \n",
        "2010-10-06 13:30:00-04:00          17                1               14   \n",
        "\n",
        "                             weather_timestamp        summary precipintensity  \\\n",
        "bikes_timestamp                                                                 \n",
        "2010-10-06 12:30:00-04:00  2010-10-06 16:00:00       Overcast               0   \n",
        "2010-10-06 12:45:00-04:00  2010-10-06 16:00:00       Overcast               0   \n",
        "2010-10-06 13:00:00-04:00  2010-10-06 17:00:00  Partly Cloudy               0   \n",
        "2010-10-06 13:15:00-04:00  2010-10-06 17:00:00  Partly Cloudy               0   \n",
        "2010-10-06 13:30:00-04:00  2010-10-06 17:00:00  Partly Cloudy               0   \n",
        "\n",
        "                           precipprob preciptype  precipaccumulation  \\\n",
        "bikes_timestamp                                                        \n",
        "2010-10-06 12:30:00-04:00           0        NaN                 NaN   \n",
        "2010-10-06 12:45:00-04:00           0        NaN                 NaN   \n",
        "2010-10-06 13:00:00-04:00           0        NaN                 NaN   \n",
        "2010-10-06 13:15:00-04:00           0        NaN                 NaN   \n",
        "2010-10-06 13:30:00-04:00           0        NaN                 NaN   \n",
        "\n",
        "                           temperature  \n",
        "bikes_timestamp                         \n",
        "2010-10-06 12:30:00-04:00        57.48  \n",
        "2010-10-06 12:45:00-04:00        57.48  \n",
        "2010-10-06 13:00:00-04:00        57.90  \n",
        "2010-10-06 13:15:00-04:00        57.90  \n",
        "2010-10-06 13:30:00-04:00        57.90  "
       ]
      }
     ],
     "prompt_number": 6
    },
    {
     "cell_type": "code",
     "collapsed": false,
     "input": [
      "model_validation_plot(binomial_fit,25, dc_17, startdate = None)"
     ],
     "language": "python",
     "metadata": {},
     "outputs": [
      {
       "output_type": "stream",
       "stream": "stdout",
       "text": [
        "Training on data up to 2011-10-06 12:30:00-04:00\n",
        "Training on data up to 2011-10-20 12:30:00-04:00"
       ]
      },
      {
       "output_type": "stream",
       "stream": "stdout",
       "text": [
        "\n",
        "Training on data up to 2011-11-03 12:30:00-04:00"
       ]
      },
      {
       "output_type": "stream",
       "stream": "stdout",
       "text": [
        "\n",
        "Training on data up to 2011-11-17 11:30:00-05:00"
       ]
      },
      {
       "output_type": "stream",
       "stream": "stdout",
       "text": [
        "\n",
        "Training on data up to 2011-12-01 11:30:00-05:00"
       ]
      },
      {
       "output_type": "stream",
       "stream": "stdout",
       "text": [
        "\n",
        "Training on data up to 2011-12-15 11:30:00-05:00"
       ]
      },
      {
       "output_type": "stream",
       "stream": "stdout",
       "text": [
        "\n",
        "Training on data up to 2011-12-29 11:30:00-05:00"
       ]
      },
      {
       "output_type": "stream",
       "stream": "stdout",
       "text": [
        "\n",
        "Training on data up to 2012-01-12 11:30:00-05:00"
       ]
      },
      {
       "output_type": "stream",
       "stream": "stdout",
       "text": [
        "\n",
        "Training on data up to 2012-01-26 11:30:00-05:00"
       ]
      },
      {
       "output_type": "stream",
       "stream": "stdout",
       "text": [
        "\n",
        "Training on data up to 2012-02-09 11:30:00-05:00"
       ]
      },
      {
       "output_type": "stream",
       "stream": "stdout",
       "text": [
        "\n",
        "Training on data up to 2012-02-23 11:30:00-05:00"
       ]
      },
      {
       "output_type": "stream",
       "stream": "stdout",
       "text": [
        "\n",
        "Training on data up to 2012-03-08 11:30:00-05:00"
       ]
      },
      {
       "output_type": "stream",
       "stream": "stdout",
       "text": [
        "\n",
        "Training on data up to 2012-03-22 12:30:00-04:00"
       ]
      },
      {
       "output_type": "stream",
       "stream": "stdout",
       "text": [
        "\n",
        "Training on data up to 2012-04-05 12:30:00-04:00"
       ]
      },
      {
       "output_type": "stream",
       "stream": "stdout",
       "text": [
        "\n",
        "Training on data up to 2012-04-19 12:30:00-04:00"
       ]
      },
      {
       "output_type": "stream",
       "stream": "stdout",
       "text": [
        "\n",
        "Training on data up to 2012-05-03 12:30:00-04:00"
       ]
      },
      {
       "output_type": "stream",
       "stream": "stdout",
       "text": [
        "\n",
        "Training on data up to 2012-05-17 12:30:00-04:00"
       ]
      },
      {
       "output_type": "stream",
       "stream": "stdout",
       "text": [
        "\n",
        "Training on data up to 2012-05-31 12:30:00-04:00"
       ]
      },
      {
       "output_type": "stream",
       "stream": "stdout",
       "text": [
        "\n",
        "Training on data up to 2012-06-14 12:30:00-04:00"
       ]
      },
      {
       "output_type": "stream",
       "stream": "stdout",
       "text": [
        "\n",
        "Training on data up to 2012-06-28 12:30:00-04:00"
       ]
      },
      {
       "output_type": "stream",
       "stream": "stdout",
       "text": [
        "\n",
        "Training on data up to 2012-07-12 12:30:00-04:00"
       ]
      },
      {
       "output_type": "stream",
       "stream": "stdout",
       "text": [
        "\n",
        "Training on data up to 2012-07-26 12:30:00-04:00"
       ]
      },
      {
       "output_type": "stream",
       "stream": "stdout",
       "text": [
        "\n",
        "Training on data up to 2012-08-09 12:30:00-04:00"
       ]
      },
      {
       "output_type": "stream",
       "stream": "stdout",
       "text": [
        "\n",
        "Training on data up to 2012-08-23 12:30:00-04:00"
       ]
      },
      {
       "output_type": "stream",
       "stream": "stdout",
       "text": [
        "\n",
        "Training on data up to 2012-09-06 12:30:00-04:00"
       ]
      },
      {
       "output_type": "stream",
       "stream": "stdout",
       "text": [
        "\n",
        "Training on data up to 2012-09-20 12:30:00-04:00"
       ]
      },
      {
       "output_type": "stream",
       "stream": "stdout",
       "text": [
        "\n",
        "Training on data up to 2012-10-04 12:30:00-04:00"
       ]
      },
      {
       "output_type": "stream",
       "stream": "stdout",
       "text": [
        "\n",
        "Training on data up to 2012-10-18 12:30:00-04:00"
       ]
      },
      {
       "output_type": "stream",
       "stream": "stdout",
       "text": [
        "\n",
        "Training on data up to 2012-11-01 12:30:00-04:00"
       ]
      },
      {
       "output_type": "stream",
       "stream": "stdout",
       "text": [
        "\n",
        "Training on data up to 2012-11-15 11:30:00-05:00"
       ]
      },
      {
       "output_type": "stream",
       "stream": "stdout",
       "text": [
        "\n",
        "Training on data up to 2012-11-29 11:30:00-05:00"
       ]
      },
      {
       "output_type": "stream",
       "stream": "stdout",
       "text": [
        "\n",
        "Training on data up to 2012-12-13 11:30:00-05:00"
       ]
      },
      {
       "output_type": "stream",
       "stream": "stdout",
       "text": [
        "\n",
        "Training on data up to 2012-12-27 11:30:00-05:00"
       ]
      },
      {
       "output_type": "stream",
       "stream": "stdout",
       "text": [
        "\n",
        "Training on data up to 2013-01-10 11:30:00-05:00"
       ]
      },
      {
       "output_type": "stream",
       "stream": "stdout",
       "text": [
        "\n",
        "Training on data up to 2013-01-24 11:30:00-05:00"
       ]
      },
      {
       "output_type": "stream",
       "stream": "stdout",
       "text": [
        "\n",
        "Training on data up to 2013-02-07 11:30:00-05:00"
       ]
      },
      {
       "output_type": "stream",
       "stream": "stdout",
       "text": [
        "\n",
        "Training on data up to 2013-02-21 11:30:00-05:00"
       ]
      },
      {
       "output_type": "stream",
       "stream": "stdout",
       "text": [
        "\n",
        "Training on data up to 2013-03-07 11:30:00-05:00"
       ]
      },
      {
       "output_type": "stream",
       "stream": "stdout",
       "text": [
        "\n",
        "Training on data up to 2013-03-21 12:30:00-04:00"
       ]
      },
      {
       "output_type": "stream",
       "stream": "stdout",
       "text": [
        "\n",
        "Training on data up to 2013-04-04 12:30:00-04:00"
       ]
      },
      {
       "output_type": "stream",
       "stream": "stdout",
       "text": [
        "\n",
        "Training on data up to 2013-04-18 12:30:00-04:00"
       ]
      },
      {
       "output_type": "stream",
       "stream": "stdout",
       "text": [
        "\n",
        "Training on data up to 2013-05-02 12:30:00-04:00"
       ]
      },
      {
       "output_type": "stream",
       "stream": "stdout",
       "text": [
        "\n",
        "Training on data up to 2013-05-16 12:30:00-04:00"
       ]
      },
      {
       "output_type": "stream",
       "stream": "stdout",
       "text": [
        "\n",
        "Training on data up to 2013-05-30 12:30:00-04:00"
       ]
      },
      {
       "output_type": "stream",
       "stream": "stdout",
       "text": [
        "\n",
        "Training on data up to 2013-06-13 12:30:00-04:00"
       ]
      },
      {
       "output_type": "stream",
       "stream": "stdout",
       "text": [
        "\n",
        "Training on data up to 2013-06-27 12:30:00-04:00"
       ]
      },
      {
       "output_type": "stream",
       "stream": "stdout",
       "text": [
        "\n",
        "Training on data up to 2013-07-11 12:30:00-04:00"
       ]
      },
      {
       "output_type": "stream",
       "stream": "stdout",
       "text": [
        "\n",
        "Training on data up to 2013-07-25 12:30:00-04:00"
       ]
      },
      {
       "output_type": "stream",
       "stream": "stdout",
       "text": [
        "\n",
        "Training on data up to 2013-08-08 12:30:00-04:00"
       ]
      },
      {
       "output_type": "stream",
       "stream": "stdout",
       "text": [
        "\n",
        "ave mse[ 9.71741943  3.56303596  4.60812211  4.76503279]"
       ]
      },
      {
       "output_type": "stream",
       "stream": "stdout",
       "text": [
        "\n",
        "ave mse ind [ 0.12466452  0.15184181  0.42927587  0.2145372 ]\n"
       ]
      },
      {
       "output_type": "display_data",
       "png": "[encoded data removed]"
      },
      {
       "output_type": "display_data",
       "png": "[encoded data removed]"
      }
     ],
     "prompt_number": 16
    },
    {
     "cell_type": "code",
     "collapsed": false,
     "input": [],
     "language": "python",
     "metadata": {},
     "outputs": []
    }
   ],
   "metadata": {}
  }
 ]
}