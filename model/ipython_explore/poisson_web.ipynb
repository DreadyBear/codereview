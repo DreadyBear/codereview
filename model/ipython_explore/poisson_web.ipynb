{
 "metadata": {
  "name": "poisson_web"
 },
 "nbformat": 3,
 "nbformat_minor": 0,
 "worksheets": [
  {
   "cells": [
    {
     "cell_type": "code",
     "collapsed": false,
     "input": [
      "import os\n",
      "import psycopg2\n",
      "import numpy as np\n",
      "import pandas as pd\n",
      "import patsy\n",
      "import statsmodels.api as sm\n",
      "import pickle\n",
      "import random\n",
      "import math\n",
      "from datetime import *\n",
      "import pytz\n",
      "from dateutil.relativedelta import *\n",
      "import calendar\n",
      "\n",
      "# Connect to postgres db\n",
      "conn = psycopg2.connect(\"dbname=\"+os.environ.get('dbname')+\" user=\"+os.environ.get('dbuser')\n",
      "+ \" host=\"+os.environ.get('dburl'))"
     ],
     "language": "python",
     "metadata": {},
     "outputs": [],
     "prompt_number": 1
    },
    {
     "cell_type": "code",
     "collapsed": false,
     "input": [
      "def get_station_data(station_id):\n",
      "    # Pulls Data for Given Station_id and Converts to Pandas Dataframe\n",
      "    cur = conn.cursor()\n",
      "\n",
      "    # Fetch data for station 17 in Washington, DC - 16th & Harvard St NW, terminalName: 31103\n",
      "    cur.execute(\"SELECT * FROM bike_ind_washingtondc WHERE tfl_id = %s;\" % station_id)\n",
      "    station_data = cur.fetchall()\n",
      "\n",
      "    # Put data in pandas dataframe\n",
      "    station_updates = pd.DataFrame.from_records(station_data, columns = [\"station_id\", \"bikes_available\", \"spaces_available\", \"timestamp\"], index = \"timestamp\")\n",
      "\n",
      "    # Convert UTC timezone of the timestamps to DC's Eastern time\n",
      "    station_updates.index = station_updates.index.tz_localize('UTC').tz_convert('US/Eastern')\n",
      "\n",
      "    return station_updates"
     ],
     "language": "python",
     "metadata": {},
     "outputs": [],
     "prompt_number": 2
    },
    {
     "cell_type": "code",
     "collapsed": false,
     "input": [
      "def fit_poisson(station_updates):\n",
      "\n",
      "    # Find changes (deltas) in bike count\n",
      "    bikes_available = station_updates.bikes_available\n",
      "\n",
      "    deltas = bikes_available - bikes_available.shift()\n",
      "\n",
      "    # Show the histogram of the deltas. Need to remove outliers first.\n",
      "    # clipped_deltas = deltas[(deltas > -6) & (deltas < 6)]\n",
      "    # clipped_deltas.hist(bins=11)\n",
      "    \n",
      "    # Separate positive and negative deltas\n",
      "    pos_deltas = deltas[deltas > 0]\n",
      "    neg_deltas = abs(deltas[deltas < 0])\n",
      "\n",
      "    # Count the number of positive and negative deltas per half hour per day, add them to new dataframe.\n",
      "    time_interval = '1H'\n",
      "    pos_interval_counts_null = pos_deltas.resample(time_interval, how ='sum')\n",
      "    neg_interval_counts_null = neg_deltas.resample(time_interval, how ='sum')\n",
      "\n",
      "    # Set NaN delta counts to 0\n",
      "    # By default the resampling step puts NaN (null values) into the data when there were no observations\n",
      "    # to count up during those thirty minutes. \n",
      "    arrivals = pos_interval_counts_null.fillna(0)\n",
      "    departures = neg_interval_counts_null.fillna(0)\n",
      "\n",
      "    arrivals_departures = pd.DataFrame(arrivals, columns=[\"arrivals\"])\n",
      "    arrivals_departures['departures'] = departures\n",
      "    \n",
      "    # Extract months for Month feature, add to model data\n",
      "    delta_months = arrivals_departures.index.month\n",
      "    arrivals_departures['months'] = delta_months\n",
      "\n",
      "    # Extract hours for Hour feature\n",
      "    delta_hours = arrivals_departures.index.hour\n",
      "    arrivals_departures['hours'] = delta_hours\n",
      "\n",
      "    # Extract weekday vs. weekend variable\n",
      "    delta_dayofweek = arrivals_departures.index.weekday\n",
      "\n",
      "    delta_weekday_dummy = delta_dayofweek.copy()\n",
      "    delta_weekday_dummy[delta_dayofweek < 5] = 1\n",
      "    delta_weekday_dummy[delta_dayofweek >= 5] = 0\n",
      "\n",
      "    arrivals_departures['weekday_dummy'] = delta_weekday_dummy\n",
      "\n",
      "    # print arrivals_departures\n",
      "    # print arrivals_departures.head(20)\n",
      "    \n",
      "    # Create design matrix for months, hours, and weekday vs. weekend.\n",
      "    # We can't just create a \"month\" column to toss into our model, because it doesnt\n",
      "    # understand what \"June\" is. Instead, we need to create a column for each month\n",
      "    # and code each row according to what month it's in. Ditto for hours and weekday (=1).\n",
      "    \n",
      "    y_arr, X_arr = patsy.dmatrices(\"arrivals ~ C(months, Treatment) + C(hours, Treatment) + C(weekday_dummy, Treatment)\", arrivals_departures, return_type='dataframe')\n",
      "    y_dep, X_dep = patsy.dmatrices(\"departures ~ C(months, Treatment) + C(hours, Treatment) + C(weekday_dummy, Treatment)\", arrivals_departures, return_type='dataframe')\n",
      "\n",
      "    y_dep[pd.isnull(y_dep)] = 0\n",
      "    \n",
      "    # Fit poisson distributions for arrivals and departures, print results\n",
      "    arr_poisson_model = sm.Poisson(y_arr, X_arr)\n",
      "    arr_poisson_results = arr_poisson_model.fit(disp=0)\n",
      "    \n",
      "    dep_poisson_model = sm.Poisson(y_dep, X_dep)\n",
      "    dep_poisson_results = dep_poisson_model.fit(disp = 0)\n",
      "    \n",
      "    # print arr_poisson_results.summary(), dep_poisson_results.summary()\n",
      "    \n",
      "    poisson_results = [arr_poisson_results, dep_poisson_results]\n",
      "    \n",
      "    return poisson_results"
     ],
     "language": "python",
     "metadata": {},
     "outputs": [],
     "prompt_number": 3
    },
    {
     "cell_type": "code",
     "collapsed": false,
     "input": [
      "# Predict *net* lambda value some time in the future, using the list of hours created above.\n",
      "# You can predict any number of hours ahead using interval_length, default is set to 1 hour.\n",
      "\n",
      "# The arrival lambda at 12pm actually means the expected arrival rate from 12pm to 1pm. But if the\n",
      "# current time is 12:15pm and you're estimating an hour ahead to 1:15pm, you need to find\n",
      "# 3/4ths of the lambda from 12pm - 1pm and add it to 1/4th of the lambda from 1pm to 2pm.\n",
      "# This section returns the total lambda over that interval, during which the rate is changing.\n",
      "\n",
      "# It also works for predictions multiple hours ahead, as all those lambdas will be summed\n",
      "# and yield a large expected value, which makes sense if you're counting bikes over several hours.\n",
      "\n",
      "# The function predicts arrival lambdas across the time interval, does the same thing independently\n",
      "# for departure lambdas, and finds their difference to get the net lambda at that time - the change in bikes\n",
      "# you'll see at the station in an hour. Add the net lambda to the current number of bikes to get\n",
      "# the prediction of the expected value of how many bikes will be there.\n",
      "\n",
      "def lambda_calc(month, time, weekday, poisson_results):\n",
      "    \"Compute the lambda value for a specific month, time (hour), and weekday.\"\n",
      "        \n",
      "    # Pull out coefficient estimates for the factored covariants\n",
      "    #estimates = poisson_results[\"params\"]\n",
      "    estimates = poisson_results.params\n",
      "    \n",
      "    # Fetch intercept\n",
      "    intercept = estimates['Intercept']\n",
      "        \n",
      "    # Fetch coefficient estimate that corresponds to the month..\n",
      "    if month == 1:\n",
      "        month_estimate = 0\n",
      "    else:\n",
      "        month_estimate = estimates['C(months, Treatment)[T.'+str(month)+']']\n",
      "    \n",
      "    # .. to the hour\n",
      "    hour = floor(time)\n",
      "    if (hour == 0) or (hour == 24):\n",
      "        hour_estimate = 0\n",
      "    else:\n",
      "       hour_estimate = estimates['C(hours, Treatment)[T.'+str(int(hour))+']']\n",
      "    \n",
      "    # .. and to the weekday status.\n",
      "    if weekday == 0:\n",
      "        weekday_estimate = 0\n",
      "    else:\n",
      "        weekday_estimate = estimates['C(weekday_dummy, Treatment)[T.'+str(weekday)+']']\n",
      "    \n",
      "    # Compute log lambda, which is linear function of the hour, month, and weekday coefficient estimates\n",
      "    log_lambda = intercept + month_estimate + hour_estimate + weekday_estimate\n",
      "        \n",
      "    # Raise e to the computed log lambda to find the estimated value of the Poisson distribution for these covariates.\n",
      "    est_lambda = exp(log_lambda)\n",
      "        \n",
      "    return est_lambda\n",
      "    \n",
      "\n",
      "def predict_net_lambda(current_time, prediction_interval, month, weekday, poisson_results):\n",
      "    \n",
      "    # Define function that takes in a month, time, weekday and returns \n",
      "    # a lambda - the expected value of arrivals or departures during that hour (given that month)\n",
      "    # - using the covariate coefficients estimated above.\n",
      "    \n",
      "    # Create list of hours in between the current time and the prediction time\n",
      "    # Need to do this to calculate cumulative rate of arrivals and departures\n",
      "    prediction_time = current_time + prediction_interval\n",
      "\n",
      "    time_list = [current_time]\n",
      "    next_step = current_time\n",
      "    while next_step != prediction_time:\n",
      "    \n",
      "        if floor(next_step) + 1 < prediction_time:\n",
      "            next_step = floor(next_step) + 1\n",
      "            time_list.append(next_step)\n",
      "        \n",
      "        else:\n",
      "            next_step = prediction_time\n",
      "            time_list.append(next_step)\n",
      "        \n",
      "    \n",
      "    # Calculate the cumulative lambda rate over the predition interval\n",
      "    arr_cum_lambda = 0 \n",
      "    dep_cum_lambda = 0 \n",
      "    \n",
      "    # Find cumulative lambda for arrivals..\n",
      "    for i in range(1, len(time_list)):\n",
      "        est_lambda = lambda_calc(month, time_list[ i - 1 ], weekday, poisson_results[0])\n",
      "        hour_proportion = time_list[i] - time_list[ i - 1 ]\n",
      "    \n",
      "        interval_lambda = est_lambda * hour_proportion\n",
      "        \n",
      "        arr_cum_lambda += interval_lambda\n",
      "        \n",
      "    # .. and departures\n",
      "    for i in range(1, len(time_list)):\n",
      "        est_lambda = lambda_calc(month, time_list[ i - 1 ], weekday, poisson_results[1])\n",
      "        hour_proportion = time_list[i] - time_list[ i - 1 ]\n",
      "    \n",
      "        interval_lambda = est_lambda * hour_proportion\n",
      "        \n",
      "        dep_cum_lambda += interval_lambda\n",
      "    \n",
      "    net_lambda = arr_cum_lambda - dep_cum_lambda\n",
      "    \n",
      "    return net_lambda"
     ],
     "language": "python",
     "metadata": {},
     "outputs": [],
     "prompt_number": 14
    },
    {
     "cell_type": "code",
     "collapsed": false,
     "input": [
      "# Estimate the poisson!\n",
      "def save_poisson_results():\n",
      "    station_ids = distinctIds()\n",
      "    # station_ids = distinctIds()[:1]\n",
      "    for station_id in station_ids:\n",
      "        station_updates = get_station_data(station_id)\n",
      "        poisson_results = fit_poisson(station_updates)\n",
      "        file_out = open(\"/mnt/data1/BikeShare/pickles/poisson_results_%s.p\" % station_id, \"wb\")\n",
      "        to_save_ps = (poisson_results[0].params, poisson_results[1].params)\n",
      "        pickle.dump(to_save_ps, file_out)\n",
      "        file_out.close()\n",
      "        print \"did %s\" % station_id\n",
      "save_poisson_results()"
     ],
     "language": "python",
     "metadata": {},
     "outputs": [
      {
       "output_type": "stream",
       "stream": "stdout",
       "text": [
        "Optimization terminated successfully.\n",
        "         Current function value: 11218.536146\n",
        "         Iterations 11\n",
        "Optimization terminated successfully."
       ]
      },
      {
       "output_type": "stream",
       "stream": "stdout",
       "text": [
        "\n",
        "         Current function value: 10796.887888\n",
        "         Iterations 10\n",
        "did 1\n",
        "Optimization terminated successfully."
       ]
      },
      {
       "output_type": "stream",
       "stream": "stdout",
       "text": [
        "\n",
        "         Current function value: 19420.957554\n",
        "         Iterations 10\n",
        "Optimization terminated successfully."
       ]
      },
      {
       "output_type": "stream",
       "stream": "stdout",
       "text": [
        "\n",
        "         Current function value: 19768.473962\n",
        "         Iterations 10\n",
        "did 2\n",
        "Optimization terminated successfully."
       ]
      },
      {
       "output_type": "stream",
       "stream": "stdout",
       "text": [
        "\n",
        "         Current function value: 20502.445646\n",
        "         Iterations 10\n",
        "Optimization terminated successfully."
       ]
      },
      {
       "output_type": "stream",
       "stream": "stdout",
       "text": [
        "\n",
        "         Current function value: 22153.466785\n",
        "         Iterations 10\n",
        "did 3\n",
        "Optimization terminated successfully."
       ]
      },
      {
       "output_type": "stream",
       "stream": "stdout",
       "text": [
        "\n",
        "         Current function value: 17330.313800\n",
        "         Iterations 9\n",
        "Optimization terminated successfully."
       ]
      },
      {
       "output_type": "stream",
       "stream": "stdout",
       "text": [
        "\n",
        "         Current function value: 17080.244095\n",
        "         Iterations 10\n",
        "did 4\n",
        "Optimization terminated successfully."
       ]
      },
      {
       "output_type": "stream",
       "stream": "stdout",
       "text": [
        "\n",
        "         Current function value: 12858.336226\n",
        "         Iterations 10\n",
        "Optimization terminated successfully."
       ]
      },
      {
       "output_type": "stream",
       "stream": "stdout",
       "text": [
        "\n",
        "         Current function value: 12868.490297\n",
        "         Iterations 11\n",
        "did 5\n",
        "Optimization terminated successfully."
       ]
      },
      {
       "output_type": "stream",
       "stream": "stdout",
       "text": [
        "\n",
        "         Current function value: 14027.757994\n",
        "         Iterations 10\n",
        "Optimization terminated successfully."
       ]
      },
      {
       "output_type": "stream",
       "stream": "stdout",
       "text": [
        "\n",
        "         Current function value: 14623.737411\n",
        "         Iterations 9\n",
        "did 6\n",
        "Optimization terminated successfully."
       ]
      },
      {
       "output_type": "stream",
       "stream": "stdout",
       "text": [
        "\n",
        "         Current function value: 18880.857629\n",
        "         Iterations 10\n",
        "Optimization terminated successfully."
       ]
      },
      {
       "output_type": "stream",
       "stream": "stdout",
       "text": [
        "\n",
        "         Current function value: 18980.330289\n",
        "         Iterations 10\n",
        "did 7\n",
        "Optimization terminated successfully."
       ]
      },
      {
       "output_type": "stream",
       "stream": "stdout",
       "text": [
        "\n",
        "         Current function value: 34669.926415\n",
        "         Iterations 10\n",
        "Optimization terminated successfully."
       ]
      },
      {
       "output_type": "stream",
       "stream": "stdout",
       "text": [
        "\n",
        "         Current function value: 32042.680432\n",
        "         Iterations 9\n",
        "did 8\n",
        "Optimization terminated successfully."
       ]
      },
      {
       "output_type": "stream",
       "stream": "stdout",
       "text": [
        "\n",
        "         Current function value: 17123.120346\n",
        "         Iterations 9\n",
        "Optimization terminated successfully."
       ]
      },
      {
       "output_type": "stream",
       "stream": "stdout",
       "text": [
        "\n",
        "         Current function value: 17624.943321\n",
        "         Iterations 10\n",
        "did 9\n",
        "Optimization terminated successfully."
       ]
      },
      {
       "output_type": "stream",
       "stream": "stdout",
       "text": [
        "\n",
        "         Current function value: 24195.914813\n",
        "         Iterations 9\n",
        "Optimization terminated successfully."
       ]
      },
      {
       "output_type": "stream",
       "stream": "stdout",
       "text": [
        "\n",
        "         Current function value: 24279.941913\n",
        "         Iterations 10\n",
        "did 10\n",
        "Optimization terminated successfully."
       ]
      },
      {
       "output_type": "stream",
       "stream": "stdout",
       "text": [
        "\n",
        "         Current function value: 20726.652484\n",
        "         Iterations 9\n",
        "Optimization terminated successfully."
       ]
      },
      {
       "output_type": "stream",
       "stream": "stdout",
       "text": [
        "\n",
        "         Current function value: 22422.834034\n",
        "         Iterations 10\n",
        "did 11\n",
        "Optimization terminated successfully."
       ]
      },
      {
       "output_type": "stream",
       "stream": "stdout",
       "text": [
        "\n",
        "         Current function value: 21913.917240\n",
        "         Iterations 9\n",
        "Optimization terminated successfully."
       ]
      }
     ],
     "prompt_number": "*"
    },
    {
     "cell_type": "code",
     "collapsed": false,
     "input": [
      "def load_poisson_result(station_id):\n",
      "    temp = pickle.load(open(\"/mnt/data1/BikeShare/pickles/poisson_results_%s.p\" % station_id, \"rb\"))\n",
      "    return (dict(params=temp[0]), dict(params=temp[1]))"
     ],
     "language": "python",
     "metadata": {},
     "outputs": [],
     "prompt_number": 5
    },
    {
     "cell_type": "code",
     "collapsed": true,
     "input": [
      "'''\n",
      "# Auxiliary code\n",
      "# Try to predict!\n",
      "current_time = 17.5\n",
      "prediction_interval = 1\n",
      "month = 5\n",
      "weekday = 0\n",
      "\n",
      "bike_change = predict_net_lambda(current_time, prediction_interval, month, weekday, poisson_results)\n",
      "# print \"The change in bikes at time %s and month %s is %s\" % (str(floor(current_time)), str(month), str(bike_change))\n",
      "\n",
      "# Plot predictions of available bikes by hour for given covariates\n",
      "init_bikes = 18\n",
      "bike = init_bikes\n",
      "bikes = [init_bikes]\n",
      "hours_of_day  = range(1,24)\n",
      "\n",
      "for hour in hours_of_day:\n",
      "    bike += predict_net_lambda(hour, prediction_interval, month, weekday, poisson_results)\n",
      "    bikes.append(bike)\n",
      "       \n",
      "pd.Series(bikes).plot()\n",
      "'''"
     ],
     "language": "python",
     "metadata": {},
     "outputs": [
      {
       "output_type": "pyout",
       "prompt_number": 6,
       "text": [
        "'\\n# Auxiliary code\\n# Try to predict!\\ncurrent_time = 17.5\\nprediction_interval = 1\\nmonth = 5\\nweekday = 0\\n\\nbike_change = predict_net_lambda(current_time, prediction_interval, month, weekday, poisson_results)\\n# print \"The change in bikes at time %s and month %s is %s\" % (str(floor(current_time)), str(month), str(bike_change))\\n\\n# Plot predictions of available bikes by hour for given covariates\\ninit_bikes = 18\\nbike = init_bikes\\nbikes = [init_bikes]\\nhours_of_day  = range(1,24)\\n\\nfor hour in hours_of_day:\\n    bike += predict_net_lambda(hour, prediction_interval, month, weekday, poisson_results)\\n    bikes.append(bike)\\n       \\npd.Series(bikes).plot()\\n'"
       ]
      }
     ],
     "prompt_number": 6
    },
    {
     "cell_type": "code",
     "collapsed": false,
     "input": [
      "# Simulate bike availability at station 17 for next half hour\n",
      "\n",
      "# We're doing this to flag when station is full or empty, which\n",
      "# is what bikeshare operators want.\n",
      "\n",
      "#import sys \n",
      "\n",
      "def simulate_bikes(station_id, starting_time, final_time, max_slots, starting_bikes_available, month, weekday, poisson_results):\n",
      "    bikes_available = starting_bikes_available\n",
      "    current_time = starting_time\n",
      "    go_empty = 0\n",
      "    go_full = 0\n",
      "    while current_time < final_time:\n",
      "        # Calculate the Appropriate Up and Down Rate Terms\n",
      "\t\tup_lambda = lambda_calc(month,current_time,weekday, poisson_results[0])\n",
      "\t\tdown_lambda = lambda_calc(month,current_time,weekday, poisson_results[1])\n",
      "\t\ttotal_lambda = float(up_lambda + down_lambda)\n",
      "\n",
      "\t\tnext_obs_time = random.expovariate(total_lambda)\n",
      "\t\tchance_up = up_lambda / total_lambda\n",
      "\n",
      "\t\t# Update the Current Time to the Next Observation Time\n",
      "\t\tcurrent_time += next_obs_time\t\t\n",
      "\n",
      "\t\tif current_time < final_time:\n",
      "\n",
      "\t\t\tif random.uniform(0,1) > chance_up:\n",
      "\t\t\t\tbikes_available -= 1\n",
      "\t\t\telse:\n",
      "\t\t\t\tbikes_available += 1\n",
      "\n",
      "\t\t# Adjust Bikes Available to Sit Inside Range\n",
      "\t\tif bikes_available < 0:\n",
      "\t\t\tbikes_available = 0\n",
      "\t\telif bikes_available > max_slots:\n",
      "\t\t\tbikes_available = max_slots\n",
      "\n",
      "\t\tif bikes_available == 0:\n",
      "\t\t\tgo_empty = 1\n",
      "\t\tif bikes_available == max_slots:\n",
      "\t\t\tgo_full = 1\n",
      "\n",
      "    return (bikes_available, go_empty, go_full)\n",
      "\n",
      "\n",
      "def simulation(station_id, starting_time, final_time, max_slots, starting_bikes_available, month, weekday, simulate_bikes, trials=250):\n",
      "    poisson_results = load_poisson_result(station_id)\n",
      "    bikes_results = [] # numbikes at the station at the end of each trial\n",
      "    go_empty_results = [] #\n",
      "    go_full_results = [] #\n",
      "    for i in range(1,trials):\n",
      "\t\tbikes, empty, full = simulate_bikes(station_id, starting_time,final_time,max_slots,starting_bikes_available,month,weekday, poisson_results)\n",
      "\t\tbikes_results.append(bikes)\n",
      "\t\tgo_empty_results.append(empty)\n",
      "\t\tgo_full_results.append(full)\n",
      "    return (bikes_results, go_empty_results, go_full_results)"
     ],
     "language": "python",
     "metadata": {},
     "outputs": [],
     "prompt_number": 9
    },
    {
     "cell_type": "code",
     "collapsed": false,
     "input": [
      "def make_prediction(station_id, how_many_mins):\n",
      "    starting_datetime = datetime.now(pytz.timezone('US/Eastern'))\n",
      "    ending_datetime = starting_datetime + relativedelta(minutes=how_many_mins)\n",
      "\n",
      "    \n",
      "    # protect sql injection later?\n",
      "    cur = conn.cursor()\n",
      "    cur.execute(\"select * from bike_ind_washingtondc where tfl_id = %s order by timestamp desc limit 1;\" % station_id)\n",
      "    _, starting_bikes_available, num_spaces, _  = cur.fetchall()[0] #(station_id, bikes, spaces, timestamp)\n",
      "    \n",
      "    max_slots = starting_bikes_available + num_spaces\n",
      "    \n",
      "    month = starting_datetime.month # Between 1-12\n",
      "    \n",
      "    weekday = 0\n",
      "    if (starting_datetime.isoweekday == 0) or (starting_datetime.isoweekday == 7):\n",
      "        weekday = 1\n",
      "    \n",
      "    starting_time = round(starting_datetime.hour + (starting_datetime.minute / float(60)), 3)\n",
      "    ending_time = round(ending_datetime.hour + (ending_datetime.minute / float(60)), 3)\n",
      "    \n",
      "    bikes_results, empty_results, full_results = simulation(station_id, starting_time, ending_time, max_slots, \\\n",
      "        starting_bikes_available, month, weekday, simulate_bikes, 500)\n",
      "    \n",
      "    week_dict = {'0': 'Week', '1' : 'Weekend'}\n",
      "\n",
      "    # net_lambda = predict_net_lambda(starting_time, final_time - starting_time, month, weekday, poisson_results)\n",
      "    \n",
      "    print (\"In %s during the %s\" % (calendar.month_name[month], week_dict[str(weekday)]))\n",
      "    print (\"For Starting Time: %0.2f and Ending Time: %0.2f with Initial Bikes: %d out of a Maximum: %d\" % (starting_time, ending_time, starting_bikes_available, max_slots))\n",
      "    print ('Expected Number of Bikes at %s: %0.2f' % (ending_time, round(np.mean(bikes_results),2)))\n",
      "    # print 'Other Expected Value : ', starting_bikes_available + net_lambda\n",
      "    print ('Probability of Being (Empty, Full) Any Time in the Next %0.2f hours: (%0.2f, %0.2f)' % \\\n",
      "        (ending_time - starting_time, round(np.mean(empty_results),2), round(np.mean(full_results),2)))\n",
      "    return\n",
      "\n",
      "%time make_prediction('17', 15*4)"
     ],
     "language": "python",
     "metadata": {},
     "outputs": [
      {
       "output_type": "stream",
       "stream": "stdout",
       "text": [
        "In August during the Week\n",
        "For Starting Time: 17.32 and Ending Time: 18.32 with Initial Bikes: 0 out of a Maximum: 33\n",
        "Expected Number of Bikes at 18.317: 2.58\n",
        "Probability of Being (Empty, Full) Any Time in the Next 1.00 hours: (0.75, 0.00)\n",
        "CPU times: user 0.30 s, sys: 0.00 s, total: 0.30 s\n",
        "Wall time: 0.29 s\n"
       ]
      }
     ],
     "prompt_number": 10
    },
    {
     "cell_type": "code",
     "collapsed": false,
     "input": [
      "def run_code():\n",
      "    \n",
      "    starting_time = 6.0\n",
      "    final_time = 6.5\n",
      "    starting_bikes_available = 21\n",
      "    max_slots = 25\n",
      "    \n",
      "    month = 8\n",
      "    weekday = 0\n",
      "    \n",
      "    station_id = '17'\n",
      "\n",
      "    #starting_time, final_time, max_slots, starting_bikes_available, month, weekday,\n",
      "    \n",
      "    bikes_results, empty_results, full_results = simulation(station_id, starting_time, final_time, max_slots, starting_bikes_available, \\\n",
      "        month, weekday,simulate_bikes, 500)\n",
      "    \n",
      "    expected_num_bikes = round(np.mean(bikes_results), 2)\n",
      "    prob_empty_any_time = round(np.mean(empty_results), 2)\n",
      "    prob_full_any_time = round(np.mean(full_results), 2)\n",
      "    \n",
      "    #print (expected_num_bikes, prob_empty_any_time, prob_full_any_time)\n",
      "    \n",
      "%timeit run_code()"
     ],
     "language": "python",
     "metadata": {},
     "outputs": [
      {
       "output_type": "stream",
       "stream": "stdout",
       "text": [
        "10 loops, best of 3: 64.2 ms per loop\n"
       ]
      }
     ],
     "prompt_number": 11
    },
    {
     "cell_type": "code",
     "collapsed": false,
     "input": [
      "def distinctIds():\n",
      "    cur = conn.cursor()\n",
      "    cur.execute(\"SELECT DISTINCT id FROM metadata_washingtondc order by id;\")\n",
      "    station_ids = cur.fetchall()\n",
      "\n",
      "    station_list = []\n",
      "    for station in station_ids:\n",
      "        station_list.append(station[0])\n",
      "        \n",
      "    return station_list\n",
      "print distinctIds()"
     ],
     "language": "python",
     "metadata": {},
     "outputs": [
      {
       "output_type": "stream",
       "stream": "stdout",
       "text": [
        "[1, 2, 3, 4, 5, 6, 7, 8, 9, 10, 11, 12, 13, 14, 15, 16, 17, 18, 19, 20, 21, 22, 23, 24, 25, 26, 27, 28, 29, 30, 31, 32, 33, 34, 35, 36, 37, 38, 39, 40, 41, 42, 43, 44, 45, 46, 47, 48, 49, 51, 52, 53, 54, 55, 56, 57, 58, 59, 60, 61, 62, 63, 64, 65, 66, 67, 68, 69, 70, 71, 72, 73, 74, 75, 76, 77, 78, 79, 80, 81, 82, 83, 84, 85, 86, 87, 88, 89, 90, 91, 92, 93, 94, 95, 96, 97, 98, 99, 100, 101, 102, 103, 104, 105, 106, 107, 108, 109, 110, 111, 112, 113, 114, 115, 116, 117, 118, 124, 125, 126, 127, 128, 129, 130, 131, 132, 133, 134, 135, 136, 137, 138, 139, 140, 141, 142, 143, 144, 145, 146, 147, 148, 149, 150, 151, 152, 153, 154, 155, 156, 157, 158, 159, 160, 161, 162, 163, 164, 165, 166, 167, 168, 169, 170, 171, 172, 173, 174, 175, 176, 177, 178, 179, 180, 181, 182, 183, 185, 186, 187, 188, 189, 190, 191, 192, 193, 194, 195, 196, 197, 198, 199, 200, 201, 202, 203, 204, 206, 207, 208, 209, 210, 211, 212, 213, 214, 215, 216, 217, 218, 219, 220, 221, 222, 223, 224, 225, 226, 227, 228, 229, 230, 231, 232, 233, 234, 235, 236, 237, 238, 239, 240, 241, 242, 243, 244, 245, 246, 247, 248, 249, 250, 251, 252, 253, 254]\n"
       ]
      }
     ],
     "prompt_number": 8
    },
    {
     "cell_type": "code",
     "collapsed": false,
     "input": [
      "station_id = '17'\n",
      "total_station_updates = get_station_data(station_id)\n"
     ],
     "language": "python",
     "metadata": {},
     "outputs": [],
     "prompt_number": 12
    },
    {
     "cell_type": "code",
     "collapsed": false,
     "input": [
      "def validation_simulation(station_id, starting_time, final_time, max_slots, starting_bikes_available, month, weekday, poisson_results, trials=250):\n",
      "    bikes_results = [] # numbikes at the station at the end of each trial\n",
      "    go_empty_results = [] #\n",
      "    go_full_results = [] #\n",
      "    for i in range(1,trials):\n",
      "\t\tbikes, empty, full = simulate_bikes(station_id, starting_time,final_time,max_slots,starting_bikes_available,month,weekday, poisson_results)\n",
      "\t\tbikes_results.append(bikes)\n",
      "\t\tgo_empty_results.append(empty)\n",
      "\t\tgo_full_results.append(full)\n",
      "    return (bikes_results, go_empty_results, go_full_results)\n",
      "\n",
      "def station_updates_until_time(time, total_station_updates):\n",
      "    station_updates = total_station_updates[:str(time)]\n",
      "    return station_updates\n",
      "\n",
      "def empty_in_window(starting_time, ending_time, total_station_updates):\n",
      "    go_empty = 0\n",
      "    bikes_available_in_window = total_station_updates['bikes_available'][str(starting_time):str(ending_time)]\n",
      "    return int(any(bikes_available_in_window==0))\n",
      "\n",
      "def bikes_at_time(time, total_station_updates):\n",
      "    bikes_available_up_to_time = total_station_updates['bikes_available'][str(time):]\n",
      "    return bikes_available_up_to_time[0]\n",
      "\n",
      "def mse_calculation(min_time_pt, last_time, months_time_step, days_time_step, hours_time_step, prediction_interval, total_station_updates):\n",
      "    time = min_time_pt\n",
      "    SE = 0\n",
      "    SE_IND = 0\n",
      "    \n",
      "    # initialize empty list for keeping track of quality of predictions\n",
      "    ERROR = []\n",
      "    num_comps = 1\n",
      "    while time < last_time:\n",
      "        poisson_results_validation = fit_poisson(station_updates_until_time(time, total_station_updates))\n",
      "        \n",
      "        converted_time = round(time.hour + (time.minute / float(60)), 3)\n",
      "        final_time = time + relativedelta(hours = prediction_interval)\n",
      "        converted_final_time = round(final_time.hour + (final_time.minute / float(60)), 3)\n",
      "        \n",
      "        max_slots = 25\n",
      "        month = time.month\n",
      "        weekday = 0\n",
      "        if (time.isoweekday == 0) or (time.isoweekday == 7):\n",
      "            weekday = 1\n",
      "        \n",
      "        starting_bikes_available = bikes_at_time(time, total_station_updates)\n",
      "        \n",
      "        bikes_results, empty_results, full_results = validation_simulation(station_id, converted_time, converted_final_time,  max_slots, starting_bikes_available, month, weekday, poisson_results_validation, 250)\n",
      "        \n",
      "        expected_bikes = np.mean(bikes_results)\n",
      "        prob_empty = np.mean(empty_results)\n",
      "        \n",
      "        SE += (expected_bikes - float(bikes_at_time(final_time, total_station_updates)))**2\n",
      "        SE_IND += (prob_empty - empty_in_window(time, final_time, total_station_updates))**2\n",
      "        ERROR.append(expected_bikes - float(bikes_at_time(final_time, total_station_updates)))\n",
      "        \n",
      "        time += relativedelta(months = months_time_step, days = days_time_step, hours = hours_time_step)\n",
      "        num_comps += 1\n",
      "    \n",
      "    MSE = SE / num_comps\n",
      "    MSE_IND = SE_IND / num_comps\n",
      "    \n",
      "    \n",
      "    return (MSE, MSE_IND, ERROR)\n",
      "\n",
      "#print total_station_updates.index[-1]\n",
      "\n",
      "last_time = datetime(2013, 7, 1, 12,0,0)\n",
      "\n",
      "# Validate the model!\n",
      "min_time_pt = datetime(2011, 10, 7,12,38,2)\n",
      "\n",
      "months_time_step = 0 # number of months time step\n",
      "days_time_step = 7 # number of days time step\n",
      "hours_time_step = 1 # number of hours time step\n",
      "\n",
      "preds = [0.25, 0.5, 0.75, 1.0, 2.0] # Number of Hours Out We Want to Predict\n",
      "mse_results = []\n",
      "mse_ind_results = []\n",
      "error_results = []\n",
      "\n",
      "for prediction_interval in preds:\n",
      "    mse, mse_ind, error = mse_calculation(min_time_pt, last_time, months_time_step, days_time_step, hours_time_step, prediction_interval, total_station_updates)\n",
      "    \n",
      "    mse_results.append(mse)\n",
      "    mse_ind_results.append(mse_ind)\n",
      "    error_results.append(error)\n",
      "    \n",
      "print mse_results\n",
      "\n",
      "print mse_ind_results\n",
      "\n",
      "print error_results\n"
     ],
     "language": "python",
     "metadata": {},
     "outputs": [
      {
       "output_type": "stream",
       "stream": "stdout",
       "text": [
        "[5.647103884003287, 15.944980327328999, 19.332733732936955, 22.442396444864148, 33.032310893248635]\n",
        "[0.041069525464938438, 0.061092952949535921, 0.070562846292270012, 0.065956043601565456, 0.097373473770628674]\n",
        "[[0.27710843373493976, 0.036144578313252573, -3.9236947791164658, 0.89156626506024095, 0.26907630522088355, 1.2489959839357434, 0.1204819277108431, 2.3172690763052213, 0.040160642570281624, -4.7911646586345391, -7.666666666666667, 0.056224899598394273, 1.1726907630522092, 0.076305220883533309, -0.020080321285139036, -0.080321285140563248, -0.0080321285140563248, -0.072289156626505147, -1.0160642570281126, -0.25301204819277068, -1.1164658634538149, 1.4337349397590344, 2.9116465863453822, -1.4819277108433735, -8.024096385542169, 0.58232931726907633, 2.0963855421686746, -1.7349397590361446, 0.52208835341365467, -3.8072289156626504, 3.333333333333333, 0.49397590361445776, 1.0522088353413654, 0.49397590361445864, 1.0, -1.0642570281124497, -0.45783132530120341, -2.7991967871485937, -0.91164658634538132, 0.036144578313251685, 0.01606425702811265, -0.096385542168674121, -0.91164658634538154, -0.37751004016064194, -0.30923694779116495, -0.17269076305220921, 2.9036144578313241, 1.7188755020080322, 3.80722891566265, 1.9959839357429718, -0.47791164658634533, -0.19277108433734824, 5.9638554216867474, -6.5903614457831328, 1.4538152610441768, 0.33734939759036209, 0.28112449799196781, 0.33333333333333393, 0.48192771084337238, -4.1606425702811229, 0.15662650602409656, -7.0562248995983943, -0.0080321285140563248, -3.0080321285140563, -0.024096385542168974, -2.0, -4.1485943775100402, 1.7068273092369477, -5.6706827309236942, 1.1606425702811247, -0.024096385542168974, -3.1726907630522092, -0.0040160642570281624, -0.0040160642570281624, 0.47791164658634538, 0.88353413654618507, 0.056224899598394273, 2.1606425702811247, -2.6224899598393572, -2.6064257028112454, 0.59437751004016093, 0.36144578313253106, 1.7911646586345373, -0.3253012048192776, 1.3092369477911632, 0.36546184738955745, -0.15662650602409656, -0.01606425702811265, -0.0080321285140563248, -0.064257028112450598], [0.57429718875502012, 1.0080321285140563, -3.8514056224899598, 1.0642570281124497, 0.48192771084337349, 1.333333333333333, -0.40160642570281091, 4.6184738955823299, 0.25702811244979884, -5.6064257028112436, -11.38152610441767, 1.0, 1.2931726907630505, 1.1124497991967885, 0.076305220883533309, -0.1285140562249012, -0.024096385542168974, 0.91967871485943853, -1.0562248995983943, 2.477911646586346, -0.9357429718875494, 2.7911646586345391, 4.7751004016064265, -0.15261044176706828, -6.9558232931726902, 0.81927710843373491, 2.0, -0.40160642570281124, -1.1807228915662651, -6.4016064257028109, 3.8955823293172687, 2.1405622489959839, 1.8795180722891567, 1.2289156626506017, -8.0722891566265069, -15.0, 0.12048192771084487, -2.570281124497992, -1.8514056224899598, -0.97991967871486096, -0.032128514056224855, -0.12449799196787126, -0.87550200803212852, -0.87550200803212874, -1.3574297188755011, -7.0160642570281126, 2.7510040160642575, 4.4056224899598391, 6.8473895582329316, 3.7469879518072293, 0.86345381526104414, -2.0080321285140563, 7.0642570281124497, -5.072289156626506, 1.8072289156626506, -18.361445783132531, 0.66265060240963791, 0.95180722891566205, 1.0, 0.0, 0.42570281124498166, -7.1204819277108449, 0.11244979919678855, -3.0080321285140563, -0.004016064257026386, -2.0080321285140563, -3.2088353413654609, 2.4016064257028109, -5.6425702811244989, 0.65461847389558159, -0.16064257028112472, -2.522088353413654, -7.7188755020080322, 1.2128514056224899, 0.70281124497991965, 0.89959839357429683, 0.18875502008032186, 1.714859437751004, -3.1606425702811247, -4.3534136546184738, -0.024096385542168974, 0.50200803212851497, 1.546184738955823, -1.0, 1.4819277108433724, 0.57429718875502012, -0.32530120481927582, 1.0361445783132517, -0.076305220883533309, -0.22088353413654715], [0.77510040160642568, 1.9236947791164658, -3.7791164658634537, 0.94377510040160661, -1.285140562248996, 3.570281124497992, 0.5542168674698793, 3.8594377510040161, 0.30120481927710863, -6.3654618473895574, -11.200803212851405, 1.0, 1.4819277108433724, 1.0642570281124506, 0.064257028112450598, -0.20080321285140457, 3.0040160642570264, 0.9357429718875494, -1.0803212851405632, -0.072289156626505147, -1.477911646586346, 2.6987951807228932, 3.9799196787148592, 1.1084337349397591, -8.9919678714859437, 1.0401606425702812, 2.0963855421686746, 0.85943775100401609, -0.76305220883534131, -6.0562248995983934, 1.4779116465863451, 2.7871485943775101, 1.606425702811245, 3.2168674698795172, -4.4939759036144578, -14.0, -0.56626506024096557, -2.4738955823293178, -2.8232931726907626, 0.01606425702811265, 0.97991967871485963, -0.19678714859437818, -0.83534136546184734, 0.40160642570281091, -10.333333333333334, -11.333333333333334, 0.2690763052208851, 5.8995983935742977, 9.5983935742971891, 6.7791164658634537, 1.1285140562248996, 0.67068273092369424, 6.1847389558232928, -2.6746987951807228, 2.3614457831325302, -18.112449799196789, -4.4377510040160644, -5.5421686746987948, 1.590361445783131, 0.0, 0.40963855421686901, -7.1646586345381529, 0.052208835341364335, -3.044176706827308, 0.076305220883533309, -1.044176706827308, -2.3654618473895574, 1.7751004016064265, -6.5381526104417667, 0.19277108433735002, -6.1847389558232928, -1.0080321285140563, -5.7510040160642575, 0.10040160642570317, 0.97590361445783136, -0.42168674698795172, -0.63453815261044255, 2.3975903614457832, -2.7590361445783129, -7.7991967871485937, 1.8755020080321287, -0.91967871485943675, 3.3734939759036138, -1.0, 0.49397590361445864, 0.97188755020080286, -0.36144578313253106, 0.98795180722891729, -0.04417670682730801, -0.27710843373494143], [0.95582329317269077, 2.6867469879518069, -3.5140562248995986, 1.8634538152610443, 0.068273092369477872, 1.666666666666667, 0.11646586345381493, 4.9156626506024104, 1.4618473895582333, -5.9638554216867483, -9.9156626506024104, 1.0, 0.33333333333333215, 1.2248995983935735, 0.068273092369476984, -0.23293172690762987, 2.9397590361445793, 0.90361445783132588, -1.2409638554216862, -10.441767068273093, -2.6425702811244989, 2.6345381526104426, 5.8795180722891569, 1.3534136546184738, -9.1044176706827304, 0.32530120481927716, 2.9678714859437751, 1.1526104417670682, 0.73493975903614461, -5.6546184738955825, 2.3493975903614457, 3.3132530120481927, 3.0642570281124497, 5.0843373493975896, -2.9718875502008033, -13.0, -2.5622489959839356, -2.4618473895582333, -2.7269076305220885, 0.088353413654619573, -0.088353413654618684, -0.35742971887550112, -0.75100401606425704, -0.37349397590361377, -10.485943775100402, -10.204819277108435, -0.62248995983935629, 8.5783132530120483, 9.5582329317269075, 6.8152610441767072, 0.11646586345381515, 1.7751004016064265, 6.3132530120481931, -1.1445783132530121, 2.4779116465863456, -17.899598393574298, -3.6746987951807242, -12.004016064257028, 3.9357429718875494, 0.0, 0.40562248995983907, -7.3253012048192758, 0.10441767068273222, -3.1004016064257023, 0.9036144578313241, -1.0883534136546196, -1.590361445783131, 3.0682730923694788, -6.5983935742971873, 1.1405622489959839, -8.1927710843373482, 0.50602409638554136, -5.6265060240963853, 0.95983935742971926, 1.1365461847389557, 0.63453815261044166, -0.57429718875502012, 0.82730923694779124, -2.4096385542168672, -8.5863453815261046, -3.2369477911646589, -0.34136546184738847, 3.9839357429718874, -1.0, 0.30923694779116317, 1.0200803212851408, 1.522088353413654, 0.89959839357429772, -0.15662650602409656, -0.39357429718875636], [1.3614457831325302, 4.8795180722891569, -2.2208835341365463, 3.3534136546184738, -3.0883534136546187, -0.42168674698795172, 0.78313253012048278, 2.5140562248995977, 1.3935742971887546, -7.1204819277108449, -12.0, 0.0, 0.81927710843373447, 5.3293172690763058, 0.068273092369476984, -0.40160642570281269, 2.9518072289156621, 1.6586345381526097, 1.7108433734939759, -5.2168674698795181, 4.4859437751004023, 7.0883534136546196, -3.3855421686746983, 2.2771084337349397, -7.6666666666666661, 1.6465863453815262, 3.0321285140562249, 1.9116465863453815, 0.79919678714859455, -2.3012048192771086, 8.1244979919678713, 4.333333333333333, 3.9879518072289155, 7.1726907630522092, -9.0, -17.0, -4.7951807228915655, -7.261044176706827, -0.77911646586345373, 0.82329317269076441, -0.27710843373493965, -1.0040160642570282, 0.44979919678714858, -8.3815261044176701, -10.236947791164658, -7.5542168674698793, 5.4738955823293161, 9.7429718875502012, 6.7228915662650603, 6.4257028112449799, -8.3654618473895574, 3.3052208835341368, 5.092369477911646, -5.5863453815261046, 3.0441767068273089, -12.04417670682731, -4.7269076305220885, -8.4377510040160644, 2.0, 0.0, 0.3493975903614448, -7.4578313253012034, 0.12449799196787126, -3.2168674698795172, 1.8514056224899598, -4.3493975903614448, 13.755020080321286, 10.449799196787149, -13.783132530120483, 1.0401606425702816, -6.2530120481927707, 0.70281124497991954, -1.8795180722891565, 2.5943775100401609, 0.6987951807228916, -8.9718875502008029, -0.22891566265060348, -4.9518072289156629, -2.9437751004016066, -5.8112449799196781, 1.6787148594377506, -0.59437751004016093, 2.0, -17.0, 0.24899598393574252, 1.1646586345381529, 1.2208835341365472, 0.71084337349397586, 0.71485943775100225, 1.7309236947791149]]\n"
       ]
      }
     ],
     "prompt_number": 16
    },
    {
     "cell_type": "code",
     "collapsed": false,
     "input": [
      "print map(math.sqrt,mse_results)\n",
      "\n",
      "print map(math.sqrt, mse_ind_results)\n"
     ],
     "language": "python",
     "metadata": {},
     "outputs": [
      {
       "output_type": "stream",
       "stream": "stdout",
       "text": [
        "[2.8113476745442516, 3.6852584359638754, 4.828661545710887, 5.271443628986439, 6.084578374750701]\n",
        "[0.2040540077924463, 0.21915764211090463, 0.2559851139705962, 0.31166605795586255, 0.38067755987219487]\n"
       ]
      }
     ],
     "prompt_number": 51
    },
    {
     "cell_type": "code",
     "collapsed": false,
     "input": [
      "print error_results[4]"
     ],
     "language": "python",
     "metadata": {},
     "outputs": [
      {
       "output_type": "stream",
       "stream": "stdout",
       "text": [
        "[1.3614457831325302, 4.8795180722891569, -2.2208835341365463, 3.3534136546184738, -3.0883534136546187, -0.42168674698795172, 0.78313253012048278, 2.5140562248995977, 1.3935742971887546, -7.1204819277108449, -12.0, 0.0, 0.81927710843373447, 5.3293172690763058, 0.068273092369476984, -0.40160642570281269, 2.9518072289156621, 1.6586345381526097, 1.7108433734939759, -5.2168674698795181, 4.4859437751004023, 7.0883534136546196, -3.3855421686746983, 2.2771084337349397, -7.6666666666666661, 1.6465863453815262, 3.0321285140562249, 1.9116465863453815, 0.79919678714859455, -2.3012048192771086, 8.1244979919678713, 4.333333333333333, 3.9879518072289155, 7.1726907630522092, -9.0, -17.0, -4.7951807228915655, -7.261044176706827, -0.77911646586345373, 0.82329317269076441, -0.27710843373493965, -1.0040160642570282, 0.44979919678714858, -8.3815261044176701, -10.236947791164658, -7.5542168674698793, 5.4738955823293161, 9.7429718875502012, 6.7228915662650603, 6.4257028112449799, -8.3654618473895574, 3.3052208835341368, 5.092369477911646, -5.5863453815261046, 3.0441767068273089, -12.04417670682731, -4.7269076305220885, -8.4377510040160644, 2.0, 0.0, 0.3493975903614448, -7.4578313253012034, 0.12449799196787126, -3.2168674698795172, 1.8514056224899598, -4.3493975903614448, 13.755020080321286, 10.449799196787149, -13.783132530120483, 1.0401606425702816, -6.2530120481927707, 0.70281124497991954, -1.8795180722891565, 2.5943775100401609, 0.6987951807228916, -8.9718875502008029, -0.22891566265060348, -4.9518072289156629, -2.9437751004016066, -5.8112449799196781, 1.6787148594377506, -0.59437751004016093, 2.0, -17.0, 0.24899598393574252, 1.1646586345381529, 1.2208835341365472, 0.71084337349397586, 0.71485943775100225, 1.7309236947791149]\n"
       ]
      }
     ],
     "prompt_number": 20
    },
    {
     "cell_type": "code",
     "collapsed": false,
     "input": [],
     "language": "python",
     "metadata": {},
     "outputs": []
    }
   ],
   "metadata": {}
  }
 ]
}