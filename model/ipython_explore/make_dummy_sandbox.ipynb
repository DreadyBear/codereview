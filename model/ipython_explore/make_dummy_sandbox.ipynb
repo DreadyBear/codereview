{
 "metadata": {
  "name": "make_dummy_sandbox"
 },
 "nbformat": 3,
 "nbformat_minor": 0,
 "worksheets": [
  {
   "cells": [
    {
     "cell_type": "code",
     "collapsed": false,
     "input": [
      "def make_dummy(column_names_list, data_frame, part_of_time, time_lag, ref_var_num = None, num_of_levels = None):\n",
      "    import patsy\n",
      "    from patsy.contrasts import Treatment\n",
      "    import pandas as pd\n",
      "    # Strip month information from original timestamp variable\n",
      "    exec \"time = pd.DatetimeIndex(bike_data_bucketed.index).\" + part_of_time\n",
      "    \n",
      "    #drop first row because of lagged variable\n",
      "\n",
      "    if str(part_of_time) != \"weekday\":\n",
      "        # Create contrast matrix\n",
      "        levels = range(num_of_levels)\n",
      "        contrast = Treatment(reference=ref_var_num).code_without_intercept(levels)\n",
      "        # Encode dummy matrix\n",
      "        if str(part_of_time) == \"month\":\n",
      "            time_dummy = contrast.matrix[time-1, :] # This takes into account that month is coded 1 to 12\n",
      "        else:\n",
      "            time_dummy = contrast.matrix[time, :] # This holds for hour since 1 a.m. is coded 0\n",
      "        time_dummy_lagged = time_dummy[time_lag:, :]\n",
      "    # This j skips the column for the\" reference level in the contrast matrix\n",
      "        j = 0\n",
      "        for i in range(num_of_levels):\n",
      "            if i != ref_var_num:\n",
      "                data_frame[column_names_list[i]] = time_dummy_lagged[:,i-j]\n",
      "            else:\n",
      "                j = 1\n",
      "    # Generate weekday dummy variable\n",
      "    else:\n",
      "        weekday_dummy = []\n",
      "        for i in range(time_lag,len(time)):\n",
      "            if time[i] < 5:\n",
      "                weekday_dummy.append(1)\n",
      "            else:\n",
      "                weekday_dummy.append(0)\n",
      "        data_frame[\"weekday\"] = weekday_dummy\n",
      "    return data_frame"
     ],
     "language": "python",
     "metadata": {},
     "outputs": [],
     "prompt_number": 1
    },
    {
     "cell_type": "code",
     "collapsed": false,
     "input": [],
     "language": "python",
     "metadata": {},
     "outputs": [],
     "prompt_number": 96
    },
    {
     "cell_type": "code",
     "collapsed": false,
     "input": [
      "from fetch_station import fetch_station\n",
      "from build_log_odds_df import build_log_odds_df\n",
      "\n",
      "bike_data_bucketed = fetch_station('Washington, D.C.',17,15, 'max')\n",
      "pred_ar3_cons = build_log_odds_df(bike_data_bucketed)"
     ],
     "language": "python",
     "metadata": {},
     "outputs": [],
     "prompt_number": 2
    },
    {
     "cell_type": "code",
     "collapsed": false,
     "input": [
      "dum_month = make_dummy(['jan','feb', 'mar', 'apr', 'may', 'jun', 'jul', 'aug', 'sep', 'oct', 'nov', 'dec'],pred_ar3_cons,2,12,'month',3)"
     ],
     "language": "python",
     "metadata": {},
     "outputs": [
      {
       "output_type": "stream",
       "stream": "stdout",
       "text": [
        "[10 10 10 ...,  8  8  8]\n"
       ]
      }
     ],
     "prompt_number": 105
    },
    {
     "cell_type": "code",
     "collapsed": false,
     "input": [
      "x = \"month\"\n",
      "\n",
      "exec \"variable = bike_data_bucketed.index.\" + x"
     ],
     "language": "python",
     "metadata": {},
     "outputs": [],
     "prompt_number": 21
    },
    {
     "cell_type": "code",
     "collapsed": false,
     "input": [
      "dum_weekday = make_dummy(['weekday'],pred_ar3_cons,\"weekday\",3)"
     ],
     "language": "python",
     "metadata": {},
     "outputs": [],
     "prompt_number": 117
    },
    {
     "cell_type": "code",
     "collapsed": false,
     "input": [
      "print dumdum.ix[0,1:5"
     ],
     "language": "python",
     "metadata": {},
     "outputs": [
      {
       "output_type": "stream",
       "stream": "stdout",
       "text": [
        "                           jun  jul  aug  sep  oct  nov  dec\n",
        "bikes_timestamp                                             \n",
        "2010-10-06 13:15:00-04:00    0    0    0    0    1    0    0\n",
        "2010-10-06 13:30:00-04:00    0    0    0    0    1    0    0\n",
        "2010-10-06 13:45:00-04:00    0    0    0    0    1    0    0\n",
        "2010-10-06 14:00:00-04:00    0    0    0    0    1    0    0\n",
        "2010-10-06 14:15:00-04:00    0    0    0    0    1    0    0\n"
       ]
      }
     ],
     "prompt_number": 59
    },
    {
     "cell_type": "code",
     "collapsed": false,
     "input": [
      "print dum_weekday.head()b"
     ],
     "language": "python",
     "metadata": {},
     "outputs": [
      {
       "output_type": "stream",
       "stream": "stdout",
       "text": [
        "<class 'pandas.core.frame.DataFrame'>\n",
        "DatetimeIndex: 5 entries, 2010-10-06 13:15:00-04:00 to 2010-10-06 14:15:00-04:00\n",
        "Data columns (total 49 columns):\n",
        "station_id            5  non-null values\n",
        "bikes_available       5  non-null values\n",
        "slots_available       5  non-null values\n",
        "weather_timestamp     5  non-null values\n",
        "summary               5  non-null values\n",
        "precipintensity       5  non-null values\n",
        "precipprob            5  non-null values\n",
        "preciptype            0  non-null values\n",
        "precipaccumulation    0  non-null values\n",
        "temperature           5  non-null values\n",
        "logodds_lag1          5  non-null values\n",
        "logodds_lag2          5  non-null values\n",
        "logodds_lag3          5  non-null values\n",
        "const                 5  non-null values\n",
        "1hr                   5  non-null values\n",
        "2hr                   5  non-null values\n",
        "3hr                   5  non-null values\n",
        "4hr                   5  non-null values\n",
        "5hr                   5  non-null values\n",
        "6hr                   5  non-null values\n",
        "7hr                   5  non-null values\n",
        "8hr                   5  non-null values\n",
        "9hr                   5  non-null values\n",
        "10hr                  5  non-null values\n",
        "11hr                  5  non-null values\n",
        "12hr                  5  non-null values\n",
        "13hr                  5  non-null values\n",
        "14hr                  5  non-null values\n",
        "15hr                  5  non-null values\n",
        "16hr                  5  non-null values\n",
        "17hr                  5  non-null values\n",
        "18hr                  5  non-null values\n",
        "19hr                  5  non-null values\n",
        "20hr                  5  non-null values\n",
        "21hr                  5  non-null values\n",
        "22hr                  5  non-null values\n",
        "23hr                  5  non-null values\n",
        "weekday               5  non-null values\n",
        "jan                   5  non-null values\n",
        "feb                   5  non-null values\n",
        "apr                   5  non-null values\n",
        "may                   5  non-null values\n",
        "jun                   5  non-null values\n",
        "jul                   5  non-null values\n",
        "aug                   5  non-null values\n",
        "sep                   5  non-null values\n",
        "oct                   5  non-null values\n",
        "nov                   5  non-null values\n",
        "dec                   5  non-null values\n",
        "dtypes: float32(3), float64(40), int64(2), object(4)\n"
       ]
      }
     ],
     "prompt_number": 118
    },
    {
     "cell_type": "code",
     "collapsed": false,
     "input": [
      "hour_of_day = []"
     ],
     "language": "python",
     "metadata": {},
     "outputs": [],
     "prompt_number": 79
    },
    {
     "cell_type": "code",
     "collapsed": false,
     "input": [
      "for i in range(24):\n",
      "    hour_of_day.append(str(i)+\"hr\")"
     ],
     "language": "python",
     "metadata": {},
     "outputs": [],
     "prompt_number": 81
    },
    {
     "cell_type": "code",
     "collapsed": false,
     "input": [
      "print hour_of_day"
     ],
     "language": "python",
     "metadata": {},
     "outputs": [
      {
       "output_type": "stream",
       "stream": "stdout",
       "text": [
        "['0hr', '1hr', '2hr', '3hr', '4hr', '5hr', '6hr', '7hr', '8hr', '9hr', '10hr', '11hr', '12hr', '13hr', '14hr', '15hr', '16hr', '17hr', '18hr', '19hr', '20hr', '21hr', '22hr', '23hr']\n"
       ]
      }
     ],
     "prompt_number": 82
    },
    {
     "cell_type": "code",
     "collapsed": false,
     "input": [
      "dum_datime = make_dummy(['0hr', '1hr', '2hr', '3hr', '4hr', '5hr', '6hr', '7hr', '8hr', '9hr', '10hr', '11hr', '12hr', '13hr', '14hr', '15hr', '16hr', '17hr', '18hr', '19hr', '20hr', '21hr', '22hr', '23hr']\n",
      ",pred_ar3_cons,0,24,\"hour\",3)"
     ],
     "language": "python",
     "metadata": {},
     "outputs": [
      {
       "output_type": "stream",
       "stream": "stdout",
       "text": [
        "[12 12 13 ..., 16 16 16]\n"
       ]
      }
     ],
     "prompt_number": 97
    },
    {
     "cell_type": "code",
     "collapsed": false,
     "input": [
      "print dum_datime.ix[0:5,18:35]"
     ],
     "language": "python",
     "metadata": {},
     "outputs": [
      {
       "output_type": "stream",
       "stream": "stdout",
       "text": [
        "                           5hr  6hr  7hr  8hr  9hr  10hr  11hr  12hr  13hr  \\\n",
        "bikes_timestamp                                                              \n",
        "2010-10-06 13:15:00-04:00    0    0    0    0    0     0     0     0     1   \n",
        "2010-10-06 13:30:00-04:00    0    0    0    0    0     0     0     0     1   \n",
        "2010-10-06 13:45:00-04:00    0    0    0    0    0     0     0     0     1   \n",
        "2010-10-06 14:00:00-04:00    0    0    0    0    0     0     0     0     0   \n",
        "2010-10-06 14:15:00-04:00    0    0    0    0    0     0     0     0     0   \n",
        "\n",
        "                           14hr  15hr  16hr  17hr  18hr  19hr  20hr  21hr  \n",
        "bikes_timestamp                                                            \n",
        "2010-10-06 13:15:00-04:00     0     0     0     0     0     0     0     0  \n",
        "2010-10-06 13:30:00-04:00     0     0     0     0     0     0     0     0  \n",
        "2010-10-06 13:45:00-04:00     0     0     0     0     0     0     0     0  \n",
        "2010-10-06 14:00:00-04:00     1     0     0     0     0     0     0     0  \n",
        "2010-10-06 14:15:00-04:00     1     0     0     0     0     0     0     0  \n"
       ]
      }
     ],
     "prompt_number": 98
    },
    {
     "cell_type": "code",
     "collapsed": false,
     "input": [
      "data_with_time_weekday = make_dummy(['weekday'],dum_datime,0,2,\"weekday\",3)"
     ],
     "language": "python",
     "metadata": {},
     "outputs": [
      {
       "output_type": "stream",
       "stream": "stdout",
       "text": [
        "[2 2 2 ..., 3 3 3]\n"
       ]
      }
     ],
     "prompt_number": 99
    },
    {
     "cell_type": "code",
     "collapsed": false,
     "input": [
      "print data_with_time_weekday.ix[0:5,25:40]"
     ],
     "language": "python",
     "metadata": {},
     "outputs": [
      {
       "output_type": "stream",
       "stream": "stdout",
       "text": [
        "                           12hr  13hr  14hr  15hr  16hr  17hr  18hr  19hr  \\\n",
        "bikes_timestamp                                                             \n",
        "2010-10-06 13:15:00-04:00     0     1     0     0     0     0     0     0   \n",
        "2010-10-06 13:30:00-04:00     0     1     0     0     0     0     0     0   \n",
        "2010-10-06 13:45:00-04:00     0     1     0     0     0     0     0     0   \n",
        "2010-10-06 14:00:00-04:00     0     0     1     0     0     0     0     0   \n",
        "2010-10-06 14:15:00-04:00     0     0     1     0     0     0     0     0   \n",
        "\n",
        "                           20hr  21hr  22hr  23hr  weekday  \n",
        "bikes_timestamp                                             \n",
        "2010-10-06 13:15:00-04:00     0     0     0     0        1  \n",
        "2010-10-06 13:30:00-04:00     0     0     0     0        1  \n",
        "2010-10-06 13:45:00-04:00     0     0     0     0        1  \n",
        "2010-10-06 14:00:00-04:00     0     0     0     0        1  \n",
        "2010-10-06 14:15:00-04:00     0     0     0     0        1  \n"
       ]
      }
     ],
     "prompt_number": 103
    },
    {
     "cell_type": "code",
     "collapsed": false,
     "input": [
      "# Extract hours for Hour feature\n",
      "delta_hours = pred_ar3_cons.index.hour\n",
      "pred_ar3_cons['hours'] = delta_hours\n",
      "\n",
      "# Extract weekday vs. weekend variable\n",
      "delta_dayofweek = pred_ar3_cons.index.weekday\n",
      "\n",
      "delta_weekday_dummy = delta_dayofweek.copy()\n",
      "delta_weekday_dummy[delta_dayofweek < 5] = 1\n",
      "delta_weekday_dummy[delta_dayofweek >= 5] = 0\n",
      "\n",
      "pred_ar3_cons['weekday_dummy'] = delta_weekday_dummy\n",
      "# print pos_interval_counts['weekday_dummy']"
     ],
     "language": "python",
     "metadata": {},
     "outputs": [],
     "prompt_number": 4
    },
    {
     "cell_type": "code",
     "collapsed": false,
     "input": [
      "import patsy\n",
      "y, X = patsy.dmatrices(\"bikes_available + slots_available ~ C(hours, Treatment) + C(weekday_dummy,Treatment) + temperature + logodds_lag1 + logodds_lag2 + logodds_lag3 \", pred_ar3_cons, return_type='dataframe')\n"
     ],
     "language": "python",
     "metadata": {},
     "outputs": [],
     "prompt_number": 13
    },
    {
     "cell_type": "code",
     "collapsed": false,
     "input": [
      "X.head()"
     ],
     "language": "python",
     "metadata": {},
     "outputs": [
      {
       "html": [
        "<pre>\n",
        "&lt;class 'pandas.core.frame.DataFrame'&gt;\n",
        "DatetimeIndex: 5 entries, 2010-10-06 13:15:00-04:00 to 2010-10-06 14:15:00-04:00\n",
        "Data columns (total 29 columns):\n",
        "Intercept                           5  non-null values\n",
        "C(hours, Treatment)[T.1]            5  non-null values\n",
        "C(hours, Treatment)[T.2]            5  non-null values\n",
        "C(hours, Treatment)[T.3]            5  non-null values\n",
        "C(hours, Treatment)[T.4]            5  non-null values\n",
        "C(hours, Treatment)[T.5]            5  non-null values\n",
        "C(hours, Treatment)[T.6]            5  non-null values\n",
        "C(hours, Treatment)[T.7]            5  non-null values\n",
        "C(hours, Treatment)[T.8]            5  non-null values\n",
        "C(hours, Treatment)[T.9]            5  non-null values\n",
        "C(hours, Treatment)[T.10]           5  non-null values\n",
        "C(hours, Treatment)[T.11]           5  non-null values\n",
        "C(hours, Treatment)[T.12]           5  non-null values\n",
        "C(hours, Treatment)[T.13]           5  non-null values\n",
        "C(hours, Treatment)[T.14]           5  non-null values\n",
        "C(hours, Treatment)[T.15]           5  non-null values\n",
        "C(hours, Treatment)[T.16]           5  non-null values\n",
        "C(hours, Treatment)[T.17]           5  non-null values\n",
        "C(hours, Treatment)[T.18]           5  non-null values\n",
        "C(hours, Treatment)[T.19]           5  non-null values\n",
        "C(hours, Treatment)[T.20]           5  non-null values\n",
        "C(hours, Treatment)[T.21]           5  non-null values\n",
        "C(hours, Treatment)[T.22]           5  non-null values\n",
        "C(hours, Treatment)[T.23]           5  non-null values\n",
        "C(weekday_dummy, Treatment)[T.1]    5  non-null values\n",
        "temperature                         5  non-null values\n",
        "logodds_lag1                        5  non-null values\n",
        "logodds_lag2                        5  non-null values\n",
        "logodds_lag3                        5  non-null values\n",
        "dtypes: float64(29)\n",
        "</pre>"
       ],
       "output_type": "pyout",
       "prompt_number": 14,
       "text": [
        "<class 'pandas.core.frame.DataFrame'>\n",
        "DatetimeIndex: 5 entries, 2010-10-06 13:15:00-04:00 to 2010-10-06 14:15:00-04:00\n",
        "Data columns (total 29 columns):\n",
        "Intercept                           5  non-null values\n",
        "C(hours, Treatment)[T.1]            5  non-null values\n",
        "C(hours, Treatment)[T.2]            5  non-null values\n",
        "C(hours, Treatment)[T.3]            5  non-null values\n",
        "C(hours, Treatment)[T.4]            5  non-null values\n",
        "C(hours, Treatment)[T.5]            5  non-null values\n",
        "C(hours, Treatment)[T.6]            5  non-null values\n",
        "C(hours, Treatment)[T.7]            5  non-null values\n",
        "C(hours, Treatment)[T.8]            5  non-null values\n",
        "C(hours, Treatment)[T.9]            5  non-null values\n",
        "C(hours, Treatment)[T.10]           5  non-null values\n",
        "C(hours, Treatment)[T.11]           5  non-null values\n",
        "C(hours, Treatment)[T.12]           5  non-null values\n",
        "C(hours, Treatment)[T.13]           5  non-null values\n",
        "C(hours, Treatment)[T.14]           5  non-null values\n",
        "C(hours, Treatment)[T.15]           5  non-null values\n",
        "C(hours, Treatment)[T.16]           5  non-null values\n",
        "C(hours, Treatment)[T.17]           5  non-null values\n",
        "C(hours, Treatment)[T.18]           5  non-null values\n",
        "C(hours, Treatment)[T.19]           5  non-null values\n",
        "C(hours, Treatment)[T.20]           5  non-null values\n",
        "C(hours, Treatment)[T.21]           5  non-null values\n",
        "C(hours, Treatment)[T.22]           5  non-null values\n",
        "C(hours, Treatment)[T.23]           5  non-null values\n",
        "C(weekday_dummy, Treatment)[T.1]    5  non-null values\n",
        "temperature                         5  non-null values\n",
        "logodds_lag1                        5  non-null values\n",
        "logodds_lag2                        5  non-null values\n",
        "logodds_lag3                        5  non-null values\n",
        "dtypes: float64(29)"
       ]
      }
     ],
     "prompt_number": 14
    },
    {
     "cell_type": "code",
     "collapsed": false,
     "input": [
      "pred_ar3_cons.head()"
     ],
     "language": "python",
     "metadata": {},
     "outputs": [
      {
       "html": [
        "<div style=\"max-height:1000px;max-width:1500px;overflow:auto;\">\n",
        "<table border=\"1\" class=\"dataframe\">\n",
        "  <thead>\n",
        "    <tr style=\"text-align: right;\">\n",
        "      <th></th>\n",
        "      <th>station_id</th>\n",
        "      <th>bikes_available</th>\n",
        "      <th>slots_available</th>\n",
        "      <th>weather_timestamp</th>\n",
        "      <th>summary</th>\n",
        "      <th>precipintensity</th>\n",
        "      <th>precipprob</th>\n",
        "      <th>preciptype</th>\n",
        "      <th>precipaccumulation</th>\n",
        "      <th>temperature</th>\n",
        "      <th>logodds_lag1</th>\n",
        "      <th>logodds_lag2</th>\n",
        "      <th>logodds_lag3</th>\n",
        "      <th>const</th>\n",
        "      <th>months</th>\n",
        "      <th>hours</th>\n",
        "      <th>weekday_dummy</th>\n",
        "    </tr>\n",
        "    <tr>\n",
        "      <th>bikes_timestamp</th>\n",
        "      <th></th>\n",
        "      <th></th>\n",
        "      <th></th>\n",
        "      <th></th>\n",
        "      <th></th>\n",
        "      <th></th>\n",
        "      <th></th>\n",
        "      <th></th>\n",
        "      <th></th>\n",
        "      <th></th>\n",
        "      <th></th>\n",
        "      <th></th>\n",
        "      <th></th>\n",
        "      <th></th>\n",
        "      <th></th>\n",
        "      <th></th>\n",
        "      <th></th>\n",
        "    </tr>\n",
        "  </thead>\n",
        "  <tbody>\n",
        "    <tr>\n",
        "      <th>2010-10-06 13:15:00-04:00</th>\n",
        "      <td> 17</td>\n",
        "      <td> 2</td>\n",
        "      <td> 14</td>\n",
        "      <td> 2010-10-06 17:00:00</td>\n",
        "      <td> Partly Cloudy</td>\n",
        "      <td> 0</td>\n",
        "      <td> 0</td>\n",
        "      <td> NaN</td>\n",
        "      <td>NaN</td>\n",
        "      <td> 57.90</td>\n",
        "      <td>-1.466337</td>\n",
        "      <td>-1.386294</td>\n",
        "      <td>-1.386294</td>\n",
        "      <td> 1</td>\n",
        "      <td> 10</td>\n",
        "      <td> 13</td>\n",
        "      <td> 1</td>\n",
        "    </tr>\n",
        "    <tr>\n",
        "      <th>2010-10-06 13:30:00-04:00</th>\n",
        "      <td> 17</td>\n",
        "      <td> 1</td>\n",
        "      <td> 14</td>\n",
        "      <td> 2010-10-06 17:00:00</td>\n",
        "      <td> Partly Cloudy</td>\n",
        "      <td> 0</td>\n",
        "      <td> 0</td>\n",
        "      <td> NaN</td>\n",
        "      <td>NaN</td>\n",
        "      <td> 57.90</td>\n",
        "      <td>-1.945910</td>\n",
        "      <td>-1.466337</td>\n",
        "      <td>-1.386294</td>\n",
        "      <td> 1</td>\n",
        "      <td> 10</td>\n",
        "      <td> 13</td>\n",
        "      <td> 1</td>\n",
        "    </tr>\n",
        "    <tr>\n",
        "      <th>2010-10-06 13:45:00-04:00</th>\n",
        "      <td> 17</td>\n",
        "      <td> 1</td>\n",
        "      <td> 14</td>\n",
        "      <td> 2010-10-06 17:00:00</td>\n",
        "      <td> Partly Cloudy</td>\n",
        "      <td> 0</td>\n",
        "      <td> 0</td>\n",
        "      <td> NaN</td>\n",
        "      <td>NaN</td>\n",
        "      <td> 57.90</td>\n",
        "      <td>-2.639057</td>\n",
        "      <td>-1.945910</td>\n",
        "      <td>-1.466337</td>\n",
        "      <td> 1</td>\n",
        "      <td> 10</td>\n",
        "      <td> 13</td>\n",
        "      <td> 1</td>\n",
        "    </tr>\n",
        "    <tr>\n",
        "      <th>2010-10-06 14:00:00-04:00</th>\n",
        "      <td> 17</td>\n",
        "      <td> 1</td>\n",
        "      <td> 14</td>\n",
        "      <td> 2010-10-06 18:00:00</td>\n",
        "      <td> Mostly Cloudy</td>\n",
        "      <td> 0</td>\n",
        "      <td> 0</td>\n",
        "      <td> NaN</td>\n",
        "      <td>NaN</td>\n",
        "      <td> 59.14</td>\n",
        "      <td>-2.639057</td>\n",
        "      <td>-2.639057</td>\n",
        "      <td>-1.945910</td>\n",
        "      <td> 1</td>\n",
        "      <td> 10</td>\n",
        "      <td> 14</td>\n",
        "      <td> 1</td>\n",
        "    </tr>\n",
        "    <tr>\n",
        "      <th>2010-10-06 14:15:00-04:00</th>\n",
        "      <td> 17</td>\n",
        "      <td> 1</td>\n",
        "      <td> 14</td>\n",
        "      <td> 2010-10-06 18:00:00</td>\n",
        "      <td> Mostly Cloudy</td>\n",
        "      <td> 0</td>\n",
        "      <td> 0</td>\n",
        "      <td> NaN</td>\n",
        "      <td>NaN</td>\n",
        "      <td> 59.14</td>\n",
        "      <td>-2.639057</td>\n",
        "      <td>-2.639057</td>\n",
        "      <td>-2.639057</td>\n",
        "      <td> 1</td>\n",
        "      <td> 10</td>\n",
        "      <td> 14</td>\n",
        "      <td> 1</td>\n",
        "    </tr>\n",
        "  </tbody>\n",
        "</table>\n",
        "</div>"
       ],
       "output_type": "pyout",
       "prompt_number": 10,
       "text": [
        "                           station_id  bikes_available  slots_available  \\\n",
        "bikes_timestamp                                                           \n",
        "2010-10-06 13:15:00-04:00          17                2               14   \n",
        "2010-10-06 13:30:00-04:00          17                1               14   \n",
        "2010-10-06 13:45:00-04:00          17                1               14   \n",
        "2010-10-06 14:00:00-04:00          17                1               14   \n",
        "2010-10-06 14:15:00-04:00          17                1               14   \n",
        "\n",
        "                             weather_timestamp        summary precipintensity  \\\n",
        "bikes_timestamp                                                                 \n",
        "2010-10-06 13:15:00-04:00  2010-10-06 17:00:00  Partly Cloudy               0   \n",
        "2010-10-06 13:30:00-04:00  2010-10-06 17:00:00  Partly Cloudy               0   \n",
        "2010-10-06 13:45:00-04:00  2010-10-06 17:00:00  Partly Cloudy               0   \n",
        "2010-10-06 14:00:00-04:00  2010-10-06 18:00:00  Mostly Cloudy               0   \n",
        "2010-10-06 14:15:00-04:00  2010-10-06 18:00:00  Mostly Cloudy               0   \n",
        "\n",
        "                           precipprob preciptype  precipaccumulation  \\\n",
        "bikes_timestamp                                                        \n",
        "2010-10-06 13:15:00-04:00           0        NaN                 NaN   \n",
        "2010-10-06 13:30:00-04:00           0        NaN                 NaN   \n",
        "2010-10-06 13:45:00-04:00           0        NaN                 NaN   \n",
        "2010-10-06 14:00:00-04:00           0        NaN                 NaN   \n",
        "2010-10-06 14:15:00-04:00           0        NaN                 NaN   \n",
        "\n",
        "                           temperature  logodds_lag1  logodds_lag2  \\\n",
        "bikes_timestamp                                                      \n",
        "2010-10-06 13:15:00-04:00        57.90     -1.466337     -1.386294   \n",
        "2010-10-06 13:30:00-04:00        57.90     -1.945910     -1.466337   \n",
        "2010-10-06 13:45:00-04:00        57.90     -2.639057     -1.945910   \n",
        "2010-10-06 14:00:00-04:00        59.14     -2.639057     -2.639057   \n",
        "2010-10-06 14:15:00-04:00        59.14     -2.639057     -2.639057   \n",
        "\n",
        "                           logodds_lag3  const  months  hours  weekday_dummy  \n",
        "bikes_timestamp                                                               \n",
        "2010-10-06 13:15:00-04:00     -1.386294      1      10     13              1  \n",
        "2010-10-06 13:30:00-04:00     -1.386294      1      10     13              1  \n",
        "2010-10-06 13:45:00-04:00     -1.466337      1      10     13              1  \n",
        "2010-10-06 14:00:00-04:00     -1.945910      1      10     14              1  \n",
        "2010-10-06 14:15:00-04:00     -2.639057      1      10     14              1  "
       ]
      }
     ],
     "prompt_number": 10
    },
    {
     "cell_type": "code",
     "collapsed": false,
     "input": [
      "X.head()"
     ],
     "language": "python",
     "metadata": {},
     "outputs": [
      {
       "html": [
        "<pre>\n",
        "&lt;class 'pandas.core.frame.DataFrame'&gt;\n",
        "DatetimeIndex: 5 entries, 2010-10-06 13:15:00-04:00 to 2010-10-06 14:15:00-04:00\n",
        "Data columns (total 29 columns):\n",
        "Intercept                           5  non-null values\n",
        "C(hours, Treatment)[T.1]            5  non-null values\n",
        "C(hours, Treatment)[T.2]            5  non-null values\n",
        "C(hours, Treatment)[T.3]            5  non-null values\n",
        "C(hours, Treatment)[T.4]            5  non-null values\n",
        "C(hours, Treatment)[T.5]            5  non-null values\n",
        "C(hours, Treatment)[T.6]            5  non-null values\n",
        "C(hours, Treatment)[T.7]            5  non-null values\n",
        "C(hours, Treatment)[T.8]            5  non-null values\n",
        "C(hours, Treatment)[T.9]            5  non-null values\n",
        "C(hours, Treatment)[T.10]           5  non-null values\n",
        "C(hours, Treatment)[T.11]           5  non-null values\n",
        "C(hours, Treatment)[T.12]           5  non-null values\n",
        "C(hours, Treatment)[T.13]           5  non-null values\n",
        "C(hours, Treatment)[T.14]           5  non-null values\n",
        "C(hours, Treatment)[T.15]           5  non-null values\n",
        "C(hours, Treatment)[T.16]           5  non-null values\n",
        "C(hours, Treatment)[T.17]           5  non-null values\n",
        "C(hours, Treatment)[T.18]           5  non-null values\n",
        "C(hours, Treatment)[T.19]           5  non-null values\n",
        "C(hours, Treatment)[T.20]           5  non-null values\n",
        "C(hours, Treatment)[T.21]           5  non-null values\n",
        "C(hours, Treatment)[T.22]           5  non-null values\n",
        "C(hours, Treatment)[T.23]           5  non-null values\n",
        "C(weekday_dummy, Treatment)[T.1]    5  non-null values\n",
        "temperature                         5  non-null values\n",
        "logodds_lag1                        5  non-null values\n",
        "logodds_lag2                        5  non-null values\n",
        "logodds_lag3                        5  non-null values\n",
        "dtypes: float64(29)\n",
        "</pre>"
       ],
       "output_type": "pyout",
       "prompt_number": 15,
       "text": [
        "<class 'pandas.core.frame.DataFrame'>\n",
        "DatetimeIndex: 5 entries, 2010-10-06 13:15:00-04:00 to 2010-10-06 14:15:00-04:00\n",
        "Data columns (total 29 columns):\n",
        "Intercept                           5  non-null values\n",
        "C(hours, Treatment)[T.1]            5  non-null values\n",
        "C(hours, Treatment)[T.2]            5  non-null values\n",
        "C(hours, Treatment)[T.3]            5  non-null values\n",
        "C(hours, Treatment)[T.4]            5  non-null values\n",
        "C(hours, Treatment)[T.5]            5  non-null values\n",
        "C(hours, Treatment)[T.6]            5  non-null values\n",
        "C(hours, Treatment)[T.7]            5  non-null values\n",
        "C(hours, Treatment)[T.8]            5  non-null values\n",
        "C(hours, Treatment)[T.9]            5  non-null values\n",
        "C(hours, Treatment)[T.10]           5  non-null values\n",
        "C(hours, Treatment)[T.11]           5  non-null values\n",
        "C(hours, Treatment)[T.12]           5  non-null values\n",
        "C(hours, Treatment)[T.13]           5  non-null values\n",
        "C(hours, Treatment)[T.14]           5  non-null values\n",
        "C(hours, Treatment)[T.15]           5  non-null values\n",
        "C(hours, Treatment)[T.16]           5  non-null values\n",
        "C(hours, Treatment)[T.17]           5  non-null values\n",
        "C(hours, Treatment)[T.18]           5  non-null values\n",
        "C(hours, Treatment)[T.19]           5  non-null values\n",
        "C(hours, Treatment)[T.20]           5  non-null values\n",
        "C(hours, Treatment)[T.21]           5  non-null values\n",
        "C(hours, Treatment)[T.22]           5  non-null values\n",
        "C(hours, Treatment)[T.23]           5  non-null values\n",
        "C(weekday_dummy, Treatment)[T.1]    5  non-null values\n",
        "temperature                         5  non-null values\n",
        "logodds_lag1                        5  non-null values\n",
        "logodds_lag2                        5  non-null values\n",
        "logodds_lag3                        5  non-null values\n",
        "dtypes: float64(29)"
       ]
      }
     ],
     "prompt_number": 15
    },
    {
     "cell_type": "code",
     "collapsed": false,
     "input": [
      "y.head()"
     ],
     "language": "python",
     "metadata": {},
     "outputs": [
      {
       "html": [
        "<div style=\"max-height:1000px;max-width:1500px;overflow:auto;\">\n",
        "<table border=\"1\" class=\"dataframe\">\n",
        "  <thead>\n",
        "    <tr style=\"text-align: right;\">\n",
        "      <th></th>\n",
        "      <th>bikes_available</th>\n",
        "      <th>slots_available</th>\n",
        "    </tr>\n",
        "    <tr>\n",
        "      <th>bikes_timestamp</th>\n",
        "      <th></th>\n",
        "      <th></th>\n",
        "    </tr>\n",
        "  </thead>\n",
        "  <tbody>\n",
        "    <tr>\n",
        "      <th>2010-10-06 13:15:00-04:00</th>\n",
        "      <td> 2</td>\n",
        "      <td> 14</td>\n",
        "    </tr>\n",
        "    <tr>\n",
        "      <th>2010-10-06 13:30:00-04:00</th>\n",
        "      <td> 1</td>\n",
        "      <td> 14</td>\n",
        "    </tr>\n",
        "    <tr>\n",
        "      <th>2010-10-06 13:45:00-04:00</th>\n",
        "      <td> 1</td>\n",
        "      <td> 14</td>\n",
        "    </tr>\n",
        "    <tr>\n",
        "      <th>2010-10-06 14:00:00-04:00</th>\n",
        "      <td> 1</td>\n",
        "      <td> 14</td>\n",
        "    </tr>\n",
        "    <tr>\n",
        "      <th>2010-10-06 14:15:00-04:00</th>\n",
        "      <td> 1</td>\n",
        "      <td> 14</td>\n",
        "    </tr>\n",
        "  </tbody>\n",
        "</table>\n",
        "</div>"
       ],
       "output_type": "pyout",
       "prompt_number": 16,
       "text": [
        "                           bikes_available  slots_available\n",
        "bikes_timestamp                                            \n",
        "2010-10-06 13:15:00-04:00                2               14\n",
        "2010-10-06 13:30:00-04:00                1               14\n",
        "2010-10-06 13:45:00-04:00                1               14\n",
        "2010-10-06 14:00:00-04:00                1               14\n",
        "2010-10-06 14:15:00-04:00                1               14"
       ]
      }
     ],
     "prompt_number": 16
    },
    {
     "cell_type": "code",
     "collapsed": false,
     "input": [
      "    # Extract time features\n",
      "    # Extract hours for Hour feature\n",
      "    delta_hours = pred_ar3_cons.index.hour\n",
      "    pred_ar3_cons['hours'] = delta_hours\n",
      "\n",
      "    # Extract weekday vs. weekend variable\n",
      "    delta_dayofweek = pred_ar3_cons.index.weekday\n",
      "\n",
      "    delta_weekday_dummy = delta_dayofweek.copy()\n",
      "    delta_weekday_dummy[delta_dayofweek < 5] = 1\n",
      "    delta_weekday_dummy[delta_dayofweek >= 5] = 0\n",
      "\n",
      "    pred_ar3_cons['weekday_dummy'] = delta_weekday_dummy\n",
      "    \n",
      "    # build design matrix\n",
      "    y, X = patsy.dmatrices(\"log_bikes + log_slots ~ C(hours, Treatment) + C(weekday_dummy,Treatment) + temperature + logodds_lag1 + logodds_lag2 + logodds_lag3 \", pred_ar3_cons, return_type='dataframe')\n"
     ],
     "language": "python",
     "metadata": {},
     "outputs": []
    }
   ],
   "metadata": {}
  }
 ]
}