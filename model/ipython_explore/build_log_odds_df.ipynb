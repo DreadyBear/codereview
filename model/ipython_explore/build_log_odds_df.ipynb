{
 "metadata": {
  "name": "build_log_odds_df"
 },
 "nbformat": 3,
 "nbformat_minor": 0,
 "worksheets": [
  {
   "cells": [
    {
     "cell_type": "code",
     "collapsed": false,
     "input": [
      "def build_log_odds_df(data):\n",
      "    import pandas as pd\n",
      "    from change_mat_binom import change_mat_binom\n",
      "    import numpy as np\n",
      "    import statsmodels.api as sm\n",
      "    from scipy import stats\n",
      "    from matplotlib import pyplot as plt\n",
      "    from make_dummy import make_dummy\n",
      "    \n",
      "    # Calculate the percent full \n",
      "    #first convert to arrays so that Python doesn't do integer division\n",
      "    bikes_available=np.asarray(data[\"bikes_available\"], dtype=np.float32)\n",
      "    slots_available=np.asarray(data[\"slots_available\"], dtype=np.float32)\n",
      "    \n",
      "    # Fix for Convergence Issues Using MLE, Option 1: Zero Entries -> 0.01 or Option 2: All Entries += 0.01 (Similar Results)\n",
      "    bikes_available[bikes_available == 0] = 0.0001\n",
      "    slots_available[slots_available == 0] = 0.0001\n",
      "    \n",
      "    # Creating list of [success , failure] outcomes\n",
      "    bikes_slots_available=np.asarray(zip(bikes_available,slots_available))\n",
      "    \n",
      "    # create log odds ratio of bikes to slots\n",
      "    phat = bikes_available / (bikes_available + slots_available) \n",
      "    logodds = np.log(phat/(1-phat))\n",
      "    \n",
      "    logodds_lag3, outcome_ar3 = change_mat_binom(logodds, bikes_slots_available, 3)\n",
      "    print \"logodds lag 3 size\" + str(logodds_lag3.shape)\n",
      "    print \"outcome size \" + str(outcome_ar3.shape)\n",
      "    logodds_lag3_df = pd.DataFrame(logodds_lag3, columns = [\"logodds_lag1\", \"logodds_lag2\", \"logodds_lag3\"])\n",
      "    print \"logodds 3 df \" + str(logodds_lag3_df.shape)\n",
      "    \n",
      "    # set the index in logodds_lag3 to match the time index in data\n",
      "    lagged_data = data.ix[3:,:]\n",
      "    print \"lagged_data \" + str(lagged_data.shape)\n",
      "    logodds_lag3_df.index = lagged_data.index\n",
      "    \n",
      "    # add new lagged logodds to nonlagged predictor variable temperature\n",
      "    pred_ar3_basic = logodds_lag3_df\n",
      "    pred_ar3_basic[\"temperature\"] = lagged_data.ix[:,\"temperature\"]\n",
      "        \n",
      "    # add dummy variables for parts of time to design matrix\n",
      "    X_with_hour = make_dummy(pred_ar3_basic, \"hour\")\n",
      "    X = make_dummy(X_with_hour, \"weekday\")\n",
      "    data = X\n",
      "    print \"X\" + str(X.shape)\n",
      "    \n",
      "    # multiply the lagged logodds by hour bucket indicators\n",
      "    \n",
      "    # recode all_time_dummy to be 1 if the observations between midnight and 1 a.m. (this happens when all other columns of all_time_dummy sum to 0)\n",
      "    \n",
      "    #zeros_series = pd.Series(np.zeros([len(X.index)]), index = X.index)\n",
      "    #print zeros_series.shape\n",
      "       \n",
      "    #all_time_dummy = X.ix[:,\"1hr\":\"23hr\"]\n",
      "    #all_time_dummy[\"0hr\"] = zeros_series\n",
      "    #for i in range(len(all_time_dummy.index)):\n",
      "    #    if np.sum(all_time_dummy.ix[i,:]) == 0:\n",
      "    #        all_time_dummy.ix[i,23] = 1\n",
      "    #print \"all time dummy \" + str(all_time_dummy.shape)\n",
      "\n",
      "    # create matrix of zeros and ones to indicate which time period a point falls into\n",
      "\n",
      "    #n_time_buckets = 3\n",
      "    #step1 = np.zeros((all_time_dummy.shape[0], n_time_buckets))\n",
      "    #for i in range(0, 24, 24/n_time_buckets):\n",
      "    #    for j in range(len(all_time_dummy.index)):\n",
      "    #        step1[j,i/(24/n_time_buckets)] = np.sum(all_time_dummy.ix[j,i: i + 24/n_time_buckets], axis = 1)\n",
      "    #print \"step1 \" + str(step1.shape)\n",
      "\n",
      "\n",
      "    # multiply predictor variable by each column of created 0/1 matrix\n",
      "    # want to do this for each lagged time variable- start with only one previous time point\n",
      "    #for j in range(3):\n",
      "    #    for i in range(0, n_time_buckets):\n",
      "    #        next_col = pd.DataFrame(step1[:,i]*logodds_lag3[:,j], columns = [\"logodds_lag_\" + str(j + 1) + \"_time_bucket_\" + str(i + 1)], index = X.index)\n",
      "    #        data = pd.concat((data, next_col), axis = 1)\n",
      "    #        print \"data \" + \"time bucket \" + str(i)+ \"lag number \"+ str(j) + str(data.shape)\n",
      "\n",
      "\n",
      "    # remove original lagged variable, add new versions that are multiplied by time of day indicator\n",
      "    #colnames = set(data.columns)\n",
      "    #for i in range(1,4):\n",
      "    #    colnames.remove(\"logodds_lag\" + str(i))\n",
      "\n",
      "    #data_no_cons = data.ix[:, colnames]\n",
      "    #print \"data no cons\" + str(data_no_cons.shape)\n",
      "    \n",
      "    # Add Constant to Exogenous Variables\n",
      "    data_final = sm.add_constant(data_no_cons, prepend=False)\n",
      "    print \"outcome end \" + str(outcome_ar3.shape)\n",
      "    return (data_final, outcome_ar3)"
     ],
     "language": "python",
     "metadata": {},
     "outputs": [],
     "prompt_number": 1
    },
    {
     "cell_type": "code",
     "collapsed": false,
     "input": [
      "def make_present_logodds_df(test_endog):\n",
      "    import numpy as np\n",
      "    \n",
      "    # remove logodds_lag3\n",
      "    colnames = set(test_endog.columns)\n",
      "    #colnames.remove(\"logodds_lag3\")\n",
      "    \n",
      "    test_endog_no_lag3 = test_endog.ix[:, colnames]\n",
      "    \n",
      "    # create logodds_lag0\n",
      "    # Calculate the percent full \n",
      "    #first convert to arrays so that Python doesn't do integer division\n",
      "    bikes_available=np.asarray(test_endog_no_lag3[\"bikes_available\"], dtype=np.float32)\n",
      "    slots_available=np.asarray(test_endog_no_lag3[\"slots_available\"], dtype=np.float32)\n",
      "    \n",
      "    # create log odds ratio of bikes to slots\n",
      "    phat = bikes_available / (bikes_available + slots_available) \n",
      "    logodds = np.log(phat/(1-phat))\n",
      "    \n",
      "    test_endog_no_lag3[\"logodds_lag0\"] = logodds\n",
      "    \n",
      "    X, outcome_we_will_not_use = build_log_odds_df(test_endog_no_lag3)\n",
      "    \n",
      "    return X\n"
     ],
     "language": "python",
     "metadata": {},
     "outputs": [],
     "prompt_number": 2
    },
    {
     "cell_type": "code",
     "collapsed": false,
     "input": [
      "def binomial_fit(data):\n",
      "    import patsy\n",
      "    import statsmodels.api as sm\n",
      "    from scipy import misc\n",
      "    import numpy as np\n",
      "    \n",
      "    from build_log_odds_df import build_log_odds_df\n",
      "    from build_log_odds_df import make_present_logodds_df\n",
      "    from make_dummy import make_dummy_inner\n",
      "    from make_dummy import make_dummy\n",
      "    \n",
      "    print \"data passedd into binomial_fit \" + str(data.shape)\n",
      "    # Make lag dataframe\n",
      "    columns = [\"bikes_available\", \"slots_available\", \"temperature\"]\n",
      "    data_trimmed = data.ix[:,columns]\n",
      "    print \"data trimmed\" + str(data_trimmed.shape)\n",
      "    print \"prepping data\"\n",
      "    prepped_data = build_log_odds_df(data_trimmed) \n",
      "    X = prepped_data[0]\n",
      "    y = prepped_data[1]\n",
      "    \n",
      "    print 'x' + str(X.shape)\n",
      "    print 'y shape' + str(y.shape)\n",
      "\n",
      "    # fit the model!\n",
      "    print \"fitting model\"\n",
      "    # build_log_odds_df returns X and y with different lengths... forcing this for now- HELP!!\n",
      "    model = sm.GLM(y[3:,:], X, family=sm.families.Binomial())\n",
      "    results = model.fit()\n",
      "    \n",
      "    #test_data = bike_data_bucketed.ix[100:104,:]\n",
      "    #present_logodds_df = make_present_logodds_df(test_log_hour_weekday_df)\n",
      "    \n",
      "    return results"
     ],
     "language": "python",
     "metadata": {},
     "outputs": [],
     "prompt_number": 19
    },
    {
     "cell_type": "code",
     "collapsed": false,
     "input": [
      "model_fit = binomial_fit(dc_17)"
     ],
     "language": "python",
     "metadata": {},
     "outputs": [
      {
       "output_type": "stream",
       "stream": "stdout",
       "text": [
        "data passedd into binomial_fit (79668, 10)\n",
        "data trimmed(79668, 3)\n",
        "prepping data\n",
        "(79665,)"
       ]
      },
      {
       "output_type": "stream",
       "stream": "stdout",
       "text": [
        "\n",
        "x(79665, 35)"
       ]
      },
      {
       "output_type": "stream",
       "stream": "stdout",
       "text": [
        "\n",
        "y shape(79668, 2)\n",
        "fitting model\n"
       ]
      }
     ],
     "prompt_number": 26
    },
    {
     "cell_type": "code",
     "collapsed": false,
     "input": [
      "build_log_odds_df(dc_17)"
     ],
     "language": "python",
     "metadata": {},
     "outputs": [
      {
       "output_type": "stream",
       "stream": "stdout",
       "text": [
        "logodds lag 3 size(79665, 3)\n",
        "outcome size (79665, 2)\n",
        "logodds 3 df (79665, 3)\n",
        "lagged_data (79665, 10)\n",
        "X(79665, 28)"
       ]
      },
      {
       "output_type": "stream",
       "stream": "stdout",
       "text": [
        "\n",
        "(79665,)\n",
        "all time dummy (79665, 24)"
       ]
      },
      {
       "output_type": "stream",
       "stream": "stdout",
       "text": [
        "\n",
        "step1 (79665, 3)"
       ]
      },
      {
       "output_type": "stream",
       "stream": "stdout",
       "text": [
        "\n",
        "data time bucket 0lag number 0(79665, 29)\n",
        "data time bucket 1lag number 0(79665, 30)"
       ]
      },
      {
       "output_type": "stream",
       "stream": "stdout",
       "text": [
        "\n",
        "data time bucket 2lag number 0(79665, 31)\n",
        "data time bucket 0lag number 1(79665, 32)\n",
        "data time bucket 1lag number 1(79665, 33)"
       ]
      },
      {
       "output_type": "stream",
       "stream": "stdout",
       "text": [
        "\n",
        "data time bucket 2lag number 1(79665, 34)\n",
        "data time bucket 0lag number 2(79665, 35)\n",
        "data time bucket 1lag number 2(79665, 36)\n",
        "data time bucket 2lag number 2(79665, 37)"
       ]
      },
      {
       "output_type": "stream",
       "stream": "stdout",
       "text": [
        "\n",
        "data no cons(79665, 34)\n",
        "outcome end (79665, 2)"
       ]
      },
      {
       "output_type": "stream",
       "stream": "stdout",
       "text": [
        "\n"
       ]
      },
      {
       "output_type": "pyout",
       "prompt_number": 12,
       "text": [
        "(<class 'pandas.core.frame.DataFrame'>\n",
        "DatetimeIndex: 79665 entries, 2010-10-06 13:15:00-04:00 to 2013-08-20 07:00:00-04:00\n",
        "Data columns (total 35 columns):\n",
        "1hr                            79665  non-null values\n",
        "logodds_lag_1_time_bucket_2    79665  non-null values\n",
        "logodds_lag_1_time_bucket_3    79665  non-null values\n",
        "logodds_lag_1_time_bucket_1    79665  non-null values\n",
        "2hr                            79665  non-null values\n",
        "18hr                           79665  non-null values\n",
        "5hr                            79665  non-null values\n",
        "7hr                            79665  non-null values\n",
        "12hr                           79665  non-null values\n",
        "11hr                           79665  non-null values\n",
        "21hr                           79665  non-null values\n",
        "3hr                            79665  non-null values\n",
        "16hr                           79665  non-null values\n",
        "temperature                    79665  non-null values\n",
        "4hr                            79665  non-null values\n",
        "13hr                           79665  non-null values\n",
        "6hr                            79665  non-null values\n",
        "8hr                            79665  non-null values\n",
        "10hr                           79665  non-null values\n",
        "9hr                            79665  non-null values\n",
        "17hr                           79665  non-null values\n",
        "logodds_lag_3_time_bucket_1    79665  non-null values\n",
        "logodds_lag_3_time_bucket_2    79665  non-null values\n",
        "logodds_lag_3_time_bucket_3    79665  non-null values\n",
        "logodds_lag_2_time_bucket_1    79665  non-null values\n",
        "logodds_lag_2_time_bucket_3    79665  non-null values\n",
        "logodds_lag_2_time_bucket_2    79665  non-null values\n",
        "20hr                           79665  non-null values\n",
        "14hr                           79665  non-null values\n",
        "23hr                           79665  non-null values\n",
        "19hr                           79665  non-null values\n",
        "weekday                        79665  non-null values\n",
        "15hr                           79665  non-null values\n",
        "22hr                           79665  non-null values\n",
        "const                          79665  non-null values\n",
        "dtypes: float64(33), int64(2),\n",
        " array([[  2.,  14.],\n",
        "       [  1.,  14.],\n",
        "       [  1.,  14.],\n",
        "       ..., \n",
        "       [ 17.,  16.],\n",
        "       [ 15.,  18.],\n",
        "       [ 13.,  18.]], dtype=float32))"
       ]
      }
     ],
     "prompt_number": 12
    },
    {
     "cell_type": "code",
     "collapsed": false,
     "input": [
      "from fetch_station import fetch_station\n",
      "\n",
      "dc_17 = fetch_station(\"Washington, D.C.\", 17, 15, 'max')"
     ],
     "language": "python",
     "metadata": {},
     "outputs": [],
     "prompt_number": 4
    },
    {
     "cell_type": "code",
     "collapsed": false,
     "input": [
      "model_fit.params"
     ],
     "language": "python",
     "metadata": {},
     "outputs": [
      {
       "output_type": "pyout",
       "prompt_number": 24,
       "text": [
        "1hr                           -0.113465\n",
        "logodds_lag_1_time_bucket_2    0.430258\n",
        "logodds_lag_1_time_bucket_3    0.684362\n",
        "logodds_lag_1_time_bucket_1    1.013425\n",
        "2hr                           -0.178089\n",
        "18hr                          -0.396270\n",
        "5hr                           -0.203650\n",
        "7hr                           -0.255592\n",
        "12hr                          -0.643221\n",
        "11hr                          -0.524178\n",
        "21hr                          -0.249481\n",
        "3hr                           -0.188602\n",
        "16hr                          -0.836442\n",
        "temperature                   -0.003958\n",
        "4hr                           -0.192968\n",
        "13hr                          -0.684871\n",
        "6hr                           -0.224025\n",
        "8hr                           -0.395003\n",
        "10hr                          -0.432551\n",
        "9hr                           -0.612663\n",
        "17hr                          -0.458701\n",
        "logodds_lag_3_time_bucket_1   -0.007722\n",
        "logodds_lag_3_time_bucket_2    0.038956\n",
        "logodds_lag_3_time_bucket_3    0.020198\n",
        "logodds_lag_2_time_bucket_1   -0.049965\n",
        "logodds_lag_2_time_bucket_3   -0.010700\n",
        "logodds_lag_2_time_bucket_2    0.001545\n",
        "20hr                          -0.333233\n",
        "14hr                          -0.724551\n",
        "23hr                          -0.079878\n",
        "19hr                          -0.387284\n",
        "weekday                       -0.097947\n",
        "15hr                          -0.826764\n",
        "22hr                          -0.135679\n",
        "const                          0.492446\n",
        "dtype: float64"
       ]
      }
     ],
     "prompt_number": 24
    },
    {
     "cell_type": "code",
     "collapsed": false,
     "input": [],
     "language": "python",
     "metadata": {},
     "outputs": [],
     "prompt_number": 44
    },
    {
     "cell_type": "code",
     "collapsed": false,
     "input": [],
     "language": "python",
     "metadata": {},
     "outputs": []
    }
   ],
   "metadata": {}
  }
 ]
}